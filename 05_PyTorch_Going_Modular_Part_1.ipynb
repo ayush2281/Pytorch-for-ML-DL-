{
  "nbformat": 4,
  "nbformat_minor": 0,
  "metadata": {
    "colab": {
      "provenance": [],
      "gpuType": "T4",
      "authorship_tag": "ABX9TyMZ+hYke+wCOortKD3ZTmZy",
      "include_colab_link": true
    },
    "kernelspec": {
      "name": "python3",
      "display_name": "Python 3"
    },
    "language_info": {
      "name": "python"
    },
    "accelerator": "GPU",
    "widgets": {
      "application/vnd.jupyter.widget-state+json": {
        "a370d6df076648599cda0a1990d2baa2": {
          "model_module": "@jupyter-widgets/controls",
          "model_name": "HBoxModel",
          "model_module_version": "1.5.0",
          "state": {
            "_dom_classes": [],
            "_model_module": "@jupyter-widgets/controls",
            "_model_module_version": "1.5.0",
            "_model_name": "HBoxModel",
            "_view_count": null,
            "_view_module": "@jupyter-widgets/controls",
            "_view_module_version": "1.5.0",
            "_view_name": "HBoxView",
            "box_style": "",
            "children": [
              "IPY_MODEL_864a36c231cf458897b5f426886b3c1b",
              "IPY_MODEL_e92cab8665d44e31b6c29c74a982f1fc",
              "IPY_MODEL_220423a795d3483b9d4e42f6790c7b42"
            ],
            "layout": "IPY_MODEL_c775613821f04cdd965f7d6019b6fc06"
          }
        },
        "864a36c231cf458897b5f426886b3c1b": {
          "model_module": "@jupyter-widgets/controls",
          "model_name": "HTMLModel",
          "model_module_version": "1.5.0",
          "state": {
            "_dom_classes": [],
            "_model_module": "@jupyter-widgets/controls",
            "_model_module_version": "1.5.0",
            "_model_name": "HTMLModel",
            "_view_count": null,
            "_view_module": "@jupyter-widgets/controls",
            "_view_module_version": "1.5.0",
            "_view_name": "HTMLView",
            "description": "",
            "description_tooltip": null,
            "layout": "IPY_MODEL_232c303a4ae14274be6c57c1b6ee3325",
            "placeholder": "​",
            "style": "IPY_MODEL_159516606bd548169d160261b6456676",
            "value": "100%"
          }
        },
        "e92cab8665d44e31b6c29c74a982f1fc": {
          "model_module": "@jupyter-widgets/controls",
          "model_name": "FloatProgressModel",
          "model_module_version": "1.5.0",
          "state": {
            "_dom_classes": [],
            "_model_module": "@jupyter-widgets/controls",
            "_model_module_version": "1.5.0",
            "_model_name": "FloatProgressModel",
            "_view_count": null,
            "_view_module": "@jupyter-widgets/controls",
            "_view_module_version": "1.5.0",
            "_view_name": "ProgressView",
            "bar_style": "success",
            "description": "",
            "description_tooltip": null,
            "layout": "IPY_MODEL_70dc963a85564582b772cc2f233ee0c8",
            "max": 5,
            "min": 0,
            "orientation": "horizontal",
            "style": "IPY_MODEL_22bd6f23337945ca9c8499dd010773fd",
            "value": 5
          }
        },
        "220423a795d3483b9d4e42f6790c7b42": {
          "model_module": "@jupyter-widgets/controls",
          "model_name": "HTMLModel",
          "model_module_version": "1.5.0",
          "state": {
            "_dom_classes": [],
            "_model_module": "@jupyter-widgets/controls",
            "_model_module_version": "1.5.0",
            "_model_name": "HTMLModel",
            "_view_count": null,
            "_view_module": "@jupyter-widgets/controls",
            "_view_module_version": "1.5.0",
            "_view_name": "HTMLView",
            "description": "",
            "description_tooltip": null,
            "layout": "IPY_MODEL_0af2e9f678ee40f29bcbf616bf7ea69c",
            "placeholder": "​",
            "style": "IPY_MODEL_040811500c504f0eb34b7e61e5a2d424",
            "value": " 5/5 [00:14&lt;00:00,  2.62s/it]"
          }
        },
        "c775613821f04cdd965f7d6019b6fc06": {
          "model_module": "@jupyter-widgets/base",
          "model_name": "LayoutModel",
          "model_module_version": "1.2.0",
          "state": {
            "_model_module": "@jupyter-widgets/base",
            "_model_module_version": "1.2.0",
            "_model_name": "LayoutModel",
            "_view_count": null,
            "_view_module": "@jupyter-widgets/base",
            "_view_module_version": "1.2.0",
            "_view_name": "LayoutView",
            "align_content": null,
            "align_items": null,
            "align_self": null,
            "border": null,
            "bottom": null,
            "display": null,
            "flex": null,
            "flex_flow": null,
            "grid_area": null,
            "grid_auto_columns": null,
            "grid_auto_flow": null,
            "grid_auto_rows": null,
            "grid_column": null,
            "grid_gap": null,
            "grid_row": null,
            "grid_template_areas": null,
            "grid_template_columns": null,
            "grid_template_rows": null,
            "height": null,
            "justify_content": null,
            "justify_items": null,
            "left": null,
            "margin": null,
            "max_height": null,
            "max_width": null,
            "min_height": null,
            "min_width": null,
            "object_fit": null,
            "object_position": null,
            "order": null,
            "overflow": null,
            "overflow_x": null,
            "overflow_y": null,
            "padding": null,
            "right": null,
            "top": null,
            "visibility": null,
            "width": null
          }
        },
        "232c303a4ae14274be6c57c1b6ee3325": {
          "model_module": "@jupyter-widgets/base",
          "model_name": "LayoutModel",
          "model_module_version": "1.2.0",
          "state": {
            "_model_module": "@jupyter-widgets/base",
            "_model_module_version": "1.2.0",
            "_model_name": "LayoutModel",
            "_view_count": null,
            "_view_module": "@jupyter-widgets/base",
            "_view_module_version": "1.2.0",
            "_view_name": "LayoutView",
            "align_content": null,
            "align_items": null,
            "align_self": null,
            "border": null,
            "bottom": null,
            "display": null,
            "flex": null,
            "flex_flow": null,
            "grid_area": null,
            "grid_auto_columns": null,
            "grid_auto_flow": null,
            "grid_auto_rows": null,
            "grid_column": null,
            "grid_gap": null,
            "grid_row": null,
            "grid_template_areas": null,
            "grid_template_columns": null,
            "grid_template_rows": null,
            "height": null,
            "justify_content": null,
            "justify_items": null,
            "left": null,
            "margin": null,
            "max_height": null,
            "max_width": null,
            "min_height": null,
            "min_width": null,
            "object_fit": null,
            "object_position": null,
            "order": null,
            "overflow": null,
            "overflow_x": null,
            "overflow_y": null,
            "padding": null,
            "right": null,
            "top": null,
            "visibility": null,
            "width": null
          }
        },
        "159516606bd548169d160261b6456676": {
          "model_module": "@jupyter-widgets/controls",
          "model_name": "DescriptionStyleModel",
          "model_module_version": "1.5.0",
          "state": {
            "_model_module": "@jupyter-widgets/controls",
            "_model_module_version": "1.5.0",
            "_model_name": "DescriptionStyleModel",
            "_view_count": null,
            "_view_module": "@jupyter-widgets/base",
            "_view_module_version": "1.2.0",
            "_view_name": "StyleView",
            "description_width": ""
          }
        },
        "70dc963a85564582b772cc2f233ee0c8": {
          "model_module": "@jupyter-widgets/base",
          "model_name": "LayoutModel",
          "model_module_version": "1.2.0",
          "state": {
            "_model_module": "@jupyter-widgets/base",
            "_model_module_version": "1.2.0",
            "_model_name": "LayoutModel",
            "_view_count": null,
            "_view_module": "@jupyter-widgets/base",
            "_view_module_version": "1.2.0",
            "_view_name": "LayoutView",
            "align_content": null,
            "align_items": null,
            "align_self": null,
            "border": null,
            "bottom": null,
            "display": null,
            "flex": null,
            "flex_flow": null,
            "grid_area": null,
            "grid_auto_columns": null,
            "grid_auto_flow": null,
            "grid_auto_rows": null,
            "grid_column": null,
            "grid_gap": null,
            "grid_row": null,
            "grid_template_areas": null,
            "grid_template_columns": null,
            "grid_template_rows": null,
            "height": null,
            "justify_content": null,
            "justify_items": null,
            "left": null,
            "margin": null,
            "max_height": null,
            "max_width": null,
            "min_height": null,
            "min_width": null,
            "object_fit": null,
            "object_position": null,
            "order": null,
            "overflow": null,
            "overflow_x": null,
            "overflow_y": null,
            "padding": null,
            "right": null,
            "top": null,
            "visibility": null,
            "width": null
          }
        },
        "22bd6f23337945ca9c8499dd010773fd": {
          "model_module": "@jupyter-widgets/controls",
          "model_name": "ProgressStyleModel",
          "model_module_version": "1.5.0",
          "state": {
            "_model_module": "@jupyter-widgets/controls",
            "_model_module_version": "1.5.0",
            "_model_name": "ProgressStyleModel",
            "_view_count": null,
            "_view_module": "@jupyter-widgets/base",
            "_view_module_version": "1.2.0",
            "_view_name": "StyleView",
            "bar_color": null,
            "description_width": ""
          }
        },
        "0af2e9f678ee40f29bcbf616bf7ea69c": {
          "model_module": "@jupyter-widgets/base",
          "model_name": "LayoutModel",
          "model_module_version": "1.2.0",
          "state": {
            "_model_module": "@jupyter-widgets/base",
            "_model_module_version": "1.2.0",
            "_model_name": "LayoutModel",
            "_view_count": null,
            "_view_module": "@jupyter-widgets/base",
            "_view_module_version": "1.2.0",
            "_view_name": "LayoutView",
            "align_content": null,
            "align_items": null,
            "align_self": null,
            "border": null,
            "bottom": null,
            "display": null,
            "flex": null,
            "flex_flow": null,
            "grid_area": null,
            "grid_auto_columns": null,
            "grid_auto_flow": null,
            "grid_auto_rows": null,
            "grid_column": null,
            "grid_gap": null,
            "grid_row": null,
            "grid_template_areas": null,
            "grid_template_columns": null,
            "grid_template_rows": null,
            "height": null,
            "justify_content": null,
            "justify_items": null,
            "left": null,
            "margin": null,
            "max_height": null,
            "max_width": null,
            "min_height": null,
            "min_width": null,
            "object_fit": null,
            "object_position": null,
            "order": null,
            "overflow": null,
            "overflow_x": null,
            "overflow_y": null,
            "padding": null,
            "right": null,
            "top": null,
            "visibility": null,
            "width": null
          }
        },
        "040811500c504f0eb34b7e61e5a2d424": {
          "model_module": "@jupyter-widgets/controls",
          "model_name": "DescriptionStyleModel",
          "model_module_version": "1.5.0",
          "state": {
            "_model_module": "@jupyter-widgets/controls",
            "_model_module_version": "1.5.0",
            "_model_name": "DescriptionStyleModel",
            "_view_count": null,
            "_view_module": "@jupyter-widgets/base",
            "_view_module_version": "1.2.0",
            "_view_name": "StyleView",
            "description_width": ""
          }
        }
      }
    }
  },
  "cells": [
    {
      "cell_type": "markdown",
      "metadata": {
        "id": "view-in-github",
        "colab_type": "text"
      },
      "source": [
        "<a href=\"https://colab.research.google.com/github/ayush2281/Pytorch-for-ML-DL-/blob/main/05_PyTorch_Going_Modular_Part_1.ipynb\" target=\"_parent\"><img src=\"https://colab.research.google.com/assets/colab-badge.svg\" alt=\"Open In Colab\"/></a>"
      ]
    },
    {
      "cell_type": "markdown",
      "source": [
        "This section answers the question, \"how do I turn my notebook code into Python scripts?\"\n",
        "\n",
        "To do so, we're going to turn the most useful code cells in `notebook 04`. PyTorch Custom Datasets into a series of Python scripts saved to a directory called `going_modular.`"
      ],
      "metadata": {
        "id": "MNLkfl18CBrq"
      }
    },
    {
      "cell_type": "markdown",
      "source": [
        "What is going modular?\n",
        "Going modular involves turning notebook code (from a Jupyter Notebook or Google Colab notebook) into a series of different Python scripts that offer similar functionality.\n",
        "\n",
        "For example, we could turn our notebook code from a series of cells into the following Python files:\n",
        "\n",
        "* data_setup.py - a file to prepare and download data if needed.\n",
        "* engine.py - a file containing various training functions.\n",
        "* model_builder.py or model.py - a file to create a PyTorch model.\n",
        "* train.py - a file to leverage all other files and train a target PyTorch model.\n",
        "*utils.py - a file dedicated to helpful utility functions."
      ],
      "metadata": {
        "id": "_E4xvYr5CPHU"
      }
    },
    {
      "cell_type": "markdown",
      "source": [
        "###Why would you want to go modular?\n",
        "Notebooks are fantastic for iteratively exploring and running experiments quickly.\n",
        "\n",
        "However, for larger scale projects you may find Python scripts more reproducible and easier to run.\n",
        "\n",
        "Though this is a debated topic, as companies like Netflix have shown how they use notebooks for **production code.**\n",
        "\n",
        "Production code is code that runs to offer a service to someone or something.\n",
        "\n",
        "For example, if you have an app running online that other people can access and use, the code running that app is considered** production code.**\n",
        "\n",
        "And libraries like fast.ai's `nb-dev` (short for notebook development) enable you to write whole Python libraries (including documentation) with Jupyter Notebooks.\n",
        "\n",
        "Pros and cons of notebooks vs Python scripts\n",
        "\n",
        "There's arguments for both sides.\n",
        "\n",
        "But this list sums up a few of the main topics."
      ],
      "metadata": {
        "id": "v3GxKrzaC-Ox"
      }
    },
    {
      "cell_type": "markdown",
      "source": [
        "![{29274ABE-F9A0-40BC-8C41-396BD173674F}.png](data:image/png;base64,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)"
      ],
      "metadata": {
        "id": "1qXYzfHRDuxC"
      }
    },
    {
      "cell_type": "markdown",
      "source": [
        "###PyTorch in the wild\n",
        "In your travels, you'll see many code repositories for PyTorch-based ML projects have instructions on how to run the PyTorch code in the form of Python scripts.\n",
        "\n",
        "For example, you might be instructed to run code like the following in a terminal/command line to train a model:"
      ],
      "metadata": {
        "id": "CVjDDhTeEW1R"
      }
    },
    {
      "cell_type": "markdown",
      "source": [
        "     `python train.py --model MODEL_NAME --batch_size BATCH_SIZE --lr LEARNING_RATE --num_epochs NUM_EPOCHS`\n"
      ],
      "metadata": {
        "id": "SehAtFUOEbyR"
      }
    },
    {
      "cell_type": "markdown",
      "source": [
        "![{0C777E9E-EB72-451E-A486-6E625B94852A}.png](data:image/png;base64,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)"
      ],
      "metadata": {
        "id": "Q05PWNQgEjoJ"
      }
    },
    {
      "cell_type": "markdown",
      "source": [
        "Running a PyTorch train.py script on the command line with various hyperparameter settings.\n",
        "\n",
        "In this case, train.py is the target Python script, it'll likely contain functions to train a `PyTorch model.`\n",
        "\n",
        "And `--model, --batch_size, --lr and --num_epochs` are known as argument flags.\n",
        "\n",
        "You can set these to whatever values you like and if they're compatible with train.py, they'll work, if not, they'll error.\n",
        "\n",
        "For example, let's say we wanted to train our TinyVGG model from notebook 04 for 10 epochs with a batch size of 32 and a learning rate of 0.001:\n",
        "\n",
        " `python train.py --model tinyvgg --batch_size 32 --lr 0.001 --num_epochs 10`\n",
        "You could setup any number of these argument flags in your train.py script to suit your needs.\n",
        "\n",
        "The PyTorch blog post for training state-of-the-art computer vision models uses this style."
      ],
      "metadata": {
        "id": "8jHFkLQGIM-i"
      }
    },
    {
      "cell_type": "markdown",
      "source": [
        "this notebook is part 1/2 of section 05. Going Modular.\n",
        "\n",
        "For reference, the two parts are:\n",
        "\n",
        "1. 05. Going Modular: Part 1 (cell mode) - this notebook is run as a traditional Jupyter Notebook/Google Colab notebook and is a condensed version of notebook 04.\n",
        "2. 05. Going Modular: Part 2 (script mode) - this notebook is the same as number 1 but with added functionality to turn each of the major sections into Python scripts, such as, `data_setup.py` and `train.py.`"
      ],
      "metadata": {
        "id": "maiVhCbZI_JC"
      }
    },
    {
      "cell_type": "markdown",
      "source": [
        "Why two parts?\n",
        "\n",
        "Because sometimes the best way to learn something is to see how it differs from something else.\n",
        "\n",
        "If you run each notebook side-by-side you'll see how they differ and that's where the key learnings are"
      ],
      "metadata": {
        "id": "te1G-P9CJmOo"
      }
    },
    {
      "cell_type": "markdown",
      "source": [
        "###What is cell mode?\n",
        "A cell mode notebook is a regular notebook run exactly how we've been running them through the course.\n",
        "\n",
        "Some cells contain text and others contain code."
      ],
      "metadata": {
        "id": "PzMlgKOeJohw"
      }
    },
    {
      "cell_type": "markdown",
      "source": [
        "### **What's the difference between this notebook (Part 1) and the script mode notebook (Part 2)**?\n",
        "This notebook, 05. PyTorch Going Modular: Part 1 (cell mode), runs a cleaned up version of the most useful code from section 04. PyTorch Custom Datasets.\n",
        "\n",
        "Running this notebook end-to-end will result in recreating the image classification model we built in notebook 04 (TinyVGG) trained on images of pizza, steak and sushi.\n",
        "\n",
        "The main difference between this notebook (Part 1) and Part 2 is that each section in Part 2 (script mode) has an extra subsection (e.g. 2.1, 3.1, 4.1) for turning cell code into script code."
      ],
      "metadata": {
        "id": "JED5Vn2gJvBH"
      }
    },
    {
      "cell_type": "markdown",
      "source": [
        "###0. Running a notebook in cell mode\n",
        "As discussed, we're going to be running this notebook normally.\n",
        "\n",
        "One cell at a time.\n",
        "\n",
        "The code is from notebook 04, however, it has been condensed down to its core functionality."
      ],
      "metadata": {
        "id": "oPWc2ebgKNsH"
      }
    },
    {
      "cell_type": "markdown",
      "source": [
        "1. Get data\n",
        "We're going to start by downloading the same data we used in notebook 04, the pizza_steak_sushi dataset with images of pizza, steak and sushi."
      ],
      "metadata": {
        "id": "EnDbTK_SKSWQ"
      }
    },
    {
      "cell_type": "markdown",
      "source": [
        "**PART-1**"
      ],
      "metadata": {
        "id": "_WXbbcisDDII"
      }
    },
    {
      "cell_type": "code",
      "execution_count": 1,
      "metadata": {
        "colab": {
          "base_uri": "https://localhost:8080/"
        },
        "id": "3dkPm2AyBx_R",
        "outputId": "c3960bfc-c6db-4bc9-9eda-1d23352ea4c5"
      },
      "outputs": [
        {
          "output_type": "stream",
          "name": "stdout",
          "text": [
            "Did not find data/pizza_steak_sushi directory, creating one...\n",
            "Downloading pizza, steak, sushi data...\n",
            "Unzipping pizza, steak, sushi data...\n"
          ]
        }
      ],
      "source": [
        "import os\n",
        "import zipfile\n",
        "\n",
        "from pathlib import Path\n",
        "\n",
        "import requests\n",
        "\n",
        "# Setup path to data folder\n",
        "data_path = Path(\"data/\")\n",
        "image_path = data_path / \"pizza_steak_sushi\"\n",
        "\n",
        "# If the image folder doesn't exist, download it and prepare it...\n",
        "if image_path.is_dir():\n",
        "    print(f\"{image_path} directory exists.\")\n",
        "else:\n",
        "    print(f\"Did not find {image_path} directory, creating one...\")\n",
        "    image_path.mkdir(parents=True, exist_ok=True)\n",
        "\n",
        "# Download pizza, steak, sushi data\n",
        "with open(data_path / \"pizza_steak_sushi.zip\", \"wb\") as f:\n",
        "    request = requests.get(\"https://github.com/mrdbourke/pytorch-deep-learning/raw/main/data/pizza_steak_sushi.zip\")\n",
        "    print(\"Downloading pizza, steak, sushi data...\")\n",
        "    f.write(request.content)\n",
        "\n",
        "# Unzip pizza, steak, sushi data\n",
        "with zipfile.ZipFile(data_path / \"pizza_steak_sushi.zip\", \"r\") as zip_ref:\n",
        "    print(\"Unzipping pizza, steak, sushi data...\")\n",
        "    zip_ref.extractall(image_path)\n",
        "\n",
        "# Remove zip file\n",
        "os.remove(data_path / \"pizza_steak_sushi.zip\")"
      ]
    },
    {
      "cell_type": "code",
      "source": [
        "# setup traina nd testing path\n",
        "train_dir = image_path / \"train\"\n",
        "test_dir = image_path / \"test\""
      ],
      "metadata": {
        "id": "bKfdV2YBMQq1"
      },
      "execution_count": 2,
      "outputs": []
    },
    {
      "cell_type": "code",
      "source": [
        "train_dir, test_dir"
      ],
      "metadata": {
        "colab": {
          "base_uri": "https://localhost:8080/"
        },
        "id": "M-iK_g_FMdKn",
        "outputId": "7d8629a9-1667-4cd2-9ac6-51492317c709"
      },
      "execution_count": 3,
      "outputs": [
        {
          "output_type": "execute_result",
          "data": {
            "text/plain": [
              "(PosixPath('data/pizza_steak_sushi/train'),\n",
              " PosixPath('data/pizza_steak_sushi/test'))"
            ]
          },
          "metadata": {},
          "execution_count": 3
        }
      ]
    },
    {
      "cell_type": "markdown",
      "source": [
        "###2. Create Datasets and DataLoaders"
      ],
      "metadata": {
        "id": "0v8b-N2xMkba"
      }
    },
    {
      "cell_type": "markdown",
      "source": [
        "Now we'll turn the image dataset into PyTorch Dataset's and DataLoader's."
      ],
      "metadata": {
        "id": "vx7Ao-MkMsxy"
      }
    },
    {
      "cell_type": "code",
      "source": [
        "from torchvision import datasets, transforms\n",
        "\n",
        "# Create simple transform\n",
        "data_transform = transforms.Compose([\n",
        "    transforms.Resize((64, 64)),\n",
        "    transforms.ToTensor(),\n",
        "])\n",
        "\n",
        "# Use ImageFolder to create dataset(s)\n",
        "train_data = datasets.ImageFolder(root=train_dir, # target folder of images\n",
        "                                  transform=data_transform, # transforms to perform on data (images)\n",
        "                                  target_transform=None) # transforms to perform on labels (if necessary)\n",
        "\n",
        "test_data = datasets.ImageFolder(root=test_dir,\n",
        "                                 transform=data_transform)\n",
        "\n",
        "print(f\"Train data:\\n{train_data}\\nTest data:\\n{test_data}\")"
      ],
      "metadata": {
        "colab": {
          "base_uri": "https://localhost:8080/"
        },
        "id": "kmojFR6dMhIo",
        "outputId": "9eb4d9f2-1d87-48dc-869a-3d39b824a02d"
      },
      "execution_count": 4,
      "outputs": [
        {
          "output_type": "stream",
          "name": "stdout",
          "text": [
            "Train data:\n",
            "Dataset ImageFolder\n",
            "    Number of datapoints: 225\n",
            "    Root location: data/pizza_steak_sushi/train\n",
            "    StandardTransform\n",
            "Transform: Compose(\n",
            "               Resize(size=(64, 64), interpolation=bilinear, max_size=None, antialias=True)\n",
            "               ToTensor()\n",
            "           )\n",
            "Test data:\n",
            "Dataset ImageFolder\n",
            "    Number of datapoints: 75\n",
            "    Root location: data/pizza_steak_sushi/test\n",
            "    StandardTransform\n",
            "Transform: Compose(\n",
            "               Resize(size=(64, 64), interpolation=bilinear, max_size=None, antialias=True)\n",
            "               ToTensor()\n",
            "           )\n"
          ]
        }
      ]
    },
    {
      "cell_type": "code",
      "source": [
        "# get the class name in list\n",
        "class_name = train_data.classes\n",
        "class_name"
      ],
      "metadata": {
        "colab": {
          "base_uri": "https://localhost:8080/"
        },
        "id": "5cbcRi4VOkYu",
        "outputId": "aa0a28bb-be2f-4512-a9dc-437f940d85a6"
      },
      "execution_count": 5,
      "outputs": [
        {
          "output_type": "execute_result",
          "data": {
            "text/plain": [
              "['pizza', 'steak', 'sushi']"
            ]
          },
          "metadata": {},
          "execution_count": 5
        }
      ]
    },
    {
      "cell_type": "code",
      "source": [
        "# can also gte class name as dict\n",
        "class_dict = train_data.class_to_idx\n",
        "class_dict"
      ],
      "metadata": {
        "colab": {
          "base_uri": "https://localhost:8080/"
        },
        "id": "tMh4JMvbO7rD",
        "outputId": "9be6bacf-5a9e-401b-c708-fa3bd468f58d"
      },
      "execution_count": 6,
      "outputs": [
        {
          "output_type": "execute_result",
          "data": {
            "text/plain": [
              "{'pizza': 0, 'steak': 1, 'sushi': 2}"
            ]
          },
          "metadata": {},
          "execution_count": 6
        }
      ]
    },
    {
      "cell_type": "code",
      "source": [
        "# check the length\n",
        "len(train_data), len(test_data)"
      ],
      "metadata": {
        "colab": {
          "base_uri": "https://localhost:8080/"
        },
        "id": "BW8-SS42PCe1",
        "outputId": "7cef0808-83c3-4572-b7e8-3f36d2cae45a"
      },
      "execution_count": 7,
      "outputs": [
        {
          "output_type": "execute_result",
          "data": {
            "text/plain": [
              "(225, 75)"
            ]
          },
          "metadata": {},
          "execution_count": 7
        }
      ]
    },
    {
      "cell_type": "code",
      "source": [
        "# turn train and test dataset into dataloader\n",
        "from torch.utils.data import DataLoader\n",
        "train_dataloader = DataLoader(dataset= train_data,\n",
        "                               batch_size= 1, # H0w many sample per batch --> 1 per batch\n",
        "                               num_workers = 1, # how many subprocessor to use for data loading\n",
        "                                shuffle = True)\n",
        "\n",
        "\n",
        "test_dataloader = DataLoader(dataset= test_data,\n",
        "                               batch_size= 1, # H0w many sample per batch --> 1 per batch\n",
        "                               num_workers = 1, # how many subprocessor to use for data loading\n",
        "                                shuffle = False) # # don't usually need to shuffle testing data\n",
        "\n",
        "\n",
        "train_data, test_dataloader"
      ],
      "metadata": {
        "colab": {
          "base_uri": "https://localhost:8080/"
        },
        "id": "5Li4EXF5PGsA",
        "outputId": "1dd80a15-2ad5-4d6d-d399-34dc60d2e4f5"
      },
      "execution_count": 8,
      "outputs": [
        {
          "output_type": "execute_result",
          "data": {
            "text/plain": [
              "(Dataset ImageFolder\n",
              "     Number of datapoints: 225\n",
              "     Root location: data/pizza_steak_sushi/train\n",
              "     StandardTransform\n",
              " Transform: Compose(\n",
              "                Resize(size=(64, 64), interpolation=bilinear, max_size=None, antialias=True)\n",
              "                ToTensor()\n",
              "            ),\n",
              " <torch.utils.data.dataloader.DataLoader at 0x79e8a5d8b790>)"
            ]
          },
          "metadata": {},
          "execution_count": 8
        }
      ]
    },
    {
      "cell_type": "code",
      "source": [
        "train_data, test_dataloader"
      ],
      "metadata": {
        "colab": {
          "base_uri": "https://localhost:8080/"
        },
        "id": "8uvlsqFPbnRd",
        "outputId": "11b6a73b-dbcd-43e3-91d5-625d833d9e63"
      },
      "execution_count": 9,
      "outputs": [
        {
          "output_type": "execute_result",
          "data": {
            "text/plain": [
              "(Dataset ImageFolder\n",
              "     Number of datapoints: 225\n",
              "     Root location: data/pizza_steak_sushi/train\n",
              "     StandardTransform\n",
              " Transform: Compose(\n",
              "                Resize(size=(64, 64), interpolation=bilinear, max_size=None, antialias=True)\n",
              "                ToTensor()\n",
              "            ),\n",
              " <torch.utils.data.dataloader.DataLoader at 0x79e8a5d8b790>)"
            ]
          },
          "metadata": {},
          "execution_count": 9
        }
      ]
    },
    {
      "cell_type": "code",
      "source": [
        "# check the single image shApe\n",
        "img , label = next(iter(train_dataloader))\n",
        "\n",
        "# Batch size will now be 1, try changing the batch_size parameter above and see what happens\n",
        "print(f\"Image shape: {img.shape} -> [batch_size, color_channels, height, width]\")\n",
        "print(f\"Label shape: {label.shape}\")"
      ],
      "metadata": {
        "colab": {
          "base_uri": "https://localhost:8080/"
        },
        "id": "CwsFsh-Eb7lG",
        "outputId": "b2892da2-3b5b-4033-ca23-75034ef65d75"
      },
      "execution_count": 10,
      "outputs": [
        {
          "output_type": "stream",
          "name": "stdout",
          "text": [
            "Image shape: torch.Size([1, 3, 64, 64]) -> [batch_size, color_channels, height, width]\n",
            "Label shape: torch.Size([1])\n"
          ]
        }
      ]
    },
    {
      "cell_type": "markdown",
      "source": [
        "###3. Making a model (TinyVGG)"
      ],
      "metadata": {
        "id": "XuyOtaLBdICa"
      }
    },
    {
      "cell_type": "markdown",
      "source": [
        "We're going to use the same model we used in notebook 04: TinyVGG from the CNN Explainer website.\n",
        "\n",
        "The only change here from notebook 04 is that a docstring has been added using `Google's Style Guide for Python`."
      ],
      "metadata": {
        "id": "cbzVki-2dH5u"
      }
    },
    {
      "cell_type": "code",
      "source": [
        "import torch\n",
        "\n",
        "from torch import nn\n",
        "\n",
        "class TinyVGG(nn.Module):\n",
        "  \"\"\"Creates the TinyVGG architecture.\n",
        "\n",
        "  Replicates the TinyVGG architecture from the CNN explainer website in PyTorch.\n",
        "  See the original architecture here: https://poloclub.github.io/cnn-explainer/\n",
        "\n",
        "  Args:\n",
        "    input_shape: An integer indicating number of input channels.\n",
        "    hidden_units: An integer indicating number of hidden units between layers.\n",
        "    output_shape: An integer indicating number of output units.\n",
        "  \"\"\"\n",
        "  def __init__(self, input_shape: int, hidden_units: int, output_shape: int) -> None:\n",
        "      super().__init__()\n",
        "      self.conv_block_1 = nn.Sequential(\n",
        "          nn.Conv2d(in_channels=input_shape,\n",
        "                    out_channels=hidden_units,\n",
        "                    kernel_size=3, # how big is the square that's going over the image?\n",
        "                    stride=1, # default\n",
        "                    padding=0), # options = \"valid\" (no padding) or \"same\" (output has same shape as input) or int for specific number\n",
        "          nn.ReLU(),\n",
        "          nn.Conv2d(in_channels=hidden_units,\n",
        "                    out_channels=hidden_units,\n",
        "                    kernel_size=3,\n",
        "                    stride=1,\n",
        "                    padding=0),\n",
        "          nn.ReLU(),\n",
        "          nn.MaxPool2d(kernel_size=2,\n",
        "                        stride=2) # default stride value is same as kernel_size\n",
        "      )\n",
        "      self.conv_block_2 = nn.Sequential(\n",
        "          nn.Conv2d(hidden_units, hidden_units, kernel_size=3, padding=0),\n",
        "          nn.ReLU(),\n",
        "          nn.Conv2d(hidden_units, hidden_units, kernel_size=3, padding=0),\n",
        "          nn.ReLU(),\n",
        "          nn.MaxPool2d(2)\n",
        "      )\n",
        "      self.classifier = nn.Sequential(\n",
        "          nn.Flatten(),\n",
        "          # Where did this in_features shape come from?\n",
        "          # It's because each layer of our network compresses and changes the shape of our inputs data.\n",
        "          nn.Linear(in_features=hidden_units*13*13,\n",
        "                    out_features=output_shape)\n",
        "      )\n",
        "\n",
        "  def forward(self, x: torch.Tensor):\n",
        "      x = self.conv_block_1(x)\n",
        "      x = self.conv_block_2(x)\n",
        "      x = self.classifier(x)\n",
        "      return x\n",
        "      # return self.classifier(self.block_2(self.block_1(x))) # <- leverage the benefits of operator fusion"
      ],
      "metadata": {
        "id": "QvuF4N0wcRev"
      },
      "execution_count": 11,
      "outputs": []
    },
    {
      "cell_type": "code",
      "source": [
        "import torch\n",
        "device = \"cuda\" if torch.cuda.is_available() else \"cpu\"\n",
        "\n",
        "# Instantiate an instance of the model\n",
        "torch.manual_seed(42)\n",
        "model_0 = TinyVGG(input_shape=3, # number of color channels (3 for RGB)\n",
        "                  hidden_units=10,\n",
        "                  output_shape=len(class_name)).to(device)\n",
        "model_0\n"
      ],
      "metadata": {
        "colab": {
          "base_uri": "https://localhost:8080/"
        },
        "id": "DZWR7Y4NjU1h",
        "outputId": "0faf803b-2151-4ccf-d21a-172906cdd6d4"
      },
      "execution_count": 12,
      "outputs": [
        {
          "output_type": "execute_result",
          "data": {
            "text/plain": [
              "TinyVGG(\n",
              "  (conv_block_1): Sequential(\n",
              "    (0): Conv2d(3, 10, kernel_size=(3, 3), stride=(1, 1))\n",
              "    (1): ReLU()\n",
              "    (2): Conv2d(10, 10, kernel_size=(3, 3), stride=(1, 1))\n",
              "    (3): ReLU()\n",
              "    (4): MaxPool2d(kernel_size=2, stride=2, padding=0, dilation=1, ceil_mode=False)\n",
              "  )\n",
              "  (conv_block_2): Sequential(\n",
              "    (0): Conv2d(10, 10, kernel_size=(3, 3), stride=(1, 1))\n",
              "    (1): ReLU()\n",
              "    (2): Conv2d(10, 10, kernel_size=(3, 3), stride=(1, 1))\n",
              "    (3): ReLU()\n",
              "    (4): MaxPool2d(kernel_size=2, stride=2, padding=0, dilation=1, ceil_mode=False)\n",
              "  )\n",
              "  (classifier): Sequential(\n",
              "    (0): Flatten(start_dim=1, end_dim=-1)\n",
              "    (1): Linear(in_features=1690, out_features=3, bias=True)\n",
              "  )\n",
              ")"
            ]
          },
          "metadata": {},
          "execution_count": 12
        }
      ]
    },
    {
      "cell_type": "markdown",
      "source": [
        "To test our model let's do a single forward pass (pass a sample batch from the training set through our model)."
      ],
      "metadata": {
        "id": "oDY3OT4n8__w"
      }
    },
    {
      "cell_type": "markdown",
      "source": [
        "**The forward pass is the fundamental process of feeding input data through a model to obtain an output or prediction.**"
      ],
      "metadata": {
        "id": "9bDgyddX-dWE"
      }
    },
    {
      "cell_type": "code",
      "source": [
        "# 1. Get a batch of images and labels from the DataLoader\n",
        "img_batch , label_batch = next(iter(train_dataloader))\n",
        "\n",
        "# 2. Get a single image from the batch and unsqueeze the image so its shape fits the model\n",
        "img_single , label_single = img_batch[0].unsqueeze(dim=0), label_batch[0]\n",
        "\n",
        "# 3. Perform a forward pass on a single image\n",
        "model_0.eval()\n",
        "with torch.inference_mode():\n",
        "  pred = model_0(img_single.to(device))\n",
        "\n",
        "# 4. Print out what's happening and convert model logits -> pred probs -> pred label\n",
        "\n",
        "print(f\"Output Logits:\\n{pred}\\n\")\n",
        "print(f\"Output prediction probabiilties:\\n{torch.softmax(pred, dim=1)}\\n\")\n",
        "print(f\"Output predicition label:\\n{torch.argmax(torch.softmax(pred, dim=1), dim=1)}\\n\")\n",
        "print(f\"Actual label:\\n{label}\")\n"
      ],
      "metadata": {
        "colab": {
          "base_uri": "https://localhost:8080/"
        },
        "id": "irWiZKD486C8",
        "outputId": "287a8a1e-ba82-4dea-a4cd-0f092f495582"
      },
      "execution_count": 13,
      "outputs": [
        {
          "output_type": "stream",
          "name": "stdout",
          "text": [
            "Output Logits:\n",
            "tensor([[ 0.0208, -0.0020,  0.0095]], device='cuda:0')\n",
            "\n",
            "Output prediction probabiilties:\n",
            "tensor([[0.3371, 0.3295, 0.3333]], device='cuda:0')\n",
            "\n",
            "Output predicition label:\n",
            "tensor([0], device='cuda:0')\n",
            "\n",
            "Actual label:\n",
            "tensor([1])\n"
          ]
        }
      ]
    },
    {
      "cell_type": "markdown",
      "source": [
        "**##4. Creating train_step() and test_step() functions and train() to combine them**"
      ],
      "metadata": {
        "id": "l59Ss8AYBboH"
      }
    },
    {
      "cell_type": "markdown",
      "source": [
        "Rather than writing them again, we can reuse the `train_step()` and `test_step()` functions from notebook 04.\n",
        "\n",
        "The same goes for the `train()` function we created.\n",
        "\n",
        "The only difference here is that these functions have had docstrings added to them in Google's Python Functions and Methods Style Guide.\n",
        "\n",
        "Let's start by making `train_step()`."
      ],
      "metadata": {
        "id": "28KxJF4ABlxZ"
      }
    },
    {
      "cell_type": "code",
      "source": [
        "from typing import Tuple\n",
        "\n",
        "def train_step(model: torch.nn.Module,\n",
        "               dataloader: torch.utils.data.DataLoader,\n",
        "               loss_fn: torch.nn.Module,\n",
        "               optimizer: torch.optim.Optimizer,\n",
        "               device: torch.device) -> Tuple[float, float]:\n",
        "  \"\"\"Trains a PyTorch model for a single epoch.\n",
        "\n",
        "  Turns a target PyTorch model to training mode and then\n",
        "  runs through all of the required training steps (forward\n",
        "  pass, loss calculation, optimizer step).\n",
        "\n",
        "  Args:\n",
        "    model: A PyTorch model to be trained.\n",
        "    dataloader: A DataLoader instance for the model to be trained on.\n",
        "    loss_fn: A PyTorch loss function to minimize.\n",
        "    optimizer: A PyTorch optimizer to help minimize the loss function.\n",
        "    device: A target device to compute on (e.g. \"cuda\" or \"cpu\").\n",
        "\n",
        "  Returns:\n",
        "    A tuple of training loss and training accuracy metrics.\n",
        "    In the form (train_loss, train_accuracy). For example:\n",
        "\n",
        "    (0.1112, 0.8743)\n",
        "  \"\"\"\n",
        "  # Put model in train mode\n",
        "  model.train()\n",
        "\n",
        "  # Setup train loss and train accuracy values\n",
        "  train_loss, train_acc = 0, 0\n",
        "\n",
        "  # Loop through data loader data batches\n",
        "  for batch, (X, y) in enumerate(dataloader):\n",
        "      # Send data to target device\n",
        "      X, y = X.to(device), y.to(device)\n",
        "\n",
        "      # 1. Forward pass\n",
        "      y_pred = model(X)\n",
        "\n",
        "      # 2. Calculate  and accumulate loss\n",
        "      loss = loss_fn(y_pred, y)\n",
        "      train_loss += loss.item()\n",
        "\n",
        "      # 3. Optimizer zero grad\n",
        "      optimizer.zero_grad()\n",
        "\n",
        "      # 4. Loss backward\n",
        "      loss.backward()\n",
        "\n",
        "      # 5. Optimizer step\n",
        "      optimizer.step()\n",
        "\n",
        "      # Calculate and accumulate accuracy metric across all batches\n",
        "      y_pred_class = torch.argmax(torch.softmax(y_pred, dim=1), dim=1)\n",
        "      train_acc += (y_pred_class == y).sum().item()/len(y_pred)\n",
        "\n",
        "  # Adjust metrics to get average loss and accuracy per batch\n",
        "  train_loss = train_loss / len(dataloader)\n",
        "  train_acc = train_acc / len(dataloader)\n",
        "  return train_loss, train_acc"
      ],
      "metadata": {
        "id": "GhE-exSfGQLj"
      },
      "execution_count": 14,
      "outputs": []
    },
    {
      "cell_type": "markdown",
      "source": [
        "Now we'll do test_step().\n",
        "\n"
      ],
      "metadata": {
        "id": "bg5SphVmiKGv"
      }
    },
    {
      "cell_type": "code",
      "source": [
        "from typing import Tuple\n",
        "def test_step(model: torch.nn.Module,\n",
        "              dataloader: torch.utils.data.DataLoader,\n",
        "              loss_fn: torch.nn.Module,\n",
        "              device: torch.device) -> Tuple[float, float]:\n",
        "  \"\"\"Tests a PyTorch model for a single epoch.\n",
        "\n",
        "  Turns a target PyTorch model to \"eval\" mode and then performs\n",
        "  a forward pass on a testing dataset.\n",
        "\n",
        "  Args:\n",
        "    model: A PyTorch model to be tested.\n",
        "    dataloader: A DataLoader instance for the model to be tested on.\n",
        "    loss_fn: A PyTorch loss function to calculate loss on the test data.\n",
        "    device: A target device to compute on (e.g. \"cuda\" or \"cpu\").\n",
        "\n",
        "  Returns:\n",
        "    A tuple of testing loss and testing accuracy metrics.\n",
        "    In the form (test_loss, test_accuracy). For example:\n",
        "\n",
        "    (0.0223, 0.8985)\n",
        "  \"\"\"\n",
        "  # Put model in eval mode\n",
        "  model.eval()\n",
        "\n",
        "  # Setup test loss and test accuracy values\n",
        "  test_loss, test_acc = 0, 0\n",
        "\n",
        "  # Turn on inference context manager\n",
        "  with torch.inference_mode():\n",
        "      # Loop through DataLoader batches\n",
        "      for batch, (X, y) in enumerate(dataloader):\n",
        "          # Send data to target device\n",
        "          X, y = X.to(device), y.to(device)\n",
        "\n",
        "          # 1. Forward pass\n",
        "          test_pred_logits = model(X)\n",
        "\n",
        "          # 2. Calculate and accumulate loss\n",
        "          loss = loss_fn(test_pred_logits, y)\n",
        "          test_loss += loss.item()\n",
        "\n",
        "          # Calculate and accumulate accuracy\n",
        "          test_pred_labels = test_pred_logits.argmax(dim=1)\n",
        "          test_acc += ((test_pred_labels == y).sum().item()/len(test_pred_labels))\n",
        "\n",
        "  # Adjust metrics to get average loss and accuracy per batch\n",
        "  test_loss = test_loss / len(dataloader)\n",
        "  test_acc = test_acc / len(dataloader)\n",
        "  return test_loss, test_acc"
      ],
      "metadata": {
        "id": "4olhr6eb_0Rf"
      },
      "execution_count": 15,
      "outputs": []
    },
    {
      "cell_type": "markdown",
      "source": [
        "And we'll combine train_step() and test_step() into train()."
      ],
      "metadata": {
        "id": "13PEVvTuGEno"
      }
    },
    {
      "cell_type": "code",
      "source": [
        "from typing import Dict, List\n",
        "\n",
        "from tqdm.auto import tqdm\n",
        "\n",
        "def train(model: torch.nn.Module,\n",
        "          train_dataloader: torch.utils.data.DataLoader,\n",
        "          test_dataloader: torch.utils.data.DataLoader,\n",
        "          optimizer: torch.optim.Optimizer,\n",
        "          loss_fn: torch.nn.Module,\n",
        "          epochs: int,\n",
        "          device: torch.device) -> Dict[str, List[float]]:\n",
        "  \"\"\"Trains and tests a PyTorch model.\n",
        "\n",
        "  Passes a target PyTorch models through train_step() and test_step()\n",
        "  functions for a number of epochs, training and testing the model\n",
        "  in the same epoch loop.\n",
        "\n",
        "  Calculates, prints and stores evaluation metrics throughout.\n",
        "\n",
        "  Args:\n",
        "    model: A PyTorch model to be trained and tested.\n",
        "    train_dataloader: A DataLoader instance for the model to be trained on.\n",
        "    test_dataloader: A DataLoader instance for the model to be tested on.\n",
        "    optimizer: A PyTorch optimizer to help minimize the loss function.\n",
        "    loss_fn: A PyTorch loss function to calculate loss on both datasets.\n",
        "    epochs: An integer indicating how many epochs to train for.\n",
        "    device: A target device to compute on (e.g. \"cuda\" or \"cpu\").\n",
        "\n",
        "  Returns:\n",
        "    A dictionary of training and testing loss as well as training and\n",
        "    testing accuracy metrics. Each metric has a value in a list for\n",
        "    each epoch.\n",
        "    In the form: {train_loss: [...],\n",
        "                  train_acc: [...],\n",
        "                  test_loss: [...],\n",
        "                  test_acc: [...]}\n",
        "    For example if training for epochs=2:\n",
        "                 {train_loss: [2.0616, 1.0537],\n",
        "                  train_acc: [0.3945, 0.3945],\n",
        "                  test_loss: [1.2641, 1.5706],\n",
        "                  test_acc: [0.3400, 0.2973]}\n",
        "  \"\"\"\n",
        "  # Create empty results dictionary\n",
        "  results = {\"train_loss\": [],\n",
        "      \"train_acc\": [],\n",
        "      \"test_loss\": [],\n",
        "      \"test_acc\": []\n",
        "  }\n",
        "\n",
        "  # Loop through training and testing steps for a number of epochs\n",
        "  for epoch in tqdm(range(epochs)):\n",
        "      train_loss, train_acc = train_step(model=model,\n",
        "                                          dataloader=train_dataloader,\n",
        "                                          loss_fn=loss_fn,\n",
        "                                          optimizer=optimizer,\n",
        "                                          device=device)\n",
        "      test_loss, test_acc = test_step(model=model,\n",
        "          dataloader=test_dataloader,\n",
        "          loss_fn=loss_fn,\n",
        "          device=device)\n",
        "\n",
        "      # Print out what's happening\n",
        "      print(\n",
        "          f\"Epoch: {epoch+1} | \"\n",
        "          f\"train_loss: {train_loss:.4f} | \"\n",
        "          f\"train_acc: {train_acc:.4f} | \"\n",
        "          f\"test_loss: {test_loss:.4f} | \"\n",
        "          f\"test_acc: {test_acc:.4f}\"\n",
        "      )\n",
        "\n",
        "      # Update results dictionary\n",
        "      results[\"train_loss\"].append(train_loss)\n",
        "      results[\"train_acc\"].append(train_acc)\n",
        "      results[\"test_loss\"].append(test_loss)\n",
        "      results[\"test_acc\"].append(test_acc)\n",
        "\n",
        "  # Return the filled results at the end of the epochs\n",
        "  return results"
      ],
      "metadata": {
        "id": "NAsoi-F1DRjH"
      },
      "execution_count": 16,
      "outputs": []
    },
    {
      "cell_type": "markdown",
      "source": [
        "###5. Creating a function to save the model\n",
        "Let's setup a function to save our model to a directory.\n",
        "\n"
      ],
      "metadata": {
        "id": "TG5QnLBNIv9L"
      }
    },
    {
      "cell_type": "code",
      "source": [
        "from pathlib import Path\n",
        "\n",
        "def save_model(model: torch.nn.Module,\n",
        "               target_dir: str,\n",
        "               model_name: str):\n",
        "  \"\"\"Saves a PyTorch model to a target directory.\n",
        "\n",
        "  Args:\n",
        "    model: A target PyTorch model to save.\n",
        "    target_dir: A directory for saving the model to.\n",
        "    model_name: A filename for the saved model. Should include\n",
        "      either \".pth\" or \".pt\" as the file extension.\n",
        "\n",
        "  Example usage:\n",
        "    save_model(model=model_0,\n",
        "               target_dir=\"models\",\n",
        "               model_name=\"05_going_modular_tingvgg_model.pth\")\n",
        "  \"\"\"\n",
        "\n",
        "  #create a traget directory\n",
        "  target_dic_path = Path(target_dir)\n",
        "  target_dic_path.mkdir(parents=True,\n",
        "                        exist_ok= True)\n",
        "\n",
        "  # Create model save path\n",
        "  assert model_name.endwith(\".pth\") or model.name.endwith(\".pt\"), \" model_name shoul end with .pt or .pth\"\n",
        "  model_save_path = targer_dir_path /model_name\n",
        "\n",
        "  # Save the model state_dict()\n",
        "  print(f\"[INFO] Saving model to: {model_save_path}\")\n",
        "  torch.save(obj=model.state_dict(),\n",
        "             f= model_save_path)"
      ],
      "metadata": {
        "id": "225JUKhNIlHt"
      },
      "execution_count": 17,
      "outputs": []
    },
    {
      "cell_type": "markdown",
      "source": [
        "###6. Train, evaluate and save the model"
      ],
      "metadata": {
        "id": "PEZqCcW9dwhA"
      }
    },
    {
      "cell_type": "markdown",
      "source": [
        "Let's leverage the functions we've got above to train, test and save a model to file.\n",
        "\n"
      ],
      "metadata": {
        "id": "WZdIlA9Xd5AY"
      }
    },
    {
      "cell_type": "code",
      "source": [
        "# Set random seeds\n",
        "torch.manual_seed(42)\n",
        "torch.cuda.manual_seed(42)\n",
        "\n",
        "# Set number of epochs\n",
        "NUM_EPOCHS = 5\n",
        "\n",
        "# Recreate an instance of TinyVGG\n",
        "model_0 = TinyVGG(input_shape=3, # number of color channels (3 for RGB)\n",
        "                  hidden_units=10,\n",
        "                  output_shape=len(train_data.classes)).to(device)\n",
        "\n",
        "# Setup loss function and optimizer\n",
        "loss_fn = nn.CrossEntropyLoss()\n",
        "optimizer = torch.optim.Adam(params=model_0.parameters(), lr=0.001)\n",
        "\n",
        "# Start the timer\n",
        "from timeit import default_timer as timer\n",
        "start_time = timer()\n",
        "\n",
        "# Train model_0\n",
        "model_0_results = train(model=model_0,\n",
        "                        train_dataloader=train_dataloader,\n",
        "                        test_dataloader=test_dataloader,\n",
        "                        optimizer=optimizer,\n",
        "                        loss_fn=loss_fn,\n",
        "                        epochs=NUM_EPOCHS,\n",
        "                        device=device)\n",
        "\n",
        "\n",
        "# End the timer and print out how long it took\n",
        "end_timer = timer()\n",
        "print(f\"[INFO] Total training time: {end_timer-start_time:.3f} seconds\")\n",
        "\n",
        "# SAVE THE MODEL\n",
        "save_model(model= model_0,\n",
        "           target_dir = \"models\",\n",
        "           model_name =\"05 _going_modular_cell_mode_tinyvgg_model.pth\")"
      ],
      "metadata": {
        "colab": {
          "base_uri": "https://localhost:8080/",
          "height": 505,
          "referenced_widgets": [
            "a370d6df076648599cda0a1990d2baa2",
            "864a36c231cf458897b5f426886b3c1b",
            "e92cab8665d44e31b6c29c74a982f1fc",
            "220423a795d3483b9d4e42f6790c7b42",
            "c775613821f04cdd965f7d6019b6fc06",
            "232c303a4ae14274be6c57c1b6ee3325",
            "159516606bd548169d160261b6456676",
            "70dc963a85564582b772cc2f233ee0c8",
            "22bd6f23337945ca9c8499dd010773fd",
            "0af2e9f678ee40f29bcbf616bf7ea69c",
            "040811500c504f0eb34b7e61e5a2d424"
          ]
        },
        "id": "ILSkUSrCdsCj",
        "outputId": "5ec38873-53ad-4778-f5d4-218446787a98"
      },
      "execution_count": 18,
      "outputs": [
        {
          "output_type": "display_data",
          "data": {
            "text/plain": [
              "  0%|          | 0/5 [00:00<?, ?it/s]"
            ],
            "application/vnd.jupyter.widget-view+json": {
              "version_major": 2,
              "version_minor": 0,
              "model_id": "a370d6df076648599cda0a1990d2baa2"
            }
          },
          "metadata": {}
        },
        {
          "output_type": "stream",
          "name": "stdout",
          "text": [
            "Epoch: 1 | train_loss: 1.0923 | train_acc: 0.3911 | test_loss: 1.0726 | test_acc: 0.4133\n",
            "Epoch: 2 | train_loss: 1.0265 | train_acc: 0.5111 | test_loss: 1.0164 | test_acc: 0.4267\n",
            "Epoch: 3 | train_loss: 0.9601 | train_acc: 0.5200 | test_loss: 0.9913 | test_acc: 0.4667\n",
            "Epoch: 4 | train_loss: 0.9158 | train_acc: 0.5778 | test_loss: 0.9784 | test_acc: 0.4400\n",
            "Epoch: 5 | train_loss: 0.8913 | train_acc: 0.6000 | test_loss: 0.9814 | test_acc: 0.4800\n",
            "[INFO] Total training time: 14.318 seconds\n"
          ]
        },
        {
          "output_type": "error",
          "ename": "AttributeError",
          "evalue": "'str' object has no attribute 'endwith'",
          "traceback": [
            "\u001b[0;31m---------------------------------------------------------------------------\u001b[0m",
            "\u001b[0;31mAttributeError\u001b[0m                            Traceback (most recent call last)",
            "\u001b[0;32m<ipython-input-18-7d81c340a2c6>\u001b[0m in \u001b[0;36m<cell line: 36>\u001b[0;34m()\u001b[0m\n\u001b[1;32m     34\u001b[0m \u001b[0;34m\u001b[0m\u001b[0m\n\u001b[1;32m     35\u001b[0m \u001b[0;31m# SAVE THE MODEL\u001b[0m\u001b[0;34m\u001b[0m\u001b[0;34m\u001b[0m\u001b[0m\n\u001b[0;32m---> 36\u001b[0;31m save_model(model= model_0,\n\u001b[0m\u001b[1;32m     37\u001b[0m            \u001b[0mtarget_dir\u001b[0m \u001b[0;34m=\u001b[0m \u001b[0;34m\"models\"\u001b[0m\u001b[0;34m,\u001b[0m\u001b[0;34m\u001b[0m\u001b[0;34m\u001b[0m\u001b[0m\n\u001b[1;32m     38\u001b[0m            model_name =\"05 _going_modular_cell_mode_tinyvgg_model.pth\")\n",
            "\u001b[0;32m<ipython-input-17-363e9b6c35be>\u001b[0m in \u001b[0;36msave_model\u001b[0;34m(model, target_dir, model_name)\u001b[0m\n\u001b[1;32m     24\u001b[0m \u001b[0;34m\u001b[0m\u001b[0m\n\u001b[1;32m     25\u001b[0m   \u001b[0;31m# Create model save path\u001b[0m\u001b[0;34m\u001b[0m\u001b[0;34m\u001b[0m\u001b[0m\n\u001b[0;32m---> 26\u001b[0;31m   \u001b[0;32massert\u001b[0m \u001b[0mmodel_name\u001b[0m\u001b[0;34m.\u001b[0m\u001b[0mendwith\u001b[0m\u001b[0;34m(\u001b[0m\u001b[0;34m\".pth\"\u001b[0m\u001b[0;34m)\u001b[0m \u001b[0;32mor\u001b[0m \u001b[0mmodel\u001b[0m\u001b[0;34m.\u001b[0m\u001b[0mname\u001b[0m\u001b[0;34m.\u001b[0m\u001b[0mendwith\u001b[0m\u001b[0;34m(\u001b[0m\u001b[0;34m\".pt\"\u001b[0m\u001b[0;34m)\u001b[0m\u001b[0;34m,\u001b[0m \u001b[0;34m\" model_name shoul end with .pt or .pth\"\u001b[0m\u001b[0;34m\u001b[0m\u001b[0;34m\u001b[0m\u001b[0m\n\u001b[0m\u001b[1;32m     27\u001b[0m   \u001b[0mmodel_save_path\u001b[0m \u001b[0;34m=\u001b[0m \u001b[0mtarger_dir_path\u001b[0m \u001b[0;34m/\u001b[0m\u001b[0mmodel_name\u001b[0m\u001b[0;34m\u001b[0m\u001b[0;34m\u001b[0m\u001b[0m\n\u001b[1;32m     28\u001b[0m \u001b[0;34m\u001b[0m\u001b[0m\n",
            "\u001b[0;31mAttributeError\u001b[0m: 'str' object has no attribute 'endwith'"
          ]
        }
      ]
    },
    {
      "cell_type": "code",
      "source": [],
      "metadata": {
        "id": "fD4NSuUCfzcA"
      },
      "execution_count": null,
      "outputs": []
    }
  ]
}