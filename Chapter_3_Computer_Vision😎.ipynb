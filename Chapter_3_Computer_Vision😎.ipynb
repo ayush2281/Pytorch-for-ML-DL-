{
  "nbformat": 4,
  "nbformat_minor": 0,
  "metadata": {
    "colab": {
      "provenance": [],
      "authorship_tag": "ABX9TyO4aZ54pM/DDHHCxztfnzFR",
      "include_colab_link": true
    },
    "kernelspec": {
      "name": "python3",
      "display_name": "Python 3"
    },
    "language_info": {
      "name": "python"
    }
  },
  "cells": [
    {
      "cell_type": "markdown",
      "metadata": {
        "id": "view-in-github",
        "colab_type": "text"
      },
      "source": [
        "<a href=\"https://colab.research.google.com/github/ayush2281/Pytorch-for-ML-DL-/blob/main/Chapter_3_Computer_Vision%F0%9F%98%8E.ipynb\" target=\"_parent\"><img src=\"https://colab.research.google.com/assets/colab-badge.svg\" alt=\"Open In Colab\"/></a>"
      ]
    },
    {
      "cell_type": "markdown",
      "source": [
        "# **This Chapter Vision & Convolution Neural Network With Pytorch...**"
      ],
      "metadata": {
        "id": "EEJmjd4xoBt7"
      }
    },
    {
      "cell_type": "code",
      "execution_count": null,
      "metadata": {
        "id": "V0k6zunNnbOx"
      },
      "outputs": [],
      "source": []
    }
  ]
}