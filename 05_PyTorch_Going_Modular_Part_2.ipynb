{
  "nbformat": 4,
  "nbformat_minor": 0,
  "metadata": {
    "colab": {
      "provenance": [],
      "gpuType": "T4",
      "authorship_tag": "ABX9TyMUZeM1A10hgpMyH7wfzsxl",
      "include_colab_link": true
    },
    "kernelspec": {
      "name": "python3",
      "display_name": "Python 3"
    },
    "language_info": {
      "name": "python"
    },
    "accelerator": "GPU",
    "widgets": {
      "application/vnd.jupyter.widget-state+json": {
        "336f302ea1c54eefa61b7510494f8f4e": {
          "model_module": "@jupyter-widgets/controls",
          "model_name": "HBoxModel",
          "model_module_version": "1.5.0",
          "state": {
            "_dom_classes": [],
            "_model_module": "@jupyter-widgets/controls",
            "_model_module_version": "1.5.0",
            "_model_name": "HBoxModel",
            "_view_count": null,
            "_view_module": "@jupyter-widgets/controls",
            "_view_module_version": "1.5.0",
            "_view_name": "HBoxView",
            "box_style": "",
            "children": [
              "IPY_MODEL_ea4e4814e1f4435fb1a050d975405f75",
              "IPY_MODEL_cc9b97fcd9354b82b47d108872f81238",
              "IPY_MODEL_254c675e94aa4771a75657cd02d6f657"
            ],
            "layout": "IPY_MODEL_9a7afe3eeff4464080d19a87beb19865"
          }
        },
        "ea4e4814e1f4435fb1a050d975405f75": {
          "model_module": "@jupyter-widgets/controls",
          "model_name": "HTMLModel",
          "model_module_version": "1.5.0",
          "state": {
            "_dom_classes": [],
            "_model_module": "@jupyter-widgets/controls",
            "_model_module_version": "1.5.0",
            "_model_name": "HTMLModel",
            "_view_count": null,
            "_view_module": "@jupyter-widgets/controls",
            "_view_module_version": "1.5.0",
            "_view_name": "HTMLView",
            "description": "",
            "description_tooltip": null,
            "layout": "IPY_MODEL_47c152f3ecc1462f9a0f68e2a6cc0eb6",
            "placeholder": "​",
            "style": "IPY_MODEL_4c8ce8a60c894e87b37965fbf77a6998",
            "value": "100%"
          }
        },
        "cc9b97fcd9354b82b47d108872f81238": {
          "model_module": "@jupyter-widgets/controls",
          "model_name": "FloatProgressModel",
          "model_module_version": "1.5.0",
          "state": {
            "_dom_classes": [],
            "_model_module": "@jupyter-widgets/controls",
            "_model_module_version": "1.5.0",
            "_model_name": "FloatProgressModel",
            "_view_count": null,
            "_view_module": "@jupyter-widgets/controls",
            "_view_module_version": "1.5.0",
            "_view_name": "ProgressView",
            "bar_style": "success",
            "description": "",
            "description_tooltip": null,
            "layout": "IPY_MODEL_28c85f8a50b24e99b53f8856129ba517",
            "max": 5,
            "min": 0,
            "orientation": "horizontal",
            "style": "IPY_MODEL_0313f2cf4900472293389eebffd665d0",
            "value": 5
          }
        },
        "254c675e94aa4771a75657cd02d6f657": {
          "model_module": "@jupyter-widgets/controls",
          "model_name": "HTMLModel",
          "model_module_version": "1.5.0",
          "state": {
            "_dom_classes": [],
            "_model_module": "@jupyter-widgets/controls",
            "_model_module_version": "1.5.0",
            "_model_name": "HTMLModel",
            "_view_count": null,
            "_view_module": "@jupyter-widgets/controls",
            "_view_module_version": "1.5.0",
            "_view_name": "HTMLView",
            "description": "",
            "description_tooltip": null,
            "layout": "IPY_MODEL_1b3cbf19f16d41f3aafb806ec3f9c964",
            "placeholder": "​",
            "style": "IPY_MODEL_3c9e66424bec4e5eb695d129b383d4a9",
            "value": " 5/5 [00:16&lt;00:00,  3.28s/it]"
          }
        },
        "9a7afe3eeff4464080d19a87beb19865": {
          "model_module": "@jupyter-widgets/base",
          "model_name": "LayoutModel",
          "model_module_version": "1.2.0",
          "state": {
            "_model_module": "@jupyter-widgets/base",
            "_model_module_version": "1.2.0",
            "_model_name": "LayoutModel",
            "_view_count": null,
            "_view_module": "@jupyter-widgets/base",
            "_view_module_version": "1.2.0",
            "_view_name": "LayoutView",
            "align_content": null,
            "align_items": null,
            "align_self": null,
            "border": null,
            "bottom": null,
            "display": null,
            "flex": null,
            "flex_flow": null,
            "grid_area": null,
            "grid_auto_columns": null,
            "grid_auto_flow": null,
            "grid_auto_rows": null,
            "grid_column": null,
            "grid_gap": null,
            "grid_row": null,
            "grid_template_areas": null,
            "grid_template_columns": null,
            "grid_template_rows": null,
            "height": null,
            "justify_content": null,
            "justify_items": null,
            "left": null,
            "margin": null,
            "max_height": null,
            "max_width": null,
            "min_height": null,
            "min_width": null,
            "object_fit": null,
            "object_position": null,
            "order": null,
            "overflow": null,
            "overflow_x": null,
            "overflow_y": null,
            "padding": null,
            "right": null,
            "top": null,
            "visibility": null,
            "width": null
          }
        },
        "47c152f3ecc1462f9a0f68e2a6cc0eb6": {
          "model_module": "@jupyter-widgets/base",
          "model_name": "LayoutModel",
          "model_module_version": "1.2.0",
          "state": {
            "_model_module": "@jupyter-widgets/base",
            "_model_module_version": "1.2.0",
            "_model_name": "LayoutModel",
            "_view_count": null,
            "_view_module": "@jupyter-widgets/base",
            "_view_module_version": "1.2.0",
            "_view_name": "LayoutView",
            "align_content": null,
            "align_items": null,
            "align_self": null,
            "border": null,
            "bottom": null,
            "display": null,
            "flex": null,
            "flex_flow": null,
            "grid_area": null,
            "grid_auto_columns": null,
            "grid_auto_flow": null,
            "grid_auto_rows": null,
            "grid_column": null,
            "grid_gap": null,
            "grid_row": null,
            "grid_template_areas": null,
            "grid_template_columns": null,
            "grid_template_rows": null,
            "height": null,
            "justify_content": null,
            "justify_items": null,
            "left": null,
            "margin": null,
            "max_height": null,
            "max_width": null,
            "min_height": null,
            "min_width": null,
            "object_fit": null,
            "object_position": null,
            "order": null,
            "overflow": null,
            "overflow_x": null,
            "overflow_y": null,
            "padding": null,
            "right": null,
            "top": null,
            "visibility": null,
            "width": null
          }
        },
        "4c8ce8a60c894e87b37965fbf77a6998": {
          "model_module": "@jupyter-widgets/controls",
          "model_name": "DescriptionStyleModel",
          "model_module_version": "1.5.0",
          "state": {
            "_model_module": "@jupyter-widgets/controls",
            "_model_module_version": "1.5.0",
            "_model_name": "DescriptionStyleModel",
            "_view_count": null,
            "_view_module": "@jupyter-widgets/base",
            "_view_module_version": "1.2.0",
            "_view_name": "StyleView",
            "description_width": ""
          }
        },
        "28c85f8a50b24e99b53f8856129ba517": {
          "model_module": "@jupyter-widgets/base",
          "model_name": "LayoutModel",
          "model_module_version": "1.2.0",
          "state": {
            "_model_module": "@jupyter-widgets/base",
            "_model_module_version": "1.2.0",
            "_model_name": "LayoutModel",
            "_view_count": null,
            "_view_module": "@jupyter-widgets/base",
            "_view_module_version": "1.2.0",
            "_view_name": "LayoutView",
            "align_content": null,
            "align_items": null,
            "align_self": null,
            "border": null,
            "bottom": null,
            "display": null,
            "flex": null,
            "flex_flow": null,
            "grid_area": null,
            "grid_auto_columns": null,
            "grid_auto_flow": null,
            "grid_auto_rows": null,
            "grid_column": null,
            "grid_gap": null,
            "grid_row": null,
            "grid_template_areas": null,
            "grid_template_columns": null,
            "grid_template_rows": null,
            "height": null,
            "justify_content": null,
            "justify_items": null,
            "left": null,
            "margin": null,
            "max_height": null,
            "max_width": null,
            "min_height": null,
            "min_width": null,
            "object_fit": null,
            "object_position": null,
            "order": null,
            "overflow": null,
            "overflow_x": null,
            "overflow_y": null,
            "padding": null,
            "right": null,
            "top": null,
            "visibility": null,
            "width": null
          }
        },
        "0313f2cf4900472293389eebffd665d0": {
          "model_module": "@jupyter-widgets/controls",
          "model_name": "ProgressStyleModel",
          "model_module_version": "1.5.0",
          "state": {
            "_model_module": "@jupyter-widgets/controls",
            "_model_module_version": "1.5.0",
            "_model_name": "ProgressStyleModel",
            "_view_count": null,
            "_view_module": "@jupyter-widgets/base",
            "_view_module_version": "1.2.0",
            "_view_name": "StyleView",
            "bar_color": null,
            "description_width": ""
          }
        },
        "1b3cbf19f16d41f3aafb806ec3f9c964": {
          "model_module": "@jupyter-widgets/base",
          "model_name": "LayoutModel",
          "model_module_version": "1.2.0",
          "state": {
            "_model_module": "@jupyter-widgets/base",
            "_model_module_version": "1.2.0",
            "_model_name": "LayoutModel",
            "_view_count": null,
            "_view_module": "@jupyter-widgets/base",
            "_view_module_version": "1.2.0",
            "_view_name": "LayoutView",
            "align_content": null,
            "align_items": null,
            "align_self": null,
            "border": null,
            "bottom": null,
            "display": null,
            "flex": null,
            "flex_flow": null,
            "grid_area": null,
            "grid_auto_columns": null,
            "grid_auto_flow": null,
            "grid_auto_rows": null,
            "grid_column": null,
            "grid_gap": null,
            "grid_row": null,
            "grid_template_areas": null,
            "grid_template_columns": null,
            "grid_template_rows": null,
            "height": null,
            "justify_content": null,
            "justify_items": null,
            "left": null,
            "margin": null,
            "max_height": null,
            "max_width": null,
            "min_height": null,
            "min_width": null,
            "object_fit": null,
            "object_position": null,
            "order": null,
            "overflow": null,
            "overflow_x": null,
            "overflow_y": null,
            "padding": null,
            "right": null,
            "top": null,
            "visibility": null,
            "width": null
          }
        },
        "3c9e66424bec4e5eb695d129b383d4a9": {
          "model_module": "@jupyter-widgets/controls",
          "model_name": "DescriptionStyleModel",
          "model_module_version": "1.5.0",
          "state": {
            "_model_module": "@jupyter-widgets/controls",
            "_model_module_version": "1.5.0",
            "_model_name": "DescriptionStyleModel",
            "_view_count": null,
            "_view_module": "@jupyter-widgets/base",
            "_view_module_version": "1.2.0",
            "_view_name": "StyleView",
            "description_width": ""
          }
        }
      }
    }
  },
  "cells": [
    {
      "cell_type": "markdown",
      "metadata": {
        "id": "view-in-github",
        "colab_type": "text"
      },
      "source": [
        "<a href=\"https://colab.research.google.com/github/ayush2281/Pytorch-for-ML-DL-/blob/main/05_PyTorch_Going_Modular_Part_2.ipynb\" target=\"_parent\"><img src=\"https://colab.research.google.com/assets/colab-badge.svg\" alt=\"Open In Colab\"/></a>"
      ]
    },
    {
      "cell_type": "markdown",
      "source": [],
      "metadata": {
        "id": "7w38hpSxEUbb"
      }
    },
    {
      "cell_type": "markdown",
      "source": [
        "#05. Going Modular: Part 2 (script mode)\n",
        "\n",
        "For reference, the two parts are:"
      ],
      "metadata": {
        "id": "__KxoOaPD0rL"
      }
    },
    {
      "cell_type": "markdown",
      "source": [
        "This notebook is part 2/2 of section 05. Going Modular.\n"
      ],
      "metadata": {
        "id": "kqIU-D38EdH9"
      }
    },
    {
      "cell_type": "markdown",
      "source": [
        "1. 05. Going Modular: Part 1 (cell mode) - this notebook is run as a traditional Jupyter Notebook/Google Colab notebook and is a condensed version of notebook 04.\n",
        "https://github.com/ayush2281/Pytorch-for-ML-DL-/blob/main/05_PyTorch_Going_Modular_Part_1.ipynb\n",
        "2. 05. Going Modular: Part 2 (script mode) - this notebook is the same as number 1 but with added functionality to turn each of the major sections into Python scripts, such as, data_setup.py and train.py.\n",
        "Why two parts?\n",
        "\n",
        "Because sometimes the best way to learn something is to see how it differs from something else.\n",
        "\n",
        "If you run each notebook side-by-side you'll see how they differ and that's where the key learnings are."
      ],
      "metadata": {
        "id": "xcCOHhMWEfiT"
      }
    },
    {
      "cell_type": "markdown",
      "source": [
        "#**What is script mode?**\n",
        "Script mode uses Jupyter Notebook cell magic (special commands) to turn specific cells into Python scripts.\n",
        "\n",
        "For example if you run the following code in a cell, you'll create a Python file called hello_world.py:\n",
        "\n",
        "%%writefile hello_world.py\n",
        "\n",
        "print(\"hello world, machine learning is fun!\")\n",
        "You could then run this Python file on the command line with:\n",
        "\n",
        "python hello_world.py\n",
        "\n",
        ">>> hello world, machine learning is fun!\n",
        "The main cell magic we're interested in using is %%writefile.\n",
        "\n",
        "Putting %%writefile filename at the top of a cell in Jupyter or Google Colab will write the contents of that cell to a specified filename."
      ],
      "metadata": {
        "id": "UyhNIvMIEveY"
      }
    },
    {
      "cell_type": "markdown",
      "source": [
        "**Question**: Do I have to create Python files like this? Can't I just start directly with a Python file and skip using a Google Colab notebook?"
      ],
      "metadata": {
        "id": "jpNi5MXyFQmY"
      }
    },
    {
      "cell_type": "markdown",
      "source": [
        "**Answer**: Yes. This is only one way of creating Python scripts. If you know the kind of script you'd like to write, you could start writing it straight away. But since using Jupyter/Google Colab notebooks is a popular way of starting off data science and machine learning projects, knowing about the %%writefile magic command is a handy tip."
      ],
      "metadata": {
        "id": "DdgeAOY7FVjn"
      }
    },
    {
      "cell_type": "markdown",
      "source": [
        "**What has script mode got to do with PyTorch?**\n",
        "\n",
        "If you've written some useful code in a Jupyter Notebook or Google Colab notebook, chances are you'll want to use that code again.\n",
        "\n",
        "And turning your useful cells into Python scripts (.py files) means you can use specific pieces of your code in other projects.\n",
        "\n",
        "This practice is not PyTorch specific.\n",
        "\n",
        "But it's how you'll see many different online PyTorch repositories structured."
      ],
      "metadata": {
        "id": "x_kAV7leFicR"
      }
    },
    {
      "cell_type": "markdown",
      "source": [
        "![{FF2E6C4C-E090-46BF-A582-2B815BB9AD41}.png](data:image/png;base64,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)"
      ],
      "metadata": {
        "id": "lAJnwGO_GBtu"
      }
    },
    {
      "cell_type": "markdown",
      "source": [
        "Here, the top level directory is called pytorch_project but you could call it whatever you want.\n",
        "\n",
        "Inside there's another directory called pytorch_project which contains several .py files, the purposes of these may be:"
      ],
      "metadata": {
        "id": "tY2ORnCvGLgZ"
      }
    },
    {
      "cell_type": "markdown",
      "source": [
        "`data_setup.py` - a file to prepare data (and download data if needed).\n",
        "\n",
        "`engine.py` - a file containing various training functions.\n",
        "\n",
        "`model_builder.py` or model.py - a file to create a PyTorch model.\n",
        "\n",
        "`train.py` - a file to leverage all other files and train a target PyTorch model.\n",
        "\n",
        "`utils.py` - a file dedicated to helpful utility functions."
      ],
      "metadata": {
        "id": "myNkUDz2GNeI"
      }
    },
    {
      "cell_type": "markdown",
      "source": [
        "And the `models` and `data` directories could hold PyTorch models and data files respectively (though due to the size of models and data files, it's unlikely you'll find the full versions of these on GitHub, these directories are present above mainly for demonstration purposes)."
      ],
      "metadata": {
        "id": "T7PvbiADGuvv"
      }
    },
    {
      "cell_type": "markdown",
      "source": [
        "  Note: There are many different ways to structure a Python project and        subsequently a PyTorch project. This isn't a guide on how to structure    your     projects, only an example of how you might come across PyTorch    projects in the     wild. For more on structuring Python projects, see Real    Python's Python     Application Layouts: A Reference guide."
      ],
      "metadata": {
        "id": "uVCe5LiyGzyW"
      }
    },
    {
      "cell_type": "markdown",
      "source": [
        "#What's the difference between this notebook (Part 2) and the cell mode notebook (Part 1)?\n",
        "This notebook, 05 Going Modular: Part 2 (script mode), creates Python scripts out of the cells created in part 1.\n",
        "\n",
        "Running this notebook end-to-end will result in having a directory structure very similar to the pytorch_project structure above.\n",
        "\n",
        "You'll notice each section in Part 2 (script mode) has an extra subsection (e.g. 2.1, 3.1, 4.1) for turning cell code into script code."
      ],
      "metadata": {
        "id": "ZxStGrn2HKPq"
      }
    },
    {
      "cell_type": "markdown",
      "source": [
        "![{E02EA760-9604-45C9-AAC7-2D602DE40283}.png](data:image/png;base64,iVBORw0KGgoAAAANSUhEUgAAA0EAAALLCAYAAAA/oYnTAAAAAXNSR0IArs4c6QAAAARnQU1BAACxjwv8YQUAAAAJcEhZcwAAEnQAABJ0Ad5mH3gAAJ7nSURBVHhe7f0PcCTZfdh5/uZ4EePTRYzj4qIVIsMgrgtltAYNrciRT+NWyAPA2Ab6ej3FRmsEaz1H0a4GesSjPAMTMVpcnc9abnjrcG7hhB2LZkwDjQsug7sWNB6Axbt2AyKMAk/BFk/ijG/VaMXA1RXsKQepUMetQxOxOnWEaNx7mS8rX/6pQlahCqhCfT8TOV2VlZX58mVWIX/13vvlM4eKAAAAAECP+J+ZfwEAAACgJxAEAQAAAOgpBEEAAAAAegpBEAAAAICeQhAEAAAAoKcQBAEAAADoKQRBAAAAAHoKQRAAAACAnkIQBAAAAKCnEAQBAAAA6CkEQQAAAAB6CkEQAAAAgJ5CEAQAAACgpxAEAQAAAOgpBEEAAAAAegpBEAAAAICeQhAEAAAAoKcQBAEAAADoKQRBAAAAAHoKQRAAAACAnkIQBAAAAKCn9GwQVLk9IalUykxzUjTzAQAAAJxttAQBnehHJVn//IS8+HMvysv/tCgf/cjMBwAAwLGdahC0f+tFqzXmefn1PzQv1PJkXV6tLq+mV9fliXkp1p8XJGst/+KtffMCTkpx3qt/WtsaUXrrhixsleTJnzyR/bWsfH6j7pkOAACABpxqEHRx7Io8ax6LPJX771XM43hPf/+e3DePHfe/I+/V+4X84fes5Z+VK2MXzWOgsz39y78wj4y/NP8CAADg2E63O9ynx2TSPNRKe/frtuzcL4bbErbkO++bhzFKf3BfhVaeSRn7tHnYSZ5+JKX7BVnNvSoTn1qgtQSOi68ty8yA+/jc6KJ86RfPuU+6Gec6AADoEKcbBH3skvztcfNYu/8d2a/ZsvOe7N41D6ueyr3dWl3cnsh7v1cyj5Xxvy2XPmYed5Lf+ycy8eqc5P/lfSl9FPr1H73ruUuS+92ylMtl+e7atKQ78dxtFOc6AADoEKecGOFZuTR+yTzWtmS3VsvOH+3KPdOs8+yzfie6J/92P7716EfvyXesvnN6O/67AAAAAPSqUw6CRM5dGpO0eaxbdmqNC6rc36oGOy+8Mu2/5/49uf/n5rHt/e+okMqTlrFLZ6A7EQAAAIBjO/UgSPovyaQVn8SPC3oi9/e8rm0qoPn7YzJknokU5Tv/b/PQUnnPGg90blIu9ZvH9fzoI3nvq3Py8ovPVzPKPf/iyzL31ffqpyj+85IUb+cl+5kX5VN/3c9Gl/rUi/Ly/KoUH/sjk1wVWb1ilpktmHlaMJtdaj7JqImnUpi13lMrY94fLcmL1XW/KEt/ZObb/v2qvFxdJiuFuODyP+zL+j/VYzq85dRUcz/rKcpcdVspmbitg9+nUrm7IC8/b+ZPf03VVIg6Rvvv5OXVy5/yt//XPyUvfmZOVosV/5g3K2b/nh97VfJ33XUH7i91ZTVaPsvTJ2pdv5mVl3/OKquaPvVzL0v2N9dl/z+YBePszFnvmZDVx2a+EXufq7jz1yp7XS3c76DjnevHqsNGPH2izqul+M/w7JIUHtWowR89lVJxVRZenZAXvfNWT8+/KBOvLtQ4J0uy9JK1bN36VJ/vz1vL/sLXYj7f6nOjyjCnyv68t1zqeXnxsjp+7+zX+O6yjoueTP1/9Ier8vmfM/Oe//VgIhoAAM6Q0w+C5KKMXbU6qsWNC/rz+3LP+2usA5qB4Fii3T8Ijwt6Ku//gT8e6NmrY2orR3haki9f/5S88qWC7D/xL1v0RVjhS6/IS79WlI/MPNuTjaykhicku6iCgD96Erzg+EhdWG2o4GjsRZnbiXt3Kzwrk5lR81ip0TJmt6TpoHLrfvSy6+n7qu7NY7l0RS79mHnsUBd7X83Kiz/zsiys6TEdZrZm7eer/9Iah6WMLrnjWsrlZbFKGUOt//YrMvKr6sLWq/6PgpePTw++Jll1Mfzyr63K/UdWAdTF/5M/Kkg+OyIv/vK6lOoFrHV8dP/XZSRm/54+vi+rv6rWrS4UYwPMMFWe4j+dcALohX9elP0/CR77j/5kX4r/XAV7P/OiZL9aUnveAh+9J0tx568pe63zV2vZfrfSCdbhR8W8TAyrYOfXvhz/Gd75svzWzp+aGT73fHxeJrJ5Wb9fEqva1YtPpHR/3Tknn7+cl2IgWEvLL994wTxWDu5J8U/M47A/35J/7TdpywuZKxJo0/4PRclffl5GVBkKquzWkZcnj9Tx+7WX5VP/qQpmah18y0cq8H5pOi9bXlme/llrzk0AADpQBwRB6g/7fzZtjde5L997aB567v8bP5PUz/+MCmiCY4me7NwP/pL6o/vyb3bMY2Xy560Ljlgfyaa6WHBaR547JxcvXZL0c+4rno82Pi//ZCd6SfAXT/69eaTe+lOjMv1L086U+Rv2pcpHUpj9vKxXL3T+iqTVPjvL/nyfmaf1ySXzfmf63ybrwvfs31QBi3kcW3/qEtZvSXOV/uD9yAXO/f+X/2v8CxNjgYstHaBMfMm/GH52yNvXjFz6CTNT7ef93CvNBXyVr8mvL9a5j9OjVXnlyq9LsVqAizJq6iljdXX86PcW5JU6F/w1qfW/+mqo5enZc3LuJ/TkngwfqYA3+y+OagNRF++/9pJk1+z6ftasR03n7JFpT6T4pQl55Xbw2DROnb//51fly875m3Y+G+nAdtSW3pmTpbj7cLVsv2tp5lw/uTp0Lvyzq8HA+WPP+dsKVqMvfD5q6rvDe99zdiILtWx2bE6K1kl5bvIz4n8rvSff2IoPM5/u/GurW++k/LKdJfCjosyNZWX1kXn+sXNy6WVTn+P6W9J4/DV59bOhfQz7y11Zmi80/rkBAKBbHXaCv9w9fOP8+cPzZrr89ofmBdf3/sufrL72Dwp/4c78/srh5ep7/sHhN/4nd7bjf/iNw5+t9Zrx4duXzev+9Atv/7tDs3bHv3v77wSX+eKuecX34du/cHj5/3jv8N/FbOPPfucfBN7/d+4E98vxrTesZd44jG4hiQ8PVyb97fzsP3tg5hv/0zcO/4Hz2k8e/uRPesv9F6FtPTj8jZ/1Xrt8uPJ9M1tT9fmSWff58z99+CuFPzUvGH/5Z4f3vvjT5nU1/a3fOPx35qXagsf8J39SH+OfPfyV31HH4C/NIp6/VGX7W/6yP/0r3zj809Ayf3bvjcOfrq7vpcPf+MC8kEiw/txyfBg4Fw7/x+8d/kbGXkZNkyvqnUF/+t//vcAyP/0rv334YWBFh4d/8f3fPvyVn7bWc/7vHf72D82LnsB5EToeSvT8jR6XP1Xn30/ay7wZPrtat9+JJDzXW1aHR/nhbx/+PWs7+rz5L/6fof1Xz/70OyuH/7Wql6q//N7hPwls++8c/sYf/Jl50VCfie/9s+D3x0//l98zL2p/cfiNGWsdf++3D0OfKkUt8yv+Mj/5j79j5mt/Fnx/5jcOvxcqwl988FuHf8d7XU2/4n13OkLHXn3+9LnyC/+37xz+aaiuAQA4izqiJSicKjvYSrEvu3e9Z5fkyt80v28GxhIV5d9Yndcrf2B134l064r37MtfkbWbaatFSiR98zflC3/NPNH2S5G++32f+7ps5yclHbON516Zly9YP9zu73s/2bZan4xO+r+yRzLmVVvSLsn0K16BduV79rigJ/vynvemwBiqp1L4F1+u7vezU8uy/LL9q73ysedk8s15/5ftf78u34gbc1TH06dPZfS/+V35yivqGITSQT+9+1vyZa/B7dmMLC9l5Fxomecm/08yX70PVEXWv1GnVSnsj9Zl5cA8Vi7+43dUOfoC54L8r16Q+a99RTK1WgYcJflv/4V1Iv5UTt75rWnpC73n2f5p+cq/mveTe8h9+fJ/f7zWoL7Pf12+Ejou5175v0rOvjfW/xA6f1u23610cnV4/8v2mJeLkvvdPVm8Gtp/9ezcpRnJqXrxPL27Il+rNpk8J5mVr8v83wg1HavPxAtv6mPir+2jr65Y4+x0N1brLmn3vyG74cagQFe4Z2X6qpVJ82BFlqqt3WnJvaU+f6EiPDv4Bcm96m9/q7BVu3ub+vz9+Oe/Ke/8o0u1W78AADhDOiMIUn/gA6myd/6N3Pe6bjy+L9WeIoNj4vd8Co4l2vq998yjp/L+ff8COD2i/qibx7Wdk5mZSXU5E5aWsXHriuDggUTCGCtdd1Ra/vp/Yh62Wfo/VYGBeRweF/Te75krKRUQ/upnrpiLvCdS/AP/kvjp76v3mMeBMVQ/UgGmfSH2n4+a94f8xAvWsXki7+2Hr+iOcO4LMv9y9AhoxW/5HYKe/aVfltHYoPacvPA3/SNdM3V6jJKqH3/ZjMx/zu62ZXluUn75l+oc70dbsuX3jpTM6zO17+8zMCO/agX+lT98L3F5o9Ly2em4UW/BOgmfvy3b71Y6sTosyje+7ocEz76aq96c9ij2+SiDvyrz4/HnrQ6QJmdmrO+fYqCr6rNX/66qdc99+cZOsPSBrnB/bUY+a31Flna2/IBWBWmfqZH45YWftd70e9/zx/xFjMr8F44cOQkAwJnRIUGQulwLpMr2x7U8ub8r3u+751SgZF+mvfDz/i+pT3/vvlluX773e84D5ZxMXqpxYRdwSYb9dHMB5z6e5P1q+/+hJPfvbsnXfnNBFt54VSZ+7kV58fnnZc4am9RWPzUmV6rXqfa4IL8lzQkIh36mOn5o/77f4rb/XjUEkun/zBpD9e8r4l+3PZWvTVsZpQLTy/Jl6xruSaM3wxzRY73iVKTygXmoPP3qKzHbdqeXv2IV4P/7kSQtwb8vWS0Il35OLta66Fbqng/f/3fVc1WfUz9XNwB+VoZe8M94FTUGW2kaMiTpGhfBz/3Vv2oeRbVsv1vppOrwcUm8n020z9g/wtQVPB+fvfRC4DspYmi4+nnTn59SyTpHPzYqf9dqqbm/Y2W0VI+21PeJJ/2/t24LoASO3f0FK/NjcHr+DSvr3tM/qz3m56d+Tj6doMUcAICzomOCoGD3Ni972VPnwsD1rFwZC10mX/rbfsaxR99xu3M9ui/3vSuJZ6/I2E+Zx0cId8FK6qP33ZSyz//MhLz6q5+XX//n67L+TRWQ/cmTYLaotntBxq6ah6re7u2a33yrLWkmIPyxS3LFuyrb+Y5p/VEB3O95hZ2UMbsL1QlJpxP+DN9uP/Hj1i/3x3FOfvyIFQXOuXoXqCehZfvdSidVh2lJnzcPG9T38SMK+LFgC1r4x4FLn7GSwuxsypbXghvoCveCfDbT5iA0na4fzAEAcMZ0ThAU6t7mjAsKZHmLuTi3L+jV5fy9338qT/7gO/4vyU4muTb6w1+Xl37BSin77Dm5OK6zM31BvvRbX5GvfH1blquBSfuNXvU713jdwaotadWA8JxcGvF+Uzbjgp68J9/x+kmN/225VDMgPCeZX1f7pfftiOlL4z9u3tNa517+Uuz2ItM/HpWmSvCX9SPXp4nTb38kH8XdZ8kSWNe5vtMNQlq23610UnX4Z/JnTUagf3bUG38UrNe/9vHQWfk3pmWmWuiibJoMlIGucJO/LNPVDIwx/sZM/GcgMs229/sQAIAu0kFBULB7m9NK8f6ufyEQe3Gugo5P+Zc99997T9677w911uOMgr/DttIT+dr/5WvVX577Xv26/Ns//q58c2VRFvPz8tmrk27LS/1ry9ayW8accUF+S9qzv+Sn5O27NGkuFs3Ynfe8FiEVSGUmg3X2Y89ZF5Zq2Z9Q+6X37Yjp0kCrav6vyHP/a/NQeaJCm7jtRaafDya5qMs+r37/QZ1xE0/l4XtWN6SwH7cvwu/L9/4/5mGs0Lr+k78e6O50Ilq13610UnUYOq/j7psV78d1Eaue/P4R45AePqh+tpzvq/9N+Ky8KJ/5JX+Fxbs6eUGwK1zmlUzkXH7uOWvOf/irMhD3GYhMF619BgCgt3VUEBS4iJf3ZPNrfh/5WgHNxTFvoL+6JLq/Ir/9++aJuhwas+4f03r78r33zUO1rem/fymaWOFH71njk5J4In9a94rqCIGWsaJ8RwWEXkta4F5J1vghHSQVf9+74LKy73nOXZKxQfNYKbxz0vcSsVuulG/+thRaXICLL1jjQZ6syspWjQ08WpXfqjfGa+jnrHFZT+Vri3XuzRJaV3sD9ngt2++m1DjXT6oOz6nPgNWyXPrNJam1+0HPyiX7s/T+kvzXNe+L9ZFsra76QVKN7rnp65/1g7etfy1bf2J1hXv2s/J3Y+4yHPjB6FHj2RgBAOh1nRUEBS7iK7K17f3KWyeg+fSYVC8HDor+zQsDaZ7brSTfqJbVeFqR9V/9vHytoZYg3aXvOFf4wYDhvbUV05I2Kn/but7VYwx+bsI8/L3flpX3TCED2fc8ffIZFeBV7czJy7+2JZW4/Xr6RO7fzkreGovdCn2ZGWtweVHmPrMgW49jCyBP7q9KdrGxApwb/0xg8Hrh86/K0h8Gj8PTx+vy+V9Ysgbtx/jYJZn5R1bA9kd5eeVX1yN1FVnXc5+VefsmmCekZfvdlBrn+onV4TmZ/j9YLSxPC/L5y5+X9Ufh88o9p/Lv+C1F537xV62U4fpGyNF6kx99JO/delU+/01/fZd+/Vf9NPK2/s/IZ6sB2ZZ8563vVFvA+25+Nr576ugvy2erv7pU5MuffVVWw2Uwnj7akoX50A1xAQDocZ0VBAUu4p/qW1e46gU0oXsMeQJpntviovyM/UvyrQl5/u9kZSHnZod7cXhEFrb65KLVihIrPRzowlN841PyKZ1ZTk9fajya6Jv0s0iV7puWtJh7Jb1wyVz+Pr0v982vyOnrk7GDo8/94pckZ/2CXXnn8zLy/PPy4mfM/ubm5NXLL8rzz78or6oA5E9bPX7kJ6blSwvW0dQXwGPPy/MvvixZZ/sLMvfqhJON78VX88G7+CdxLrR+2ZcvT39Krd8chxfVtsZU4PXRRcm8bB+tqL4b/yJQVx9tLbh15R3T6rrMAqrGZ1Zz8kLchW67tXC/E0l4rp9UHT47/l/JV6as9tsnKli4/LykPmW2oyfvnPofzTLaj43Kf/VbGavl1603+32f+slPyStf8TsYPvfzi7L4S7WCtHNy5Rf9cHT9X66bR2n57PUa9f6xF2R+ySrDR/cl75RhQl59w/1MLMy+LC9+KiXP6+BuPxzcAQDQ2zosCFKXM9XxKr76AU3oHkNGoPtXW5yTz/6zXKBcTx8WnQsYnR3uyY/OybS+iWLtgrv6pyVnX4gpH+nMcnqK/2G3vkCWPdcLE2OROg2mJNfqpBP/WFpmvvaOfCGQmOKpPPkjs7//siD3Hz1xAy7lr7ShX1f65tflnX8YPKZPn+xL0dn+uhTul/xsfHXv3RRPr3+teiNZ19Mn5jg4K054PHVdvbsti6P2ulRdecfUThmoLmS/8K++Kbm/0YYKS6hl+51E0nP9xOrwORld+rZ8PRsKND4y29GTtSnbc+PL8u2vh+5hZL3vI+uHgHNXl+V3/+/TdbOvncv8Xb9F2/Ppz9a8/4+my/C7/03o+/Kjktz/pvuZWN/Z9+v1f3l65xgAAJ2o44Kg4P1uXEcFNNEL+nD3rzYZmJFvfufr6sLuojxXvRh6VgVyM/KV3W/LYs2bKNrUhdg/+7a88+sZuWjfql1nmksHL06TCWbZ078mXwlcTBrhYOmodOLPvSDz/+qPZW8tJ9OX0sG7yn/sOTk3cEky/3BRvvndP5bFnzfzW+o5eeEfvSN/vLsmuV+6JOnQbe2f+4m0XHr5C7L4je/KH+ebOfjucdD7l/mpc343KX0cpr4k73zvu87xfPLDBJ2K1EX89Np35d/+PxblC+MX5Zx9Gui6+qlR+cI/+6Z898E7Mv/pJOdIO7Vwv4/UwLl+YnX4nFz6x9vx55W1nXduREOY5y7lZPvBnqwtTMulAavulGfPqfPxl3Ky9rt/LN/9rYycO6qV6scm5X8XioIm//505MeLsHMvf0W++71vyuI/HJWLPxGsh2fPqXodn5Hcmtq/9c/WDcIAAOg1zxwq5jGAup5KYda6Ae6lRfnu14++UO1+vbrfAADgrOq8liCgUwXuWyXy7GC6NwKBXt1vAABwZhEEAQmVbuelYB6rUECmJ9o97qwz9Op+AwCAs4sgCFAqX52TudtFKf25mWF7WpHiP31FJm5ZiaL/2ox89iTGnbVZr+43AADobYwJApTK7QkZWTQX+8+dk3P9F2Xsx5/I7n5FnvxJOE3fRcn97jdlZsA87WK9ut8AAKC30RIEhOlUxzr9t04xHA4Ezo3Kl+69czYDgV7dbwAA0HNoCQK0P38i+3f/W1nZ2JL7+6XgfWueOyfpi2MyPTsjn/1baXn2NG5s2i69ut8AAKCnEQQBAAAA6Cl0hwMAAADQUwiCAAAAAPQUgiAAAAAAPYUgCAAAAEBPIQgCAAAA0FMIggAAAAD0FIIgAAAAAD2FIAgAAABATyEIAgAAANBTCIIAAAAA9BSCIAAAAAA9hSAIAAAAQE8hCAIAAADQUwiCAAAAAPQUgiAAAAAAPYUgCAAAAEBPIQgCAAAA0FMIggAAAAD0FIIgAAAAAD2FIAgAAABATyEIAgAAANBTCIIAAAAA9BSCIAAAAAA9hSAIAAAAQE8hCAIAAADQUwiCAAAAAPSU3gyCHq/KRGpCVh+b512pKHOplEzcrpjnLeDUS0pSTay3OK/eN180z3rEKZ5HldsTkrqyKi08+h3CPa/ndszTE5P88+TUfWpOveMoFVm94n6eTvJYdea5cVrHNcbOnDom3f79j07m/D3Un/tE3xMATsvpB0HOHyTvC8OfOuKPZS/RF/RjeRlaKUu5XJbtm33mhVZqQ+AGdCQdAI1I/uKa83kq35uRPvMjQ+PfbZ38uTkDn+mmjwsQpQOg7H5O9vTnvrwso2Y+gM7TIS1BacntuhffetpbSEthtjV/lHqyhaIJla11KUlGro2bGbWcYutHu3COoOUeb8n6gUjmag9eAp3B74iW6qb6Oa2ydu05VJTNDXVFc31S2vEzIoDW6sjucH0370huUKRwlwvTs2VUltvWygR0uP4Z2Vbn//JRPzREdPLn5gx8pps+LgCAbkZiBAAAAAA9pUODoEfy4EAkfWHAeeZ0V4od6FunP7oZa5TdUI83smasUXSQoj+AMf51LbhM0m56btlqrttq7m9fGVzuQG77/fY23HKOLJbU44JkI697zCDvsbyU1H/5MXddkbp39svbTvj1uOMVrqf6++YP+g69L7Y7mzUwPW65BOdI0npPtFxk/Fut7h7ROkky5sIrQ+yy5rjElSs60P+IelNqJgdINOg8uv64MgfP2/h11j+3lVrlqVMfAaHzWZ97j8xLtTjHwfmcqE/UrPs+ZzuRbbrHWT+vv6/Nfm6SfEY85piElzHnbHDd7rJueeyymXUc8R2R5LiGRY9zsvdF6ynmnK1zXKqfa7teYs6J6NkbPT4Tt7+boH7i3hdTf3qb1XKouvjvan/unH2ILaMR+V7SdVT/WDrr1HVSfa9+j30u2GqcWw3XUfL1x5fPSHT84tQ/Nu45mlV/RUVKiyP+67GfIQAd4fC0feuNw/PnLx+ufN88V3a/eP7w/OTK4Yfmedwy2odvX1bz3zjcNc/jOOv6YmiJ768cXj6v5qvpjW+ZeWprK5Oh7cbNc8pivy+GWf/lt/01OeWwy3qcMqi1vGHea28jyrw3VEduWYL1maQuHU65o8fCXWeonJG6csvtlzn8XFHvqVe3bjlD+xRT39X6DRx7U2+BujRlD58jcfUe3h9TF5fVcnaZvTLa82rXeXA5bxtH7YvzXqtscesPMvsT2c/QMUhYbzXPF6f8DZZDbfON0DkRrgN3/+ztJTy3a5XH7Kdf9/HnYvj4xJ5/cSLrV2ps8+h9DZctvqzeemPLaLYdeE9I3DGtrit0vPzvgJiyBF73JN3XOOq9cZ/ZhMcgXE9u3Vjlq3FcLk9eDh4/LXJOxHxPmPXVPMdj60cx647WZXBdzjFRZbscqJOY46BF9i3E2WawLLtfDJ830bI69a/LEPM9ESmDV0eRc6jROkq+/vjyKUmOX5yExya2jJFtAugUHdIS5P/io6fsRlpyb8/4AwvH5yU3qJZ5y/4lqSJb75ZEpq41nX0lvbBn9QPvk5k3MyIH67Ll/Zq2syT5g3BZlmVtSqRwq/avR8W38lIazMkdq5/86NKaZKQg+dCvWMnKkJE1nV3KzHL64e/mJG2e1eS9N5ShZnRpL6Y+WyFUTue41Rnb9bgkD9VeTE/6e6br9+i++TqRhrVP/TOSU8ek9O5W9Zg4x2BqTcpLgT136+0gL0tH/SqX+Nirc/C6fQz1mLbt4HKPVyWvz+ndbZnpdxZxRJZT/1+9VXDOicAYCz1mYUWdFxv5mr/0Op+Z0PqDzLkVXsfOpjor/WNw7Ho7ktvKG0gYoPZvOTymRJXBroPR1/X5XpBNb/ttP7f9YxF3bFvqqH0NS/S5OfozEtY3OR3arvsdm5lS581+qfo+J4nK4LRM1jzX6mh0Xx3q/At8/3nveyilmM+DxzuXA58lVU868U4SpYu5UJ2654TeB3+++ly9bX821DKvxXyG4s7xgAY/++ozNG1/N6k6mlf7VVpc8ls8lKMS3lQePRQJHcvRpYQZzQ6GJBf4nkiq2TpqUKR8SY5fnAaPTZg653TCp+C5BKATdGR2uPLutKzroKjavN0nk9fVH66NTatJW2dfUu97vZkvYS10EaGlh9XckjzQ/ViU4l39hZmLXFgOXFBlOXhQo1uMmx0m82bwj7Z6lwyrgKD0gf2upGWICfT60zJkHtZS871x9dkKkW31Sfqi+se6gApw9kEHwDFdVOqJuQALHhNzDOIyc/VPynSCpBvJj33MMVTs5epdNI5eVX9EvaDXnNNx65Pxa+pSpiTrW8GafHR7IkEAZMSsI7ifx6+3o7mfg8Js/e5MkTKY8/3hI7fsbT+36xwL59i20FH7GpHkc3PkZySGOcbV7Tp1oC6gX1ffSdYPM48+UF9OF9Oh77dkGt5Xm91ty3SX8r4no2qfy30DR31zurzu2FW1/ubY++AsU+MzVE/Dn/0hSYeOb60gNr0wXzOocepCBQAjka5qCQwOq09zE5qto0aFy5fk+MVp+NgA6BadOSYo5heW8Bf8sX6NTKQipX31T3WsiD+542dqcH6l1Rd5wfekUiOSV1/8jTFlaMpx3ntSdGYp/cu9NxapRf2mzTFoXpPHvgbnojGJ0gP157QB6uIlq8qTXrhzdADkGJVrgdaA0IXisestiT6ZuVeWtSl9Ee/WabSP/1FO4Nxu9FicqDZ9bkwA6Z0fznesDjSd4Mi70KsTKLeLN4ZjVmSt+kOZbgmqowXn8tBA6KLXOSf889af3HEgDmeZtAw3Gic3er7FBSDhHyrqXbx7dCuFrss642ZrajIQbrqOGhUuX5LjF6fRYwOga3RudjinRcSiAiPdncP9gje/cLU1F79pxdBN9t4f3sBUo8uA+VUpY246Gpka6j5gytCU47z3JLkXxbpuvPtDNX5RHGKOQfOaPPZh5kIlcctB+Jw/ymBO9lYyziDcpHXmdCPyftV3usJZXWUaqLekv6bXMrpk6tKUPzpoup4Gzu1G69TT7PtOTBs+N4rbMqDPD9MVzgl2THCkW7HD50zbWV2nGrnx5LG/A2I450So14I1OV2lTvV8U+eE0+XVbQVN/EOh/tHR2QcvsE6adCLMbeU9UtP7mnD9tSQ5fnFacmwAdKLODYJifn1xug7pL3gzHiDXyv7DMZyL14a71ZjuPsfuNuSqWQbnYqS+2uU//niqdvDGWwS7DDajzjFI2BUj+bGP6wph6tf8EulfWLqv2pxuXd6FinPhVqNrRWjsTpX+JbeRQKj6q37R9HO3u8o0Wm/RMRnO/jTCG6NRq8tkDY2d29FuU+5YiTpqHguz/g7Sus+NYrr3PNjSx9sPdpxzWNX3qh5D0gHfG0cevzrncsPnqKfe59OTZJk4zXz24zjHT/eYKMrSogpiI92y69GBtR67Wq+b4dEi56H57qhqto6MI9dfy2kfGwAdpzODIN39YVb9oQqPyTBf8Plbyf8QNxfIuPpu5pztZcMpNHfm6nQ/8X6Ny0YuSovzDY59UeLLUJQ5XT9HcG86q3/ZC263OK+75mVkrZlBrcf8AxagjvNcoI7crjaRvvgNU8dAD3bVXTwCLQyq3vRYgsDA2PhzpJFjX1q8Efjl1K1fq++5utB3u38Ff2HVKVWDSUBGZTkuoDGfh5rd3kwgkSwQ8ro85dWFQ/iPdwP1Zi6W869Z9aPqxkk3XpdaV2DdwYAxqcTnttdFaNZaTtXnjSO7NXoDzUcCx7ty+0YT3VpbrG2fG83tMvnwXdMVzsx1j/dDWVfH6siucK38jlBnhdPqZ38+Ex2/Gt/Dic7RWuLPCX0Or857n4Pan+HqMYutnyY/+xHu8SvcyqujdXSLXeX2XLDVx1zUV7uqNXQsvfF4Wat+TEueeeZqto6Srr+WJMcvzjGPjRnLFtwmgE7QIUFQqJ+uuuAa0t3JIhfp5kvsIMEfYqN6Meusu9EgRH356S4CkpcRr2x6ujUs8/X+uJh+1qK+NKvvUVP+Qu0BqrXpMqxJRg9era5rU67peWaJ2vQve3r8hbf/7pTdz8leI11LAvw/JHpdgT8KTXgYqKOsPAxn4GmW08VD1ZG+oA+tP3xexZ8jSY+97l6RkwfW+Zvd0FnLgokKdPevvQUJnOcji0OR5WLPHfN5qFcvujXAC4SOuu+Fs7/qMxTbVSZxvan60WMJ7PPy7jWnVepIgXWroOViKEtUIknPbb2c/qxYy70mckeX3SxRi1en9vi+G3LHbbk6ZW373Ci6xT36HasvrtU5owLno8dytPY7ws341/jxcz5L5uK1WldJz9Ea9Dmh3x8c8zkiD65aLS6xn+F1Ga7+4FCjfpr87Ie5XV7VsUr0Q+HD4N/e2YehJCuNHUuvVdKvnxsib+vjZxbwNFlHiddfQ6LjF6dFxwZAZ3lG58k2j7uC/vV85N1p2QulTAWQlL7pX1ZE/QEnbStwxugWChVQTCfJGAkAPaxzxwTFcvs5tzchAnC2VW7n5WQHtwM4Ke596tqZORUAzoauCoK8i7d2J0QAzi7zQ0Kde4cA6FKP9Y2ZpcGECADQm7qiO5zTBc4ZCBu9QzyAJNwucDqdRuTO5wC6m9MFzk0QoG/PQDdXADha140JAgAAAIDj6LIxQQAAAABwPARBAAAAAHoKQRAAAACAnkIQBAAAAKCnEAQBAAAA6CkEQQAAAAB6CkEQAAAAgJ5CEAQAAACgpxAEAQAAAOgpBEEAAAAAegpBEAAAAICeQhAEAAAAoKcQBAEAAADoKQRBAAAAAHoKQRAAAACAnkIQBAAAAKCnEAQBAAAA6CkEQQAAAAB6CkEQAAAAgJ5CEAQAAACgpxAEAQAAAOgpBEEAAAAAegpBEAAAAICeQhAEAAAAoKcQBAEAAADoKQRBAAAAAHoKQRAAAACAnkIQBAAAAKCnEAQBAAAA6CkEQQAAAAB6CkEQAAAAgJ5CEAQAAACgpxAEtV1FVq+kJJVKydyOmXXWPV6Viab2168rd5qQ1cfmpZPUdPkBAADQDQiC0EH6ZOZeWcplNa1kzLyTV9lal9JgTubHzQwAAACcKQRBbedf2C9zUd0FirK0WJL09Ul15AAAAHAWEQQBtp1NKUhapicJgQAAAM4qgqAwMx7EH5cSPz6lcnsi+Pp80bziSTa+pThv3hvabtx4FGdZa5nqFNl2HTtz6j1zUqxuTz22yxpaV3ibE7cr5hVbUeasZVJjeSmZV1zu6+H3unWot98EZz+sbUbWY/Yppm7j90FT77lVEJnKyUy/mQUAAIAzhyDIpi+W1QW8LOy541LKe5Ib1C9kZK28bS6M3YvrkcUhNc+MXymvSWYjK6krq+pVTwPjW/R7xx5IzqxvbyEthdlg0KSDkeyGLkdwnWld1qVR53FyDyX/mt6eKrcUJH/lhqxf33O2KxubJphwA5fsfk72vG3u5kQWR4KBkhNgZOVhtc7c5dSa2kdv8+41f3vOcSpINi6gcup2XaZ3zbKq3kpqH2KTHjzekvUDdbSvNlqfAAAA6CYEQRZnQLwKC3I3va5QKpB5UwcbBdn0Lpp3liR/kJbc7rL4l8qjsqyDkoO8LDWVUSy4vr7JaTWnJA+qzSlF2dzQAc+8v83xeSdAK727ZQVeSakVX/fXVZJpuVPd54dSUsFX5XZe7bUKuu7N+GNj+mfkjhMo5asBWvGtvJNEwH//CVDl2A4EfjHHqcoOYJXxa2qO2stH0VojIQIAAEBvIAiyPPog2InLl5Zh07RRvFtQ/x+SdLi7VJ2L6yMNTstkve5Xj0sqNKnhYrqJAfyhMS+RdVRk611VF4PDMmDmeIIBmgnOOiGJQHpYlStGZB9UwFouy3YkaCMhAgAAQK8gCLKMvq67cRUkXx0zYsaIhIOUmODAU/rgkXnUQv0zkptS615c8rt7OS1Sbe66VSfAairYa6HI+KjIOKQGOQkR7FZAAAAAnFUEQbbSA+dCWo8ZcS+uRyQvOdmzu4QdIX2hVnh0HBUp7et/9bgXc9E/qy7ZV04v7fbQwOkFC+74KN2F0BsTpKZjjUPyEiJc87sbAgAA4MwiCKryLoTX/AtrPYUCoNGreuzPumyFM721M7VydRySVS41tS8A6pPJ63rsj5ckweeNm7rmbHtAhvW4pFDrlzNOyDyuzXS5a5jbBa+lGdxIiAAAANBTCIKq+iR9Uf2zX1KX53U4CQlKkn/NzgRXlLnZNqZWdsa72IkS2q/vZk6FOgXJhjLB3dDjZqoJGrxgyU+UoNNeZ/fToVYZEyxVkzjoDHsjTne+xrnrCgRoOl32MbrDeckdSIgAAADQGwiCLKNLa5I5yMuI1+XMmvyUyjr19Z7kxF7OpIi2M5bZ96bRAZK6RM+PmeeBVNoJmKxshVnzfntqdF2J6QQCJvW3ty0VaAytBJMK9N3clrUpf99GPshJ+V5OhszrLl1ndt2OOCm5I6nDE9WZWZfdNfDWsOw13R2ug5I7AAAA4EQ8c6iYxz1O3xcnK4XB6BggfwyKlWr5BOnWlZHFUnQMkA4adAuI7sLX8L2C4NCtSLMia2U75TkAAADOMlqCPCYNdVyLwMCF5ofct4Kbutsbh2PpT4daXNAYEiIAAAD0IoIgjwkoIjcfNeNgjryXTxu5QVj0RqDF+ayay4D+5umudWVa0QAAAHoM3eECTJc488yTXtiLubnmyfK6xAVlTDeu+HJHxHT1AwAAAHoNQRAAAACAnkJ3OAAAAAA9hSCoBp0RLmXfIwcAAADAmUAQBAAAAKCnEAQBAAAA6CkEQQAAAAB6CkFQL9uZk1QqJakrq8F7I51hzlivZvbXqytvOqXxYk2XHwAAAFUEQUAS48tSLpfVtCe5QTPvxBVlc0Mk8yb3egIAADgOgqBe5l3YcwPVrlC5nZeCZOTauJkBAACAphAEAV2hIlvvlkSmrsmomQMAAIDmEAR1EWc8iD0uJXZ8SlHmAq9PyOpj85InyfiWx6syYd4b2G7ceBRnWWuZ6hSz7ZoqsnolJRO3K9Xt6cd+WUPrimxzTu15VOX2hLVMSrIb5gXDfT38XrcOne03zN0Pe5uR9Tj7FFO3NfbBsbMk+YO05F4nBAIAADgugqAuoS+WsxsZWXPGpahpJePMTy/sSXnJXBg7F9dZeajnmeX2FkTyYymZ23EXcSQe31Jy3pu/4K1vTTIHeRmxgyYdjIzlRarb9Napy7otM/3OUsm9e8PZ3t5CWkrq8cSsqPWo7aqyrG+5wYQTuKhtDq24+6intamCZEOBkq6zkcUhv86c5cyLbVKcvyHytr89fZxKiyMxAZVbt1lZM8vqelP7UCPpQfFuQWRwWiYbrU8AAABEEAR1BXdAfHph3u8KNT7vBBuld7fMRXNFVm+pC+WpNdm+6Y/w6bt5x1mucKvJjGKB9Y3KNR1E7Jeq66psravL+Yzkqsv0ycybOkAryKYdeCVUOhjy13VQUoHOcnWfSx88Uv8vytJiyQn+lq2xMaNLbqCUf8sEaCo4y+skAtb7T8LoUijwixwnXyCAVfU2eT2t9vmB6L0MIiECAABAKxEE1bORtboqpeSTwxflk9bzWtMrvxg/Pzg10FXscUkemocRF9PuhfHjLVk/UBfWFwac2b56F9dHy1ytH0I8+qBkHoWlZVhttmGBMS8x69jZVOGVyNBAOBwIBmhecHb6SQT6JH3RPAwJ70PfzW0pl6NBGwkRAAAAWosgqJ4pr6uSO334YF8+tJ7Xmt75nfj5wamBrmL9M5JTF/ilxSV/zIgzRiQapESDA89DKSUen5Pc6Os5FaoUJF/t7mVapNradatOgNVksNcyMeOjwuOQGuMmRAi0AgIAAOBYCIK6QkVK+/pfPe7FXFzPFiSzUg50CatvSNLtCEpKD0S3BelxL+5F/4jkJSd7p5V2e3BYwm1hJ8aMjyqFgudjjUMyCRGmJ0+lNgEAAM4kgqBu4GUG27VbkkIBUP+kTOuxP3fD+cXamVrZH4dkl6ut9x0avxZIkuAz46auTzrb7hsYUv8PtX6ZcUJHMl3uGuV2wWttBjcSIgAAALQeQVA3SA+rS+uSPKg1/MZhEhJsZAOZ4Cq3b7QxtbIZ72IlSmi/UZnXmeMWb4QywWWdcTPVpAomWKomSlBB0pzOYjcY7EfnBktWEgedYW+2mRDIW5cdoLnpspvuDucldyAhAgAAQEsRBHWD/hm5oy78C7P+OJPqZKdU1qmvVzKB5dwU0cHxR/69aUaccUV2AohAKu0EnKxsOm22eb89NbqupHQCAS/1t7et7H5O9gJJBUZleTcn6eq+5WV4tyx3rpuXParOdDruap05KbmjqcMT1ZlZl9018MGbzXeH65zkDgAAAGfLM4eKeQyLc18efQ+Xagrj06PvizOyqC6Hw2OA7DEop1JOfVPRrBQGo2OA3Psa6S58TdwrCIpuRRqR9et7gZTnAAAAOD5agrqAm4Y6pkWgPy26A9apMam7vXE4toELzeTHRhUJEQAAANqGIKgLuAFF9Oaj7jiYo+/l0zYmCIvcCPTxqtxYVIEbA/qbp7s2NpJGHQAAAInRHa6GTuoOp3ld4oIyshZzc82TZbrEmWee9ILbjSu+3FGNpfsGAAAAmkcQVEOnBUEAAAAAWoMgCAAAAEBPYUxQDU5K5PnwjUc7gM4Il5oI3CMHAAAAQHIEQQAAAAB6CkEQAAAAgJ5CEAQAAACgpxAEofWccUspmQvd1wgAAADoBARB6DhOUoorq8EbsHaRbi8/AADAWUcQBAAAAKCnEAQBAAAA6CkEQWiBosylUpLyprG8lMwrNqebmL2cfR8mM45Iz89uqOcHeRmxlw13L9uZ819zpjlVimaFyl/zPkzh5axtNlD+yu2J4Hsd7ronbntLuc/1uCp3eW9dze1n9b5XVjn15I/bqsjqlRrrN+/xywYAANDdCIJwPM4FclYeLuxJuVx2p92cpM3LHn0hv3nVvO4ts5H1A6H+Gdk2r61NqeeDOdnzltXTvRnpc5d0t3n3mv9aeU9ygwXJNhUg6GAjK4WpNWt9OXnwWijoitnPtSlrm42UvwGF2ZSMvDtt1mX2s9nxRrq+x9Zletct095CWq3fC/j6ZObNjPq3IJuhhBaVrXUV1KZlerKZPQAAAOg8BEE4luJbeSmpC/47N+tfIPfd3JblcfNEU0FDTgcLG5uNBy464FgaNU+02hfwR3pckofqn8xVe32jshwKWuL2c3RpTTJqm/l2tpDoYKpaFrOfB+uyFdtSdZS05Ha3ZabffdZ3M6fKX5L1LVP+8WvquarFu/YRqcjWuyWRqVz1fQAAAN2OIKgrlSQ/5ndpSqU+IZ/+uP28xjTyOXkpbn54srup1VWUzQ11aX19MhAwJDVwIdxedAzp4UjrUyL9aRlS/+gWl9opvWvt54AMD6qj8cEj87z1Itt09rMkD+L6Gx5lcFomA4FMuPyjci0cmD7ekvWDcJAIAADQ3QiCupL+Rd/qalX+gbz/Q/t5jWnvq/LtuPnhKdDK0irh8TQpGVls5kreFRlfVGMc0tFGZdnpZuYGQu76QmOCTGtRaXEkuM3UiORVgHCWjL6uuzL6LWpOV7jBnMzbrXgAAABdjiAIJ8CMuwmNk9FjUpqhA6DsRigQjBmHlFyfzNyz16Nb2qxAyLQWpe1xT/bUlqDxlPRPyrQOCJ0ucW5XuGZb+gAAADoVQRCOIb47mDN+xjx27GxKQf2TeTNZcgCnm9zBA4nvZOZ2TWvbGBU93sgEQn6Xs8a6vdUvfw2mjo7iJinIyLVIy4yX3a1et76Q2K5uZtyR7hLnvE5CBAAAcPYQBOEY+mTyurrg38hXW010FrjsfjrYKmPG69gD7nVrTq3ucH0DziidGgkH3IAkMG5Fp8tutjucem849bOXDW24uhNeYJBNlCa6fvn916tJHHT5ZxOEQI9X5Yaqs/TCvETankxAowUTG9SigqbX3GQPka5uToKEgmR1nZIQAQAAnEEEQTgWnfVtbcpP1DDyQU7K93JO97Eq3bqy4gYR3nia/IW92t3hxped1wJjcKppoXXXNTcrW9Z77daw7DXbHU5t647c8LejppHFIVkr+1nUHGo53VVOIuOCYu4pVLf8inm9OgZpVtT23HFJYYF1qKBkaKUs23GZ+Ew3Nq1mEoPAvYtGJH9xrUbqbpMgQSEhAgAAOIueOVTMY1iccSeiLhI7bbyHvl+Nc6+X0EU6zhh3HJW+L1Fs0NMg53zet9Nt1+eOu8qo4Gw52uoEAADQ5WgJAhBiUoLHdbsDAAA4AwiCAFh0ggU3k99RN8AFAADoVgRBOHN0cobqOJo6U+Isaj3Bu4/TiOQlebc5AACAbsSYoBoYEwQAAACcTQRBAAAAAHoK3eFq0C1Bqfkk91s5YbolKC4tMwAAAIBECIIAAAAA9BSCIAAAAAA9hSAIAAAAQE8hCEL32plz011fWZWKmQUAAAAchSAIAAAAQE8hCEL3Gl+WcrksZW7sCQAAgAYQBAEAAADoKQRBaIGKrF5JueNznCl8H6OizKn5cztqydsT1nJz6pWw8Lr8aeK2GfnjjQXyptj7OR1nm03eh8m6h5NznylvffaYJVP26r5Y3PfElQ8AAACtRBCEY9LBxojkL665XdPUtLcgkh+LBhKF2ZSMfJAzy+1JbrAg2UBSAx2MqHVJTvaq60o7r2RWyrJ903R687rBOetwZ9Vy9DaTlz+ZknpvSrLirW9NMgd5GfECtfF5p8yld7esMmhF2dxQ/0xdk1F3BgAAANqEIAjHUrmdl4JkZG3Jv3Tvu3lHXeirYOCtUJvGoApuqsv1yeR1FeAcPJBHZo483pL1AxXwvOmP8em7mVNrV8HM3SbbR47YZkPlT2pKBUDV9Y3KvA7kNjZNC49XhnXZsoOsnU1VjrTkXvfLAQAAgPYgCOpKbmuD333rE/Lpj9vPa0wjn5OX4uaHp9juZXEqsvVuKab1ok/SF9U/+6VAa0f6+mQ1uIlVeqD2LF76woB51Jj622ys/EllrobWNjCk/v9QSibo6ZucVuFOSda3rPaouwUVsE3LZL+ZAQAAgLYhCOpKacntul233OkH8v4P7ec1pr2vyrfj5ocnq1Wkvkfy4ED9s5GNBFJZ3bWrUaarWOGW313NbalJy/RkO/K/tbj8SfXPSG7K7hLndoWzW8AAAADQPgRBOIYBGdZjcnT3r7hgquHU1SYo0WNoTDAysigq4NuWmba0kLS6/MmNXs34XeKcrnAZuTbuvgYAAID2IgjCMRyv21hYdXxOIBhpVwCkNVF+LzNdILlCfbFd3ZxWL7dLnPM6CREAAABODEEQjmX09Zyk7exnxxAeO3MSGi2/E7Bo4cQGtaigSXeti3Z1cxMklBZH1OskRAAAADhJBEE4nv4Z2dZpoGPG1eh79DRkfFnWpsJJH8xkBSn+PXhGJB8a09PwNhssv9ONTauTxECn5a6uZ/ahM35rOaarm5sgQSEhAgAAwIl65lAxj2HRF9rOvV4SJwk4IfqGnGPrMt22cTKnx6lz3SoS3jfdBW22IOmFPf9eQZ3IOTZ5GVqJD3oizPLS6fsFAABwxtAShA5RkdK++ieuVSQ97LaYnDGVrXUpSUZyBEAAAAAniiAIHcIkKYiMtanI6mt5FSy0K032KdmZk5FFFQKtLJMQAQAA4IQRBKFjjC6VY8YEjUhecrLX1ixxJ6dye8KMFSqoAChhtzkAAAC0FGOCamBMEAAAAHA2EQQBAAAA6Cl0h6vBScPcgnvftJxuCUpNyOoJ3ksHAAAAOEsIggAAAAD0FIIgAAAAAD2FIAgAAABATyEIQoeryOqV5sZnOeO6qqm2UzK3Y15ogrOuK6uqNC3kjO/SZZuTuL1rvvzN1xkAAEAvIAjCmaXvO1Quq2k3J2kzr5t0e/kBAAA6FUEQcFr6Z2RbBznlZemwu1EBAACcaQRBAAAAAHoKQRCaV71nUVHmnHEr7v2LqmNZQmNoKrcnAmNcao1ZCY6FGZH8gXkhwNumN8WPq2m56jgedwqM0zGvhcfuRMYThdbRirFGrakzayxRqIwTtxsvoVOmmHX59WPKE7f/O3OhZQEAAFqHIAjHtv5aXoZ39yQ3WFKPJyQra1JeyYgcrMuWc1NX9+J6ZHFI1pzuX3pak8xGNnQB7C6X3c/JXnU5vV7zsse5qM7Kw4U9s0xZ1qYKkm17ILQuN8bWZXrX3ebeQloKs03cuLbaDU6X28xrWhvqTB8Xaz/1sSwtjjQXkITWFayzUZlXz/3zxFe8W1D/z8i1cfc5AABAKxEE4ZhKUrqYk5l+8+xABTpL3giXkjwoqX92liR/kJbcrj32ZVSWnUApL0vexbW33Nsz0mdmxSm+lZfSYE7u3PSXGl1SQZUUJN9Ei0ViB6Iu5rer+9p3M6e2WZL8W+0NvepqS51lVLDq76eMX1NzRB4+aqZu9XGP1tn6lruuvslptYT/3FWUzQ31zoV5xkoBAIC2IAjqSurCe8zvXpRKfUI+/XH7eY1p5HPyUtz88NRgauXMVetSdXBYBsxDj/ur/pCkvYtqT+ji2llucFomw8sFmAvk65Ohi/4BGR5UNfPBI/O8DSJlc7cp+6Vod64T0pY6ixxDFbCWy7JtBVCJ1aiz6jb7J2VaP393y6/DnU0VmqVlerKJ7QEAACRAENSV9K/rpquSM/1A3v+h/bzGtPdV+Xbc/PBUbclpoZjgyNNQ4PK4JA/VP7p7VjB4qzUOpp36JH3RPOxkHVVnYX0y86bdddIEdlN+6yIAAECrEQTh1KUv1AqPYvSnZUj9k7bGtrQ9gKupIqV99c/FdN2uaKeuo+oshtMi6HWJc1utAq2LAAAALUYQhLYbvRr8pb8q1O1p4IIeJP9AAu1CzpgX89hxAt3eknq8JeuqbPWDOPeivl1Otc6qWd8aSEhh6iwY5LgJEpwucc45QUIEAADQXgRBaL/xeSdzXP41OxNcUeZmg92e3EHy1kB9fZE9+1DS6gLeZ7pPbWSbStvcOhVZfS2UbMC0uBTueiGBTgGdVXvUPqdZZ5WtddF5L9Qey2aizHF+nc2HghxnPw7yMqLOCRIiAACAdiMIwglQF+H39iQn6iK3Oh7FpGu2u2Lp1NEmHbOzzNgDyZW3JRcedzO+LOXdnEhkjIudrtq6J86YuvBWcwqz3nKNp9J2W7Ps8o9I/uKalO/ZWdlGZVmVK63TQjvLZEVW3LTQNvt+SVndSmSt1w9SEpa/pXXWGDcA0+q03BxZZ4ZJkKDHu5EQAQAAtNszh4p5DIu+0aNzv5vTHi8Rpn/pd+67YqUwBjqQ8xnS9y+KC3oi9P2OVJCkQuVkywMAADSPliAAp88bK/QmARAAAGg/giAAp6woc7rL39SaLJMQAQAAnACCIPQoa8xNvemKncwBLVXNLpeVggqAOq7rKQAAOLMYE1QDY4IAAACAs4kgCAAAAEBPoTtcDbolKDXfaCLlE+B0IWo+rTEAAADQ6wiCAAAAAPQUgiAAAAAAPYUgCAAAAEBPIQhC99qZI401AAAAGkYQhBZw77kzcZtQBAAAAJ2PIAjda3xZyuWylO/NSJ+ZBQAAAByFIAgAAABATyEIQtMqtyfcMTmprBTU89LiiHnuTn73uIqsXjH3XXLucxS3jMcsW28ZbyyQN8Xez8ntoje3Y5dTT3PqlcZV7xsVKr9ev8vdXuz4JFNef1kAAACcJoIgNK3v5rbbHa28Jhn1PL2wZ5670/bNUCe1jaykxtZletcss5JxAic7OCjO3xB521+Ht0wgEPK6wZX3JDdo5tVQmE3JyAc5a/mCZJtNpBAq/95CWq3fu3HtqMyr53KwLluhG9kW7+oQMSPXxt3nAAAAOF0EQThBGVkrb8tMv3k6fs0Jnh4+8kOS0SXrdW183gl0Su9uNRe4DOZkb2nUPOmTyes6UHkgj8ycxqQlt+uXr+9mTpW/JOtbbsn6JqfVEv5zV1E2N3SAOK/CJAAAAHQCgqCuVJL8mN8lK5X6hHz64/bzGtPI5+SluPnhKbZ7WQsMDsuAeegaleVyTItRQJ+kL5qHTUhfn2xd0oTBaZm0AzS1N8M6QPvAhFT9kzIdDth2NqWgQqPpSVI3AAAAdAqCoK6kWyRMdzFn+oG8/0P7eY1p76vy7bj54anacnIKQmNu9JTdMK91vD6ZeTMT6BLndIWbygVbtwAAAHCqCILQOXQANJaX0tRaIChbmzKvdwOni5/XJc7tCpe5Skc4AACATkIQhBYIdQtrUmVrXYUPacm9fgpBQ7UFqoHscY+3ZP0gHOS4CRKcLnFOVzgSIgAAAHQagiC0gBm3s5E3mdKa0zcwpP5vJxZw02WfRHc4NwDTCrKZKJW1KttreSkN5mQ+FOQ4CRIO8jIyWyAhAgAAQAciCEJLjC7p9NPBhA3RewAdYXzZSTvt329oRB68Ge0O59yzx7yeP1AzdOpqs81m78XjZnbT6rTc6MDGbMfZ9sU1Kd+biSZeMAkS9NgtEiIAAAB0nmcOFfMYFn2hnRV1kXuaSQLiOONm9L1qQqmk0VbO+bCfk724oCdCt2CpIEmSLg8AAICTREsQ0GreWKE3CYAAAAA6EUEQ0FJFmTMZ7pZJiAAAANCRCIKAVqhml8tKQaf47rRulAAAAKgiCAISGF0qxydB8PTPyHYn3GwWAAAARyIxAgAAAICeQktQDU4a5vnEt808OU63q4lj3Y8HAAAA6GUEQQAAAAB6CkEQAAAAgJ5CEAQAAACgpxAEoQNVZPWKTjedkrkdM8u2M+e8Vp06cewWAAAAOhZBEE5M5faEClrm5Nghy/iym4q6vCe5QTMPAAAASIggCB2oT2buuffcWR43swAAAIAWIQgCAAAA0FMIgnAs8V3cijKXSsnE7Ur1sR67M7JYUs8LkvXG8jiT/V5/LJA7Hf9+SG75rHU2OX6oet8o5z5N/vr8MUtmP6+sqr0IMWOYYsc3AQAA4MQRBKHNRmXZGb9Tlr2FtHqekTXz3J2W1RIevxtceSVj5jVPB0AjiyK5XX97exfyzQcjG1lJja3LtFmf3p/CrBeojcq83r+DddkKBW7FuwX1/4xco2sfAABARyAIwpn16IOSyOC0TPabGUrfze1jjDNKq4BqW2bM+vpu5lRoU5L1Lbftp29yWi3hP3cVZXNDvXNh3gr2AAAAcJoIgrpSSfJjfpesVOoT8umP289rTCOfk5fi5oenM5JyeuCCbpnJy0hcF7VmhAIqtQUZHlRH44NH7tP+SZnWz9/d8re3sykFFRpNT/aZGQAAADhtBEHdpn9Gtk3XLn/6gbz/w/C8mGnvq/LtuPnhaelstFnoVh+nW50OhE4kwOuTmTf19vwucU5XuKlctfUIAAAAp48gCGdb9Z5CZVmbUs/1uJ52BkLj16wucm5XuMxVOsIBAAB0EoIgtJ7TBSyqb2BI/f+hlI6Z8a1Zo0smENovRbvHVbO+NXAz18dbsn4QDnLcBAlOlzinHkiIAAAA0GkIgnAsbmBTkE0v45pOBz0bFwIp6WEncUD+rZMYc6TTbUdTd+uWGbmYlvAIncrWuiqZZu1LXWr9r+WlNJiT+VCQ4yRI0F3wVD2QEAEAAKDzPHOomMew6PvCZGXtzIyPaSc3FbUbQrgpsOeldGVE1q/vyfbNULgRCZL08iZNtm6NGVOBhTM/RAUbe/dmnODFOTY6mImRWSlb2d/0vXuygVap9EJMmbTqtq3yWGK3OVXr/NAB2IjkD4LZ5AAAANAZCIJqIAiCzTkf9v1ArD4TBEnS5QEAAHCS6A4HtJo3VuhNAiAAAIBORBAEtFRR5nS3uqm1Y9yUFQAAAO1EEAS0QjW7XFYKNccKAQAAoBMwJqgGxgQBAAAAZxMtQQAAAAB6CkEQAAAAgJ5CEAQAAACgpxAEAQAAAOgpBEFw7cxJKjUhq4/N86SqWdHMdGVVKual1tA3HlXrnS+a5wAAAMDxEAThePpnZLtclrKa1qbMvFZybjyaltzrZOkDAABAaxAEoaMV38pLaXBaJvvNDAAAAOCYCILQwYqyuSGSvj4pfWYOAAAAcFwEQV1A37hVj4mp3J5wx93o8THWWJy5HbOgoyhz3vgcZ6oxzic8lme2YF4Iqm7TTBO3mx/xE17XUeN8KrfzUpCM5G4SAgEAAKB1CIK6xX5ebnyQk/JKRmQjLxOvrcv07p7kBkUKd00w4SQ3yMrDhT1njI6e9hZE8mOhQEkvN5aXoRV3GWfS6w3RwdfI4pCsecvs5kQWR5oKhHQANLIoktv1t7l3IR8K4GwV2Xq3JDJ1TRgNBAAAgFYiCOoWByLT1eQAKji4fkdmvHEy+yUVMlRk9VZBBQ1rsm21nPTdvOMGSre8rG3+csvjzox4j1clvyGSWVn2g5D+GbmzkJbS4pI0mqvt0QeqzKGxPX03t2uXgYQIAAAAaBOCoHo2soHuW58cviiftJ7Xml75xfj5wanBdNShAGJoINRFzAkaRNIXBswMT59MXk+rIOqBPNJPzXKZq/WDi8rWugq1MnItFKT0DQyp/z+UUoOptAcu6DLkZSRhCm0SIgAAAKBdCILqmVrzu4up6cMH+/Kh9bzW9M7vxM8PTtt+S04LRYKjqsYCF6flRgqSDQdvNcYOHUW3+jhd7nQg5K2r5pggNyFC5s0ZEiIAAACg5QiCesaQpBsIupyWG8n444FaEcCNL1fX4dxTSLe0xQRCXkKEcCsUAAAA0AoEQWdF/6RM20kSqkIJBvrTKhwSefjI7pRmxglZmu32ltTokgmEnPFMNhIiAAAAoL0Igs6MPpl5U2eOywYyrlVu35B8IMHAqFxTwYed3KA4PyJ5Sav/LOPzkhssSX5sruEkCFEqyLoSXo/b5U0upoNd3naWQuUFAAAAWosg6CzR3c1WMlKY9cfwuCmug93XRpd0am1/vE/+wp6U3542r3pUUHVPt9bEjAuyurDZ9/7J6qDGGvPjp9LW67omm2a+O5lU3kvBYKd4txBJAgEAAAC00jOHinkMi75HTlbWIhfpaCd9o9esyEq5fvpuAAAA4BhoCULHICECAAAATgJBEDqGk0a7bN2cFQAAAGgDgiAAAAAAPYUgCAAAAEBPITECAAAAgJ5CS1ANOjucnQq6YzxelYnUhKy26SamAAAAwFlHEAQAAACgpxAEAQAAAOgpBEEAAAAAegpBEKA5Y61SkkrNSQeOBGuPnTm1v02ML6vWlZmurErFvHSmOPVj7WeNMYLO+EFrubkd80InMseuU8ro1d3E7TN5BnWGpo95RVav2Od254xFdc6bs/q9A+DEEAQBaEz/jGyXy1JW09qUmXcWjS87+1gu70lu0MyLMbrk1kV5NydpM6+ndVighWb1ycw9c26vZMy8k1CUOQJjACeAIAgt4P7Rqv2LYfgXRX/qmD901Qv7ZRk1swC0lxdAbt/sM3MAADgZBEE4HudX36wUptbcXwzVtDZVkvxYTNcJaxlv4uIHAAAAJ40gCMdSfCsvpcGc7C357SejS7r7kAqE3mrj6JrweI3qFBzTU7k9EXw9PK4j4fiW6n2jQstHu/y0ptXL2161/KFth7cbHpcSu63wvs4WzAue+G4obhmaHCsVOU7h9VjbDC3bfHeqZGMZwufGqbdKOvuv6qd6nHRdWfsSOncTHXNTv9XlxtTn1bwSkHD8Uz3V8phtFGat9anJPp7hsscda+f4OJ/H4D74++nVTcy5aerQXdYsF/fZDixnJPxuCe9DdWqk7rr8mCfnlkkf5+Dnzq9Tf35W9DdTaXHEWq7Gvoa+05r/zgDQkw4Ra/eL5w/Pf3HXPOsg3185vHz+8uHK983zU7V7+Mb584eX3/7QPDe+9cbheTX//Pk31BLah4crky2sT7P+N75lnptynJ9cUVvymG1Wy6DFLedzjnm91wL7pLbw9mX13D4WZpvWOtxl7LIm45bl8uFlXWfO/qrH6vnK98N1GbNPzjliL6NE6kwx6/XLH3883X2w69FXr86ccgSOeZ1j4kz16jYhb98DZVLb/WKwjO7xtMph3hc5lx3hOq/BrKPRY11VPc66XOZY6HNAlSl4DBIe87h9iiljtK7N+o/a31oaqYc6y3qfnUDZwudx3HmthPep1vkUrFclsr6YulYi5495X/z5U0e3HHNTznD9JWfWr6fqPkS/L12mHurUpf99HD7G1jEBgCPQEoTmPS7JQ/XP0IDfpc35NW9WZM0ZSPtQSvYv8BvZo3/ZS6B4tyAymJP5cTNDRmV+IS1ysC5b3vZ2liR/kJbcrj3GZ1SWdbkO8rLU1C+GwfX1TU6rOSV54P3M+nhL1g9EMm/OiFcjfTdzomuicLeJX1nVuqZf97amNnL9jsz0m6f7JedX7crtvBTUFtbu+dvU45vu6PrYyJsWkIqs3lJ1NrUmy9U6OwF6nJXVQugMtH7TqQ3ZDNe/bk20xmNF6jahasukXR96u0vW88erkt9Qx2nFOjdMnZUWlwK/9p88fZznq+UqybTcqXYZdT9PyY65Xxf+++MUZWmxJOkF69zyPifWuk5TZmXbL9v4Nefz9PCR+e4wz4Ofr4psvavqcSpXfZ93Pq1v2d853nLXqvWd6LtF1dmmOn/SC/5xkvF5J3lG6d0t53PZmB465oHPpvk+CNRtI/T3sX9uuMc45rsFAGogCOpKesyNH0ykUp+QT3/cfl5jGvmcvBQ3Pzw11S3C7cIx8kFOoskFrCxD3qT+4DrdHRreVkVK++ZhxJCkzR9E52LGel4VvohqxOC0TIbXZys90JczsdIXBsyjBoS2ZwebLnMRNzgs4bUHgggvOLsaPCqnIj2syhXjYtq/uNN0AKXOk8aCNnNxen0yuK6Qyta6qpmMXAutu29gSP0/FLifuLRMT1qlD9dL0mOesC5kZ1NdNoa2qTnHqfEgtPWixyloVK7pDIUbm2qPjbjzXZ1PObVcIEiJLJfsu8X78SdW5Hgl0TvHPFK242zzqO9jADgCQVBX0r+A2UHFD+T9H9rPa0x7X5Vvx80PT4Ff75PQ/b1HZP36XvL3ji+76ZXti5dEvF8P7dYc95dN+xddR8xFg6f0wSPzqIXMr8GFW/7YA/cX3JgLjlaqc+HVVLDXQpFxE7XGJ7RCTMtknEcf6BIUJGuXS0+RMVIdrEXHvPJI11j4RxU1tfM4tdjo6zo1ud8C4AS5gdYc1+jVYKtDdLmE3y1eQGW3Gjotz23+oYFjDgAtRRCE5vWnRf92XpjNiqwEM725f2hjWmIsAxd0m0Djv7y769bb9f6Am+x0DQRvTbXMHOmRPFAXQvoiasRcWIwsSqDLxkk7KiBoJx0AZTdCAXs776VjzsejLgjd8y4ja3bgX51O71i1SiPH3G39Cv+o4k8n2n2yWf2TMq1/fHC6xLmtJrGtIU4rsNclLn65ZN8tXouRFUirADqjvgNPq7567pgDQAsQBOEYTFeUyK+upvtGuGUmwOvi0WiXBq8/+17wj3coAAr/6ltVqytIC1T77dvlautFdZ9MXtdjAqKtaYEuX7HBgRkndCRznBrmds2xx2W034AMJxiX0Rnd3pqV8Jh7dRFq8XTGjJjHjnZ0gUoYjLaOacHRdeJ0cav1+XbH9zjnR+xyyb5b/PGG1jJqal/w0AXHXPOyzdXIsBknWH5P/H4AQKsRBOFYnK4oB3m5YSU5KM6PqIsEFQzUaZlxl1EXEm/bA9iTSPgH0umaVpL8a/Yf5KLM6S5PbbowP42LazfxQkGy9tiqx6tyw7mY8wZbu8Gq3X3HqX91KRRslQkHEXqclz5OzpMGuesKXLjpi6S2drnxuzONBMaaqf2Yt84D79wYi0mt3AWSHXPvwtkf6K6TlmT3Q8fcdO0qzManEW+OOY9OMsmE08qj6kSfX3U+384YmoN1WXpLXXxHlkv43XIK46U6/5ir7xRnHKaSNNFBpPyePklfVP90SGIOAGcXQRCORw9g382JWPd0yG7o1hA7OULovhV6mX2dDayZVhJ1ofu2CrxCmebcyf6jrpa7tyc5danvdU3TXVse6l95reDMvmdFVrdcWF3ZGs5e54xziulrr6eGE0AkNSrL5TXJ2PWhLgSHQt0T3Xs3+d138hdUPbw9bV716DpT66rWgRnn5WT68yWrM7MufeFmXkvdGpa9dnaH09QxcLrcBc6PGyKv28G2Lpu+qa9VNm+yjpM/nskEgtY6/fuRWOe2CfD8rlTtCrKSHfO+m9uB89FJWnIv57TS2EaXyrK3INHztoFf9INijr2a2ltnplVaqTsux+k6V5LCRilmOVXuJN8t6jtPZ2UL3wfJmZqus6OcwjFXQUr1HjzOeDnruy1mP53Wd61O637g3j8x5fdU7zVnla/ZbKIAUJNJlY0Q5z4Ezd4no52cez4c534NXS7u3hiOuHvQnCz33hUxx6bZe4gASCxy755GJfxuce9HE3Nvo5rvR5J7/wDASaMlCN3FpKGO+xXX6UJxasxg6bhfQZ3uMwDaJ+bePY1K+N3iZheMSd1txkIBALoDQRC6iwkoIjcf3Zlzu2bVTcbQTuZCKdIfviKrr+kuP21Okw30LD12LSuFI28SeoSE3y1udsHoTTmL86oM6t+2pskGALTMM7o5yDyGxUnvK42lXT4Rup/22LpMn2La5XZw0ymbJzXpjExqv0XXQXSA/WmmqPXE7kf1Lul6LIR7oVRXdXnoX/i7u866/5g39Nk80e8kq25bVX/O9+vR3y16XNzIYmQpMxaSz3mUWyd6TGbcGCAAOA0EQTUQBAEAAABnE0EQAAAAgJ7CmKAadEtQ+9IaH4OTtrS193cAAAAAeglBEAAAAICeQhAEAAAAoKcQBAEAAADoKQRBgOaMtUpJKjUnHTgSrD125tT+NjG+rFpXZrqyKhXzUi9zxhGq+pi43Su1oe/Po/a5Q8ZO9l79n4bmj7l3fLxpLnSfpdOi05331Pc+gCqCIACN6Z+R7XJZympamzLz0DomyOyUi8TTpe8vQ2BzFowuud8Z5d2cc1Pak+IEX/xQAyAGQRBawL1Q8X/lC7cumF8PA8u4U8dc3FQv7PXNDoHGeRd53AzydFD/AIBGEATheJxfrbNSmFpzf+VT09pUSfJjMd2srGW8iQsWAAAAnDSCIBxL8a28lAZzsrfkt5+MLu1JblAFQm+1sZe1M54lrnUp2Lfb7e9tvR7uy55wfEv1vlGh5aNdllrT6uVtr1r+0LbD2w33t4/dVnhfZwvmBU9816Nj9ZmPHKfweqxthpZttjvYkce8KtyCGXfu6HmhYxo6R5KMdXDW5bwvuE27rqvrGVOfKfW8MOsvp6eG6sM51vqHCG977o8S1W2E9iFpnQX3dUTyB+aFgPr1moRfnqzos7S0OGKtr0a9mSm2nqr1EVreqgdvm9H3m+NvlnXfH7dPZr/tugt/5qpT6EeihN9ndXX5MW+EU6bQd6KeqsfOmp/dUM8P8jJiLReuC1dwH2K/QwGcLYeItfvF84fnv7hrnnWQ768cXj5/+XDl++b5qdo9fOP8+cPLb39onhvfeuPwvJp//vwbagntw8OVyRbWp1n/G98yz005zk+uqC15zDarZdDilvM5x7zea4F9Ult4+7J6bh8Ls01rHe4ydlmTccty+fCyrjNnf9Vj9Xzl++G6jNkn5xyxl1EidaaY9frljz+e7j7Y9eirV2dOOQLHvM4xcaZ6dZtM3Pv0vEj9e+dooHyqLNZz79jpya8TU97A+wxT73HH2l5X9fW4Y6LVWU9i5nvCPmf0Y6fcgeOe9HMSPber8+y6MGW3zyH3sxN//hwt/pyMVa/ezGv1j2WNYxvep1rHLfx5itRFXF0rkfXF1X8Czva64Jib5Y9zfvvfx3591/rOqPsdpdT+bEbXBeBsoSUIzXtckofqn6EBv0ub8+virMjaSkY9eygl+9fOjaz/S9wxfmkr3i2IDOZkftzMkFGZX0iLHKzLlre9nSXJH6Qlt2uP8RmVZV2ug7wsNfKrelVwfX2T02pOSR7on+21x1uyfiCSeXNGvBrpu5kTXROFu038LqrWNf26tzW1ket3ZKbfPN0vOb9kVm7npaC2sHbP36Ye33RH18dG3vzaXJHVW6rOptZkuVpnJ0CPs7JaCFVtyMybTm3IZrj+dWuiNR4rUrcJPfpAvWFwWia9elL6bm6H9tuvj3KgfOr8CDx3ZVbsbpujck0ngzD13yi9rmpZxuclN9jkuZFISUoXc9VzpnQwJGvV/TN1m/Rz4i33tnWexfBahu9Y3VxHl9bUGVqQfCf8sq6Oee1jaZ5vbAZaMSpb66q2MpLz3jd+LfYz7X4v+ede5H01zv9E32eJ9dIx1/uwXd1X97u2JOtbzW0z+NnUx7j5dQHoDgRBXUmPufGDiVTqE/Lpj9vPa0wjn5OX4uaHp5rdh+pxu4yMfJCTaHIB9cf/XnAsUFn9wXW6uDS8rYqU9s3DiCFJmz+IzoWF9bzKXMA8fNTEH7fQxXVE6YE6MvHSFwbMowaEtmcHm66KbL2rL/qHJbz2QBDhBWdXg0flVKSHVbliXEwHL7RMoopGg7aBC/riMS8jsd1djIbqIy3DoQI7A/DtoDOxjFwL7E+fpC+qf5oMqJII7GPMeZL0cxK+wI9XlM0NVWPXJ0N1MyDDKtgrffDIPD89Rx3z0avhIMV8xqauBQIGJ0gJBEvRfXcC8lj2OZXs+6wRPXPMI2U7zjbDn00AvYAgqNtY6Yn96Qfy/g/D82Kmva/Kt+Pmh6eYX8Pr032pR2T9+l7y944vu+mVQ7+6Hs38mhpozSnK0mL4QkWJuQDwtOWPs/fL/i17nIFuqUnL9GTjl8yJhQMIS1PBXgsFxxOoyYx3aRfd6qMDbCcQqhXUO8FqNLjpWa36nJiW4fD4ndrjSDpQuHXOCZjTkqu2yLrcHxmsYGlnUz2zW31UqPS6TgVtt4aYFsjAxXsD32etxDEHAIIgHEN/WobUP4XZrEigy5D6c//I6ShX95dM51f7cJe5BNx16+16f3BNdroGgremWmaO9Ege6D/81gX4yKIEumyctGjr0cnRAVB2Q3dZsQLsk7hHiAqwve25gXY2GAg5rVGNd7XrRQ19Tsz3QXphzz/e9tTwjyunoU8mr/utPE6XtrjWkP5JmbaCJafVJBy0mJZhP0BQgYHkZC/UitiK77NW6r1jDqBXEQThGEwf+kB/di2uC0mY15XrqO4WYe6vpJE/uqE/tk63lrg+9c4vtu1pmamOz7HLVW5nABS8YLN54xGcLh7mQiXYKmR+lT6SOU4Nc7vJyJQ/PuE06K5rTiBkdznzgve2jcVJqkZXotjj1R5JPyduN8MHKsy3OGNGzGNHO7pAnXxXOndsiW7lcc/9aFcvzbTgOJ899zgGu9pZ487s74NIN8pk32et1PnHXKlmd2skO158N9fY/QAAhSAIx+J0+TjIyw1rAGxxXneFUMFAnT/k7jJHD7qNSvhH1+nWUpL8a/bYkKLM6bTQbbow7xtwLl0bbtk6Du+CLWu3dKgLiBvOhdW8CULdYLW0uFS9oHDqX13wqMsDi6nbd7dMnelxXs12a3HXFQjQdBrgtnaH0+UNXzSZYCzQZdAb05ENJedQ50dT4+GaU5zX6Z+DXahc5jhYx6ttEn5OvO5f1a5d+iJ19qGk9TGu8gKDcL0ehxk3VU3ycRLcz0th1v0eix4fwxlDo4KleRU8RH4ISjreq01BRD0df8zVJ9n5EUcLJpGoTX32X3MTNASPgyqh873cIYk5AHQUgiAcjx6jtJsTsfqEZzd0a4idHEGPGfK6ephl9nU2sGZaSdQf3bdV4BXKNOdO9r031HL39iSnLvX9+0Nk5aH+xdUKzux7ZYTvJ9HwH3VnnFM4aYWZ2nZxPSrL5TXJ2PWhAo2hUPdE995NKlgyy+QvqHp4e9q86tF1ptZVrQMzzkuPsbEkqzOzLnXx4W0zdWtY9traHU5v85psettzpugx17yxQ8GxDJtyreFf4K1zO3J/n3BAZtWFmtzPQDiJiBZTd2pq6D5BiSX7nDifc7u+xh5ITn1+c/pC36a7Ioa+D9wpdF+cBlTvO2Z9rvzzrJH6T85NkKDUbc02wdJGIba1yMmQZn027Mk/lqr+E32ftdJpHPPGjpMbgGl1EhYE6lYFrBfX4hOWqPLtLaSDn/V6iVMA9A6TKhshzr0FwveLwOkz95iIHpsa9+A4Qe69K2LuLWHuA5LoXic4k9x7kZzeuYkGRe7d06ja9/oJfE908PdZJzvq3j8AkAQtQeguZrBxNNWt6X5yakyq27gxTrXSQgPoSG566GjXqsRM1rS4FiI3IYzRsd9nAHD2EQShu5iAIjKofWfO7ZrVzrSydZmLlsiAY9NXXZW6rWmyAbSE7u7pZDVseLyixSS38MfXGWa8XvXHko79PgOAs+8Z3RxkHsPipPeV00tT2mvcdMrmSU3mDuGyKhMxA+wDd/w+JbH7MeilxdX94vVg+CNUl4c7lqD760xfWI8sDoXGyjWuoc9Jw+Pt2s+th/AnN+o0Pst+3baq/uLPXZ0Jzh6v5yQcqPN91u3HvB2cOtFj6vieBHAMBEE1OF+yBEEAAADAmUMQBAAAAKCnMCaoBt0S1L60xgAAAABOC0EQAAAAgJ5CEAQAAACgpxAEAQAAAOgpBEFdzBm3dGU1eB+KTqBTvqZSMrdjngMAAAAdhCCoV7UxUKlsrUvpOHdbBwAAANqIIAgtVpSlxZKkr09yEzsAAAB0JIIgtNbOphQkLdOThEAAAADoTARBXaRye0JSqVR1ym6YF2ymm5u/3ISsPjavKc44Ij1/LC8l9bwway8b7h5XkdUrwdcnbtcbgaSWv1UQmcrJTL+ZBQAAAHQYgqAuoYOXkcUhWSuXpWymtSnzYlVR5l4TuRNYpiT5MT8QGl0yr+3mJK2eZ1b8ZfW0bI3jKc7fEHnben0lI6XFkdqB0OMtWT9Q67w6amYAAAAAnYcgqBs8XpX8hg5YlqV+eDEqy/dmAmNxRl/XwU5J1rcazyE3urQdbNEZn5fcoEjp3a3YjHQkRAAAAEA3IAiqZyMb6Ar2yeGL8knrea3plV+Mnx+cgt3U6nGCC8nItWaCi/60DJmHx9cn6YvmYQQJEQAAANAdnjlUzGN0KD0WyO0KF2wJ0l3ksvs52bNaf9xl9WifoPTCnmzftMITPXZoLC9DK8EucAFmmcjaBoPbdOzMSWpWImUEAAAAOg0tQWeIFwAFx/msSca83hAvAJpas9YVNw5J8xIiXCMAAgAAQMcjCOoCfQO6Q9tDKdnd58w4IV9Ftt4tOa00icbkmG5yDx/FjxVyu+ClJfd6grCGhAgAAADoIgRB3WD8mmRUSJJ/q2hmFGVuLK8CHp3fzWPG6xysy5YXLOnWnFRWCuZp0IAM6yQHi0tqbVFu4GUnVHDTZcel5S6+lSchAgAAALoGQVBXGJVlndK6mqghL8O7Zblz3bxsjC7tSW5Qp8Q2yRfGHkiuZne4Ppm5p18rSNZK2FC9T9D4suwtpJ2U2O5rI/Lgzfi03JsqMCIhAgAAALoFiRFwPCREAAAAQJehJQjHQEIEAAAAdB9aggAAAAD0FFqCAAAAAPQUgiAAAAAAPYUgCAAAAEBPIQjqNs69fyZk1b5xKgAAAIDECIIAAAAA9BSCIAAAAAA9hSAIAAAAQE8hCMKJKs6nJJVKycTtipmD4ynKXDfXpzPGLSVzO+b5UczyqdSc2vNknHPuyqpwxgEAAA9BENBiXHR3kqJsbohk3pyRPjMHAACAIAgnanSpLOVyWbZvckmKJvTPyLY6f8rlZRk1s+qp3M5LQTJybdzMAAAAUAiCAJxRFdl6tyQydS1RwAQAAHoHQRCOpXJ7wnT9csem6PE+cWN+vLFA3hQ7BqQ63iM62esLr8ufouNEIsvOJx1JEiNSPmt71mvZDfX8IC8j9rKR7nEVWb1ivV7j3k9Nld8qS+KxNhbnmNbZpvt6uK5rjE2qV2chgX0N11d4PUm6G+4sSf4gLbnXCYEAAEDIIbrL91cOL5+/fLjyffP8lH349uXD8+fPO9Mb3zIzv/VG8LnNKX+N12I4659cOfzQPI+3e/hGzDr1ewPzzLbPf3HXzGiAee/lt62S6Hkx69r9otpG3TK75bXL4dZj8LgmK7+7rmq5vGWOrLN4ScrhLvOG2rItVA4tSZ155dVTdX7MuixH168r6XIAAKD30BKElsislGXZG3cxPi+5QZHC3QStFvU8XpUbiyK5t+sPai/OZ6UwteZv3+i7uR2c1z8juSn178ZmzdaImkoPpCRpmZ60SqLHpyw13srgjVNZs97bd/OOqrOS5N/yS9Z4+YsyN5aX0mBO9u41lwjg0QclkcFpmew3M5RIOZJqpM7U8StX54/KNbWfpXe3jm7tqYmECAAAoDaCoK6kLpbHrK5BqU/Ipz9uP68xjXxOXoqbH54a7jIWHnjeJ+mL6p/90jEuYiuy+pq6oJ/KyYx1QR6xMyfZjeRdngYupM2jBqWH1eW8rvf4bmvJ1RqnkqzOapd/S+ZSKhg8RgCkOevXXflakd2ugTrLXE12/JIiIQIAAKiHIKjbVLNj2dMP5P0fhufFTHtflW/HzQ9PTbRutFrl9g3JHwRbS6KKMjdbkPTCnRqBUnCckp5GFlUA0gyn3tfUZbUdgCa/V43vkTw4UP9sZAPl0pMzliggeflLi/qiX7mYPlbLh271Ka9kgmOamh1H1bI6a5QbaKYX5kmIAAAAYhEEofM43eBKklmpnwbZ6QY3mJM7sem2dQBhWkasAG9vocmWIMeoLHvr0oGCCjuyDV/UD8jwoPpHd/+yylWdqq04jZU/vbDnlkkHV8dJ/qCNL1e3t+Z0vzvOOltRZw0yCREC3fAAAAAsBEFoA3c8Rvr6ZBOtEl43uOgYnwCvG1yt8UI7m07LSNvGhOhAwbmofyilUFcvt0vZA3lkngcl7CrYTPlVmZwgSQUtkSxtTdL3dXICoYTlratOnbVS8a4qSWhcEwAAgI0gCC3ntNBIRnJN3BC1Nd3gFGc8SjA5g07B3Gx3OJ0WOpxu2rnYliFJh8rQNzCk/l+QfI1AZPT1nKR1d7N6rStNll93Z9NBS2lxpIn02Dptd7iVxg1o7W523v5teutXAWlKHY+wRuqsZR6vSp6ECAAA4AjP6BRx5jHQMH2hG7kwjwzON127zLMgFfB4d//X94LR2c2c+SHWOnUwEB0/4wpkqQtdnOsuY3fkhirvkL/NBkS2G9lPX6ReEtZJ4+V31/NQvbZdDTp1MDOigkn3Pf78JKLliltHcP/0MZyXktrm+vXgskfWmTnmQ/Z+K8779v1lY88zwy6fu1xzxxcAAPQOgiAcCxed6Bxu8BcOxAAAAMLoDgfgbCAhAgAASIggCMDZ4GS1265/XykAAACF7nA4lu7tDldvnJKlzrifrlBvnJVNp+zugPtDAQAAnASCIAAAAAA9he5wAAAAAHoKQRBaRqc1TtW79w0AAADQAQiCAAAAAPQUgiAAAAAAPYUgCAAAAEBPIQgCWq4iq1dSkkqlZG7HzGoRZ9zVlVW1BQAAADSLIAhnmr6PUSo1J2cjXUNRNjdEMm928X2LAAAAOgBBENByfTJzryzlclmWx82sFqjczktBMnKthesEAADoRQRBQFeoyNa7JZGpazJq5gAAAKA5BEE4g4oyl3LH5IwsqsBBCpI1z93J6h63M6eeT8jqYzPeJm4Zj7NsvWX8sUDu5K43zOmi54zr8cupp4nbdUb67CxJ/iAtudcJgQAAAI6LIAhn0Kgsl93uaHsLafU8I2vmuTsth1pTSpIfS0lW1szre5IbVIGTnYDg8apM3L1mrcMsEwiE/G5w5ZWMmVfDQV5GUnkZ3vWXLy2O1EykULxbEBmclsl+MwMAAABNIwgClPTCnpSXvNCoTyavq+Dp4IE8MnOkf0a2q69rKuB5Uwc6BdlsMgNcZmVbZrygZvyaCtVEHj6Kaw0iIQIAAEArEQShtTayVnewlHxy+KJ80npea3rlF+PnB6f47mWtMDQQDC/6bm5LtMUoJD0sup2pOckTHJAQAQAAoLUIgtBaU16XMnf68MG+fGg9rzW98zvx84OT1XJyCoJjhtQ0lhc94qi93IQI6YV5EiIAAAC0CEEQkIAOgLIbacl5Y3j0tJs7RktQQiYhwvQkHeEAAABahSAIZ1rfwJD6/0MpHasbnTsmR6ZyJ94SRUIEAACA1iMIwtnmjNspSf6tSMLrBgzI8KD6Z2PTzwSn02W3uzvc41XJkxABAACg5QiCcLbprG46XXUgYUPMPYDq0qmv1yRj32/o1rDshbvD6TTa3uuzBTXDTb3tPLfTbSdU2VpXayAhAgAAQKs9c6iYx8CxOONm9L12Aqmk0Rx949URWb++J9s3aQcCAABoJVqCgE5EQgQAAIC2IQgCOtH48qmnBAcAADirCIIAAAAA9BSCIAAAAAA9hcQIAAAAAHoKLUFoGZ0dLjV/nPvxtImTunpCVo91w1QAAACcFQRBAAAAAHoKQRAAAACAnkIQBAAAAKCnEAQBHc4Za5VKycTtipnTgZxxVymZ2zHPAQAAOhhBEIBjq2ytS2kwJ/PjZgYAAEAHIwgCOtzoUlnK5bJs3+wzczpNUZYWS5K+PimdWkIAAAAbQRCA49nZlIKkZXqSEAgAAHQHgiDghFVuT0jqyqpUpChzKXe8T9yYH28skDfFjrcxY3Hs5bzJXl94Xf40p0oRFFm27r2fKrJ6qyAylZOZfjMLAACgwxEEAafhIC8jqazIitvVrbySkdLiSCDQ8brBlXdzkjbzIvpnZFsvY017C2rpwZzcsbrPVddVndYko+ZnVpZl1F3EoQO0zavWcnrbG9nagdDjLVk/UOu5aq8FAACgsxEEAackowKgZS+RwPi85AZFCnfrtbok8HhVbiyK5N6eqTs+pziflcLUmr99o+/mdnCeCrJyU+rfjc1Ii5FGQgQAANCNCILQI0qSH7O7eX1CPv1x+3mNaeRz8lLc/PBUt8tYnIxcCwQOfZK+qP7ZL0nzibArsvpaXkpHdU3bmZPsRlpyrydrvRm4UKsdioQIAACgOxEEoUeoi/5dq5tX+Qfy/g/t5zWmva/Kt+Pmh6el0+8OVrl9Q/IHGVmrW5aizM0WJL1wp0agFBynpKcRFejEchIiZCTXsVnrAAAA4hEEAWeB0w2uFBnjE+Z0gwuNF/LpAMh9fc8K8JwxRhFeQoRrdbcHAADQiQiCgI5QlM0NabJrmdcNLjrGJ8DrBldrvJDTsiOSebP+eCIHCREAAEAXIwgCOoDTQtNk17LWdINT0sNOFjo7OYNOlx3XHa74lgq6SIgAAAC6FEEQcCoKkrXG3WT3dRc0uyubNTZnTAUcak5h1lveureP6QYXXp8zOfcicrlBljhpuAPLqKmallun217JiOiU2Oa1/IW9mO5wx2m1AgAAOH3PHCrmMXAsutUgK2sdkSQgQN9QdGxdpne3O+KGnvpePCOLQ7IWCHq6yM6cpGale8sPAAB6Hi1BABpAQgQAAND9CIIANKBPZu51RkpwAACAZhEEAQAAAOgpBEHACeu7uS1lxtMAAACcGhIjAAAAAOgptAShZXR2uNS8f4+ZjqGzw6UmZPWxed5BOrbOAAAAzjCCIAAAAAA9hSAIAAAAQE8hCAIAAADQUwiCAEQ4Y5VSKZm4XTFzkIgz/kzX3Zww0gsAgM5FEAQAAACgpxAEAYgYXSpLuVyW7Zt9Zk73qNyecFqxqlPN7HsVWb3S4hav/hnZVvXGfaAAAOhsBEEAzgzdjW9kUSS36wZx5d2cpDeykUDIDZRuiLypXjfzAABA7yAIAlDljQXyprkd84Knes+losw5y7j3X6q+78qqBNpUduYC64sfK+O3yISnYAtNeLnQvZ9U2fIbIpmVbZnpN/N0y8xKRmQj7y+ryjTy7rTsldVyx46AvHoITaF6cIIuZ15w+fgWqPA6j1NnAAAgDkEQgCqvG5zTgmLmxVl/LS/Du3uSGyypxxOSlTUp62DjYF22vGBDB0x3r7nrcya9fEGygYt6fTE/InnJqaDEXW5vwd1yZsXujqcDA7XcRbWd6nIi+TE/EKpsrUtJMnJt3H3uUuu/VVD/qnJumeBgfFnK92akNR39RmXZlMeb1qbMS2EHeRlJZUXUfjnLqvoqLY4EA00nyMzKw4U9a33N1hkAAKiFIAhAg0pSupirtraUDoZkbckbAVOSByXzULfCVOdrfTLzpgqUpCCb3oX/4y1ZP1AX72/6QUnfzZwKZdRSd63L/tt59a6MtR293B0nCMu/5S736AO14cFhGXCeaW7gtH59TS2nSvbBIzP/9OggZdkL0sbnnXLZ+1l8Ky+lwZzcsQKZ0aU1tecFyXstPAnrDAAA1EYQBJw2PWbF6s70yeGL8knrea3plV+Mnx+cQl3GWiRz1QpuAoHHEdLDwRam0gMVNsVLX/DWWpGtd9VSU9dCyQb6JH1R/bNfUkuEON3wdGuVbhlJXLo2C7dShctflM0Ntd/XJ6vBjWtAhu0gLlGdAQCAegiCgNM25Xfx0tOHD/blQ+t5remd34mfH5ys8TGnIDzGKDWWD17Ae60ht/wxNG6rT1qmJ71Q4JE8OFD/hIJFPWVV0BD2SI+/mRVZO+V9b9jjkjxU/+gucsH9HJG83n9PojoDAAD1EAQBaAsdAGU30n6mNj1FxhqZAMcZL+Ne9LvZ3ewAxm0JCQeL1cmM7xm4oNas1pN1kh7YKardbXR8K0l/WobUP2lrPFBgqnYFTFJnAACgHoIgAG3gdu2SKX/sUJzqWJ/ABX/4Yr5OtzdL3+S0E2DZY2UcO5vHayXxMtyFM98dW7j7W6jbWw3J6gwAANRDEASgDUzrzcamn9VMBxOh7nB9A7rt46GUjhi3NPp6TtK65aPmjU+V/hnJTYkUZq1Majrb2qwKgRbuNB0kFO/q7HKKnfmuBYrzWSeYyVWTIJjEERvZummuk9YZAACojSAIgGHdn8YEK4VZ8zz2XjX1qAv6e25Ws6y3zlvDshfuDje+LGtTJcmPeduxJjvg0Znmymp9MeOC7BTTOsW3m1LavK72Qxb2gmmjnTTU/ut6P/1xONFEEqNXdd41ZXBaJo/V2mKVS03ZfZ3i2u62p+j03aqOJDIuyCpX0joDAAA1PXOomMfAsThjQPT9YgJpkTuAvugdW5fpDhwz0bF1dkL8cUOhY6NbjZwWnFAA0wWcfdIBjnUvIn2z1JHFIVkLBz1NOIt1BgDASaMlCMApqUhpX/0T18ISTqXdNcxYqIvp4LikljmLdQYAwMkjCAJwSkzCg8hYm4qsvqa7qXVByueduUB3PC9Vde71drXsnYE6AwCgAxAEATg17hie8PiWEcmLHi/TBRnPxpfl2l2/7CeRqrrr6wwAgA7AmCC0DGOCGtfrY4IAAABOAy1BAAAAAHoKQRAAAACAnkIQBAAAAKCnEAQBAAAA6CkEQQAAAAB6CkEQAAAAgJ5CEAQAAACgpxAEAQAAAOgpBEEAAAAAegpBEAAAAICeQhAEAAAAoKc8c6iYx8CxFOdTkpU1KS+Nmjkd4vGqTIyty/Tutsz0m3kdwqmzDfPE+Msf+1+I/Pn/T/7n5nktL/yMyHvfM09qSkuuA/cbAADgNBEEoWUIggAAANAN6A4HAAAAoKcQBAGI0K16qVRKJm5XzJwYuoVNLZNKzUnRzIq1M+esK3VlVeqsDQAA4MQQBAEIKcqmGadUenerZuBS2VqXkvOoIJs7zoNYxbsF98HBumw9dh8CAACcJoIgACGjcm3KfZS+Pil97sOIvslpSTuPMnJt3HkQa/Rqxn0wOC2TjMkCAAAdgMQIaBkSIwAAAKAb0BIEAAAAoKcQBAEAAADoKQRBAAAAAHoKQRAAAACAnkJiBAAAAAA9hZYgtIxzg835urfNPB3OTT0nZJV71AAAAEAhCAIAAADQUwiCAAAAAPQUgiAAAAAAPYUgCIBRkdUrTY7rcsZdpWRuxzwHAADoYARBQAer3J6QVGpOOjDdREBla11KgzmZHzczAAAAOhhBEIBjKsrSYknS1yelz8wBAADoZARBAI5nZ1MKkpbpSUIgAADQHQiCgFNRlLlUSlLVyb6Pkf/ayGJJPS9INrBstHuc223OX2bidsW8YtmZCyyTrJudX5bYdepxRLcKIlM5mek3swAAADocQRBw4nRgkZXC1JqUy2Uz5eTBa6sqpNBGZdnM31tIq+cZWasup6dltYRP36R2ZHHIX2Y3J7I4EgxadOKCu9esdexJblAHV/UCIVNOs/3tmzEtPY+3ZP1AlfCqXSIAAIDORhAEnLTHJXmo/gkGDirwuTfT+JgaFdzkN9S6VqzAqH9G7qjgqbS45Ac4at72kr29Ppl5M6P+LchmbEY3nSnOC4CCQZeNhAgAAKAbEQShR5QkP2Z3BfuEfPrj9vMa08jn5KW4+eGpkbTS/WkZUv8UZo+fUtoJQlSgci0UhPQN6C08lFK1i12M9LDodqaokgqARiR/UD8A0i1FJEQAAADd6JlDxTwGjkV3y8rKmpQDLQ4dQHcFG1uX6d3tDhq3oltadKBhnqpwJBdTPj3Wx+3qFh+MOHW+YZ5EBNdZa9nMSlmWnSAqVKbBnOzVa53SY4xm5YhACQAAoPPQEgScij6ZueeP4Uk7LVV2coRkBi7EjRnypnAApIMi63VnuzH0WCX92kFeRq5445TCvIQI1wiAAABA1yEIAk6bHq9jAqEHOhmc5ahubYm6vUlRNnULUCMZ3HSZVjIiOhCK6+pHQgQAANDFCIKAk7YzF0k37Y7tSctwuGnGGbdTkvxbNcYcjc9LblC3ItXL8jYgw4Pqn41NfxndlW0sr9Zcx/iym51uIxspb/Et9V4SIgAAgC5FEAScNBVc3JEbgcQK7rifmDFLXouMCkT85e2Ax+1WtzYVvpeQmqotOHqZNcnY9xu6NSx7tbrDWfpubqt1i5QWR6z1uS1LJEQAAADdisQIaBkSI/QIEiIAAIAuR0sQgAaQEAEAAHQ/giAADTBZ7TqttQ8AAKABBEEAAAAAegpBEAAAAICeQmIEAAAAAD2FliC0jM4O56dR7iA6O1xqQlbr3lAUAAAAvYIgCAAAAEBPIQgCAAAA0FMIggAAAAD0FIIgoAc447WurErFPD+Ks3wqJRO3E77DGXeVkrkd8xwAAKCDEQQBOLbK1rqUBnMyP25mAAAAdDCCIAARo0tlKZfLsn2zz8yppyhLiyVJX5+UJEsDAACcNoIgAMezsykFScv0JCEQAADoDgRBwKkoylzKHXfjTuH7GLmvh8fkVG5PqGXn1KtB3hgeb6o5lseM3fGWC4/hCa/n6DE+FVm9VRCZyslMv5kFAADQ4QiCgBOnA5ysFKbWnC5n7pSTB68lT1xg04FLdiMja9V1lSX3wY3ozWEP8jIyti7Tu+4yewtpKcwGAyqvG1x5NydpM6+ux1uyfiCSuTpqZgAAAHQ+giDgpD0uyUP1TzBwGJXlezNNjKmpSGlf/TN1Ta3BN7q0HdMyk5bcrj+/b3JazSnI5jEyupEQAQAAdCOCIPSIkuTH7K5en5BPf9x+XmMa+Zy8FDc/PM2HO6jV0Z+WIfVPYbYVKaX7JH1R/bORPboMg9My2dIuayREAAAA3YkgCGdf/4xsW13F3OkH8v4Pw/Nipr2vyrfj5oenpUa6g43KcnlPcoNuIOQGUuExQcnpLmy6a5sTCJmgLPH9fY7DSYiQkVyiDHIAAACdgyAIOBV9MnPPBFDO+BvdUtV8INR3c9sEZG5wVVocaXMg5CVECHbDAwAA6AYEQcBp0y1VJhB6UDLzYlVk6926Cyg6uDKB0AePzLw2ICECAADoYgRBwEnbmYumvtYJBlQYNFxNyTYgwzqQeXfLZIyryOqVEcmrwCOoKHNXQlnlTICSvjBgZrRe8a08CREAAEDXIggCTtr4styRG9XxO3oaWRyStbKd0U236KxJRqe1dpYZkfXre1JeyZjXPaOy/LbIDWtdqbG8DK2UZbvhsTrWvYvUOnSbkz9myU6lXZTNDRVkkRABAAB0qWcOFfMYOBbnfjWy1mCSAHSdnTlJzYoK2pYZDwQAALoSLUEAGkBCBAAA0P0IggA0wGS1o7UPAAB0MYIgAAAAAD2FIAgAAABATyExAgAAAICeQksQWkZnh0vN+4mUAQAAgE5EEAQAAACgpxAEAQAAAOgpBEEAAAAAegpBENAJHq/KRColczvmOQAAANqGIAhnWuX2hKRSc3KS6RqcBBFXVqVinidR2VqX0mBO5sfNDAAAALQNQRBw6oqytFiS9PVJ6TNzAAAA0D4EQcBp29mUgqRlepIQCAAA4CQQBOEMKspcKiUpNY0sltTzgmTNc3cKd4+ryOoV+/UJWX1sXrKZcTux67Fey26o5wd5GbGXrdk9Tm37VkFkKicz/WYWAAAA2oogCGfQqCyXy1JW095CWj3PyJp57k7LagmPDphGJH9xrfr63oJIfiwUCOkgZywvsrDnr2d3WPLezWH7Z2TbzF+bUs8Hc7LnLaenezPxXd0eb8n6gSrhVb9EAAAAaC+CIPS0yu28FHSQtOQHIX0370husCT5t6z2otIDKYW7rOnAx3pfM0iIAAAAcPIIgtBaG1m/C5iaPjl8UT5pPa81vfKL8fODU41uak2ryNa7JZGpa1bLkNYn6Yvqn/2S34UtPaxCIBUYhVuIjoWECAAAAKfhmUPFPAbOHJ0ie2RxSNYCXeA8uitcVgrmWYTu0hboxhZeXnezi65Xp8jO7offG2NnTlKzUqNsAAAAaBdagtDDBmR4UP0z5Y8HCkyRIMYfa1ReyajnOuFCs/cg8hIihFuhAAAA0G4EQTjT+gaG1P8fSim2C1tMt7ekxpdNIBRd98CFtMjBA3lknsciIQIAAMCpIQjC2eaN5bGTHFhGX89JWqez9rK81aC71c3tmCdG8a7uGDck6VBqazfwKkj+du3QqvhWnoQIAAAAp4QxQTj7nLE39sif8Fie+LFBmZWyLFtBijPWR98DyBMZM+RzxyLpexQZgWXd7T1c2JPtm3VHDQEAAKANCIKAk0ZCBAAAgFNFdzjgRJEQAQAA4LTREgQAAACgp9ASBAAAAKCnEAQBAAAA6CkEQQAAAAB6CkEQzr7HqzKRmpDV2BumAgAAoNcQBAEAAADoKQRBAAAAAHoKQRAAAACAnkIQBHS44nxKUqmUTNyumDkdyBl3lZK5HfMcAACggxEEATi2yta6lAZzMj9uZgAAAHQwgiCgw40ulaVcLsv2zT4zp9MUZWmxJOnrk9KpJQQAALARBAE4np1NKUhapicJgQAAQHcgCAJOWOX2hKSurEpFijKXcsf7xI358cYCeVPseBszFsdezpvs9YXX5U9zqhRBkWXnw0vYKrJ6qyAylZOZfjMLAACgwxEEAafhIC8jqazIitvVrbySkdLiSCDQ8brBlXdzkjbzIvpnZFsvY017C2rpwZzcsbrPVddVndYko+ZnVpZl1F3EoQO0zavWcnrbG9nagdDjLVk/UOu5aq8FAACgsxEEAackowKgZS+RwPi85AZFCnfrtbok8HhVbiyK5N6eqTs+pziflcLUmr99o+/mdnCeCrJyU+rfjc1Ii5FGQgQAANCNCILQI0qSH7O7eX1CPv1x+3mNaeRz8lLc/PBUt8tYnIxcCwQOfZK+qP7ZL0nzibArsvpaXkpHdU3bmZPsRlpyrydrvRm4UKsdioQIAACgOxEEoUeoi/5dq5tX+Qfy/g/t5zWmva/Kt+Pmh6el0+8OVrl9Q/IHGVmrW5aizM0WJL1wp0agFBynpKcRFejEchIiZCTXsVnrAAAA4hEEAWeB0w2uFBnjE+Z0gwuNF/LpAMh9fc8K8JwxRhFeQoRrdbcHAADQiQiCgI5QlM0NabJrmdcNLjrGJ8DrBldrvJDTsiOSebP+eCIHCREAAEAXIwgCOoDTQtNk17LWdINT0sNOFjo7OYNOlx3XHa74lgq6SIgAAAC61DOHinkMnE36Xjpj6zK9u90R97LRaagjgYXugnbPboExXdPMsyAV8JRNtzdn31RA4swPsdapg5nshjs7LJClbmdOUipY8qQX9uSO3FDlHfK3acr2UL22zXggAADQhQiCcPZ1ZBBkBxVdxgmUpHvLDwAAeh7d4QA0gIQIAACg+xEEAWhAn8zc64yU4AAAAM0iCAIAAADQUwiCgBPWd3NbyoynAQAAODUkRgAAAADQU2gJwtmns8OlJmT1sXkOAACAnkYQBAAAAKCnEAQBAAAA6CkEQQAAAAB6CkEQAKMiq1dSkpovmucNcMZdpWRuxzwHAADoYARBQAer3J6QVGpOmghLTlRla11KgzmZHzczAAAAOhhBEIBjKsrSYknS1yelz8wBAADoZARBAI5nZ1MKkpbpSUIgAADQHQiCgFNRlLlUSlLVyb6Pkf/ayGJJPS9INrBstHuc223OX2bidsW8YtmZCyyTrJudX5bYdepxRLcKIlM5mek3swAAADocQRBw4nRgkZXC1JqUy2Uz5eTBa6sqpNBGZdnM31tIq+cZWasup6dltYSvOK+DpSF/md2cyOJIMGjRiQvuXrPWsSe5QR1c1QuETDnN9rdvxrT0PN6S9QNVwqt2iQAAADobQRBw0h6X5KH6Jxg4qMDn3kzjY2pUcJPfUOtasQKj/hm5o4Kn0uKSH+CoedtL9vb6ZObNjPq3IJuxGd10pjgvAAoGXTYSIgAAgG5EEIQeUZL8mN0V7BPy6Y/bz2tMI5+Tl+Lmh6dG0kr3p2VI/VOYPX5KaScIUYHKtVAQ0jegt/BQStUudjHSw6LbmaJKKgAakfxB/QBItxSREAEAAHSjZw4V8xg4m3RXsLF1md7d7qBxK7qlRQca5qkKR3Ix5dNjfdyubvHBiO4Kl90wTyKC66y1bGalLMtOEBUq02BO9uq1TukxRrNyRKAEAADQeWgJAk5Fn8zc88fwpJ2WKjs5QjIDF+LGDHlTOADSQZH1urPdGHqskn7tIC8jV7xxSmFeQoRrBEAAAKDrEAQBp02P1zGB0AOdDM5yVLe2RN3epCibugWokQxuukwrGREdCMV19SMhAgAA6GIEQcBJ25mLpJt2x/akZTjcNOOM2ylJ/q0aY47G5yU3qFuR6mV5G5DhQfXPxqa/jO7KNpZXa65jfNnNTreRjZS3+JZ6LwkRAABAlyIIAk6aCi7uyI1AYgV33E/MmCWvRUYFIv7ydsDjdqtbmwrfS0hN1RYcvcyaZOz7Dd0alr1a3eEsfTe31bpFSosj1vrcliUSIgAAgG5FYgScfR2ZGKGLkRABAAB0OVqCADSAhAgAAKD7EQQBaIDJahe48SoAAEB3IQgCAAAA0FMIggAAAAD0FBIjAAAAAOgptATh7NPZ4VITslr3hqIAAADoFQRBAAAAAHoKQRAAAACAnkIQBAAAAKCnEAQBPaA4n5LUlVWpmOdHcZZPpWTidsJ3OOOuUjK3Y54DAAB0MIIgAMdW2VqX0mBO5sfNDAAAgA5GEAQgYnSpLOVyWbZv9pk59RRlabEk6euTkmRpAACA00YQBOB4djalIGmZniQEAgAA3YEgCDgVRZlLueNu3Cl8HyP39fCYnMrtCbXsnHo1yBvD4001x/KYsTvecuExPOH1HD3GpyKrtwoiUzmZ6TezAAAAOhxBEHDidICTlcLUmtPlzJ1y8uC15IkLbDpwyW5kZK26rrLkPrgRvTnsQV5GxtZletddZm8hLYXZYEDldYMr7+YkbebV9XhL1g9EMldHzQwAAIDORxAEnLTHJXmo/gkGDqOyfG+miTE1FSntq3+mrqk1+EaXtmNaZtKS2/Xn901OqzkF2TxGRjcSIgAAgG5EEIQeUZL8mN3V6xPy6Y/bz2tMI5+Tl+Lmh6f5cAe1OvrTMqT+Kcy2IqV0n6Qvqn82skeXYXBaJlvaZY2ECAAAoDsRBOHs65+RbaurmDv9QN7/YXhezLT3Vfl23PzwtNRId7BRWS7vSW7QDYTcQCo8Jig53YVNd21zAiETlCW+v89xOAkRMpJLlEEOAACgcxAEAaeiT2bumQDKGX+jW6qaD4T6bm6bgMwNrkqLI20OhLyECMFueAAAAN2AIAg4bbqlygRCD0pmXqyKbL1bdwFFB1cmEPrgkZnXBiREAAAAXYwgCDhpO3PR1Nc6wYAKg4arKdkGZFgHMu9umYxxFVm9MiJ5FXgEFWXuSiirnAlQ0hcGzIzWK76VJyECAADoWgRBwEkbX5Y7cqM6fkdPI4tDsla2M7rpFp01yei01s4yI7J+fU/KKxnzumdUlt8WuWGtKzWWl6GVsmw3PFbHuneRWoduc/LHLNmptIuyuaGCLBIiAACALvXMoWIeA8DRduYkNSsqaFtmPBAAAOhKtAQBaAAJEQAAQPejJQgAAABAT6ElCAAAAEBPIQgCAAAA0FMIggAAAAD0FIIgAAAAAD2FIAgAAABATyEIAgAAANBTCIIAAAAA9BSCIAAAAAA9hSAIAAAAQE8hCAIAAADQUwiCAAAAAPQUgiAAAAAAPYUgCAAAAEBPIQgCAAAA0DMODw8JggAAAAD0Bh0AaQRBAAAAAHoKQRAAAACAM89rBdIIggAAAACcaXYApBEEAQAAAOgpBEEAAAAAzqxwK5BGEAQAAACgpxAEAQAAADiT4lqBNIIgAAAAAD2FIAgAAADAmVOrFUgjCAIAAADQUwiCAAAAAJwp9VqBNIIgAAAAAD2FIAgAAADAmXFUK5B+nSAIAAAAQE/wAiSCIAAAAABnnt1CRBAEAAAA4Ew4qiuchyAIAAAAwJkWDo4IggAAAACcWXGtQwRBAAAAALpe0q5wGkEQAAAAgDOpVmBEEAQAAACgpxAEtU1R5lIpmdsxT0/DzpykUhOy+tg8B86ax6sycRrnuLPdJJ/viqxeSUlqvmiexyvOH71MuyUtQ+X2hPpemVPfcOgN7t+yidsV8zyJRt5jPiNq+dSVVfWsh5zW91eXc76DTulc6YTvals76qLT9vG46nWPO/Ug6Kg/qI0d4Ga+rE/bCZY58YUbAMDB92Yb6QBoRPIX16RcLkv53oz0mVe6Wat/KGj1+tD5nECk134UaIFGxgNptAS1Ar/mxOumejmtsnLuoIe14xfHs/Yr5pn2eEvWD0QyV0fNjLOL8zKEv30NakPvoh44BkcFRWcsCBqV5XJZtm92029JJ1jm/hnZVttaHjfPAQD18b2JBvXd3JZyeVn9dW+NVq8PnW906ey0jHYyWoIAAAAAnBlJusZ1YRBkDaI0kz+eJjq+ptoE7TT7xb3H5/a7tZcpHjGo2ZRlLC8l9V9+LH7dwfWGmx7jxgS58/z3JGkCDb8npv+wqQN/XX7zqlNP+n3WvkbrI1pncWWduP3dBPUS976YetN9YqvHbkLenFX/xvaTddcXX0ZXeH/c9dQ/htXzx0kyoV/T9VprW2ZdkfOl0TpKvv748hmhc76h/sWRc8Xn1qN9fkU/k+E6iL7HSJS8I7r+uONcPYedKWZbSuQcCC9Xqzx16sMWXv/E7UfmlYQSHbPw+RS/r0Exx6jW+dDkeROs/yPqypyv2Q31eCNr3hPcjyOPVVi9dTr7pI+rXw/eORTdTuj4R469W//6efC9R53HriO3FyP6ObffFzofIt8/2tGfUU/S4xg915OcJT5nO873n0hBf69726pzrLSjzwv/+AT2xTuPA3VYe/8csd8Hplzhz4WzrFsWt4ymXPXOS0uw3oOvB9anVeuo/vviNfBdYHG2o8+Z0PdD7HEP1XGwDs32610fhLZRu3zJvguPPmeMuuWuxa/P2HOpyXPIqW/zunuMs1JQj73PSvTzm+R7wJPgGGgJjvVxvwdOnYqUTtWHb18+PH/+jcNd8zzMeX1y5fBD99nhyuT5w/NftJb+/srhG2+7rx6qtbxx/vzh5epzNeeLank1z1+H8q03nHlvfMs8V9zl7HKYben32tuLo8pw+fzlw5Xvm+cOtyz6/dHy2NsJlzm6D7q8dlkjnO1H3+OU3S6XWc5fl9nW5OXI+iPljNuGmVfzeDivh+tFMWU7al3usb+syhc+dtF1JjqPwsf3i9Z6a5TVqQddhsA5EHOMHPHnZ+N1lHz98eVTIue4ea9dl3XF7IsjVLa4/TPL2NuqeXxqHE9ffJ0G60+9fuS+mnmhMrjnubX9WuUx26luI/xciX62vW2qKVKPQdXjGChztB697drnRnS7MdR+Bc8ns26rXEnLEPtZCtd35PyL52wzUjcJj1UNset06k3vW8xnLbC/3nasbUeOtakTNTV8HJJsL4a7jJqq++XVudonu05izg9vXrBOosc19jgm3dfIdt33Bc+5GJG6VZx5cccq6Xnhlzn8edXrjJ7L9c6puP3w1h98n1MOU8dx33f261XesbHLGnMcIutL+L5YCb4L4lTPQXv9MZ/z6PHwyh9/nCN1H1lnjfpwzn27juPOj6TnTPJyB49j/PqDmjuHnMeBY+m+J1CHilfGuPMj2ecvegzcughtv+axbmK7bfQf/+N/rE4/+tGPjpy6rCXokTwID6Lsn5HlI8fTZGTN7ls5Pi+5QRVR3zWRsop28xtpye3afW77ZObemnrnMU2tBcb7jL6ek7SK5zdr/fr0uCQP1RLTk9Y+jS/X7Y9efEtF86Ht6PfsLaTNk/pKF3PB9Tv1oWptxaoPVc931PpKi0vmF5SKrL7mbre81MjxUO+7VZD0wl6wvLrf/Yqq7Y188BcTdbyn3w4fu5Lk37J/5ajI1rslVdfXavaZfvRB+HV1fJcS9rc9GJKcvY+JNVtHDYqUz61jfe75x1Xt79vq3DvIy1K9Xz6r1PJvxhyPnU119vrnp3fuBfZP1fLybiPbqifZZ16fT4F91WU/WJctr+w7S5I/UN8DoX71o0t7MedTE1rxHaKPY6APeLQenfoezMkda/9Hl/Q2CpKv9wuc+j4IjjsclXn9/bBfUmeLJUEZIpy6Vfse+Jwuy9qU+o69dfQvzBFtO1bqO+D6HZnpN08dav9C/e7d7+iHUjrqF+DQd+6R3+2OY2xP/x2rfs68c1zt04K1T+qzkVP1Xnp3q1rviT+jXr3HHX/zzJHo78NxxRyrRs8L+/vPqxf1XWKfp303c6pWS7K+VessHZVrofp0vgMHM5JR23ygiukqyqaukyYTPBz5/VVDU+9L+l0QK3R+1LyW2g4cOz2mKdn3QQN/u/S1Qez3rfVdmPScaarcqqw6s2HM+oNO4hwK/e2J+R5oXJJj3e7vgeapeMg8qq/LgqABGdYHYTZJE6UlcnHcJ+mL6h/zoa9srauvwSFJB/44au72jiNyQven1ZZEHj6qcWo6r6sP51iSZm2t9genb0Bv6WjpCwPmkcupD3WhNV/9EnK56zN/rJvN6uO8LxTkecavxfxBCh+XPpm8rr6wNzb9+jHrzL1euywDF/R7ss011Q4OqzOhCSeV+Shcvlr1cdS5FxZzPIp39R+onPlDUedLu39Spu0vzKYl+czHnE/pYTXX/wPjljsuSI45n5rgfmamZfI43yFx5QscM1PfbwYvor1tlD44uuud3XVmZFFVzsEDFWZajixDVPCc8DmfufD6E2jnsRoaiPne0exuMKaLiH9xEq/h73ZbE9uL1IlzjtfZJ0fyz2jNejf75Un096EFwvvV6HkR3mfnfFR7Ev07X9/oVR1Y+OexLkf6+rxcU9cQ/gWh++PlsN5Ew47+/orX7PtcR34XxInUf8y1VOz3oFePRwRojfztqvN9630XJj1nmil3cT5JAORq+zkUU/Zmv3+rEh3r9n8PtFuXBUE60i+ryFwHCe6HtxX9D51WgmYvdFtuVJbL+leKgmTNF1TdPsvOB+d4wn9snPo4yMuI2X51mlVfKJ7SA/VV28QH1nlfA2KOS9/ktNqy/4trvS8wj5NdZ0Vd0i+OuPuSoA901cW0OvOa0GwdNSpcPme7/mfEn9w+xcmFf8EKXVC14Nw7Wis+8xUp7ZuHbeJ8ZtrN1He1T3h10n+M3UVq8fptZ8Xcj0VNSVuK6zN1Wx3r4E/OhVXD2nmsYj6Lj02f91lRFzNuvZTDLR+tdOLbS/oZTV7vif4+HFv4WLX/M1yT82OQ9/dGfwe6wYdzYZvgIrrTtO+7oAXfgy3726U1eE43Qn3f6TFegVaQes7YOaSdzPdAY7zWn6StQHq5Uw+CjooanYoOXeQ5qQP1h9e7qK07AKwbuRd+3peTvuipeeEX+pWuFZxfEFSEv2e+IIOTaS42v0I2rNn32UxTr/sLitsVLn198uhAZXzZ7MOaZJwPb9LWtrCEv+43va8NtB7Ecbarm8fDx86dgl0h6nO66ni/gjld4TJyzfvlp4FzL2mrZC3H+8ybX7CSaPKYub8yt4/zQ4Wp78xK8HhWp0B3J4u68L6hAhLnfbWWSSC+xcHUre5uFVemBL+SBjVwrI7N6q7acDmbcdLbUxJ/RpPXe6K/Dy13kudFmPt97Py9cboxmQtV58JWX7s08DfotLXou6CWY38Ptuhvl9u7pcFzuhHqM+xdm9X9kbrqDJ1Dxul8D7SGDn68QOn0W4Jiutz46jTla964l0R9WWur2UxrujOdJq9Pau2uLtaHK8RpCm6Cc8F6VLO188e1Xl/qGuq9z7nIjmnij1H9BcX0+c01cGGv3m36uR+vyTZyTMLnS7N1ZBy5/lqOud0Ap8uMXlfRjOWaty7eap97XlmDn91ofTd8jjb5mXe+sEPdZVxx48mi3UmcX+nM4zg1PzONfIfElc98JtxfxevUd8PMfocdWYao2nXbnMaOVesddaxbrb3bS/4ZrVnvzvH3Jfr70Aand16YrlPqO2fV6cbkXajqutXfjVvyoFYX765Q47ugCfXODee7/qiWjkb+dtX5vvV+sEl6zjRTbn1tljwQOnvn0Gl9DxxXuJWoA7rDuYPy9K+7wRNJDzrLqojZ7nNYlLnAL8DmRG62u5LHG2wfGIdjfrUzz+pq5UXn41WZC7T6uIFgeNyOr88MYA+Nd9mZc1NyNiO2PpRA2VQgYX6VD2zXXia2Xmq/b2JWX2SHBy7XYJqX87ceJvrjV5wP7ot74WH1D2/oGHr9ibPWORt3vjRbR0nXX0udz9S81w1Qf76SdC1zy1J6N6/+uIS/pNW5pwes6q5Qgc+l+pzqcQ724FbzY0f+NasbYqJztDWf+b6bd0wX0+B5UO3X7f0q6o2TmLWWU8dL/3pa13G/QxyqfPa+ms+EP96mxmddCZ/fAc45FrwQrty+UaML3VFliHIHl6v3xaR7PeriIO4iJfGxqqH2hU+Y+aXYXjbJsW7aSW9PS/4ZjT+Oarlw95ZEfx9a77jnxXE4XbDVBd/6vv0d6H03rsvDBN2Ykp+XbdTQd0ETnIQo+twIjuHUXfCyOvGAnTylxvXB0X+7PKG/J945bV0zJj5nGim3pZo4IUEgdPxzqJU/ghkNXfeEnNL3wHHEdZPriDFB3niNYF/3EVm/vhe9Y67+MreWyV9ca0Gzru5+FhyHk0rdEHlbzzOL1OV/cPV7j76wrO+hWY87ZeVhOJNamO7m5XUT8t5395ozrzm6PvQ4DLs+1DT2QK7Z5dDb3c2J2NsdW5fh6ge8Rr3Evi8vQyuNdNUy6z4o1W4pDAjuy8jiUGhAY2PH0P7yc9dZ43xpso4Sr7+GWp+pB1fN58n5xSzZL0/OxZGq59j+yv36bvprkgl8Lt1ztlY2qmof4qTnaEs+8/HndHZfN+fb54Fezs0wVF3uNZE7TsthPcf9DlF0F4sL+WrZ9GdCwvUYdz6pKX/BbqELM3Vv1eMNueO2qIUlKUOEWr8exyih/uG3hiODZsOqF97Oe7w/pkmPVbz4dcZzs0Q1eqybd9LbczTyGa12FfaW25Rrep5ZwpXw70PLHe+8OBbTIl6S4Hege2Gr5if4UaaR87J9GvguaJLuury3IOri2D9G7t/bcBep2n/76v7t8uiuWG8+sM7VrBTU91fwmjH5OZO83EH6fdW/1YEfGkKOfQ6pfTE/gjnlq7etxBq77gk6re+B+uICHa3W/GfUC/GvQNG/lrvBWCPjKHAy9K80I+9Oy144UMbRdHYqdZGarO6KMqf+wIgKUv20pQAAAJ1BhzNxIU29MKfLssOdsFD/UnSSoiwtdtdAwk6i+zlHUy3Hq9zOSyAhAgAAQIc7qp2HliBHUeaulGQ+8Ku4++u307zacNcbtJvTChTp0obWcz8HR3bJBAAAOCU6nLFDmiThDUGQw+32Fh4cqO/GzIVfZ3GDHz2QONlNytAs8yOAesTnAAAAdDI7CEoa2hAEAQAAAOhaXhCUNKzRyzEmCAAAAEBP8AIlgiAAAAAAXS1JK5C9DEEQAAAAgK7VaACkEQQBAAAA6CkEQQAAAAC6UjOtQBpBEAAAAICu02wApBEEAQAAAOgq4eDmmWeeMY989YIkgiAAAAAAXSNJC9BRCIIAAAAAdIWkAdBRyxEEdYWizKVSMnG7Yp4DAAAAvaVVAZBGEAQAAACgoyUJbOLGBdVCEAQAAACgYyVtAdKSLksQBAAAAKAjNRIANYIgCAAAAEDHaTQA0ssn7RLXIUFQRVavpCSVsqb5onlNO+p15fGqTKQmZPVxaFmzXOX2hPV+vZwz23ATD8ztqEfz1nuvrKotKztz1nvd5QJCr0eX8ddfvxyuQBnM+wLM9iLzAQAAgDOgXS1Ang4IgnSAMCJ5ycleuSxlZ1qTjHnVDW7U6xfXzGvm9Y2sH6RUlSQ/dkPkbbPcilqLWm7iyoSMfJCrvn9tSi83p7YcVJhNyeZV897dnKQP8nJDvTd1a7hatr2FtFrODl5U0HVLZM28Hr+MS6//htypLhcthxvAZfeDdSGzWSmYJQAAAICzrJkAqNH3nHoQVJxXF/iD6qL/3oz0mXkio7K8NOo8Kr6Vl9KUCoDMc5d63QQpS6HWkPTCHZnpN0/G5yU3qEKjgyFZs94/+rp6rworNsMtKWo7y+Pmcf+M5Kb0e0Vyb/tl67uZUwFaSda3vPCrT2buLasS+bxlHpTMDI9a//ZNay/D5dhZkvxBRtbCdaH31TxzjC87AVK1rAAAAMAZ0IoWoCRd4k45CCrK5oYKXK5PWhf9Nvf1zFU7xDD6J2VaBTiFu3Z7TlqmJ+019Un6ovpncFgG3Bl1hbczcEGHHkOS9oKqepwWK68Lm9ty8/BRsJ0qsh/9abV2f7niXfWuqWuBgMphlgMAAADOqmYDoGbed7pB0OOSPFT/DA3Eh0De653NHe+TGluX6V2/C1u1O19iFSntm4cAAAAAmnZUa9DpBkFHtXB0QQtItTtfedvvhtcU02oFAAAA9JiTbAXSTrk73IAMR7q02eq8/nhL1g9qdJU7bTubTSUycLrfbWxGEjY0uz4AAADgrKvV6lOvNeiUg6A+mXk7J2md6S2Q8rooc87zOq+PuQkTTjs5gBO4HKzLVjUTnCrbbHMhi5tQoSDZQNa7mPWRIhsAAABnRCuSITTqlIMgpX9Gtr2U11ZiAfFaeGq8/nBhL5Qx7nT03dw2qa69sm3KtabGBGmjsqzfe5CXkeq+Hmd9AAAAwNmUJHiq2Uqk3nzyoRcAAACAnnecUMR+b731xL12+i1BAAAAAHAM9cb/xL1GEAQAAACgqxy3MxtBEAAAAIATd9xAphHh1iCCIAAAAABnnh0IEQQBAAAA6Hr1xgWFEQQBAAAAOFHH6Qp3nPd6gRJBEAAAAIAzIUlrkF6GIAgAAABATyEIAgAAAHBiTjIrXDyR/z/lYcg/IiZfzwAAAABJRU5ErkJggg==)"
      ],
      "metadata": {
        "id": "GyO5Q5cOHYfk"
      }
    },
    {
      "cell_type": "markdown",
      "source": [
        "!python going_modular/train.py\n",
        "\n",
        "Or from the command line with:\n",
        "\n",
        "python going_modular/train.py\n",
        "\n",
        "In essence, we will have turned our helpful notebook code into reusable modular code."
      ],
      "metadata": {
        "id": "l1hvZonTHg9m"
      }
    },
    {
      "cell_type": "markdown",
      "source": [
        "###0. Creating a folder for storing Python scripts\n",
        "Since we're going to be creating Python scripts out of our most useful code cells, let's create a folder for storing those scripts.\n",
        "\n",
        "We'll call the folder `going_modular` and create it using Python's `os.makedirs`() method."
      ],
      "metadata": {
        "id": "bzeG0jW3Hr00"
      }
    },
    {
      "cell_type": "code",
      "source": [
        "import os\n",
        "os.makedirs(\"going_modular\", exist_ok = True)"
      ],
      "metadata": {
        "id": "WzvSIqv8EauR"
      },
      "execution_count": 1,
      "outputs": []
    },
    {
      "cell_type": "markdown",
      "source": [
        "\n",
        "###1. Get data\n",
        "We're going to start by downloading the same data we used in notebook 04,\n",
        "\n",
        "the pizza_steak_sushi dataset with images of pizza, steak and sushi.\n",
        "\n",
        "\n"
      ],
      "metadata": {
        "id": "6kcqthKqH810"
      }
    },
    {
      "cell_type": "code",
      "source": [
        "import os\n",
        "import zipfile\n",
        "\n",
        "from pathlib import Path\n",
        "\n",
        "import requests\n",
        "\n",
        "# Setup path to data folder\n",
        "data_path = Path(\"data/\")\n",
        "image_path = data_path / \"pizza_steak_sushi\"\n",
        "\n",
        "# If the image folder doesn't exist, download it and prepare it...\n",
        "if image_path.is_dir():\n",
        "    print(f\"{image_path} directory exists.\")\n",
        "else:\n",
        "    print(f\"Did not find {image_path} directory, creating one...\")\n",
        "    image_path.mkdir(parents=True, exist_ok=True)\n",
        "\n",
        "# Download pizza, steak, sushi data\n",
        "with open(data_path / \"pizza_steak_sushi.zip\", \"wb\") as f:\n",
        "    request = requests.get(\"https://github.com/mrdbourke/pytorch-deep-learning/raw/main/data/pizza_steak_sushi.zip\")\n",
        "    print(\"Downloading pizza, steak, sushi data...\")\n",
        "    f.write(request.content)\n",
        "\n",
        "# Unzip pizza, steak, sushi data\n",
        "with zipfile.ZipFile(data_path / \"pizza_steak_sushi.zip\", \"r\") as zip_ref:\n",
        "    print(\"Unzipping pizza, steak, sushi data...\")\n",
        "    zip_ref.extractall(image_path)\n",
        "\n",
        "# Remove zip file\n",
        "os.remove(data_path / \"pizza_steak_sushi.zip\")"
      ],
      "metadata": {
        "colab": {
          "base_uri": "https://localhost:8080/"
        },
        "id": "hkCI1bHRH5CJ",
        "outputId": "0a457c91-273f-4341-8ced-d4b4179699e1"
      },
      "execution_count": 2,
      "outputs": [
        {
          "output_type": "stream",
          "name": "stdout",
          "text": [
            "Did not find data/pizza_steak_sushi directory, creating one...\n",
            "Downloading pizza, steak, sushi data...\n",
            "Unzipping pizza, steak, sushi data...\n"
          ]
        }
      ]
    },
    {
      "cell_type": "code",
      "source": [
        "# setup train and testing paths\n",
        "train_dir = image_path / \"train\"\n",
        "test_dir = image_path / \"test\""
      ],
      "metadata": {
        "id": "JYUaXTRPK9TI"
      },
      "execution_count": 3,
      "outputs": []
    },
    {
      "cell_type": "markdown",
      "source": [
        "###2. Create Datasets and DataLoaders"
      ],
      "metadata": {
        "id": "vfLjGJ9FQdZ6"
      }
    },
    {
      "cell_type": "markdown",
      "source": [
        "###2. Create Datasets and DataLoaders\n",
        "Let's turn our data into PyTorch ` Dataset's` and `DataLoader's` and find out a few useful attributes from them such as `classes` and their lengths."
      ],
      "metadata": {
        "id": "bFt724TNQnDB"
      }
    },
    {
      "cell_type": "code",
      "source": [
        "from torchvision import datasets, transforms\n",
        "\n",
        "# Create simple transform\n",
        "data_transform = transforms.Compose([\n",
        "    transforms.Resize((64, 64)),\n",
        "    transforms.ToTensor(),\n",
        "])\n",
        "\n",
        "# Use ImageFolder to create dataset(s)\n",
        "train_data = datasets.ImageFolder(root=train_dir, # target folder of images\n",
        "                                  transform=data_transform, # transforms to perform on data (images)\n",
        "                                  target_transform=None) # transforms to perform on labels (if necessary)\n",
        "\n",
        "test_data = datasets.ImageFolder(root=test_dir,\n",
        "                                 transform=data_transform)\n",
        "\n",
        "print(f\"Train data:\\n{train_data}\\nTest data:\\n{test_data}\")"
      ],
      "metadata": {
        "colab": {
          "base_uri": "https://localhost:8080/"
        },
        "id": "SGPaiyD3QbQm",
        "outputId": "d7bfe590-e4a9-4198-9000-80a8a79e3251"
      },
      "execution_count": 4,
      "outputs": [
        {
          "output_type": "stream",
          "name": "stdout",
          "text": [
            "Train data:\n",
            "Dataset ImageFolder\n",
            "    Number of datapoints: 225\n",
            "    Root location: data/pizza_steak_sushi/train\n",
            "    StandardTransform\n",
            "Transform: Compose(\n",
            "               Resize(size=(64, 64), interpolation=bilinear, max_size=None, antialias=True)\n",
            "               ToTensor()\n",
            "           )\n",
            "Test data:\n",
            "Dataset ImageFolder\n",
            "    Number of datapoints: 75\n",
            "    Root location: data/pizza_steak_sushi/test\n",
            "    StandardTransform\n",
            "Transform: Compose(\n",
            "               Resize(size=(64, 64), interpolation=bilinear, max_size=None, antialias=True)\n",
            "               ToTensor()\n",
            "           )\n"
          ]
        }
      ]
    },
    {
      "cell_type": "code",
      "source": [
        "# get a class name as a list\n",
        "classes_name = train_data.classes\n",
        "classes_name"
      ],
      "metadata": {
        "colab": {
          "base_uri": "https://localhost:8080/"
        },
        "id": "d7NEqPUNSYKr",
        "outputId": "3c03da37-5144-477e-b7d7-fc852f73e17b"
      },
      "execution_count": 5,
      "outputs": [
        {
          "output_type": "execute_result",
          "data": {
            "text/plain": [
              "['pizza', 'steak', 'sushi']"
            ]
          },
          "metadata": {},
          "execution_count": 5
        }
      ]
    },
    {
      "cell_type": "code",
      "source": [
        "# Can also get class names as a dict\n",
        "class_dict = train_data.class_to_idx\n",
        "class_dict\n"
      ],
      "metadata": {
        "colab": {
          "base_uri": "https://localhost:8080/"
        },
        "id": "6fosbODQSuYv",
        "outputId": "df435517-e6f9-47d2-ce95-27568008c25f"
      },
      "execution_count": 6,
      "outputs": [
        {
          "output_type": "execute_result",
          "data": {
            "text/plain": [
              "{'pizza': 0, 'steak': 1, 'sushi': 2}"
            ]
          },
          "metadata": {},
          "execution_count": 6
        }
      ]
    },
    {
      "cell_type": "code",
      "source": [
        "# check the lenghth\n",
        "len(train_data) , len(test_data)"
      ],
      "metadata": {
        "colab": {
          "base_uri": "https://localhost:8080/"
        },
        "id": "wKLDrEp7S-g_",
        "outputId": "f6cec73a-6b5a-4a99-f813-c697c8faab2d"
      },
      "execution_count": 7,
      "outputs": [
        {
          "output_type": "execute_result",
          "data": {
            "text/plain": [
              "(225, 75)"
            ]
          },
          "metadata": {},
          "execution_count": 7
        }
      ]
    },
    {
      "cell_type": "code",
      "source": [
        "# # Turn train and test Datasets into DataLoaders\n",
        "\n",
        "from torch.utils.data import DataLoader\n",
        "\n",
        "train_dataloader = DataLoader(dataset = train_data,\n",
        "                              batch_size = 1, # how many sample per batch\n",
        "                              num_workers = 1, # how many subprocesses to use for data loading\n",
        "                              shuffle = True) # shuffle the data\n",
        "\n",
        "test_dataloader = DataLoader(dataset = test_data,\n",
        "                             batch_size = 1,\n",
        "                             num_workers = 1,\n",
        "                             shuffle = False)\n",
        "\n",
        "train_dataloader, test_dataloader"
      ],
      "metadata": {
        "colab": {
          "base_uri": "https://localhost:8080/"
        },
        "id": "Jy36Llc9TPx5",
        "outputId": "b39cb7df-209f-4507-beee-2138b4002302"
      },
      "execution_count": 8,
      "outputs": [
        {
          "output_type": "execute_result",
          "data": {
            "text/plain": [
              "(<torch.utils.data.dataloader.DataLoader at 0x7c53bdef7dc0>,\n",
              " <torch.utils.data.dataloader.DataLoader at 0x7c53bdef63b0>)"
            ]
          },
          "metadata": {},
          "execution_count": 8
        }
      ]
    },
    {
      "cell_type": "code",
      "source": [
        "# Check out single image size/shape\n",
        "img, label = next(iter(train_dataloader))\n",
        "\n",
        "# Batch size will now be 1, try changing the batch_size parameter above and see what happens\n",
        "print(f\"Image shape: {img.shape} -> [batch_size, color_channels, height, width]\")\n",
        "print(f\"Label shape: {label.shape}\")"
      ],
      "metadata": {
        "colab": {
          "base_uri": "https://localhost:8080/"
        },
        "id": "HuuM3rSNTZv0",
        "outputId": "fda3a0fe-aa58-4b6e-8a9e-9da5d93c51ff"
      },
      "execution_count": 9,
      "outputs": [
        {
          "output_type": "stream",
          "name": "stdout",
          "text": [
            "Image shape: torch.Size([1, 3, 64, 64]) -> [batch_size, color_channels, height, width]\n",
            "Label shape: torch.Size([1])\n"
          ]
        }
      ]
    },
    {
      "cell_type": "code",
      "source": [
        "# the dataloader and origin dataset shape have same len\n",
        "print(len(train_data), len(train_dataloader))\n",
        "print(len(test_data), len(test_dataloader))"
      ],
      "metadata": {
        "colab": {
          "base_uri": "https://localhost:8080/"
        },
        "id": "ybdfUPYGT7DL",
        "outputId": "b297942d-d538-42d2-aacb-f10899468a63"
      },
      "execution_count": 10,
      "outputs": [
        {
          "output_type": "stream",
          "name": "stdout",
          "text": [
            "225 225\n",
            "75 75\n"
          ]
        }
      ]
    },
    {
      "cell_type": "markdown",
      "source": [
        "###2.1 Create Datasets and DataLoaders (script mode)\n",
        "Rather than rewriting all of the code above everytime we wanted to load data, we can turn it into a script `called data_setup.py.`\n",
        "\n",
        "Let's capture all of the above functionality into a function called `create_dataloaders().`"
      ],
      "metadata": {
        "id": "g40xaADkUWQA"
      }
    },
    {
      "cell_type": "code",
      "source": [
        "%%writefile going_modular/data_setup.py\n",
        "\"\"\"\n",
        "Contains functionality for creating PyTorch DataLoaders for\n",
        "image classification data.\n",
        "\"\"\"\n",
        "import os\n",
        "\n",
        "from torch.utils.data import DataLoader\n",
        "from torchvision import datasets, transforms\n",
        "\n",
        "NUM_WORKERS = os.cpu_count()\n",
        "\n",
        "def create_dataloaders(\n",
        "    train_dir: str,\n",
        "    test_dir: str,\n",
        "    transform: transforms.Compose,\n",
        "    batch_size: int,\n",
        "    num_workers: int=NUM_WORKERS\n",
        "):\n",
        "  \"\"\"Creates training and testing DataLoaders.\n",
        "\n",
        "  Takes in a training directory and testing directory path and turns\n",
        "  them into PyTorch Datasets and then into PyTorch DataLoaders.\n",
        "\n",
        "  Args:\n",
        "    train_dir: Path to training directory.\n",
        "    test_dir: Path to testing directory.\n",
        "    transform: torchvision transforms to perform on training and testing data.\n",
        "    batch_size: Number of samples per batch in each of the DataLoaders.\n",
        "    num_workers: An integer for number of workers per DataLoader.\n",
        "\n",
        "  Returns:\n",
        "    A tuple of (train_dataloader, test_dataloader, class_names).\n",
        "    Where class_names is a list of the target classes.\n",
        "    Example usage:\n",
        "      train_dataloader, test_dataloader, class_names = \\\n",
        "        = create_dataloaders(train_dir=path/to/train_dir,\n",
        "                             test_dir=path/to/test_dir,\n",
        "                             transform=some_transform,\n",
        "                             batch_size=32,\n",
        "                             num_workers=4)\n",
        "  \"\"\"\n",
        "  # Use ImageFolder to create dataset(s)\n",
        "  train_data = datasets.ImageFolder(train_dir, transform=transform)\n",
        "  test_data = datasets.ImageFolder(test_dir, transform=transform)\n",
        "\n",
        "  # Get class names\n",
        "  class_names = train_data.classes\n",
        "\n",
        "  # Turn images into data loaders\n",
        "  train_dataloader = DataLoader(\n",
        "      train_data,\n",
        "      batch_size=batch_size,\n",
        "      shuffle=True,\n",
        "      num_workers=num_workers,\n",
        "      pin_memory=True,\n",
        "  )\n",
        "  test_dataloader = DataLoader(\n",
        "      test_data,\n",
        "      batch_size=batch_size,\n",
        "      shuffle=False,\n",
        "      num_workers=num_workers,\n",
        "      pin_memory=True,\n",
        "  )\n",
        "\n",
        "  return train_dataloader, test_dataloader, class_names"
      ],
      "metadata": {
        "colab": {
          "base_uri": "https://localhost:8080/"
        },
        "id": "k-a6EAJBUIfB",
        "outputId": "4fe7726f-03c2-4a90-c2c3-b18928e48edc"
      },
      "execution_count": 11,
      "outputs": [
        {
          "output_type": "stream",
          "name": "stdout",
          "text": [
            "Writing going_modular/data_setup.py\n"
          ]
        }
      ]
    },
    {
      "cell_type": "markdown",
      "source": [
        "###3. Making a model (TinyVGG)\n",
        "We're going to use the same model we used in notebook 04: TinyVGG from the CNN Explainer website.\n",
        "\n",
        "The only change here from notebook 04 is that a docstring has been added using Google's Style Guide for Python."
      ],
      "metadata": {
        "id": "G-8haT3aWpOJ"
      }
    },
    {
      "cell_type": "code",
      "source": [
        "import torch\n",
        "\n",
        "from torch import nn\n",
        "\n",
        "class TinyVGG(nn.Module):\n",
        "    \"\"\"Creates the TinyVGG architecture.\n",
        "\n",
        "    Replicates the TinyVGG architecture from the CNN explainer website in PyTorch.\n",
        "    See the original architecture here: https://poloclub.github.io/cnn-explainer/\n",
        "\n",
        "    Args:\n",
        "    input_shape: An integer indicating number of input channels.\n",
        "    hidden_units: An integer indicating number of hidden units between layers.\n",
        "    output_shape: An integer indicating number of output units.\n",
        "    \"\"\"\n",
        "    def __init__(self, input_shape: int, hidden_units: int, output_shape: int) -> None:\n",
        "        super().__init__()\n",
        "        self.conv_block_1 = nn.Sequential(\n",
        "          nn.Conv2d(in_channels=input_shape,\n",
        "                    out_channels=hidden_units,\n",
        "                    kernel_size=3,\n",
        "                    stride=1,\n",
        "                    padding=0),\n",
        "          nn.ReLU(),\n",
        "          nn.Conv2d(in_channels=hidden_units,\n",
        "                    out_channels=hidden_units,\n",
        "                    kernel_size=3,\n",
        "                    stride=1,\n",
        "                    padding=0),\n",
        "          nn.ReLU(),\n",
        "          nn.MaxPool2d(kernel_size=2,\n",
        "                        stride=2)\n",
        "        )\n",
        "        self.conv_block_2 = nn.Sequential(\n",
        "          nn.Conv2d(hidden_units, hidden_units, kernel_size=3, padding=0),\n",
        "          nn.ReLU(),\n",
        "          nn.Conv2d(hidden_units, hidden_units, kernel_size=3, padding=0),\n",
        "          nn.ReLU(),\n",
        "          nn.MaxPool2d(2)\n",
        "        )\n",
        "        self.classifier = nn.Sequential(\n",
        "          nn.Flatten(),\n",
        "          # Where did this in_features shape come from?\n",
        "          # It's because each layer of our network compresses and changes the shape of our inputs data.\n",
        "          nn.Linear(in_features=hidden_units*13*13,\n",
        "                    out_features=output_shape)\n",
        "        )\n",
        "\n",
        "    def forward(self, x: torch.Tensor):\n",
        "        x = self.conv_block_1(x)\n",
        "        x = self.conv_block_2(x)\n",
        "        x = self.classifier(x)\n",
        "        return x\n",
        "        # return self.classifier(self.block_2(self.block_1(x))) # <- leverage the benefits of operator fusion"
      ],
      "metadata": {
        "id": "zv_-1HXPV2Ub"
      },
      "execution_count": 12,
      "outputs": []
    },
    {
      "cell_type": "markdown",
      "source": [
        "Now let's create an instance of TinyVGG and put it on the target device.\n",
        "\n",
        "Note: If you're using Google Colab, and you'd like to use a GPU (recommended), you can turn one on via going to Runtime -> Change runtime type -> Hardware accelerator -> GPU."
      ],
      "metadata": {
        "id": "CCcmafkZcTxr"
      }
    },
    {
      "cell_type": "code",
      "source": [
        "import torch\n",
        "device = \"cuda\" if torch.cuda.is_available() else \"cpu\"\n",
        "\n",
        "# Instantiate an instance of the model\n",
        "torch.manual_seed(42)\n",
        "model_0 = TinyVGG(input_shape=3,\n",
        "                  hidden_units =10,\n",
        "                  output_shape = len(train_data.classes)).to(device)\n",
        "model_0\n"
      ],
      "metadata": {
        "colab": {
          "base_uri": "https://localhost:8080/"
        },
        "id": "lq7YwcIscS-Q",
        "outputId": "da90b456-b1dd-4cc3-a886-724fc5108957"
      },
      "execution_count": 13,
      "outputs": [
        {
          "output_type": "execute_result",
          "data": {
            "text/plain": [
              "TinyVGG(\n",
              "  (conv_block_1): Sequential(\n",
              "    (0): Conv2d(3, 10, kernel_size=(3, 3), stride=(1, 1))\n",
              "    (1): ReLU()\n",
              "    (2): Conv2d(10, 10, kernel_size=(3, 3), stride=(1, 1))\n",
              "    (3): ReLU()\n",
              "    (4): MaxPool2d(kernel_size=2, stride=2, padding=0, dilation=1, ceil_mode=False)\n",
              "  )\n",
              "  (conv_block_2): Sequential(\n",
              "    (0): Conv2d(10, 10, kernel_size=(3, 3), stride=(1, 1))\n",
              "    (1): ReLU()\n",
              "    (2): Conv2d(10, 10, kernel_size=(3, 3), stride=(1, 1))\n",
              "    (3): ReLU()\n",
              "    (4): MaxPool2d(kernel_size=2, stride=2, padding=0, dilation=1, ceil_mode=False)\n",
              "  )\n",
              "  (classifier): Sequential(\n",
              "    (0): Flatten(start_dim=1, end_dim=-1)\n",
              "    (1): Linear(in_features=1690, out_features=3, bias=True)\n",
              "  )\n",
              ")"
            ]
          },
          "metadata": {},
          "execution_count": 13
        }
      ]
    },
    {
      "cell_type": "markdown",
      "source": [
        "Let's check out our model by doing a dummy forward pass."
      ],
      "metadata": {
        "id": "UM5IeriEdEOg"
      }
    },
    {
      "cell_type": "code",
      "source": [
        "# 1. Get a batch of images and labels from the DataLoader\n",
        "img_batch, label_batch = next(iter(train_dataloader))\n",
        "\n",
        "# 2. Get a single image from the batch and unsqueeze the image so its shape fits the model\n",
        "img_single, label_single = img_batch[0].unsqueeze(dim=0), label_batch[0]\n",
        "print(f\"Single image shape: {img_single.shape}\\n\")\n",
        "\n",
        "# 3. Perform a forward pass on a single image\n",
        "model_0.eval()\n",
        "with torch.inference_mode():\n",
        "    pred = model_0(img_single.to(device))\n",
        "\n",
        "# 4. Print out what's happening and convert model logits -> pred probs -> pred label\n",
        "print(f\"Output logits:\\n{pred}\\n\")\n",
        "print(f\"Output prediction probabilities:\\n{torch.softmax(pred, dim=1)}\\n\")\n",
        "# dim=1: This specifies that the softmax should be applied across the columns (i.e., across the classes for each sample in the batch).\n",
        "print(f\"Output prediction label:\\n{torch.argmax(torch.softmax(pred, dim=1), dim=1)}\\n\")\n",
        "print(f\"Actual label:\\n{label_single}\")\n"
      ],
      "metadata": {
        "colab": {
          "base_uri": "https://localhost:8080/"
        },
        "id": "qLoZYQaXc198",
        "outputId": "e2f4cb00-1904-4651-aa35-a9ef27bb352d"
      },
      "execution_count": 14,
      "outputs": [
        {
          "output_type": "stream",
          "name": "stdout",
          "text": [
            "Single image shape: torch.Size([1, 3, 64, 64])\n",
            "\n",
            "Output logits:\n",
            "tensor([[ 0.0208, -0.0020,  0.0095]])\n",
            "\n",
            "Output prediction probabilities:\n",
            "tensor([[0.3371, 0.3295, 0.3333]])\n",
            "\n",
            "Output prediction label:\n",
            "tensor([0])\n",
            "\n",
            "Actual label:\n",
            "0\n"
          ]
        }
      ]
    },
    {
      "cell_type": "markdown",
      "source": [
        "torch.argmax(..., dim=1): This function finds the index of the maximum value along the specified dimension (dim=1).\n",
        "torch.argmax: After calculating the softmax probabilities, torch.argmax is used to find the index of the highest probability for each sample in the batch. This index corresponds to the predicted class label."
      ],
      "metadata": {
        "id": "Q8ygS17HgykN"
      }
    },
    {
      "cell_type": "markdown",
      "source": [
        "###3.1 Making a model (TinyVGG) (script mode)"
      ],
      "metadata": {
        "id": "MGRuC9iog1kb"
      }
    },
    {
      "cell_type": "markdown",
      "source": [
        "Over the past few notebooks (notebook 03 and notebook 04), we've built the TinyVGG model a few times.\n",
        "\n",
        "So it makes sense to put the model into its file so we can reuse it again and again.\n",
        "\n",
        "Let's put our TinyVGG() model class into a script called model_builder.py with the line %%writefile going_modular/model_builder.py."
      ],
      "metadata": {
        "id": "jGJQzruDg5Z-"
      }
    },
    {
      "cell_type": "code",
      "source": [
        "%%writefile going_modular/model_builder.py\n",
        "\"\"\"\n",
        "Contains PyTorch model code to instantiate a TinyVGG model.\n",
        "\"\"\"\n",
        "import torch\n",
        "\n",
        "from torch import nn\n",
        "\n",
        "class TinyVGG(nn.Module):\n",
        "    \"\"\"Creates the TinyVGG architecture.\n",
        "\n",
        "    Replicates the TinyVGG architecture from the CNN explainer website in PyTorch.\n",
        "    See the original architecture here: https://poloclub.github.io/cnn-explainer/\n",
        "\n",
        "    Args:\n",
        "    input_shape: An integer indicating number of input channels.\n",
        "    hidden_units: An integer indicating number of hidden units between layers.\n",
        "    output_shape: An integer indicating number of output units.\n",
        "    \"\"\"\n",
        "    def __init__(self, input_shape: int, hidden_units: int, output_shape: int) -> None:\n",
        "        super().__init__()\n",
        "        self.conv_block_1 = nn.Sequential(\n",
        "          nn.Conv2d(in_channels=input_shape,\n",
        "                    out_channels=hidden_units,\n",
        "                    kernel_size=3,\n",
        "                    stride=1,\n",
        "                    padding=0),\n",
        "          nn.ReLU(),\n",
        "          nn.Conv2d(in_channels=hidden_units,\n",
        "                    out_channels=hidden_units,\n",
        "                    kernel_size=3,\n",
        "                    stride=1,\n",
        "                    padding=0),\n",
        "          nn.ReLU(),\n",
        "          nn.MaxPool2d(kernel_size=2,\n",
        "                        stride=2)\n",
        "        )\n",
        "        self.conv_block_2 = nn.Sequential(\n",
        "          nn.Conv2d(hidden_units, hidden_units, kernel_size=3, padding=0),\n",
        "          nn.ReLU(),\n",
        "          nn.Conv2d(hidden_units, hidden_units, kernel_size=3, padding=0),\n",
        "          nn.ReLU(),\n",
        "          nn.MaxPool2d(2)\n",
        "        )\n",
        "        self.classifier = nn.Sequential(\n",
        "          nn.Flatten(),\n",
        "          # Where did this in_features shape come from?\n",
        "          # It's because each layer of our network compresses and changes the shape of our inputs data.\n",
        "          nn.Linear(in_features=hidden_units*13*13,\n",
        "                    out_features=output_shape)\n",
        "        )\n",
        "\n",
        "    def forward(self, x: torch.Tensor):\n",
        "        x = self.conv_block_1(x)\n",
        "        x = self.conv_block_2(x)\n",
        "        x = self.classifier(x)\n",
        "        return x\n",
        "        # return self.classifier(self.block_2(self.block_1(x))) # <- leverage the benefits of operator fusion"
      ],
      "metadata": {
        "colab": {
          "base_uri": "https://localhost:8080/"
        },
        "id": "vPFbOQ4Ce-dT",
        "outputId": "428b60fc-793e-4f31-c70a-c4fc98287933"
      },
      "execution_count": 15,
      "outputs": [
        {
          "output_type": "stream",
          "name": "stdout",
          "text": [
            "Writing going_modular/model_builder.py\n"
          ]
        }
      ]
    },
    {
      "cell_type": "markdown",
      "source": [
        "Create an instance of TinyVGG (from the script).\n",
        "\n"
      ],
      "metadata": {
        "id": "hmwvJzynhOQT"
      }
    },
    {
      "cell_type": "code",
      "source": [
        "import torch\n",
        "\n",
        "from going_modular import model_builder\n",
        "\n",
        "device = \"cuda\" if torch.cuda.is_available() else \"cpu\"\n",
        "\n",
        "# Instantiate an instance of the model from the \"model_builder.py\" script\n",
        "torch.manual_seed(42)\n",
        "model_1 = model_builder.TinyVGG(input_shape=3, # number of color channels (3 for RGB)\n",
        "                                hidden_units=10,\n",
        "                                output_shape=len(classes_name)).to(device)\n",
        "model_1"
      ],
      "metadata": {
        "colab": {
          "base_uri": "https://localhost:8080/"
        },
        "id": "yW7sx4FJhLlK",
        "outputId": "bceb56f5-bafa-4255-cfb8-ebb10694009b"
      },
      "execution_count": 16,
      "outputs": [
        {
          "output_type": "execute_result",
          "data": {
            "text/plain": [
              "TinyVGG(\n",
              "  (conv_block_1): Sequential(\n",
              "    (0): Conv2d(3, 10, kernel_size=(3, 3), stride=(1, 1))\n",
              "    (1): ReLU()\n",
              "    (2): Conv2d(10, 10, kernel_size=(3, 3), stride=(1, 1))\n",
              "    (3): ReLU()\n",
              "    (4): MaxPool2d(kernel_size=2, stride=2, padding=0, dilation=1, ceil_mode=False)\n",
              "  )\n",
              "  (conv_block_2): Sequential(\n",
              "    (0): Conv2d(10, 10, kernel_size=(3, 3), stride=(1, 1))\n",
              "    (1): ReLU()\n",
              "    (2): Conv2d(10, 10, kernel_size=(3, 3), stride=(1, 1))\n",
              "    (3): ReLU()\n",
              "    (4): MaxPool2d(kernel_size=2, stride=2, padding=0, dilation=1, ceil_mode=False)\n",
              "  )\n",
              "  (classifier): Sequential(\n",
              "    (0): Flatten(start_dim=1, end_dim=-1)\n",
              "    (1): Linear(in_features=1690, out_features=3, bias=True)\n",
              "  )\n",
              ")"
            ]
          },
          "metadata": {},
          "execution_count": 16
        }
      ]
    },
    {
      "cell_type": "markdown",
      "source": [
        "Do a dummy forward pass on model_1."
      ],
      "metadata": {
        "id": "NPEQJvQSil6M"
      }
    },
    {
      "cell_type": "code",
      "source": [
        "# 1. Get a batch of images and labels from the DataLoader\n",
        "img_batch, label_batch = next(iter(train_dataloader))\n",
        "\n",
        "# 2. Get a single image from the batch and unsqueeze the image so its shape fits the model\n",
        "img_single, label_single = img_batch[0].unsqueeze(dim=0), label_batch[0]\n",
        "print(f\"Single image shape: {img_single.shape}\\n\")\n",
        "\n",
        "# 3. Perform a forward pass on a single image\n",
        "model_1.eval()\n",
        "with torch.inference_mode():\n",
        "    pred = model_1(img_single.to(device))\n",
        "\n",
        "# 4. Print out what's happening and convert model logits -> pred probs -> pred label\n",
        "print(f\"Output logits:\\n{pred}\\n\")\n",
        "print(f\"Output prediction probabilities:\\n{torch.softmax(pred, dim=1)}\\n\")\n",
        "print(f\"Output prediction label:\\n{torch.argmax(torch.softmax(pred, dim=1), dim=1)}\\n\")\n",
        "print(f\"Actual label:\\n{label_single}\")"
      ],
      "metadata": {
        "colab": {
          "base_uri": "https://localhost:8080/"
        },
        "id": "Bvrx5leIhRQU",
        "outputId": "4ba34e76-4add-4c40-b134-7ce62ea8df78"
      },
      "execution_count": 17,
      "outputs": [
        {
          "output_type": "stream",
          "name": "stdout",
          "text": [
            "Single image shape: torch.Size([1, 3, 64, 64])\n",
            "\n",
            "Output logits:\n",
            "tensor([[ 0.0208, -0.0020,  0.0095]])\n",
            "\n",
            "Output prediction probabilities:\n",
            "tensor([[0.3371, 0.3295, 0.3333]])\n",
            "\n",
            "Output prediction label:\n",
            "tensor([0])\n",
            "\n",
            "Actual label:\n",
            "0\n"
          ]
        }
      ]
    },
    {
      "cell_type": "markdown",
      "source": [
        "#4. Creating `train_step()` and `test_step()` functions and `train()` to combine them\n",
        "Rather than writing them again, we can reuse the `train_step()` and `test_step()` functions from notebook 04.\n",
        "\n",
        "The same goes for the `train()` function we created.\n",
        "\n",
        "The only difference here is that these functions have had docstrings added to them in Google's Python Functions and Methods Style Guide.\n",
        "\n",
        "Let's start by making `train_step()`."
      ],
      "metadata": {
        "id": "bSQLraWuitGC"
      }
    },
    {
      "cell_type": "code",
      "source": [
        "from typing import Tuple\n",
        "\n",
        "def train_step(model: torch.nn.Module,\n",
        "               dataloader: torch.utils.data.DataLoader,\n",
        "               loss_fn: torch.nn.Module,\n",
        "               optimizer: torch.optim.Optimizer,\n",
        "               device: torch.device) -> Tuple[float, float]:\n",
        "    \"\"\"Trains a PyTorch model for a single epoch.\n",
        "\n",
        "    Turns a target PyTorch model to training mode and then\n",
        "    runs through all of the required training steps (forward\n",
        "    pass, loss calculation, optimizer step).\n",
        "\n",
        "    Args:\n",
        "    model: A PyTorch model to be trained.\n",
        "    dataloader: A DataLoader instance for the model to be trained on.\n",
        "    loss_fn: A PyTorch loss function to minimize.\n",
        "    optimizer: A PyTorch optimizer to help minimize the loss function.\n",
        "    device: A target device to compute on (e.g. \"cuda\" or \"cpu\").\n",
        "\n",
        "    Returns:\n",
        "    A tuple of training loss and training accuracy metrics.\n",
        "    In the form (train_loss, train_accuracy). For example:\n",
        "\n",
        "    (0.1112, 0.8743)\n",
        "    \"\"\"\n",
        "    # Put model in train mode\n",
        "    model.train()\n",
        "\n",
        "    # Setup train loss and train accuracy values\n",
        "    train_loss, train_acc = 0, 0\n",
        "\n",
        "    # Loop through data loader data batches\n",
        "    for batch, (X, y) in enumerate(dataloader):\n",
        "        # Send data to target device\n",
        "        X, y = X.to(device), y.to(device)\n",
        "\n",
        "        # 1. Forward pass\n",
        "        y_pred = model(X)\n",
        "\n",
        "        # 2. Calculate  and accumulate loss\n",
        "        loss = loss_fn(y_pred, y)\n",
        "        train_loss += loss.item()\n",
        "\n",
        "        # 3. Optimizer zero grad\n",
        "        optimizer.zero_grad()\n",
        "\n",
        "        # 4. Loss backward\n",
        "        loss.backward()\n",
        "\n",
        "        # 5. Optimizer step\n",
        "        optimizer.step()\n",
        "\n",
        "        # Calculate and accumulate accuracy metric across all batches\n",
        "        y_pred_class = torch.argmax(torch.softmax(y_pred, dim=1), dim=1)\n",
        "        train_acc += (y_pred_class == y).sum().item()/len(y_pred)\n",
        "\n",
        "    # Adjust metrics to get average loss and accuracy per batch\n",
        "    train_loss = train_loss / len(dataloader)\n",
        "    train_acc = train_acc / len(dataloader)\n",
        "    return train_loss, train_acc"
      ],
      "metadata": {
        "id": "LSliGswXiqIn"
      },
      "execution_count": 18,
      "outputs": []
    },
    {
      "cell_type": "markdown",
      "source": [
        "Now we'll do test_step().\n",
        "\n"
      ],
      "metadata": {
        "id": "F8fpan1vlywq"
      }
    },
    {
      "cell_type": "code",
      "source": [
        "def test_step(model: torch.nn.Module,\n",
        "              dataloader: torch.utils.data.DataLoader,\n",
        "              loss_fn: torch.nn.Module,\n",
        "              device: torch.device) -> Tuple[float, float]:\n",
        "    \"\"\"Tests a PyTorch model for a single epoch.\n",
        "\n",
        "    Turns a target PyTorch model to \"eval\" mode and then performs\n",
        "    a forward pass on a testing dataset.\n",
        "\n",
        "    Args:\n",
        "    model: A PyTorch model to be tested.\n",
        "    dataloader: A DataLoader instance for the model to be tested on.\n",
        "    loss_fn: A PyTorch loss function to calculate loss on the test data.\n",
        "    device: A target device to compute on (e.g. \"cuda\" or \"cpu\").\n",
        "\n",
        "    Returns:\n",
        "    A tuple of testing loss and testing accuracy metrics.\n",
        "    In the form (test_loss, test_accuracy). For example:\n",
        "\n",
        "    (0.0223, 0.8985)\n",
        "    \"\"\"\n",
        "    # Put model in eval mode\n",
        "    model.eval()\n",
        "\n",
        "    # Setup test loss and test accuracy values\n",
        "    test_loss, test_acc = 0, 0\n",
        "\n",
        "    # Turn on inference context manager\n",
        "    with torch.inference_mode():\n",
        "        # Loop through DataLoader batches\n",
        "        for batch, (X, y) in enumerate(dataloader):\n",
        "            # Send data to target device\n",
        "            X, y = X.to(device), y.to(device)\n",
        "\n",
        "            # 1. Forward pass\n",
        "            test_pred_logits = model(X)\n",
        "\n",
        "            # 2. Calculate and accumulate loss\n",
        "            loss = loss_fn(test_pred_logits, y)\n",
        "            test_loss += loss.item()\n",
        "\n",
        "            # Calculate and accumulate accuracy\n",
        "            test_pred_labels = test_pred_logits.argmax(dim=1)\n",
        "            test_acc += ((test_pred_labels == y).sum().item()/len(test_pred_labels))\n",
        "\n",
        "    # Adjust metrics to get average loss and accuracy per batch\n",
        "    test_loss = test_loss / len(dataloader)\n",
        "    test_acc = test_acc / len(dataloader)\n",
        "    return test_loss, test_acc"
      ],
      "metadata": {
        "id": "ggpW397BlwE7"
      },
      "execution_count": 19,
      "outputs": []
    },
    {
      "cell_type": "markdown",
      "source": [
        "And we'll combine train_step() and test_step() into train()."
      ],
      "metadata": {
        "id": "k8lzG_ldmAN4"
      }
    },
    {
      "cell_type": "code",
      "source": [
        "from typing import Dict, List\n",
        "\n",
        "from tqdm.auto import tqdm\n",
        "\n",
        "def train(model: torch.nn.Module,\n",
        "          train_dataloader: torch.utils.data.DataLoader,\n",
        "          test_dataloader: torch.utils.data.DataLoader,\n",
        "          optimizer: torch.optim.Optimizer,\n",
        "          loss_fn: torch.nn.Module,\n",
        "          epochs: int,\n",
        "          device: torch.device) -> Dict[str, List[float]]:\n",
        "    \"\"\"Trains and tests a PyTorch model.\n",
        "\n",
        "    Passes a target PyTorch models through train_step() and test_step()\n",
        "    functions for a number of epochs, training and testing the model\n",
        "    in the same epoch loop.\n",
        "\n",
        "    Calculates, prints and stores evaluation metrics throughout.\n",
        "\n",
        "    Args:\n",
        "    model: A PyTorch model to be trained and tested.\n",
        "    train_dataloader: A DataLoader instance for the model to be trained on.\n",
        "    test_dataloader: A DataLoader instance for the model to be tested on.\n",
        "    optimizer: A PyTorch optimizer to help minimize the loss function.\n",
        "    loss_fn: A PyTorch loss function to calculate loss on both datasets.\n",
        "    epochs: An integer indicating how many epochs to train for.\n",
        "    device: A target device to compute on (e.g. \"cuda\" or \"cpu\").\n",
        "\n",
        "    Returns:\n",
        "    A dictionary of training and testing loss as well as training and\n",
        "    testing accuracy metrics. Each metric has a value in a list for\n",
        "    each epoch.\n",
        "    In the form: {train_loss: [...],\n",
        "                  train_acc: [...],\n",
        "                  test_loss: [...],\n",
        "                  test_acc: [...]}\n",
        "    For example if training for epochs=2:\n",
        "                 {train_loss: [2.0616, 1.0537],\n",
        "                  train_acc: [0.3945, 0.3945],\n",
        "                  test_loss: [1.2641, 1.5706],\n",
        "                  test_acc: [0.3400, 0.2973]}\n",
        "    \"\"\"\n",
        "    # Create empty results dictionary\n",
        "    results = {\"train_loss\": [],\n",
        "      \"train_acc\": [],\n",
        "      \"test_loss\": [],\n",
        "      \"test_acc\": []\n",
        "    }\n",
        "\n",
        "    # Loop through training and testing steps for a number of epochs\n",
        "    for epoch in tqdm(range(epochs)):\n",
        "        train_loss, train_acc = train_step(model=model,\n",
        "                                          dataloader=train_dataloader,\n",
        "                                          loss_fn=loss_fn,\n",
        "                                          optimizer=optimizer,\n",
        "                                          device=device)\n",
        "        test_loss, test_acc = test_step(model=model,\n",
        "          dataloader=test_dataloader,\n",
        "          loss_fn=loss_fn,\n",
        "          device=device)\n",
        "\n",
        "        # Print out what's happening\n",
        "        print(\n",
        "          f\"Epoch: {epoch+1} | \"\n",
        "          f\"train_loss: {train_loss:.4f} | \"\n",
        "          f\"train_acc: {train_acc:.4f} | \"\n",
        "          f\"test_loss: {test_loss:.4f} | \"\n",
        "          f\"test_acc: {test_acc:.4f}\"\n",
        "        )\n",
        "\n",
        "        # Update results dictionary\n",
        "        results[\"train_loss\"].append(train_loss)\n",
        "        results[\"train_acc\"].append(train_acc)\n",
        "        results[\"test_loss\"].append(test_loss)\n",
        "        results[\"test_acc\"].append(test_acc)\n",
        "\n",
        "    # Return the filled results at the end of the epochs\n",
        "    return results"
      ],
      "metadata": {
        "id": "1dYFhWG5l-cp"
      },
      "execution_count": 20,
      "outputs": []
    },
    {
      "cell_type": "markdown",
      "source": [
        "#4.1 Creating `train_step()` and `test_step()` functions and `train()` to combine them `(script mode)`\n",
        "To create a script for `train_step()`, `test_step()` and `train()`, we'll combine their code all into a single cell.\n",
        "\n",
        "We'll then write that cell to a file called engine.py because these functions will be the \"engine\" of our training pipeline.\n",
        "\n",
        "We can do so with the magic line `%%writefile going_modular/engine.py.`\n",
        "\n",
        "We'll also make"
      ],
      "metadata": {
        "id": "2XLL3_7Kworh"
      }
    },
    {
      "cell_type": "code",
      "source": [
        "%%writefile going_modular/engine.py\n",
        "%%writefile going_modular/engine.py\n",
        "\"\"\"\n",
        "Contains functions for training and testing a PyTorch model.\n",
        "\"\"\"\n",
        "from typing import Dict, List, Tuple\n",
        "\n",
        "import torch\n",
        "\n",
        "from tqdm.auto import tqdm\n",
        "\n",
        "def train_step(model: torch.nn.Module,\n",
        "               dataloader: torch.utils.data.DataLoader,\n",
        "               loss_fn: torch.nn.Module,\n",
        "               optimizer: torch.optim.Optimizer,\n",
        "               device: torch.device) -> Tuple[float, float]:\n",
        "    \"\"\"Trains a PyTorch model for a single epoch.\n",
        "\n",
        "    Turns a target PyTorch model to training mode and then\n",
        "    runs through all of the required training steps (forward\n",
        "    pass, loss calculation, optimizer step).\n",
        "\n",
        "    Args:\n",
        "    model: A PyTorch model to be trained.\n",
        "    dataloader: A DataLoader instance for the model to be trained on.\n",
        "    loss_fn: A PyTorch loss function to minimize.\n",
        "    optimizer: A PyTorch optimizer to help minimize the loss function.\n",
        "    device: A target device to compute on (e.g. \"cuda\" or \"cpu\").\n",
        "\n",
        "    Returns:\n",
        "    A tuple of training loss and training accuracy metrics.\n",
        "    In the form (train_loss, train_accuracy). For example:\n",
        "\n",
        "    (0.1112, 0.8743)\n",
        "    \"\"\"\n",
        "    # Put model in train mode\n",
        "    model.train()\n",
        "\n",
        "    # Setup train loss and train accuracy values\n",
        "    train_loss, train_acc = 0, 0\n",
        "\n",
        "    # Loop through data loader data batches\n",
        "    for batch, (X, y) in enumerate(dataloader):\n",
        "        # Send data to target device\n",
        "        X, y = X.to(device), y.to(device)\n",
        "\n",
        "        # 1. Forward pass\n",
        "        y_pred = model(X)\n",
        "\n",
        "        # 2. Calculate  and accumulate loss\n",
        "        loss = loss_fn(y_pred, y)\n",
        "        train_loss += loss.item()\n",
        "\n",
        "        # 3. Optimizer zero grad\n",
        "        optimizer.zero_grad()\n",
        "\n",
        "        # 4. Loss backward\n",
        "        loss.backward()\n",
        "\n",
        "        # 5. Optimizer step\n",
        "        optimizer.step()\n",
        "\n",
        "        # Calculate and accumulate accuracy metric across all batches\n",
        "        y_pred_class = torch.argmax(torch.softmax(y_pred, dim=1), dim=1)\n",
        "        train_acc += (y_pred_class == y).sum().item()/len(y_pred)\n",
        "\n",
        "    # Adjust metrics to get average loss and accuracy per batch\n",
        "    train_loss = train_loss / len(dataloader)\n",
        "    train_acc = train_acc / len(dataloader)\n",
        "    return train_loss, train_acc\n",
        "\n",
        "def test_step(model: torch.nn.Module,\n",
        "              dataloader: torch.utils.data.DataLoader,\n",
        "              loss_fn: torch.nn.Module,\n",
        "              device: torch.device) -> Tuple[float, float]:\n",
        "    \"\"\"Tests a PyTorch model for a single epoch.\n",
        "\n",
        "    Turns a target PyTorch model to \"eval\" mode and then performs\n",
        "    a forward pass on a testing dataset.\n",
        "\n",
        "    Args:\n",
        "    model: A PyTorch model to be tested.\n",
        "    dataloader: A DataLoader instance for the model to be tested on.\n",
        "    loss_fn: A PyTorch loss function to calculate loss on the test data.\n",
        "    device: A target device to compute on (e.g. \"cuda\" or \"cpu\").\n",
        "\n",
        "    Returns:\n",
        "    A tuple of testing loss and testing accuracy metrics.\n",
        "    In the form (test_loss, test_accuracy). For example:\n",
        "\n",
        "    (0.0223, 0.8985)\n",
        "    \"\"\"\n",
        "\n",
        "        # Put model in eval mode\n",
        "    model.eval()\n",
        "\n",
        "    # Setup test loss and test accuracy values\n",
        "    test_loss, test_acc = 0, 0\n",
        "\n",
        "    # Turn on inference context manager\n",
        "    with torch.inference_mode():\n",
        "        # Loop through DataLoader batches\n",
        "        for batch, (X, y) in enumerate(dataloader):\n",
        "            # Send data to target device\n",
        "            X, y = X.to(device), y.to(device)\n",
        "\n",
        "            # 1. Forward pass\n",
        "            test_pred_logits = model(X)\n",
        "\n",
        "            # 2. Calculate and accumulate loss\n",
        "            loss = loss_fn(test_pred_logits, y)\n",
        "            test_loss += loss.item()\n",
        "\n",
        "            # Calculate and accumulate accuracy\n",
        "            test_pred_labels = test_pred_logits.argmax(dim=1)\n",
        "            test_acc += ((test_pred_labels == y).sum().item()/len(test_pred_labels))\n",
        "\n",
        "    # Adjust metrics to get average loss and accuracy per batch\n",
        "    test_loss = test_loss / len(dataloader)\n",
        "    test_acc = test_acc / len(dataloader)\n",
        "    return test_loss, test_acc\n",
        "\n",
        "def train(model: torch.nn.Module,\n",
        "          train_dataloader: torch.utils.data.DataLoader,\n",
        "          test_dataloader: torch.utils.data.DataLoader,\n",
        "          optimizer: torch.optim.Optimizer,\n",
        "          loss_fn: torch.nn.Module,\n",
        "          epochs: int,\n",
        "          device: torch.device) -> Dict[str, List[float]]:\n",
        "    \"\"\"Trains and tests a PyTorch model.\n",
        "\n",
        "    Passes a target PyTorch models through train_step() and test_step()\n",
        "    functions for a number of epochs, training and testing the model\n",
        "    in the same epoch loop.\n",
        "\n",
        "    Calculates, prints and stores evaluation metrics throughout.\n",
        "\n",
        "    Args:\n",
        "    model: A PyTorch model to be trained and tested.\n",
        "    train_dataloader: A DataLoader instance for the model to be trained on.\n",
        "    test_dataloader: A DataLoader instance for the model to be tested on.\n",
        "    optimizer: A PyTorch optimizer to help minimize the loss function.\n",
        "    loss_fn: A PyTorch loss function to calculate loss on both datasets.\n",
        "    epochs: An integer indicating how many epochs to train for.\n",
        "    device: A target device to compute on (e.g. \"cuda\" or \"cpu\").\n",
        "\n",
        "    Returns:\n",
        "    A dictionary of training and testing loss as well as training and\n",
        "    testing accuracy metrics. Each metric has a value in a list for\n",
        "    each epoch.\n",
        "    In the form: {train_loss: [...],\n",
        "              train_acc: [...],\n",
        "              test_loss: [...],\n",
        "              test_acc: [...]}\n",
        "    For example if training for epochs=2:\n",
        "             {train_loss: [2.0616, 1.0537],\n",
        "              train_acc: [0.3945, 0.3945],\n",
        "              test_loss: [1.2641, 1.5706],\n",
        "              test_acc: [0.3400, 0.2973]}\n",
        "    \"\"\"\n",
        "    # Create empty results dictionary\n",
        "    results = {\"train_loss\": [],\n",
        "               \"train_acc\": [],\n",
        "               \"test_loss\": [],\n",
        "               \"test_acc\": []\n",
        "    }\n",
        "\n",
        "    # Loop through training and testing steps for a number of epochs\n",
        "    for epoch in tqdm(range(epochs)):\n",
        "        train_loss, train_acc = train_step(model=model,\n",
        "                                          dataloader=train_dataloader,\n",
        "                                          loss_fn=loss_fn,\n",
        "                                          optimizer=optimizer,\n",
        "                                          device=device)\n",
        "        test_loss, test_acc = test_step(model=model,\n",
        "          dataloader=test_dataloader,\n",
        "          loss_fn=loss_fn,\n",
        "          device=device)\n",
        "\n",
        "        # Print out what's happening\n",
        "        print(\n",
        "          f\"Epoch: {epoch+1} | \"\n",
        "          f\"train_loss: {train_loss:.4f} | \"\n",
        "          f\"train_acc: {train_acc:.4f} | \"\n",
        "          f\"test_loss: {test_loss:.4f} | \"\n",
        "          f\"test_acc: {test_acc:.4f}\"\n",
        "        )\n",
        "\n",
        "        # Update results dictionary\n",
        "        results[\"train_loss\"].append(train_loss)\n",
        "        results[\"train_acc\"].append(train_acc)\n",
        "        results[\"test_loss\"].append(test_loss)\n",
        "        results[\"test_acc\"].append(test_acc)\n",
        "\n",
        "    # Return the filled results at the end of the epochs\n",
        "    return results"
      ],
      "metadata": {
        "colab": {
          "base_uri": "https://localhost:8080/"
        },
        "id": "w7cs6yjTwaYr",
        "outputId": "afeb2cd7-4c19-45ac-c73c-e0e41a4df143"
      },
      "execution_count": 21,
      "outputs": [
        {
          "output_type": "stream",
          "name": "stdout",
          "text": [
            "Writing going_modular/engine.py\n"
          ]
        }
      ]
    },
    {
      "cell_type": "markdown",
      "source": [
        "#5. Creating a function to save the model\n",
        "Let's setup a function to save our model to a directory."
      ],
      "metadata": {
        "id": "721SPrIEy75q"
      }
    },
    {
      "cell_type": "code",
      "source": [
        "from pathlib import Path\n",
        "\n",
        "def save_model(model: torch.nn.Module,\n",
        "               target_dir: str,\n",
        "               model_name: str):\n",
        "    \"\"\"Saves a PyTorch model to a target directory.\n",
        "\n",
        "    Args:\n",
        "    model: A target PyTorch model to save.\n",
        "    target_dir: A directory for saving the model to.\n",
        "    model_name: A filename for the saved model. Should include\n",
        "      either \".pth\" or \".pt\" as the file extension.\n",
        "\n",
        "    Example usage:\n",
        "    save_model(model=model_0,\n",
        "               target_dir=\"models\",\n",
        "               model_name=\"05_going_modular_tingvgg_model.pth\")\n",
        "    \"\"\"\n",
        "    # Create target directory\n",
        "    target_dir_path = Path(target_dir)\n",
        "    target_dir_path.mkdir(parents=True,\n",
        "                        exist_ok=True)\n",
        "\n",
        "    # Create model save path\n",
        "    assert model_name.endswith(\".pth\") or model_name.endswith(\".pt\"), \"model_name should end with '.pt' or '.pth'\"\n",
        "    model_save_path = target_dir_path / model_name\n",
        "\n",
        "    # Save the model state_dict()\n",
        "    print(f\"[INFO] Saving model to: {model_save_path}\")\n",
        "    torch.save(obj=model.state_dict(),\n",
        "             f=model_save_path)"
      ],
      "metadata": {
        "id": "utMPZnsuy5MB"
      },
      "execution_count": 22,
      "outputs": []
    },
    {
      "cell_type": "markdown",
      "source": [
        "##5.1 Creating a function to save the model `(script mode)`\n",
        "How about we add our `save_model()` function to a script called utils.py which is short for \"utilities\".\n",
        "\n",
        "We can do so with the magic line `%%writefile going_modular/utils.py.`"
      ],
      "metadata": {
        "id": "UvkRJJm10U-T"
      }
    },
    {
      "cell_type": "code",
      "source": [
        "%%writefile going_modular/utils.py\n",
        "\"\"\"\n",
        "Contains various utility functions for PyTorch model training and saving.\n",
        "\"\"\"\n",
        "from pathlib import Path\n",
        "\n",
        "import torch\n",
        "\n",
        "def save_model(model: torch.nn.Module,\n",
        "               target_dir: str,\n",
        "               model_name: str):\n",
        "    \"\"\"Saves a PyTorch model to a target directory.\n",
        "\n",
        "    Args:\n",
        "    model: A target PyTorch model to save.\n",
        "    target_dir: A directory for saving the model to.\n",
        "    model_name: A filename for the saved model. Should include\n",
        "      either \".pth\" or \".pt\" as the file extension.\n",
        "\n",
        "    Example usage:\n",
        "    save_model(model=model_0,\n",
        "               target_dir=\"models\",\n",
        "               model_name=\"05_going_modular_tingvgg_model.pth\")\n",
        "    \"\"\"\n",
        "    # Create target directory\n",
        "    target_dir_path = Path(target_dir)\n",
        "    target_dir_path.mkdir(parents=True,\n",
        "                        exist_ok=True)\n",
        "\n",
        "    # Create model save path\n",
        "    assert model_name.endswith(\".pth\") or model_name.endswith(\".pt\"), \"model_name should end with '.pt' or '.pth'\"\n",
        "    model_save_path = target_dir_path / model_name\n",
        "\n",
        "    # Save the model state_dict()\n",
        "    print(f\"[INFO] Saving model to: {model_save_path}\")\n",
        "    torch.save(obj=model.state_dict(),\n",
        "             f=model_save_path)"
      ],
      "metadata": {
        "colab": {
          "base_uri": "https://localhost:8080/"
        },
        "id": "VqSekGc30Lm_",
        "outputId": "ad57c9fb-dffd-4343-d0c7-71dceef999b9"
      },
      "execution_count": 23,
      "outputs": [
        {
          "output_type": "stream",
          "name": "stdout",
          "text": [
            "Writing going_modular/utils.py\n"
          ]
        }
      ]
    },
    {
      "cell_type": "markdown",
      "source": [
        "###6. Train, evaluate and save the model\n",
        "Let's leverage the functions we've got above to train, test and save a model to file."
      ],
      "metadata": {
        "id": "NmI5J0Ad0qw7"
      }
    },
    {
      "cell_type": "code",
      "source": [
        "# Set random seeds\n",
        "torch.manual_seed(42)\n",
        "torch.cuda.manual_seed(42)\n",
        "\n",
        "# Set number of epochs\n",
        "NUM_EPOCHS = 5\n",
        "\n",
        "# Recreate an instance of TinyVGG\n",
        "model_0 = TinyVGG(input_shape=3, # number of color channels (3 for RGB)\n",
        "                  hidden_units=10,\n",
        "                  output_shape=len(train_data.classes)).to(device)\n",
        "\n",
        "# Setup loss function and optimizer\n",
        "loss_fn = nn.CrossEntropyLoss()\n",
        "optimizer = torch.optim.Adam(params=model_0.parameters(), lr=0.001)\n",
        "\n",
        "# Start the timer\n",
        "from timeit import default_timer as timer\n",
        "start_time = timer()\n",
        "\n",
        "# Train model_0\n",
        "model_0_results = train(model=model_0,\n",
        "                        train_dataloader=train_dataloader,\n",
        "                        test_dataloader=test_dataloader,\n",
        "                        optimizer=optimizer,\n",
        "                        loss_fn=loss_fn,\n",
        "                        epochs=NUM_EPOCHS,\n",
        "                        device=device)\n",
        "\n",
        "# End the timer and print out how long it took\n",
        "end_time = timer()\n",
        "print(f\"[INFO] Total training time: {end_time-start_time:.3f} seconds\")\n",
        "\n",
        "# Save the model\n",
        "save_model(model=model_0,\n",
        "           target_dir=\"models\",\n",
        "           model_name=\"05_going_modular_cell_mode_tinyvgg_model.pth\")"
      ],
      "metadata": {
        "colab": {
          "base_uri": "https://localhost:8080/",
          "height": 190,
          "referenced_widgets": [
            "336f302ea1c54eefa61b7510494f8f4e",
            "ea4e4814e1f4435fb1a050d975405f75",
            "cc9b97fcd9354b82b47d108872f81238",
            "254c675e94aa4771a75657cd02d6f657",
            "9a7afe3eeff4464080d19a87beb19865",
            "47c152f3ecc1462f9a0f68e2a6cc0eb6",
            "4c8ce8a60c894e87b37965fbf77a6998",
            "28c85f8a50b24e99b53f8856129ba517",
            "0313f2cf4900472293389eebffd665d0",
            "1b3cbf19f16d41f3aafb806ec3f9c964",
            "3c9e66424bec4e5eb695d129b383d4a9"
          ]
        },
        "id": "gN2Oj9Q40imI",
        "outputId": "6d40fb6e-4782-42ac-e420-9df3c57dcb77"
      },
      "execution_count": 24,
      "outputs": [
        {
          "output_type": "display_data",
          "data": {
            "text/plain": [
              "  0%|          | 0/5 [00:00<?, ?it/s]"
            ],
            "application/vnd.jupyter.widget-view+json": {
              "version_major": 2,
              "version_minor": 0,
              "model_id": "336f302ea1c54eefa61b7510494f8f4e"
            }
          },
          "metadata": {}
        },
        {
          "output_type": "stream",
          "name": "stdout",
          "text": [
            "Epoch: 1 | train_loss: 1.0923 | train_acc: 0.3911 | test_loss: 1.0727 | test_acc: 0.4133\n",
            "Epoch: 2 | train_loss: 1.0273 | train_acc: 0.5156 | test_loss: 1.0164 | test_acc: 0.4267\n",
            "Epoch: 3 | train_loss: 0.9614 | train_acc: 0.5111 | test_loss: 0.9927 | test_acc: 0.4667\n",
            "Epoch: 4 | train_loss: 0.9160 | train_acc: 0.5733 | test_loss: 0.9778 | test_acc: 0.4133\n",
            "Epoch: 5 | train_loss: 0.8875 | train_acc: 0.6089 | test_loss: 0.9868 | test_acc: 0.5067\n",
            "[INFO] Total training time: 16.887 seconds\n",
            "[INFO] Saving model to: models/05_going_modular_cell_mode_tinyvgg_model.pth\n"
          ]
        }
      ]
    },
    {
      "cell_type": "markdown",
      "source": [
        "###6.1 Train, evaluate and save the model `(script mode)`\n",
        "Let's combine all of our modular files into a single `script train.py`.\n",
        "\n",
        "This will allow us to run all of the functions we've written with a single line of code on the command line:\n",
        "\n",
        "python `going_modular/train.py`\n",
        "\n",
        "Or if we're running it in a notebook:\n",
        "\n",
        "`!python going_modular/train.py`\n",
        "\n",
        "We'll go through the following steps:\n",
        "\n",
        "1. Import the various `dependencies,` `namely` `torch,` `os,` `torchvision.transforms` and all of the scripts from the going_modular directory, `data_setup`, `engine,` `model_builder,` `utils`.\n",
        "\n",
        "**Note**: Since train.py will be inside the going_modular directory, we can import the other modules via import ... rather than from going_modular import ....\n",
        "\n",
        "2. Setup various hyperparameters such as batch size, number of epochs, learning rate and number of hidden units (these could be set in the future via Python's argparse).\n",
        "3. Setup the training and test directories.\n",
        "4. Setup d`evice-agnostic code`.\n",
        "5. Create the necessary `data transforms.`\n",
        "6. Create the DataLoaders using `data_setup.py.`\n",
        "7. Create the model using `model_builder.py`.\n",
        "8. Setup the `loss function` and `optimizer.`\n",
        "9. Train the model using `engine.py.`\n",
        "10. Save the model using `utils.py.`\n"
      ],
      "metadata": {
        "id": "ITyuejQG2dVJ"
      }
    },
    {
      "cell_type": "code",
      "source": [
        "%%writefile going_modular/train.py\n",
        "\"\"\"\n",
        "Trains a PyTorch image classification model using device-agnostic code.\n",
        "\"\"\"\n",
        "\n",
        "import os\n",
        "\n",
        "import torch\n",
        "\n",
        "from torchvision import transforms\n",
        "\n",
        "import data_setup, engine, model_builder, utils\n",
        "\n",
        "\n",
        "# Setup hyperparameters\n",
        "NUM_EPOCHS = 5\n",
        "BATCH_SIZE = 32\n",
        "HIDDEN_UNITS = 10\n",
        "LEARNING_RATE = 0.001\n",
        "\n",
        "# Setup directories\n",
        "train_dir = \"data/pizza_steak_sushi/train\"\n",
        "test_dir = \"data/pizza_steak_sushi/test\"\n",
        "\n",
        "# Setup target device\n",
        "device = \"cuda\" if torch.cuda.is_available() else \"cpu\"\n",
        "\n",
        "# Create transforms\n",
        "data_transform = transforms.Compose([\n",
        "  transforms.Resize((64, 64)),\n",
        "  transforms.ToTensor()\n",
        "])\n",
        "\n",
        "# Create DataLoaders with help from data_setup.py\n",
        "train_dataloader, test_dataloader, class_names = data_setup.create_dataloaders(\n",
        "    train_dir=train_dir,\n",
        "    test_dir=test_dir,\n",
        "    transform=data_transform,\n",
        "    batch_size=BATCH_SIZE\n",
        ")\n",
        "\n",
        "# Create model with help from model_builder.py\n",
        "model = model_builder.TinyVGG(\n",
        "    input_shape=3,\n",
        "    hidden_units=HIDDEN_UNITS,\n",
        "    output_shape=len(class_names)\n",
        ").to(device)\n",
        "\n",
        "# Set loss and optimizer\n",
        "loss_fn = torch.nn.CrossEntropyLoss()\n",
        "optimizer = torch.optim.Adam(model.parameters(),\n",
        "                             lr=LEARNING_RATE)\n",
        "\n",
        "# Start training with help from engine.py\n",
        "engine.train(model=model,\n",
        "             train_dataloader=train_dataloader,\n",
        "             test_dataloader=test_dataloader,\n",
        "             loss_fn=loss_fn,\n",
        "             optimizer=optimizer,\n",
        "             epochs=NUM_EPOCHS,\n",
        "             device=device)\n",
        "\n",
        "# Save the model with help from utils.py\n",
        "utils.save_model(model=model,\n",
        "                 target_dir=\"models\",\n",
        "                 model_name=\"05_going_modular_script_mode_tinyvgg_model.pth\")"
      ],
      "metadata": {
        "id": "u3KLDKNe2Ate",
        "colab": {
          "base_uri": "https://localhost:8080/"
        },
        "outputId": "8d0f2407-9ad2-4e96-bb7e-9a4deb78537e"
      },
      "execution_count": 32,
      "outputs": [
        {
          "output_type": "stream",
          "name": "stdout",
          "text": [
            "Overwriting going_modular/train.py\n"
          ]
        }
      ]
    },
    {
      "cell_type": "markdown",
      "source": [
        "![{CE11EB4D-CAD4-4908-9BB4-FBBA5EBD9B87}.png](data:image/png;base64,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)"
      ],
      "metadata": {
        "id": "7_yyn3ObEz0l"
      }
    },
    {
      "cell_type": "code",
      "source": [
        "!python going_modular/train.py\n"
      ],
      "metadata": {
        "colab": {
          "base_uri": "https://localhost:8080/"
        },
        "id": "GeP2Ov--Esew",
        "outputId": "cb7798fc-278d-4d7a-b843-f2edd04ba741"
      },
      "execution_count": 33,
      "outputs": [
        {
          "output_type": "stream",
          "name": "stdout",
          "text": [
            "Traceback (most recent call last):\n",
            "  File \"/content/going_modular/train.py\", line 11, in <module>\n",
            "    import data_setup, engine, model_builder, utils\n",
            "  File \"/content/going_modular/engine.py\", line 1\n",
            "    %%writefile going_modular/engine.py\n",
            "    ^\n",
            "SyntaxError: invalid syntax\n"
          ]
        }
      ]
    },
    {
      "cell_type": "markdown",
      "source": [
        "Woah!\n",
        "\n",
        "Look at that!\n",
        "\n",
        "We've just trained a model with a single line of code from the command line.\n",
        "\n",
        "We wrote a fair of code to do so, however, now we've got our code in .py files we can import them and reuse them as much as we like.\n",
        "\n",
        "For exercises and extra-curriculum for this section"
      ],
      "metadata": {
        "id": "OR-YVjNnFSBd"
      }
    },
    {
      "cell_type": "code",
      "source": [],
      "metadata": {
        "id": "dqlg43XtFAw5"
      },
      "execution_count": null,
      "outputs": []
    }
  ]
}