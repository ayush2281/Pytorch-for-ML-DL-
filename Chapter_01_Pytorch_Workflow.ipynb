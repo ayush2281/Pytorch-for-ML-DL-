{
  "nbformat": 4,
  "nbformat_minor": 0,
  "metadata": {
    "colab": {
      "provenance": [],
      "authorship_tag": "ABX9TyO69226KONvMrQ3MfK71pag",
      "include_colab_link": true
    },
    "kernelspec": {
      "name": "python3",
      "display_name": "Python 3"
    },
    "language_info": {
      "name": "python"
    }
  },
  "cells": [
    {
      "cell_type": "markdown",
      "metadata": {
        "id": "view-in-github",
        "colab_type": "text"
      },
      "source": [
        "<a href=\"https://colab.research.google.com/github/ayush2281/Pytorch-for-ML-DL-/blob/main/Chapter_01_Pytorch_Workflow.ipynb\" target=\"_parent\"><img src=\"https://colab.research.google.com/assets/colab-badge.svg\" alt=\"Open In Colab\"/></a>"
      ]
    },
    {
      "cell_type": "markdown",
      "source": [
        "## Pytorch Workflow\n",
        "Let's Explore a an example Pytorch end-to-end workflow.\n",
        "\n",
        "Resources:\n",
        "* Ground Truth notebook - https://github.com/mrdbourke/pytorch-deep-learning/blob/main/01_pytorch_workflow.ipynb\n",
        "\n",
        "*Book version of notebook*"
      ],
      "metadata": {
        "id": "yITI_HsDpsfv"
      }
    },
    {
      "cell_type": "markdown",
      "source": [
        "what_were_covering =  1: 'Data (prepare and load)'\n",
        "                       \n",
        "                       \n",
        "                       2: build Model\n",
        "                       3: 'fiting model to the data (training)'\n",
        "                       4: 'making the  predicition and evaluating a model (inference)'\n",
        "                       5: 'saving and loading a model'\n",
        "                       6: 'putting it all together'\n",
        "                       \n",
        "                      \n",
        "                    "
      ],
      "metadata": {
        "id": "95FsaOEZrtMp"
      }
    },
    {
      "cell_type": "code",
      "source": [
        "import torch\n",
        "from torch import nn # nn contains all of pytorch's building block for nn\n",
        "import matplotlib.pyplot as plt #The torch module in PyTorch is fundamental for building and training neural networks.\n",
        "import numpy as np\n",
        "\n",
        "# check the Pytorch version\n",
        "torch.__version__ # we are checking the version of the processor that we are working on\n"
      ],
      "metadata": {
        "colab": {
          "base_uri": "https://localhost:8080/",
          "height": 36
        },
        "id": "2exIah2ps8vs",
        "outputId": "290e3644-63d3-47d8-963e-248223685524"
      },
      "execution_count": 9,
      "outputs": [
        {
          "output_type": "execute_result",
          "data": {
            "text/plain": [
              "'2.4.1+cu121'"
            ],
            "application/vnd.google.colaboratory.intrinsic+json": {
              "type": "string"
            }
          },
          "metadata": {},
          "execution_count": 9
        }
      ]
    },
    {
      "cell_type": "markdown",
      "source": [
        "1. 'Data (prepare and load)'\n",
        "data can be ananything in the ml.\n"
      ],
      "metadata": {
        "id": "43bprzJOtlG7"
      }
    },
    {
      "cell_type": "markdown",
      "source": [
        "Data can all most anything.. in ml\n",
        "\n",
        "* Excel speadsheet(CSV)\n",
        "* image of any kind\n",
        "* video (YOutu be has lots of data)\n",
        "* Audio like songs or podcast\n",
        "* DNA\n",
        "* TEXT\n",
        "\n",
        "## Ml is game of two part:\n",
        "1. Get Data into a numerical representation\n",
        "2. build a model to learn a pattern in that numerical representation\n",
        "\n",
        "To showcae this , lets create some *knwon* data using the linear regression formula.\n",
        "\n",
        "We'll  use linear regression formula to make a straight line with known parameter."
      ],
      "metadata": {
        "id": "h3x6x1oTCxHS"
      }
    },
    {
      "cell_type": "code",
      "source": [
        "# Create *known* parameter\n",
        "weight = 0.7\n",
        "bias = 0.5\n",
        "\n",
        "# create a data\n",
        "start =0 # starting from\n",
        "end =1 # end on 0.02 steps every time till 1.\n",
        "step = 0.02 # it will takle # x = torch.arange(start,end,step).unsqueeze(dim=1)\n",
        "x = torch.arange(start,end,step)  # torch.arange use for the genrating range\n",
        "# print(torch.range(10,20)) for the example\n",
        "\n",
        "y = weight * x + bias   # equation of the straight line\n",
        "\n",
        "x[:10],y[:10], len(x), len(y)"
      ],
      "metadata": {
        "colab": {
          "base_uri": "https://localhost:8080/"
        },
        "id": "qkvMl-Xfte_3",
        "outputId": "55d99257-d1ba-4ba7-d09d-7d3d8e08286e"
      },
      "execution_count": 2,
      "outputs": [
        {
          "output_type": "execute_result",
          "data": {
            "text/plain": [
              "(tensor([0.0000, 0.0200, 0.0400, 0.0600, 0.0800, 0.1000, 0.1200, 0.1400, 0.1600,\n",
              "         0.1800]),\n",
              " tensor([0.5000, 0.5140, 0.5280, 0.5420, 0.5560, 0.5700, 0.5840, 0.5980, 0.6120,\n",
              "         0.6260]),\n",
              " 50,\n",
              " 50)"
            ]
          },
          "metadata": {},
          "execution_count": 2
        }
      ]
    },
    {
      "cell_type": "code",
      "source": [
        "len(x), len(y)"
      ],
      "metadata": {
        "colab": {
          "base_uri": "https://localhost:8080/"
        },
        "id": "eA3XLMeXFedf",
        "outputId": "2e5b4a82-8f9e-4074-9883-a4b66cd3626e"
      },
      "execution_count": 11,
      "outputs": [
        {
          "output_type": "execute_result",
          "data": {
            "text/plain": [
              "(50, 50)"
            ]
          },
          "metadata": {},
          "execution_count": 11
        }
      ]
    },
    {
      "cell_type": "markdown",
      "source": [
        "  spliting data into training and testing sets (one of the most important concept in machine learning in general).."
      ],
      "metadata": {
        "id": "sujpBHXiHcQ3"
      }
    },
    {
      "cell_type": "markdown",
      "source": [
        "lets create an train and test with our data"
      ],
      "metadata": {
        "id": "KGmG5ftGKGZR"
      }
    },
    {
      "cell_type": "code",
      "source": [
        "# create an train test split\n",
        "train_split  = int(0.8 * len(x))\n",
        "x_train, y_train = x[:train_split], y[:train_split]\n",
        "x_test, y_test = x[train_split:], y[train_split:]\n",
        "\n",
        "len(x_train), len(y_train), len(x_test), len(y_test)"
      ],
      "metadata": {
        "colab": {
          "base_uri": "https://localhost:8080/"
        },
        "id": "65aCzAxmIZnh",
        "outputId": "2a65eca0-63a6-4f64-90a2-7bc02817594c"
      },
      "execution_count": 12,
      "outputs": [
        {
          "output_type": "execute_result",
          "data": {
            "text/plain": [
              "(40, 40, 10, 10)"
            ]
          },
          "metadata": {},
          "execution_count": 12
        }
      ]
    },
    {
      "cell_type": "markdown",
      "source": [
        "**X_train contains the features and y_train contains the labels (or targets). The model learns to predict the labels based on the features.*"
      ],
      "metadata": {
        "id": "ZVS6gWUiwMLc"
      }
    },
    {
      "cell_type": "code",
      "source": [
        "x_train, y_train"
      ],
      "metadata": {
        "colab": {
          "base_uri": "https://localhost:8080/"
        },
        "id": "GI6K7CVBKfH-",
        "outputId": "c7cf1bc3-1276-4247-94d1-f0afa92a6a41"
      },
      "execution_count": 5,
      "outputs": [
        {
          "output_type": "execute_result",
          "data": {
            "text/plain": [
              "(tensor([0.0000, 0.0200, 0.0400, 0.0600, 0.0800, 0.1000, 0.1200, 0.1400, 0.1600,\n",
              "         0.1800, 0.2000, 0.2200, 0.2400, 0.2600, 0.2800, 0.3000, 0.3200, 0.3400,\n",
              "         0.3600, 0.3800, 0.4000, 0.4200, 0.4400, 0.4600, 0.4800, 0.5000, 0.5200,\n",
              "         0.5400, 0.5600, 0.5800, 0.6000, 0.6200, 0.6400, 0.6600, 0.6800, 0.7000,\n",
              "         0.7200, 0.7400, 0.7600, 0.7800]),\n",
              " tensor([0.5000, 0.5140, 0.5280, 0.5420, 0.5560, 0.5700, 0.5840, 0.5980, 0.6120,\n",
              "         0.6260, 0.6400, 0.6540, 0.6680, 0.6820, 0.6960, 0.7100, 0.7240, 0.7380,\n",
              "         0.7520, 0.7660, 0.7800, 0.7940, 0.8080, 0.8220, 0.8360, 0.8500, 0.8640,\n",
              "         0.8780, 0.8920, 0.9060, 0.9200, 0.9340, 0.9480, 0.9620, 0.9760, 0.9900,\n",
              "         1.0040, 1.0180, 1.0320, 1.0460]))"
            ]
          },
          "metadata": {},
          "execution_count": 5
        }
      ]
    },
    {
      "cell_type": "markdown",
      "source": [
        "How might we better visualize out data?\n",
        "\n",
        "this is where the data explore's motto comes in!\n",
        "\n",
        "'Visalise , Visualize, Visualize'\n",
        "\n"
      ],
      "metadata": {
        "id": "vxLIgluJMPmk"
      }
    },
    {
      "cell_type": "code",
      "source": [
        "def plot_prediction(train_data=x_train,\n",
        "                    train_labels = y_train,\n",
        "                    test_data = x_test,\n",
        "                    test_labels = y_test,\n",
        "                    prediciton =None):\n",
        "  \"\"\"\n",
        "  Plots training data, test data and compares predicitons\n",
        "\n",
        "  \"\"\"\n",
        "  #plot training data in blue\n",
        "  plt.scatter(train_data, train_labels, c=\"b\", s=4, label=\"training data\")\n",
        "\n",
        "  #plot test data in red\n",
        "  plt.scatter(test_data, test_labels, c=\"r\", s=4, label=\"test data\")\n",
        "\n",
        "  # are there prediction\n",
        "\n",
        "  if prediciton is not None:\n",
        "    #plot the predicition if they exist\n",
        "    plt.scatter(test_data, prediciton, c=\"g\", s=4, label=\"prediciton data\")\n",
        "\n",
        "  #show the legend\n",
        "  plt.legend(prop={\"size\":14})\n"
      ],
      "metadata": {
        "id": "9Dwj5UMgML_7"
      },
      "execution_count": 6,
      "outputs": []
    },
    {
      "cell_type": "code",
      "source": [
        "plot_prediction();"
      ],
      "metadata": {
        "colab": {
          "base_uri": "https://localhost:8080/",
          "height": 430
        },
        "id": "Zh_ELP5yOBIM",
        "outputId": "a0aa7d8c-a0f8-4b99-f20d-fc433f71a97c"
      },
      "execution_count": 7,
      "outputs": [
        {
          "output_type": "display_data",
          "data": {
            "text/plain": [
              "<Figure size 640x480 with 1 Axes>"
            ],
            "image/png": "[encoded data removed]"
          },
          "metadata": {}
        }
      ]
    },
    {
      "cell_type": "markdown",
      "source": [
        "##2. Building  a model!\n",
        "\n",
        "wohhh that's exciting, let's do it!\n",
        "\n",
        "## What Our doesweight and bias\n",
        "* starts with random values (weight and bias)\n",
        "* look at the training data and adjust the random values to better represent (or get to the *closer*) to the ideal values (the weight & bias values we used to create the data)\n",
        "\n",
        "## How does it to do so ?\n",
        "1. Gradient descent --> resource -> YT(3blue1brown)\n",
        "2. Backpropagation --> resource -> YT(3blue1brown)"
      ],
      "metadata": {
        "id": "hdaR9hWpajw6"
      }
    },
    {
      "cell_type": "code",
      "source": [
        "import torch\n",
        "import torch.nn as nn\n",
        "\n",
        "# create an linear model\n",
        "class linearRegreassionModel(nn.Module): # subclass nn.module\n",
        "    def __init__(self):\n",
        "        super().__init__()\n",
        "        # initialize the model parameter\n",
        "        # (requires_grad=True) means pytorch will track the gradient of this specific parameter for use with torch.autograd and gradient descent\n",
        "        self.weights = nn.Parameter(torch.randn(1,\n",
        "                                                dtype=torch.float,\n",
        "                                                requires_grad=True))\n",
        "        self.bias = nn.Parameter(torch.randn(1,\n",
        "                                             dtype=torch.float,\n",
        "                                             requires_grad=True))\n",
        "    def forward(self, x: torch.Tensor): # forward method to define the computational in the model, 'x' is the input\n",
        "      return self.weights * x + self.bias # this is the linear regression formula"
      ],
      "metadata": {
        "id": "3TmjKfAdOZZa"
      },
      "execution_count": 13,
      "outputs": []
    },
    {
      "cell_type": "markdown",
      "source": [
        "##pytorch module\n",
        "   1. torch.nn : Contains all the building blocks for neural networks\n",
        "   2. torch.nn.Module : The base class for all neural network module\n",
        "   3. torch.optim : Contains various optimization algorithms like SGD, Adam, etc.\n",
        "   4. torch.utils.data.dataset :\n",
        "   5. torch.utils.data.DataLoader\n",
        "   6. torch.nn.Parameter\n",
        "\n",
        "   *for more visit this page* https://pytorch.org/tutorials/beginner/ptcheat.html\n"
      ],
      "metadata": {
        "id": "gT8WaYfCm2CF"
      }
    },
    {
      "cell_type": "markdown",
      "source": [
        "### pytorch model building essential\n",
        "\n",
        " **PytorchModule** |  **What does it do**\n",
        "* torch.nn --> contains all buildings for computational graphs (a neural * network can we consider a computational graph)\n",
        "* torch.nn.Parameter -what parametr should our model try and lern , often a pytorch layer from torch.nn will set these for   us\n",
        "* torch.nn.module - the base clss for all neural network modules , if you subclass it , should overwrite forword()"
      ],
      "metadata": {
        "id": "bZdZJlmnkMBk"
      }
    },
    {
      "cell_type": "code",
      "source": [
        "torch.manual_seed(42)\n",
        "torch.randn(1)"
      ],
      "metadata": {
        "colab": {
          "base_uri": "https://localhost:8080/"
        },
        "id": "y9a-g6A5XPlA",
        "outputId": "5e29da54-f54c-4bca-d29c-6f4fa079100e"
      },
      "execution_count": 16,
      "outputs": [
        {
          "output_type": "execute_result",
          "data": {
            "text/plain": [
              "tensor([0.3367])"
            ]
          },
          "metadata": {},
          "execution_count": 16
        }
      ]
    },
    {
      "cell_type": "markdown",
      "source": [
        "## checkings the contains of our Pytorch model\n",
        "\n",
        "Now we've created a model, let's see whats  inside it.\n",
        "\n",
        "so we can checklout model parameters or whats inside our model uisng .parameter()."
      ],
      "metadata": {
        "id": "FprjkC33mec4"
      }
    },
    {
      "cell_type": "code",
      "source": [
        "## creare an random seed\n",
        "torch.manual_seed(42)\n",
        "\n",
        "# create an instance of the model (this is a subclass od nn.Module)\n",
        "model_0 = linearRegreassionModel()\n",
        "\n",
        "list(model_0.parameters())\n"
      ],
      "metadata": {
        "id": "nJL-csoapu_U",
        "colab": {
          "base_uri": "https://localhost:8080/"
        },
        "outputId": "5798ced0-5de4-4a9c-fa4f-27ef9c109360"
      },
      "execution_count": 17,
      "outputs": [
        {
          "output_type": "execute_result",
          "data": {
            "text/plain": [
              "[Parameter containing:\n",
              " tensor([0.3367], requires_grad=True),\n",
              " Parameter containing:\n",
              " tensor([0.1288], requires_grad=True)]"
            ]
          },
          "metadata": {},
          "execution_count": 17
        }
      ]
    },
    {
      "cell_type": "code",
      "source": [
        "# list the named parameter\n",
        "model_0.state_dict()"
      ],
      "metadata": {
        "colab": {
          "base_uri": "https://localhost:8080/"
        },
        "id": "WERmlwhhV8aB",
        "outputId": "d717f26f-40c0-479c-b92b-ad7d30a0eb59"
      },
      "execution_count": 18,
      "outputs": [
        {
          "output_type": "execute_result",
          "data": {
            "text/plain": [
              "OrderedDict([('weights', tensor([0.3367])), ('bias', tensor([0.1288]))])"
            ]
          },
          "metadata": {},
          "execution_count": 18
        }
      ]
    },
    {
      "cell_type": "code",
      "source": [
        "weight , bias"
      ],
      "metadata": {
        "colab": {
          "base_uri": "https://localhost:8080/"
        },
        "id": "8XvloqoGYH56",
        "outputId": "fae92fd5-8f74-402f-c242-9f29929d29e1"
      },
      "execution_count": 19,
      "outputs": [
        {
          "output_type": "execute_result",
          "data": {
            "text/plain": [
              "(0.7, 0.5)"
            ]
          },
          "metadata": {},
          "execution_count": 19
        }
      ]
    },
    {
      "cell_type": "markdown",
      "source": [
        "check why the both weigt and bias value is different."
      ],
      "metadata": {
        "id": "HfPhH1BfYkOL"
      }
    },
    {
      "cell_type": "markdown",
      "source": [
        "### making prediction using torch.inference_mode()\n",
        "\n",
        "To check our model predictive power , lts see how well it predictes y_test base on X_test.\n",
        "\n",
        "when we pass data through our model , its going to rin it through the forward() method."
      ],
      "metadata": {
        "id": "g3lMxfeRYil4"
      }
    },
    {
      "cell_type": "code",
      "source": [
        "x_test, y_test"
      ],
      "metadata": {
        "colab": {
          "base_uri": "https://localhost:8080/"
        },
        "id": "du44OTITF0AZ",
        "outputId": "4674971c-f579-473d-a2e2-d94babe6b40b"
      },
      "execution_count": 20,
      "outputs": [
        {
          "output_type": "execute_result",
          "data": {
            "text/plain": [
              "(tensor([0.8000, 0.8200, 0.8400, 0.8600, 0.8800, 0.9000, 0.9200, 0.9400, 0.9600,\n",
              "         0.9800]),\n",
              " tensor([1.0600, 1.0740, 1.0880, 1.1020, 1.1160, 1.1300, 1.1440, 1.1580, 1.1720,\n",
              "         1.1860]))"
            ]
          },
          "metadata": {},
          "execution_count": 20
        }
      ]
    },
    {
      "cell_type": "markdown",
      "source": [
        "x_test contains the features of the test dataset, and y_test contains the corresponding labels or targets."
      ],
      "metadata": {
        "id": "XgmKIh1L0aAD"
      }
    },
    {
      "cell_type": "code",
      "source": [
        "# yeah this one and next one have same output but it contains the gradient and another one not contain the gradient calculation\n",
        "y_preds= model_0(x_test)\n",
        "y_preds\n",
        "\n"
      ],
      "metadata": {
        "colab": {
          "base_uri": "https://localhost:8080/"
        },
        "id": "PWvu8-XiIoYC",
        "outputId": "e84ab01c-d0dc-44ac-93f0-d02165dcf5be"
      },
      "execution_count": 21,
      "outputs": [
        {
          "output_type": "execute_result",
          "data": {
            "text/plain": [
              "tensor([0.3982, 0.4049, 0.4116, 0.4184, 0.4251, 0.4318, 0.4386, 0.4453, 0.4520,\n",
              "        0.4588], grad_fn=<AddBackward0>)"
            ]
          },
          "metadata": {},
          "execution_count": 21
        }
      ]
    },
    {
      "cell_type": "code",
      "source": [
        " # make prediction with model\n",
        "# with torch.inference_mode(): # pytorch.inference disable the gradient calculation(weight)\n",
        "#   y_preds = model_0(x_test)\n",
        "\n",
        "# y_preds\n",
        "\n",
        "with torch.no_grad(): # the both snipets having same output and in othr words youy can you use either one.\n",
        "  y_preds = model_0(x_test)\n",
        "y_preds\n"
      ],
      "metadata": {
        "colab": {
          "base_uri": "https://localhost:8080/"
        },
        "id": "uYYN7-t6DxMu",
        "outputId": "aa509cdc-96da-4096-d880-7b3f96cead54"
      },
      "execution_count": 22,
      "outputs": [
        {
          "output_type": "execute_result",
          "data": {
            "text/plain": [
              "tensor([0.3982, 0.4049, 0.4116, 0.4184, 0.4251, 0.4318, 0.4386, 0.4453, 0.4520,\n",
              "        0.4588])"
            ]
          },
          "metadata": {},
          "execution_count": 22
        }
      ]
    },
    {
      "cell_type": "code",
      "source": [
        "plot_prediction(prediciton=y_preds)"
      ],
      "metadata": {
        "colab": {
          "base_uri": "https://localhost:8080/",
          "height": 430
        },
        "id": "_RqGdNhUFttB",
        "outputId": "9dc01347-b1be-423b-899f-842338aa7a7e"
      },
      "execution_count": 24,
      "outputs": [
        {
          "output_type": "display_data",
          "data": {
            "text/plain": [
              "<Figure size 640x480 with 1 Axes>"
            ],
            "image/png": "[encoded data removed]"
          },
          "metadata": {}
        }
      ]
    },
    {
      "cell_type": "markdown",
      "source": [
        "## 3. train model\n",
        "* The whole idea is training for a model to move from some unknown parameter (these may be random) to some known parameter.\n",
        "* or in other words from poor representaion of the data to a better representation of the data.\n",
        "\n",
        "* oneway to measure how poor/ wrong model are . use loss function\n",
        "\n",
        "*Note* : Loss function may also called cost fucntion or criteria in different areas .\n",
        "\n",
        "**Loss Fucntion** A fucntion to measure how wrong ur model prediction are to the ideal/actual output, Lower is better.\n",
        "\n",
        "**optimizer** : takes into account the loss funtion  of a model and adjust the model parameter(e.g. weight & bias)\n",
        "\n",
        "And specially for pytorch ⁉\n",
        "1. A training loop\n",
        "2. A testing loop\n",
        "\n",
        "*for more visit:* https://pytorch.org/docs/stable/nn.html#loss-functions"
      ],
      "metadata": {
        "id": "AkqUenRiITt2"
      }
    },
    {
      "cell_type": "code",
      "source": [
        "# checkout the model paramter(a parametr is a value that tghe model sets itself)\n",
        "model_0.state_dict()"
      ],
      "metadata": {
        "colab": {
          "base_uri": "https://localhost:8080/"
        },
        "id": "hB4Kfze3Nuvj",
        "outputId": "a718ee69-e5f5-463b-f879-7bd0f54eafd6"
      },
      "execution_count": null,
      "outputs": [
        {
          "output_type": "execute_result",
          "data": {
            "text/plain": [
              "OrderedDict([('weights', tensor([0.3367])), ('bias', tensor([0.1288]))])"
            ]
          },
          "metadata": {},
          "execution_count": 324
        }
      ]
    },
    {
      "cell_type": "code",
      "source": [
        "# using the Mean absolute error to calculate how much function is wrong\n",
        "MAE_loss = torch.mean(torch.abs(y_preds - y_test))\n",
        "MAE_loss"
      ],
      "metadata": {
        "colab": {
          "base_uri": "https://localhost:8080/"
        },
        "id": "0CKfQOoFTGDJ",
        "outputId": "69f9c221-36df-45bd-8b4c-ec93d494b285"
      },
      "execution_count": 25,
      "outputs": [
        {
          "output_type": "execute_result",
          "data": {
            "text/plain": [
              "tensor(0.6945)"
            ]
          },
          "metadata": {},
          "execution_count": 25
        }
      ]
    },
    {
      "cell_type": "markdown",
      "source": [
        "**Accuracy vs. Loss: Accuracy measures the percentage of correctly classified instances, while loss measures the difference between predicted and actual values. These two metrics are related but not interchangeable.**"
      ],
      "metadata": {
        "id": "36psKhmG3Drb"
      }
    },
    {
      "cell_type": "code",
      "source": [
        "#setup the losss function\n",
        "loss_fn = nn.L1Loss()\n",
        "\n",
        "\n",
        "#setup optimizer\n",
        "optimizer =  torch.optim.SGD(params=model_0.parameters(),\n",
        "                            lr=0.01)  #learning_rate - >,the small learning rate small change in parameter, the large learning rate the large change in parameter\n",
        "optimizer"
      ],
      "metadata": {
        "colab": {
          "base_uri": "https://localhost:8080/"
        },
        "id": "70MRierXPbFn",
        "outputId": "29846ec0-8fbd-4931-ddae-f8936615e073"
      },
      "execution_count": 28,
      "outputs": [
        {
          "output_type": "execute_result",
          "data": {
            "text/plain": [
              "SGD (\n",
              "Parameter Group 0\n",
              "    dampening: 0\n",
              "    differentiable: False\n",
              "    foreach: None\n",
              "    fused: None\n",
              "    lr: 0.01\n",
              "    maximize: False\n",
              "    momentum: 0\n",
              "    nesterov: False\n",
              "    weight_decay: 0\n",
              ")"
            ]
          },
          "metadata": {},
          "execution_count": 28
        }
      ]
    },
    {
      "cell_type": "markdown",
      "source": [
        "which loss funtion and optimizer i should use...--> nn.L1Loss() ,\n",
        "torch.optimSGD()"
      ],
      "metadata": {
        "id": "c-zEQhRWxpRb"
      }
    },
    {
      "cell_type": "markdown",
      "source": [
        "### Building a training and test  looop in pytorch\n",
        "\n",
        "A couple of thing we need in a training loop:\n",
        "0. Loop throgh the data\n",
        "1. forword pass (this involve data moving throgh our models forword()' fucntion) to make prediciton on data - also called forword propagation\n",
        "2. calculate the loss fucntion (compare forword passs prediction to ground truth labels)\n",
        "3. Optimizeer zero grad\n",
        "4. loss backword - move backwisse through the network to calculate the gradient of each of the parameter of our model with respect to the loss(**backpropogation**)\n",
        "5. optimizer step - use the optimizer to adjust models parameter to try and improve the loss.(**Gradient descent**)\n"
      ],
      "metadata": {
        "id": "l1CknWV4R8SG"
      }
    },
    {
      "cell_type": "code",
      "source": [
        "with torch.no_grad():\n",
        "  list(model_0.parameters())"
      ],
      "metadata": {
        "id": "ci_At6nk4IqM"
      },
      "execution_count": 29,
      "outputs": []
    },
    {
      "cell_type": "code",
      "source": [
        "list(model_0.parameters())"
      ],
      "metadata": {
        "colab": {
          "base_uri": "https://localhost:8080/"
        },
        "id": "f0m8YqIO38rA",
        "outputId": "1dfa5894-188e-416c-9fbc-93fe6d037b31"
      },
      "execution_count": 30,
      "outputs": [
        {
          "output_type": "execute_result",
          "data": {
            "text/plain": [
              "[Parameter containing:\n",
              " tensor([0.3367], requires_grad=True),\n",
              " Parameter containing:\n",
              " tensor([0.1288], requires_grad=True)]"
            ]
          },
          "metadata": {},
          "execution_count": 30
        }
      ]
    },
    {
      "cell_type": "code",
      "source": [
        "# an epochs is the one loop through the data .. (this is hyperparameter because we've set)\n",
        "epochs = 200\n",
        "\n",
        "\n",
        "#Track the different values:\n",
        "epoch_count = []\n",
        "train_loss_values = []\n",
        "test_loss_values = []\n",
        "\n",
        "##Training\n",
        "# 0 Loop through the data\n",
        "for epochs in range(epochs):\n",
        "  # set the model to training data\n",
        "  model_0.train() # train mode  in pytorch set all parameter that require gradient to require gradient\n",
        "\n",
        "  model_0.eval() # turns of gradient tracking, and eval is used for the evaluating the mdodel\n",
        "  # 1. forward pass\n",
        "  y_preds = model_0(x_train)\n",
        "\n",
        "  # 2. calculate the loss\n",
        "  loss = loss_fn(y_preds, y_train) # y_prds contains the prediction values , and the y_train contains the labels and target value of the dataset\n",
        "  print(f\"loss\",loss)\n",
        "\n",
        "  # 3. optimizer zero grad\n",
        "  optimizer.zero_grad()\n",
        "\n",
        "  # 4. loss backword\n",
        "  loss.backward()\n",
        "\n",
        "  # 5. optimizer step\n",
        "  optimizer.step() ## by default how the optimizeer change will accumulate through the loop so.. we have to zero them in step 3 for the next itteration of the loop.\n",
        "  ##testing\n",
        "  model_0.train() # turns of different settings in the model not needed for evaluting/testing(dropout)\n",
        "  with torch.inference_mode(): # turns off gradient tracking & a couple  more things behind the scenes\n",
        "  # with torch.no_grad():    # in the older version of the pytorch also se torch.no_grad():\n",
        "\n",
        "    # 1. do the forward pass\n",
        "    test_pred = model_0(x_test)\n",
        "\n",
        "    #2. Calculate the loss\n",
        "    test_loss = loss_fn(test_pred, y_test)\n",
        "  # print out what's happenin'\n",
        "  if epochs % 10 == 0:\n",
        "    epoch_count.append(epochs)\n",
        "    train_loss_values.append(loss)\n",
        "    test_loss_values.append(test_loss)\n",
        "    print(f\"Epochs: {epochs} | Loss: {loss} | Test Loss: {test_loss}\")\n",
        "    # print out the model state_dist\n",
        "    print(model_0.state_dict())\n"
      ],
      "metadata": {
        "id": "TZ6f-lj5y2PJ",
        "colab": {
          "base_uri": "https://localhost:8080/"
        },
        "outputId": "d07ad50b-b240-4eee-9781-8c3762dedab6"
      },
      "execution_count": 33,
      "outputs": [
        {
          "output_type": "stream",
          "name": "stdout",
          "text": [
            "loss tensor(0.0069, grad_fn=<MeanBackward0>)\n",
            "Epochs: 0 | Loss: 0.006928838789463043 | Test Loss: 0.008951961994171143\n",
            "OrderedDict([('weights', tensor([0.6913])), ('bias', tensor([0.4988]))])\n",
            "loss tensor(0.0046, grad_fn=<MeanBackward0>)\n",
            "loss tensor(0.0069, grad_fn=<MeanBackward0>)\n",
            "loss tensor(0.0046, grad_fn=<MeanBackward0>)\n",
            "loss tensor(0.0069, grad_fn=<MeanBackward0>)\n",
            "loss tensor(0.0046, grad_fn=<MeanBackward0>)\n",
            "loss tensor(0.0069, grad_fn=<MeanBackward0>)\n",
            "loss tensor(0.0046, grad_fn=<MeanBackward0>)\n",
            "loss tensor(0.0069, grad_fn=<MeanBackward0>)\n",
            "loss tensor(0.0046, grad_fn=<MeanBackward0>)\n",
            "loss tensor(0.0069, grad_fn=<MeanBackward0>)\n",
            "Epochs: 10 | Loss: 0.006928838789463043 | Test Loss: 0.008951961994171143\n",
            "OrderedDict([('weights', tensor([0.6913])), ('bias', tensor([0.4988]))])\n",
            "loss tensor(0.0046, grad_fn=<MeanBackward0>)\n",
            "loss tensor(0.0069, grad_fn=<MeanBackward0>)\n",
            "loss tensor(0.0046, grad_fn=<MeanBackward0>)\n",
            "loss tensor(0.0069, grad_fn=<MeanBackward0>)\n",
            "loss tensor(0.0046, grad_fn=<MeanBackward0>)\n",
            "loss tensor(0.0069, grad_fn=<MeanBackward0>)\n",
            "loss tensor(0.0046, grad_fn=<MeanBackward0>)\n",
            "loss tensor(0.0069, grad_fn=<MeanBackward0>)\n",
            "loss tensor(0.0046, grad_fn=<MeanBackward0>)\n",
            "loss tensor(0.0069, grad_fn=<MeanBackward0>)\n",
            "Epochs: 20 | Loss: 0.006928838789463043 | Test Loss: 0.008951961994171143\n",
            "OrderedDict([('weights', tensor([0.6913])), ('bias', tensor([0.4988]))])\n",
            "loss tensor(0.0046, grad_fn=<MeanBackward0>)\n",
            "loss tensor(0.0069, grad_fn=<MeanBackward0>)\n",
            "loss tensor(0.0046, grad_fn=<MeanBackward0>)\n",
            "loss tensor(0.0069, grad_fn=<MeanBackward0>)\n",
            "loss tensor(0.0046, grad_fn=<MeanBackward0>)\n",
            "loss tensor(0.0069, grad_fn=<MeanBackward0>)\n",
            "loss tensor(0.0046, grad_fn=<MeanBackward0>)\n",
            "loss tensor(0.0069, grad_fn=<MeanBackward0>)\n",
            "loss tensor(0.0046, grad_fn=<MeanBackward0>)\n",
            "loss tensor(0.0069, grad_fn=<MeanBackward0>)\n",
            "Epochs: 30 | Loss: 0.006928838789463043 | Test Loss: 0.008951961994171143\n",
            "OrderedDict([('weights', tensor([0.6913])), ('bias', tensor([0.4988]))])\n",
            "loss tensor(0.0046, grad_fn=<MeanBackward0>)\n",
            "loss tensor(0.0069, grad_fn=<MeanBackward0>)\n",
            "loss tensor(0.0046, grad_fn=<MeanBackward0>)\n",
            "loss tensor(0.0069, grad_fn=<MeanBackward0>)\n",
            "loss tensor(0.0046, grad_fn=<MeanBackward0>)\n",
            "loss tensor(0.0069, grad_fn=<MeanBackward0>)\n",
            "loss tensor(0.0046, grad_fn=<MeanBackward0>)\n",
            "loss tensor(0.0069, grad_fn=<MeanBackward0>)\n",
            "loss tensor(0.0046, grad_fn=<MeanBackward0>)\n",
            "loss tensor(0.0069, grad_fn=<MeanBackward0>)\n",
            "Epochs: 40 | Loss: 0.006928838789463043 | Test Loss: 0.008951961994171143\n",
            "OrderedDict([('weights', tensor([0.6913])), ('bias', tensor([0.4988]))])\n",
            "loss tensor(0.0046, grad_fn=<MeanBackward0>)\n",
            "loss tensor(0.0069, grad_fn=<MeanBackward0>)\n",
            "loss tensor(0.0046, grad_fn=<MeanBackward0>)\n",
            "loss tensor(0.0069, grad_fn=<MeanBackward0>)\n",
            "loss tensor(0.0046, grad_fn=<MeanBackward0>)\n",
            "loss tensor(0.0069, grad_fn=<MeanBackward0>)\n",
            "loss tensor(0.0046, grad_fn=<MeanBackward0>)\n",
            "loss tensor(0.0069, grad_fn=<MeanBackward0>)\n",
            "loss tensor(0.0046, grad_fn=<MeanBackward0>)\n",
            "loss tensor(0.0069, grad_fn=<MeanBackward0>)\n",
            "Epochs: 50 | Loss: 0.006928838789463043 | Test Loss: 0.008951961994171143\n",
            "OrderedDict([('weights', tensor([0.6913])), ('bias', tensor([0.4988]))])\n",
            "loss tensor(0.0046, grad_fn=<MeanBackward0>)\n",
            "loss tensor(0.0069, grad_fn=<MeanBackward0>)\n",
            "loss tensor(0.0046, grad_fn=<MeanBackward0>)\n",
            "loss tensor(0.0069, grad_fn=<MeanBackward0>)\n",
            "loss tensor(0.0046, grad_fn=<MeanBackward0>)\n",
            "loss tensor(0.0069, grad_fn=<MeanBackward0>)\n",
            "loss tensor(0.0046, grad_fn=<MeanBackward0>)\n",
            "loss tensor(0.0069, grad_fn=<MeanBackward0>)\n",
            "loss tensor(0.0046, grad_fn=<MeanBackward0>)\n",
            "loss tensor(0.0069, grad_fn=<MeanBackward0>)\n",
            "Epochs: 60 | Loss: 0.006928838789463043 | Test Loss: 0.008951961994171143\n",
            "OrderedDict([('weights', tensor([0.6913])), ('bias', tensor([0.4988]))])\n",
            "loss tensor(0.0046, grad_fn=<MeanBackward0>)\n",
            "loss tensor(0.0069, grad_fn=<MeanBackward0>)\n",
            "loss tensor(0.0046, grad_fn=<MeanBackward0>)\n",
            "loss tensor(0.0069, grad_fn=<MeanBackward0>)\n",
            "loss tensor(0.0046, grad_fn=<MeanBackward0>)\n",
            "loss tensor(0.0069, grad_fn=<MeanBackward0>)\n",
            "loss tensor(0.0046, grad_fn=<MeanBackward0>)\n",
            "loss tensor(0.0069, grad_fn=<MeanBackward0>)\n",
            "loss tensor(0.0046, grad_fn=<MeanBackward0>)\n",
            "loss tensor(0.0069, grad_fn=<MeanBackward0>)\n",
            "Epochs: 70 | Loss: 0.006928838789463043 | Test Loss: 0.008951961994171143\n",
            "OrderedDict([('weights', tensor([0.6913])), ('bias', tensor([0.4988]))])\n",
            "loss tensor(0.0046, grad_fn=<MeanBackward0>)\n",
            "loss tensor(0.0069, grad_fn=<MeanBackward0>)\n",
            "loss tensor(0.0046, grad_fn=<MeanBackward0>)\n",
            "loss tensor(0.0069, grad_fn=<MeanBackward0>)\n",
            "loss tensor(0.0046, grad_fn=<MeanBackward0>)\n",
            "loss tensor(0.0069, grad_fn=<MeanBackward0>)\n",
            "loss tensor(0.0046, grad_fn=<MeanBackward0>)\n",
            "loss tensor(0.0069, grad_fn=<MeanBackward0>)\n",
            "loss tensor(0.0046, grad_fn=<MeanBackward0>)\n",
            "loss tensor(0.0069, grad_fn=<MeanBackward0>)\n",
            "Epochs: 80 | Loss: 0.006928838789463043 | Test Loss: 0.008951961994171143\n",
            "OrderedDict([('weights', tensor([0.6913])), ('bias', tensor([0.4988]))])\n",
            "loss tensor(0.0046, grad_fn=<MeanBackward0>)\n",
            "loss tensor(0.0069, grad_fn=<MeanBackward0>)\n",
            "loss tensor(0.0046, grad_fn=<MeanBackward0>)\n",
            "loss tensor(0.0069, grad_fn=<MeanBackward0>)\n",
            "loss tensor(0.0046, grad_fn=<MeanBackward0>)\n",
            "loss tensor(0.0069, grad_fn=<MeanBackward0>)\n",
            "loss tensor(0.0046, grad_fn=<MeanBackward0>)\n",
            "loss tensor(0.0069, grad_fn=<MeanBackward0>)\n",
            "loss tensor(0.0046, grad_fn=<MeanBackward0>)\n",
            "loss tensor(0.0069, grad_fn=<MeanBackward0>)\n",
            "Epochs: 90 | Loss: 0.006928838789463043 | Test Loss: 0.008951961994171143\n",
            "OrderedDict([('weights', tensor([0.6913])), ('bias', tensor([0.4988]))])\n",
            "loss tensor(0.0046, grad_fn=<MeanBackward0>)\n",
            "loss tensor(0.0069, grad_fn=<MeanBackward0>)\n",
            "loss tensor(0.0046, grad_fn=<MeanBackward0>)\n",
            "loss tensor(0.0069, grad_fn=<MeanBackward0>)\n",
            "loss tensor(0.0046, grad_fn=<MeanBackward0>)\n",
            "loss tensor(0.0069, grad_fn=<MeanBackward0>)\n",
            "loss tensor(0.0046, grad_fn=<MeanBackward0>)\n",
            "loss tensor(0.0069, grad_fn=<MeanBackward0>)\n",
            "loss tensor(0.0046, grad_fn=<MeanBackward0>)\n",
            "loss tensor(0.0069, grad_fn=<MeanBackward0>)\n",
            "Epochs: 100 | Loss: 0.006928838789463043 | Test Loss: 0.008951961994171143\n",
            "OrderedDict([('weights', tensor([0.6913])), ('bias', tensor([0.4988]))])\n",
            "loss tensor(0.0046, grad_fn=<MeanBackward0>)\n",
            "loss tensor(0.0069, grad_fn=<MeanBackward0>)\n",
            "loss tensor(0.0046, grad_fn=<MeanBackward0>)\n",
            "loss tensor(0.0069, grad_fn=<MeanBackward0>)\n",
            "loss tensor(0.0046, grad_fn=<MeanBackward0>)\n",
            "loss tensor(0.0069, grad_fn=<MeanBackward0>)\n",
            "loss tensor(0.0046, grad_fn=<MeanBackward0>)\n",
            "loss tensor(0.0069, grad_fn=<MeanBackward0>)\n",
            "loss tensor(0.0046, grad_fn=<MeanBackward0>)\n",
            "loss tensor(0.0069, grad_fn=<MeanBackward0>)\n",
            "Epochs: 110 | Loss: 0.006928838789463043 | Test Loss: 0.008951961994171143\n",
            "OrderedDict([('weights', tensor([0.6913])), ('bias', tensor([0.4988]))])\n",
            "loss tensor(0.0046, grad_fn=<MeanBackward0>)\n",
            "loss tensor(0.0069, grad_fn=<MeanBackward0>)\n",
            "loss tensor(0.0046, grad_fn=<MeanBackward0>)\n",
            "loss tensor(0.0069, grad_fn=<MeanBackward0>)\n",
            "loss tensor(0.0046, grad_fn=<MeanBackward0>)\n",
            "loss tensor(0.0069, grad_fn=<MeanBackward0>)\n",
            "loss tensor(0.0046, grad_fn=<MeanBackward0>)\n",
            "loss tensor(0.0069, grad_fn=<MeanBackward0>)\n",
            "loss tensor(0.0046, grad_fn=<MeanBackward0>)\n",
            "loss tensor(0.0069, grad_fn=<MeanBackward0>)\n",
            "Epochs: 120 | Loss: 0.006928838789463043 | Test Loss: 0.008951961994171143\n",
            "OrderedDict([('weights', tensor([0.6913])), ('bias', tensor([0.4988]))])\n",
            "loss tensor(0.0046, grad_fn=<MeanBackward0>)\n",
            "loss tensor(0.0069, grad_fn=<MeanBackward0>)\n",
            "loss tensor(0.0046, grad_fn=<MeanBackward0>)\n",
            "loss tensor(0.0069, grad_fn=<MeanBackward0>)\n",
            "loss tensor(0.0046, grad_fn=<MeanBackward0>)\n",
            "loss tensor(0.0069, grad_fn=<MeanBackward0>)\n",
            "loss tensor(0.0046, grad_fn=<MeanBackward0>)\n",
            "loss tensor(0.0069, grad_fn=<MeanBackward0>)\n",
            "loss tensor(0.0046, grad_fn=<MeanBackward0>)\n",
            "loss tensor(0.0069, grad_fn=<MeanBackward0>)\n",
            "Epochs: 130 | Loss: 0.006928838789463043 | Test Loss: 0.008951961994171143\n",
            "OrderedDict([('weights', tensor([0.6913])), ('bias', tensor([0.4988]))])\n",
            "loss tensor(0.0046, grad_fn=<MeanBackward0>)\n",
            "loss tensor(0.0069, grad_fn=<MeanBackward0>)\n",
            "loss tensor(0.0046, grad_fn=<MeanBackward0>)\n",
            "loss tensor(0.0069, grad_fn=<MeanBackward0>)\n",
            "loss tensor(0.0046, grad_fn=<MeanBackward0>)\n",
            "loss tensor(0.0069, grad_fn=<MeanBackward0>)\n",
            "loss tensor(0.0046, grad_fn=<MeanBackward0>)\n",
            "loss tensor(0.0069, grad_fn=<MeanBackward0>)\n",
            "loss tensor(0.0046, grad_fn=<MeanBackward0>)\n",
            "loss tensor(0.0069, grad_fn=<MeanBackward0>)\n",
            "Epochs: 140 | Loss: 0.006928838789463043 | Test Loss: 0.008951961994171143\n",
            "OrderedDict([('weights', tensor([0.6913])), ('bias', tensor([0.4988]))])\n",
            "loss tensor(0.0046, grad_fn=<MeanBackward0>)\n",
            "loss tensor(0.0069, grad_fn=<MeanBackward0>)\n",
            "loss tensor(0.0046, grad_fn=<MeanBackward0>)\n",
            "loss tensor(0.0069, grad_fn=<MeanBackward0>)\n",
            "loss tensor(0.0046, grad_fn=<MeanBackward0>)\n",
            "loss tensor(0.0069, grad_fn=<MeanBackward0>)\n",
            "loss tensor(0.0046, grad_fn=<MeanBackward0>)\n",
            "loss tensor(0.0069, grad_fn=<MeanBackward0>)\n",
            "loss tensor(0.0046, grad_fn=<MeanBackward0>)\n",
            "loss tensor(0.0069, grad_fn=<MeanBackward0>)\n",
            "Epochs: 150 | Loss: 0.006928838789463043 | Test Loss: 0.008951961994171143\n",
            "OrderedDict([('weights', tensor([0.6913])), ('bias', tensor([0.4988]))])\n",
            "loss tensor(0.0046, grad_fn=<MeanBackward0>)\n",
            "loss tensor(0.0069, grad_fn=<MeanBackward0>)\n",
            "loss tensor(0.0046, grad_fn=<MeanBackward0>)\n",
            "loss tensor(0.0069, grad_fn=<MeanBackward0>)\n",
            "loss tensor(0.0046, grad_fn=<MeanBackward0>)\n",
            "loss tensor(0.0069, grad_fn=<MeanBackward0>)\n",
            "loss tensor(0.0046, grad_fn=<MeanBackward0>)\n",
            "loss tensor(0.0069, grad_fn=<MeanBackward0>)\n",
            "loss tensor(0.0046, grad_fn=<MeanBackward0>)\n",
            "loss tensor(0.0069, grad_fn=<MeanBackward0>)\n",
            "Epochs: 160 | Loss: 0.006928838789463043 | Test Loss: 0.008951961994171143\n",
            "OrderedDict([('weights', tensor([0.6913])), ('bias', tensor([0.4988]))])\n",
            "loss tensor(0.0046, grad_fn=<MeanBackward0>)\n",
            "loss tensor(0.0069, grad_fn=<MeanBackward0>)\n",
            "loss tensor(0.0046, grad_fn=<MeanBackward0>)\n",
            "loss tensor(0.0069, grad_fn=<MeanBackward0>)\n",
            "loss tensor(0.0046, grad_fn=<MeanBackward0>)\n",
            "loss tensor(0.0069, grad_fn=<MeanBackward0>)\n",
            "loss tensor(0.0046, grad_fn=<MeanBackward0>)\n",
            "loss tensor(0.0069, grad_fn=<MeanBackward0>)\n",
            "loss tensor(0.0046, grad_fn=<MeanBackward0>)\n",
            "loss tensor(0.0069, grad_fn=<MeanBackward0>)\n",
            "Epochs: 170 | Loss: 0.006928838789463043 | Test Loss: 0.008951961994171143\n",
            "OrderedDict([('weights', tensor([0.6913])), ('bias', tensor([0.4988]))])\n",
            "loss tensor(0.0046, grad_fn=<MeanBackward0>)\n",
            "loss tensor(0.0069, grad_fn=<MeanBackward0>)\n",
            "loss tensor(0.0046, grad_fn=<MeanBackward0>)\n",
            "loss tensor(0.0069, grad_fn=<MeanBackward0>)\n",
            "loss tensor(0.0046, grad_fn=<MeanBackward0>)\n",
            "loss tensor(0.0069, grad_fn=<MeanBackward0>)\n",
            "loss tensor(0.0046, grad_fn=<MeanBackward0>)\n",
            "loss tensor(0.0069, grad_fn=<MeanBackward0>)\n",
            "loss tensor(0.0046, grad_fn=<MeanBackward0>)\n",
            "loss tensor(0.0069, grad_fn=<MeanBackward0>)\n",
            "Epochs: 180 | Loss: 0.006928838789463043 | Test Loss: 0.008951961994171143\n",
            "OrderedDict([('weights', tensor([0.6913])), ('bias', tensor([0.4988]))])\n",
            "loss tensor(0.0046, grad_fn=<MeanBackward0>)\n",
            "loss tensor(0.0069, grad_fn=<MeanBackward0>)\n",
            "loss tensor(0.0046, grad_fn=<MeanBackward0>)\n",
            "loss tensor(0.0069, grad_fn=<MeanBackward0>)\n",
            "loss tensor(0.0046, grad_fn=<MeanBackward0>)\n",
            "loss tensor(0.0069, grad_fn=<MeanBackward0>)\n",
            "loss tensor(0.0046, grad_fn=<MeanBackward0>)\n",
            "loss tensor(0.0069, grad_fn=<MeanBackward0>)\n",
            "loss tensor(0.0046, grad_fn=<MeanBackward0>)\n",
            "loss tensor(0.0069, grad_fn=<MeanBackward0>)\n",
            "Epochs: 190 | Loss: 0.006928838789463043 | Test Loss: 0.008951961994171143\n",
            "OrderedDict([('weights', tensor([0.6913])), ('bias', tensor([0.4988]))])\n",
            "loss tensor(0.0046, grad_fn=<MeanBackward0>)\n",
            "loss tensor(0.0069, grad_fn=<MeanBackward0>)\n",
            "loss tensor(0.0046, grad_fn=<MeanBackward0>)\n",
            "loss tensor(0.0069, grad_fn=<MeanBackward0>)\n",
            "loss tensor(0.0046, grad_fn=<MeanBackward0>)\n",
            "loss tensor(0.0069, grad_fn=<MeanBackward0>)\n",
            "loss tensor(0.0046, grad_fn=<MeanBackward0>)\n",
            "loss tensor(0.0069, grad_fn=<MeanBackward0>)\n",
            "loss tensor(0.0046, grad_fn=<MeanBackward0>)\n"
          ]
        }
      ]
    },
    {
      "cell_type": "code",
      "source": [
        "epoch_count, train_loss_values, test_loss_values"
      ],
      "metadata": {
        "colab": {
          "base_uri": "https://localhost:8080/"
        },
        "id": "pmeIbfxxk5Vd",
        "outputId": "75133e13-0485-4780-85ae-d210171ac35e"
      },
      "execution_count": 34,
      "outputs": [
        {
          "output_type": "execute_result",
          "data": {
            "text/plain": [
              "([0,\n",
              "  10,\n",
              "  20,\n",
              "  30,\n",
              "  40,\n",
              "  50,\n",
              "  60,\n",
              "  70,\n",
              "  80,\n",
              "  90,\n",
              "  100,\n",
              "  110,\n",
              "  120,\n",
              "  130,\n",
              "  140,\n",
              "  150,\n",
              "  160,\n",
              "  170,\n",
              "  180,\n",
              "  190],\n",
              " [tensor(0.0069, grad_fn=<MeanBackward0>),\n",
              "  tensor(0.0069, grad_fn=<MeanBackward0>),\n",
              "  tensor(0.0069, grad_fn=<MeanBackward0>),\n",
              "  tensor(0.0069, grad_fn=<MeanBackward0>),\n",
              "  tensor(0.0069, grad_fn=<MeanBackward0>),\n",
              "  tensor(0.0069, grad_fn=<MeanBackward0>),\n",
              "  tensor(0.0069, grad_fn=<MeanBackward0>),\n",
              "  tensor(0.0069, grad_fn=<MeanBackward0>),\n",
              "  tensor(0.0069, grad_fn=<MeanBackward0>),\n",
              "  tensor(0.0069, grad_fn=<MeanBackward0>),\n",
              "  tensor(0.0069, grad_fn=<MeanBackward0>),\n",
              "  tensor(0.0069, grad_fn=<MeanBackward0>),\n",
              "  tensor(0.0069, grad_fn=<MeanBackward0>),\n",
              "  tensor(0.0069, grad_fn=<MeanBackward0>),\n",
              "  tensor(0.0069, grad_fn=<MeanBackward0>),\n",
              "  tensor(0.0069, grad_fn=<MeanBackward0>),\n",
              "  tensor(0.0069, grad_fn=<MeanBackward0>),\n",
              "  tensor(0.0069, grad_fn=<MeanBackward0>),\n",
              "  tensor(0.0069, grad_fn=<MeanBackward0>),\n",
              "  tensor(0.0069, grad_fn=<MeanBackward0>)],\n",
              " [tensor(0.0090),\n",
              "  tensor(0.0090),\n",
              "  tensor(0.0090),\n",
              "  tensor(0.0090),\n",
              "  tensor(0.0090),\n",
              "  tensor(0.0090),\n",
              "  tensor(0.0090),\n",
              "  tensor(0.0090),\n",
              "  tensor(0.0090),\n",
              "  tensor(0.0090),\n",
              "  tensor(0.0090),\n",
              "  tensor(0.0090),\n",
              "  tensor(0.0090),\n",
              "  tensor(0.0090),\n",
              "  tensor(0.0090),\n",
              "  tensor(0.0090),\n",
              "  tensor(0.0090),\n",
              "  tensor(0.0090),\n",
              "  tensor(0.0090),\n",
              "  tensor(0.0090)])"
            ]
          },
          "metadata": {},
          "execution_count": 34
        }
      ]
    },
    {
      "cell_type": "code",
      "source": [
        "#the line converts train_loss_values to a NumPy array for compatibility and analysis,\n",
        "#while test_loss_values are likely already in a suitable format and included as a tuple.\n",
        "\n",
        "\n",
        "import  numpy as np\n",
        "np.array(torch.tensor(train_loss_values).numpy()), test_loss_values"
      ],
      "metadata": {
        "colab": {
          "base_uri": "https://localhost:8080/"
        },
        "id": "DzbTqPnEmBGP",
        "outputId": "c3519ad9-340b-4bd6-a460-e2a938103a77"
      },
      "execution_count": 35,
      "outputs": [
        {
          "output_type": "execute_result",
          "data": {
            "text/plain": [
              "(array([0.00692884, 0.00692884, 0.00692884, 0.00692884, 0.00692884,\n",
              "        0.00692884, 0.00692884, 0.00692884, 0.00692884, 0.00692884,\n",
              "        0.00692884, 0.00692884, 0.00692884, 0.00692884, 0.00692884,\n",
              "        0.00692884, 0.00692884, 0.00692884, 0.00692884, 0.00692884],\n",
              "       dtype=float32),\n",
              " [tensor(0.0090),\n",
              "  tensor(0.0090),\n",
              "  tensor(0.0090),\n",
              "  tensor(0.0090),\n",
              "  tensor(0.0090),\n",
              "  tensor(0.0090),\n",
              "  tensor(0.0090),\n",
              "  tensor(0.0090),\n",
              "  tensor(0.0090),\n",
              "  tensor(0.0090),\n",
              "  tensor(0.0090),\n",
              "  tensor(0.0090),\n",
              "  tensor(0.0090),\n",
              "  tensor(0.0090),\n",
              "  tensor(0.0090),\n",
              "  tensor(0.0090),\n",
              "  tensor(0.0090),\n",
              "  tensor(0.0090),\n",
              "  tensor(0.0090),\n",
              "  tensor(0.0090)])"
            ]
          },
          "metadata": {},
          "execution_count": 35
        }
      ]
    },
    {
      "cell_type": "code",
      "source": [
        "# plot the loss curves\n",
        "plt.plot(epoch_count, np.array(torch.tensor(train_loss_values).numpy()), label=\"train_loss\")\n",
        "plt.plot(epoch_count, test_loss_values, label=\"test_loss\")\n",
        "plt.title(\"Training and loss curves\")\n",
        "plt.ylabel(\"loss\")\n",
        "plt.xlabel(\"epochs\")\n",
        "plt.legend();"
      ],
      "metadata": {
        "colab": {
          "base_uri": "https://localhost:8080/",
          "height": 472
        },
        "id": "TdxH8eb8lTC-",
        "outputId": "8ec721ef-2b96-44c7-a2e6-ae8764146edd"
      },
      "execution_count": 36,
      "outputs": [
        {
          "output_type": "display_data",
          "data": {
            "text/plain": [
              "<Figure size 640x480 with 1 Axes>"
            ],
            "image/png": "[encoded data removed]"
          },
          "metadata": {}
        }
      ]
    },
    {
      "cell_type": "code",
      "source": [
        "with torch.inference_mode(): # disable the gradientb descent tracking\n",
        "  y_preds_new = model_0(x_test)"
      ],
      "metadata": {
        "id": "7rXZ8k7tMTtx"
      },
      "execution_count": 37,
      "outputs": []
    },
    {
      "cell_type": "code",
      "source": [
        "model_0.state_dict()"
      ],
      "metadata": {
        "colab": {
          "base_uri": "https://localhost:8080/"
        },
        "id": "cEAObBNljqC_",
        "outputId": "6af5851b-4b23-4831-bb23-18462e49f162"
      },
      "execution_count": 38,
      "outputs": [
        {
          "output_type": "execute_result",
          "data": {
            "text/plain": [
              "OrderedDict([('weights', tensor([0.6952])), ('bias', tensor([0.5088]))])"
            ]
          },
          "metadata": {},
          "execution_count": 38
        }
      ]
    },
    {
      "cell_type": "code",
      "source": [
        "weight, bias\n"
      ],
      "metadata": {
        "id": "KetLqlZL3Gl6",
        "colab": {
          "base_uri": "https://localhost:8080/"
        },
        "outputId": "82410869-aeb5-49c8-9528-d83fd0f0ae22"
      },
      "execution_count": 39,
      "outputs": [
        {
          "output_type": "execute_result",
          "data": {
            "text/plain": [
              "(0.7, 0.5)"
            ]
          },
          "metadata": {},
          "execution_count": 39
        }
      ]
    },
    {
      "cell_type": "code",
      "source": [
        "plot_prediction(prediciton=y_preds_new);"
      ],
      "metadata": {
        "id": "D3yEpBLuMlUr",
        "colab": {
          "base_uri": "https://localhost:8080/",
          "height": 430
        },
        "outputId": "78e3dee4-787d-4507-be81-37c5445c176a"
      },
      "execution_count": 40,
      "outputs": [
        {
          "output_type": "display_data",
          "data": {
            "text/plain": [
              "<Figure size 640x480 with 1 Axes>"
            ],
            "image/png": "[encoded data removed]"
          },
          "metadata": {}
        }
      ]
    },
    {
      "cell_type": "markdown",
      "source": [
        "##Saving the model in pytorch\n",
        "there is three main method to savinfg anf loading the model in the pytorch..\n",
        "\n",
        "1.` torch.save()` -> allows you to save a  pytoch object in Pytorch pickle format.\n",
        "2. `torch.load()` -> allows you to the load a saved model Pytorch object\n",
        "3. `torch.nn.Module.load.state.dict()` - this allows to load a model's saves state dicrtionary.\n"
      ],
      "metadata": {
        "id": "9-6PoHPMNBkn"
      }
    },
    {
      "cell_type": "code",
      "source": [
        "# saving Our pytorch model\n",
        "from pathlib import Path\n",
        "# 1. Create the models dictionary\n",
        "MODEL_PATH = Path(\"models\")\n",
        "MODEL_PATH.mkdir(parents=True, exist_ok=True)\n",
        "\n",
        "#2. create Model save path\n",
        "Model_Name = \"01_pytorch_workflow_model.pth\"\n",
        "Model_Save_Path = MODEL_PATH / Model_Name\n",
        "\n",
        "Model_Save_Path\n",
        "\n",
        "# 3. Save the Model in state_dict()\n",
        "print(f'Saving Model to: {Model_Save_Path}')\n",
        "torch.save(obj=model_0.state_dict(),\n",
        "           f=Model_Save_Path)"
      ],
      "metadata": {
        "colab": {
          "base_uri": "https://localhost:8080/"
        },
        "id": "2JCP_ncLteBZ",
        "outputId": "0e63e2c2-3036-4dd6-d780-3ee442e2e184"
      },
      "execution_count": 41,
      "outputs": [
        {
          "output_type": "stream",
          "name": "stdout",
          "text": [
            "Saving Model to: models/01_pytorch_workflow_model.pth\n"
          ]
        }
      ]
    },
    {
      "cell_type": "code",
      "source": [
        "! ls -l models"
      ],
      "metadata": {
        "colab": {
          "base_uri": "https://localhost:8080/"
        },
        "id": "scrtik1at38W",
        "outputId": "284576e1-c278-406f-c81f-21be27e3ac9f"
      },
      "execution_count": 42,
      "outputs": [
        {
          "output_type": "stream",
          "name": "stdout",
          "text": [
            "total 4\n",
            "-rw-r--r-- 1 root root 1668 Oct 17 14:42 01_pytorch_workflow_model.pth\n"
          ]
        }
      ]
    },
    {
      "cell_type": "markdown",
      "source": [
        "## loading the pytorch model\n",
        "Since we saved our model's `state_dict()` rather entire model, we'll create a new instance of our mdodel class and load the save `state_dict()` into that.\n"
      ],
      "metadata": {
        "id": "ucJizz2fvZ3_"
      }
    },
    {
      "cell_type": "code",
      "source": [
        "model_0.state_dict()"
      ],
      "metadata": {
        "colab": {
          "base_uri": "https://localhost:8080/"
        },
        "id": "tYOAOUdswZ9N",
        "outputId": "7695d6ea-e5a9-4a77-f72b-059a51753994"
      },
      "execution_count": null,
      "outputs": [
        {
          "output_type": "execute_result",
          "data": {
            "text/plain": [
              "OrderedDict([('weights', tensor([0.6952])), ('bias', tensor([0.5088]))])"
            ]
          },
          "metadata": {},
          "execution_count": 340
        }
      ]
    },
    {
      "cell_type": "code",
      "source": [
        "# To load in saved state_dict we have to instantiate a new instance of our model class\n",
        "loaded_model_0= linearRegreassionModel()\n",
        "\n",
        "#load the saved model state_dict of model_0 (this will updatre the new instance with the update parameter)\n",
        "loaded_model_0.load_state_dict(torch.load(f=Model_Save_Path))"
      ],
      "metadata": {
        "colab": {
          "base_uri": "https://localhost:8080/"
        },
        "id": "qbKq-DpxwcqK",
        "outputId": "2c7f9e85-b872-4264-9988-cd1153826730"
      },
      "execution_count": 44,
      "outputs": [
        {
          "output_type": "stream",
          "name": "stderr",
          "text": [
            "<ipython-input-44-d1252fdbf28a>:5: FutureWarning: You are using `torch.load` with `weights_only=False` (the current default value), which uses the default pickle module implicitly. It is possible to construct malicious pickle data which will execute arbitrary code during unpickling (See https://github.com/pytorch/pytorch/blob/main/SECURITY.md#untrusted-models for more details). In a future release, the default value for `weights_only` will be flipped to `True`. This limits the functions that could be executed during unpickling. Arbitrary objects will no longer be allowed to be loaded via this mode unless they are explicitly allowlisted by the user via `torch.serialization.add_safe_globals`. We recommend you start setting `weights_only=True` for any use case where you don't have full control of the loaded file. Please open an issue on GitHub for any issues related to this experimental feature.\n",
            "  loaded_model_0.load_state_dict(torch.load(f=Model_Save_Path))\n"
          ]
        },
        {
          "output_type": "execute_result",
          "data": {
            "text/plain": [
              "<All keys matched successfully>"
            ]
          },
          "metadata": {},
          "execution_count": 44
        }
      ]
    },
    {
      "cell_type": "code",
      "source": [
        "loaded_model_0.state_dict()"
      ],
      "metadata": {
        "colab": {
          "base_uri": "https://localhost:8080/"
        },
        "id": "lb_PSVzdxeDR",
        "outputId": "82811bed-d4ab-412d-abce-9f66dc206550"
      },
      "execution_count": 45,
      "outputs": [
        {
          "output_type": "execute_result",
          "data": {
            "text/plain": [
              "OrderedDict([('weights', tensor([0.6952])), ('bias', tensor([0.5088]))])"
            ]
          },
          "metadata": {},
          "execution_count": 45
        }
      ]
    },
    {
      "cell_type": "code",
      "source": [
        "# Make some prediction with our loaded model\n",
        "loaded_model_0.eval()\n",
        "with torch.inference_mode(): # disable the grad tracking\n",
        "  y_preds = model_0(x_test)\n",
        "\n",
        "y_preds"
      ],
      "metadata": {
        "colab": {
          "base_uri": "https://localhost:8080/"
        },
        "id": "O_9_YXdMxxC-",
        "outputId": "d09d9b0f-dffc-47a9-a12f-020fc3b3889a"
      },
      "execution_count": 46,
      "outputs": [
        {
          "output_type": "execute_result",
          "data": {
            "text/plain": [
              "tensor([1.0650, 1.0789, 1.0928, 1.1067, 1.1206, 1.1345, 1.1484, 1.1623, 1.1762,\n",
              "        1.1901])"
            ]
          },
          "metadata": {},
          "execution_count": 46
        }
      ]
    },
    {
      "cell_type": "code",
      "source": [
        "# Make predictions with the loaded model\n",
        "with torch.inference_mode():\n",
        "    loaded_model_preds = loaded_model_0(x_test)"
      ],
      "metadata": {
        "id": "GLl_qmxmyN8W"
      },
      "execution_count": 49,
      "outputs": []
    },
    {
      "cell_type": "code",
      "source": [
        "# Make predictions with the original model\n",
        "with torch.inference_mode():\n",
        "    original_model_preds = model_0(x_test)\n",
        "\n",
        "# ... (Load the saved model as before) ...\n",
        "\n",
        "# Make predictions with the loaded model\n",
        "with torch.inference_mode():\n",
        "    loaded_model_preds = loaded_model_0(x_test)\n",
        "\n",
        "# Compare predictions\n",
        "comparison_result = original_model_preds == loaded_model_preds  # This will compare element-wise\n",
        "# Check if all predictions are equal using torch.all()\n",
        "all_equal = torch.all(comparison_result)\n",
        "print(f\"All predictions are equal: {all_equal}\")"
      ],
      "metadata": {
        "colab": {
          "base_uri": "https://localhost:8080/"
        },
        "id": "c9RjpOQ29hwU",
        "outputId": "94f16721-39d3-4886-98ae-5df60c5e2c5a"
      },
      "execution_count": 51,
      "outputs": [
        {
          "output_type": "stream",
          "name": "stdout",
          "text": [
            "All predictions are equal: True\n"
          ]
        }
      ]
    },
    {
      "cell_type": "code",
      "source": [
        "y_preds"
      ],
      "metadata": {
        "id": "PjOi5Te0yZII",
        "colab": {
          "base_uri": "https://localhost:8080/"
        },
        "outputId": "48a7bf6f-7a68-4058-b8a4-455c3a81e7ea"
      },
      "execution_count": null,
      "outputs": [
        {
          "output_type": "execute_result",
          "data": {
            "text/plain": [
              "tensor([1.0650, 1.0789, 1.0928, 1.1067, 1.1206, 1.1345, 1.1484, 1.1623, 1.1762,\n",
              "        1.1901])"
            ]
          },
          "metadata": {},
          "execution_count": 345
        }
      ]
    },
    {
      "cell_type": "markdown",
      "source": [
        "## Putting everything together\n",
        "\n",
        "Lets go back throgh the steps above and see it all in one place\n"
      ],
      "metadata": {
        "id": "Gjdhx-hlGghV"
      }
    },
    {
      "cell_type": "code",
      "source": [
        "## import pytorch\n",
        "import torch\n",
        "from torch import nn\n",
        "import matplotlib.pyplot as plt\n",
        "\n",
        "# check the Pytorch version\n",
        "torch.__version__"
      ],
      "metadata": {
        "id": "stlkcBYRyng6",
        "colab": {
          "base_uri": "https://localhost:8080/",
          "height": 36
        },
        "outputId": "3d4e6ca2-2aa4-45db-f377-29904b232949"
      },
      "execution_count": 52,
      "outputs": [
        {
          "output_type": "execute_result",
          "data": {
            "text/plain": [
              "'2.4.1+cu121'"
            ],
            "application/vnd.google.colaboratory.intrinsic+json": {
              "type": "string"
            }
          },
          "metadata": {},
          "execution_count": 52
        }
      ]
    },
    {
      "cell_type": "markdown",
      "source": [
        "## Create device-agnostic code:\n",
        "this means if we've got access to a GPU, our will use it(for ptenitiallyt faster computing)\n",
        "\n",
        "* if no GPU is available, the code will default to using CPU.\n"
      ],
      "metadata": {
        "id": "WHN9iVd0HIbu"
      }
    },
    {
      "cell_type": "code",
      "source": [
        "## Steup\n",
        "#device to agnostic code\n",
        "device = \"cuda\" if torch.cuda.is_available() else \"cpu\"\n",
        "print(f\"Using device\", device)"
      ],
      "metadata": {
        "colab": {
          "base_uri": "https://localhost:8080/"
        },
        "id": "_fTh_XVXG81a",
        "outputId": "bc56ee28-20db-4254-dc19-bacd04a18418"
      },
      "execution_count": 55,
      "outputs": [
        {
          "output_type": "stream",
          "name": "stdout",
          "text": [
            "Using device cpu\n"
          ]
        }
      ]
    },
    {
      "cell_type": "code",
      "source": [
        "!nvidia-smi"
      ],
      "metadata": {
        "colab": {
          "base_uri": "https://localhost:8080/"
        },
        "id": "iJiC37_PH4y_",
        "outputId": "d93ecd11-3991-42db-c04e-30ae748e3afa"
      },
      "execution_count": 56,
      "outputs": [
        {
          "output_type": "stream",
          "name": "stdout",
          "text": [
            "/bin/bash: line 1: nvidia-smi: command not found\n"
          ]
        }
      ]
    },
    {
      "cell_type": "markdown",
      "source": [
        "because i am not using the paid version of colab."
      ],
      "metadata": {
        "id": "ZXDs5MrUIMWR"
      }
    },
    {
      "cell_type": "code",
      "source": [
        "def plot_prediction(train_data=x_train,\n",
        "                    train_labels = y_train,\n",
        "                    test_data = x_test,\n",
        "                    test_labels = y_test,\n",
        "                    prediciton =None):\n",
        "  \"\"\"\n",
        "  Plots training data, test data and compares predicitons\n",
        "\n",
        "  \"\"\"\n",
        "  #plot training data in blue\n",
        "  plt.scatter(train_data, train_labels, c=\"b\", s=4, label=\"training data\")\n",
        "\n",
        "  #plot test data in red\n",
        "  plt.scatter(test_data, test_labels, c=\"r\", s=4, label=\"test data\")\n",
        "\n",
        "  # are there prediction\n",
        "\n",
        "  if prediciton is not None:\n",
        "    #plot the predicition if they exist\n",
        "    plt.scatter(test_data, prediciton, c=\"g\", s=4, label=\"prediciton data\")\n",
        "\n",
        "  #show the legend\n",
        "  plt.legend(prop={\"size\":14})\n"
      ],
      "metadata": {
        "id": "RarOhduxME57"
      },
      "execution_count": 58,
      "outputs": []
    },
    {
      "cell_type": "code",
      "source": [
        "# create some data uisng linear regression formula y = w*x + b\n",
        "weight = 0.7\n",
        "bias = 0.3\n",
        "\n",
        "# create range values\n",
        "\n",
        "start = 0\n",
        "end = 1\n",
        "step = 0.02\n",
        "\n",
        "# create x and y feature label\n",
        "X = torch.arange(start, end, step).unsqueeze(dim=1)\n",
        "y = weight * X + bias\n",
        "\n",
        "X[:10], y[:10]\n"
      ],
      "metadata": {
        "colab": {
          "base_uri": "https://localhost:8080/"
        },
        "id": "hgPIr6AUIKcd",
        "outputId": "5f5c42d2-626b-4704-f6aa-4d449d8345a9"
      },
      "execution_count": 59,
      "outputs": [
        {
          "output_type": "execute_result",
          "data": {
            "text/plain": [
              "(tensor([[0.0000],\n",
              "         [0.0200],\n",
              "         [0.0400],\n",
              "         [0.0600],\n",
              "         [0.0800],\n",
              "         [0.1000],\n",
              "         [0.1200],\n",
              "         [0.1400],\n",
              "         [0.1600],\n",
              "         [0.1800]]),\n",
              " tensor([[0.3000],\n",
              "         [0.3140],\n",
              "         [0.3280],\n",
              "         [0.3420],\n",
              "         [0.3560],\n",
              "         [0.3700],\n",
              "         [0.3840],\n",
              "         [0.3980],\n",
              "         [0.4120],\n",
              "         [0.4260]]))"
            ]
          },
          "metadata": {},
          "execution_count": 59
        }
      ]
    },
    {
      "cell_type": "code",
      "source": [
        "# split the data\n",
        "train_split = int(0.8*len(x))\n",
        "x_train, y_train =x[ :train_split], y[:train_split]\n",
        "x_test, y_test = x[train_split:], y[train_split:]\n",
        "len(x_train), len(y_train), len(x_test), len(y_test)"
      ],
      "metadata": {
        "colab": {
          "base_uri": "https://localhost:8080/"
        },
        "id": "rS2ttZVxLTtn",
        "outputId": "a009a8e5-d424-4618-95c6-a61c422521c5"
      },
      "execution_count": 60,
      "outputs": [
        {
          "output_type": "execute_result",
          "data": {
            "text/plain": [
              "(40, 40, 10, 10)"
            ]
          },
          "metadata": {},
          "execution_count": 60
        }
      ]
    },
    {
      "cell_type": "code",
      "source": [
        "# plot the data\n",
        "#Note : if don;t hace the plot preiction () fucntion loaded , this will eror\n",
        "plot_prediction(x_train,y_train,x_test, y_test)"
      ],
      "metadata": {
        "colab": {
          "base_uri": "https://localhost:8080/",
          "height": 430
        },
        "id": "wVGXCb1XLz2j",
        "outputId": "9f545c08-bf3e-4f5f-e569-028a267a9272"
      },
      "execution_count": 61,
      "outputs": [
        {
          "output_type": "display_data",
          "data": {
            "text/plain": [
              "<Figure size 640x480 with 1 Axes>"
            ],
            "image/png": "[encoded data removed]"
          },
          "metadata": {}
        }
      ]
    },
    {
      "cell_type": "markdown",
      "source": [
        "### 6.2 building the pytorch Linear model\n"
      ],
      "metadata": {
        "id": "rlQXUzdlb-fm"
      }
    },
    {
      "cell_type": "markdown",
      "source": [
        "*For more vist: * https://pytorch.org/docs/stable/generated/torch.nn.Linear.html"
      ],
      "metadata": {
        "id": "xkcTYXcLddqz"
      }
    },
    {
      "cell_type": "code",
      "source": [
        "## create the linerar model by  subclassing nn.Module\n",
        "class LinearPregressionModelV2(nn.Module):\n",
        "  def __init__(self):\n",
        "    super().__init__()\n",
        "    # intialize the model\n",
        "    # use nn.Linear for creating the model parameter / also called linear transform, probing layer, fully connected layer\n",
        "    self.linear_layer = nn.Linear(in_features=1,\n",
        "                                  out_features=1)\n",
        "  def forward(self, x: torch.Tensor) -> torch.Tensor:\n",
        "    return self.linear_layer(x)\n",
        "\n",
        "# set the manual seed\n",
        "torch.manual_seed(42)\n",
        "\n",
        "# create an instance of the model\n",
        "model_1 = LinearPregressionModelV2()\n",
        "model_1, model_1.state_dict()\n",
        "\n"
      ],
      "metadata": {
        "colab": {
          "base_uri": "https://localhost:8080/"
        },
        "id": "D0KVAyWqccIt",
        "outputId": "01d66b31-e3ae-4360-89be-889571c145fd"
      },
      "execution_count": 63,
      "outputs": [
        {
          "output_type": "execute_result",
          "data": {
            "text/plain": [
              "(LinearPregressionModelV2(\n",
              "   (linear_layer): Linear(in_features=1, out_features=1, bias=True)\n",
              " ),\n",
              " OrderedDict([('linear_layer.weight', tensor([[0.7645]])),\n",
              "              ('linear_layer.bias', tensor([0.8300]))]))"
            ]
          },
          "metadata": {},
          "execution_count": 63
        }
      ]
    },
    {
      "cell_type": "code",
      "source": [
        "model_1.state_dict()"
      ],
      "metadata": {
        "colab": {
          "base_uri": "https://localhost:8080/"
        },
        "id": "ctvDIeMDd6ms",
        "outputId": "280f28cc-9155-49cf-c996-0e009db52a99"
      },
      "execution_count": 64,
      "outputs": [
        {
          "output_type": "execute_result",
          "data": {
            "text/plain": [
              "OrderedDict([('linear_layer.weight', tensor([[0.7645]])),\n",
              "             ('linear_layer.bias', tensor([0.8300]))])"
            ]
          },
          "metadata": {},
          "execution_count": 64
        }
      ]
    },
    {
      "cell_type": "code",
      "source": [
        "x_train[:5], y_train[:5]"
      ],
      "metadata": {
        "colab": {
          "base_uri": "https://localhost:8080/"
        },
        "id": "sQ_bD5O-eW4u",
        "outputId": "27113587-1500-41e7-ac55-923ee1bf3a41"
      },
      "execution_count": 65,
      "outputs": [
        {
          "output_type": "execute_result",
          "data": {
            "text/plain": [
              "(tensor([0.0000, 0.0200, 0.0400, 0.0600, 0.0800]),\n",
              " tensor([[0.3000],\n",
              "         [0.3140],\n",
              "         [0.3280],\n",
              "         [0.3420],\n",
              "         [0.3560]]))"
            ]
          },
          "metadata": {},
          "execution_count": 65
        }
      ]
    },
    {
      "cell_type": "code",
      "source": [
        "## check the model current device\n",
        "next(model_1.parameters()).device"
      ],
      "metadata": {
        "colab": {
          "base_uri": "https://localhost:8080/"
        },
        "id": "3eX1PL-sfrHh",
        "outputId": "5a2a8641-82bb-4153-9a9a-b8a8ff9900d1"
      },
      "execution_count": 66,
      "outputs": [
        {
          "output_type": "execute_result",
          "data": {
            "text/plain": [
              "device(type='cpu')"
            ]
          },
          "metadata": {},
          "execution_count": 66
        }
      ]
    },
    {
      "cell_type": "code",
      "source": [
        "# set the model to use the  target device\n",
        "model_1.to(device)\n",
        "next(model_1.parameters()).device"
      ],
      "metadata": {
        "colab": {
          "base_uri": "https://localhost:8080/"
        },
        "id": "Yzjg36P1fJVa",
        "outputId": "ec9f0e68-a1a2-4bc4-c439-51cf88ce3239"
      },
      "execution_count": 67,
      "outputs": [
        {
          "output_type": "execute_result",
          "data": {
            "text/plain": [
              "device(type='cpu')"
            ]
          },
          "metadata": {},
          "execution_count": 67
        }
      ]
    },
    {
      "cell_type": "markdown",
      "source": [
        "##6.3. Training\n",
        "For training we need:\n",
        "* Loss fucntion\n",
        "* optimizer\n",
        "* Training loop\n",
        "* testing loop\n"
      ],
      "metadata": {
        "id": "F9FF-pNugLxa"
      }
    },
    {
      "cell_type": "code",
      "source": [
        "#  setup losss function\n",
        "loss_fn = nn.L1Loss() # Same as mae\n",
        "\n",
        "# setup optimizer\n",
        "optimizer = torch.optim.SGD(params=model_1.parameters(),\n",
        "                            lr=0.01)"
      ],
      "metadata": {
        "id": "JK8XTFaDf0IC"
      },
      "execution_count": 68,
      "outputs": []
    },
    {
      "cell_type": "code",
      "source": [
        "x_train.shape"
      ],
      "metadata": {
        "colab": {
          "base_uri": "https://localhost:8080/"
        },
        "id": "EV9Z3B4xkt_A",
        "outputId": "4099166a-89e3-43f8-9cc6-79ba8a06d603"
      },
      "execution_count": 69,
      "outputs": [
        {
          "output_type": "execute_result",
          "data": {
            "text/plain": [
              "torch.Size([40])"
            ]
          },
          "metadata": {},
          "execution_count": 69
        }
      ]
    },
    {
      "cell_type": "code",
      "source": [
        "import torch\n",
        "\n",
        "torch.manual_seed(42)\n",
        "\n",
        "epochs = 200\n",
        "\n",
        "# Put data on the target device (device agnostic code)\n",
        "x_train = x_train.to(device)\n",
        "y_train = y_train.to(device)\n",
        "x_test = x_test.to(device)\n",
        "y_test = y_test.to(device)\n",
        "\n",
        "# Print shapes to debug\n",
        "print(f\"x_train shape: {x_train.shape}\")\n",
        "print(f\"y_train shape: {y_train.shape}\")\n",
        "\n",
        "# Ensure x_train is a 2D tensor\n",
        "if len(x_train.shape) == 1:\n",
        "    x_train = x_train.view(-1, 1)\n",
        "elif len(x_train.shape) == 3:\n",
        "    x_train = x_train.view(x_train.shape[0], -1)\n",
        "\n",
        "# Determine input size\n",
        "input_size = x_train.shape[1]\n",
        "\n",
        "# Print shapes after reshaping\n",
        "print(f\"x_train shape after reshaping: {x_train.shape}\")\n",
        "\n",
        "for epoch in range(epochs):\n",
        "    model_1.train()\n",
        "\n",
        "    # 1. Do the forward pass\n",
        "    y_preds = model_1(x_train)\n",
        "\n",
        "    # 2. Calculate the loss\n",
        "    loss = loss_fn(y_preds, y_train)\n",
        "\n",
        "    # 3. Optimizer zero\n",
        "    optimizer.zero_grad()\n",
        "\n",
        "    # 4. Loss backward\n",
        "    loss.backward()\n",
        "\n",
        "    # 5. Optimizer step\n",
        "    optimizer.step()\n",
        "\n",
        "    # Testing\n",
        "    model_1.eval()\n",
        "    with torch.inference_mode():\n",
        "        test_preds = model_1(x_test)\n",
        "        test_loss = loss_fn(test_preds, y_test)\n",
        "\n",
        "    # Print out what is happening\n",
        "    if epoch % 10 == 0:\n",
        "        print(f\"Epoch: {epoch} | Loss: {loss.item()} | Test Loss: {test_loss.item()}\")\n",
        "        print(model_1.state_dict())\n"
      ],
      "metadata": {
        "colab": {
          "base_uri": "https://localhost:8080/",
          "height": 425
        },
        "id": "nTm5MyoCgy61",
        "outputId": "9747996f-54a4-4844-93ab-31ced85f6ffb"
      },
      "execution_count": null,
      "outputs": [
        {
          "output_type": "stream",
          "name": "stdout",
          "text": [
            "x_train shape: torch.Size([40])\n",
            "y_train shape: torch.Size([40, 1])\n",
            "x_train shape after reshaping: torch.Size([40, 1])\n"
          ]
        },
        {
          "output_type": "error",
          "ename": "RuntimeError",
          "evalue": "mat1 and mat2 shapes cannot be multiplied (1x10 and 1x1)",
          "traceback": [
            "\u001b[0;31m---------------------------------------------------------------------------\u001b[0m",
            "\u001b[0;31mRuntimeError\u001b[0m                              Traceback (most recent call last)",
            "\u001b[0;32m<ipython-input-360-2e5e8fdfca19>\u001b[0m in \u001b[0;36m<cell line: 29>\u001b[0;34m()\u001b[0m\n\u001b[1;32m     48\u001b[0m     \u001b[0mmodel_1\u001b[0m\u001b[0;34m.\u001b[0m\u001b[0meval\u001b[0m\u001b[0;34m(\u001b[0m\u001b[0;34m)\u001b[0m\u001b[0;34m\u001b[0m\u001b[0;34m\u001b[0m\u001b[0m\n\u001b[1;32m     49\u001b[0m     \u001b[0;32mwith\u001b[0m \u001b[0mtorch\u001b[0m\u001b[0;34m.\u001b[0m\u001b[0minference_mode\u001b[0m\u001b[0;34m(\u001b[0m\u001b[0;34m)\u001b[0m\u001b[0;34m:\u001b[0m\u001b[0;34m\u001b[0m\u001b[0;34m\u001b[0m\u001b[0m\n\u001b[0;32m---> 50\u001b[0;31m         \u001b[0mtest_preds\u001b[0m \u001b[0;34m=\u001b[0m \u001b[0mmodel_1\u001b[0m\u001b[0;34m(\u001b[0m\u001b[0mx_test\u001b[0m\u001b[0;34m)\u001b[0m\u001b[0;34m\u001b[0m\u001b[0;34m\u001b[0m\u001b[0m\n\u001b[0m\u001b[1;32m     51\u001b[0m         \u001b[0mtest_loss\u001b[0m \u001b[0;34m=\u001b[0m \u001b[0mloss_fn\u001b[0m\u001b[0;34m(\u001b[0m\u001b[0mtest_preds\u001b[0m\u001b[0;34m,\u001b[0m \u001b[0my_test\u001b[0m\u001b[0;34m)\u001b[0m\u001b[0;34m\u001b[0m\u001b[0;34m\u001b[0m\u001b[0m\n\u001b[1;32m     52\u001b[0m \u001b[0;34m\u001b[0m\u001b[0m\n",
            "\u001b[0;32m/usr/local/lib/python3.10/dist-packages/torch/nn/modules/module.py\u001b[0m in \u001b[0;36m_wrapped_call_impl\u001b[0;34m(self, *args, **kwargs)\u001b[0m\n\u001b[1;32m   1551\u001b[0m             \u001b[0;32mreturn\u001b[0m \u001b[0mself\u001b[0m\u001b[0;34m.\u001b[0m\u001b[0m_compiled_call_impl\u001b[0m\u001b[0;34m(\u001b[0m\u001b[0;34m*\u001b[0m\u001b[0margs\u001b[0m\u001b[0;34m,\u001b[0m \u001b[0;34m**\u001b[0m\u001b[0mkwargs\u001b[0m\u001b[0;34m)\u001b[0m  \u001b[0;31m# type: ignore[misc]\u001b[0m\u001b[0;34m\u001b[0m\u001b[0;34m\u001b[0m\u001b[0m\n\u001b[1;32m   1552\u001b[0m         \u001b[0;32melse\u001b[0m\u001b[0;34m:\u001b[0m\u001b[0;34m\u001b[0m\u001b[0;34m\u001b[0m\u001b[0m\n\u001b[0;32m-> 1553\u001b[0;31m             \u001b[0;32mreturn\u001b[0m \u001b[0mself\u001b[0m\u001b[0;34m.\u001b[0m\u001b[0m_call_impl\u001b[0m\u001b[0;34m(\u001b[0m\u001b[0;34m*\u001b[0m\u001b[0margs\u001b[0m\u001b[0;34m,\u001b[0m \u001b[0;34m**\u001b[0m\u001b[0mkwargs\u001b[0m\u001b[0;34m)\u001b[0m\u001b[0;34m\u001b[0m\u001b[0;34m\u001b[0m\u001b[0m\n\u001b[0m\u001b[1;32m   1554\u001b[0m \u001b[0;34m\u001b[0m\u001b[0m\n\u001b[1;32m   1555\u001b[0m     \u001b[0;32mdef\u001b[0m \u001b[0m_call_impl\u001b[0m\u001b[0;34m(\u001b[0m\u001b[0mself\u001b[0m\u001b[0;34m,\u001b[0m \u001b[0;34m*\u001b[0m\u001b[0margs\u001b[0m\u001b[0;34m,\u001b[0m \u001b[0;34m**\u001b[0m\u001b[0mkwargs\u001b[0m\u001b[0;34m)\u001b[0m\u001b[0;34m:\u001b[0m\u001b[0;34m\u001b[0m\u001b[0;34m\u001b[0m\u001b[0m\n",
            "\u001b[0;32m/usr/local/lib/python3.10/dist-packages/torch/nn/modules/module.py\u001b[0m in \u001b[0;36m_call_impl\u001b[0;34m(self, *args, **kwargs)\u001b[0m\n\u001b[1;32m   1560\u001b[0m                 \u001b[0;32mor\u001b[0m \u001b[0m_global_backward_pre_hooks\u001b[0m \u001b[0;32mor\u001b[0m \u001b[0m_global_backward_hooks\u001b[0m\u001b[0;34m\u001b[0m\u001b[0;34m\u001b[0m\u001b[0m\n\u001b[1;32m   1561\u001b[0m                 or _global_forward_hooks or _global_forward_pre_hooks):\n\u001b[0;32m-> 1562\u001b[0;31m             \u001b[0;32mreturn\u001b[0m \u001b[0mforward_call\u001b[0m\u001b[0;34m(\u001b[0m\u001b[0;34m*\u001b[0m\u001b[0margs\u001b[0m\u001b[0;34m,\u001b[0m \u001b[0;34m**\u001b[0m\u001b[0mkwargs\u001b[0m\u001b[0;34m)\u001b[0m\u001b[0;34m\u001b[0m\u001b[0;34m\u001b[0m\u001b[0m\n\u001b[0m\u001b[1;32m   1563\u001b[0m \u001b[0;34m\u001b[0m\u001b[0m\n\u001b[1;32m   1564\u001b[0m         \u001b[0;32mtry\u001b[0m\u001b[0;34m:\u001b[0m\u001b[0;34m\u001b[0m\u001b[0;34m\u001b[0m\u001b[0m\n",
            "\u001b[0;32m<ipython-input-353-f214d89fc708>\u001b[0m in \u001b[0;36mforward\u001b[0;34m(self, x)\u001b[0m\n\u001b[1;32m      8\u001b[0m                                   out_features=1)\n\u001b[1;32m      9\u001b[0m   \u001b[0;32mdef\u001b[0m \u001b[0mforward\u001b[0m\u001b[0;34m(\u001b[0m\u001b[0mself\u001b[0m\u001b[0;34m,\u001b[0m \u001b[0mx\u001b[0m\u001b[0;34m:\u001b[0m \u001b[0mtorch\u001b[0m\u001b[0;34m.\u001b[0m\u001b[0mTensor\u001b[0m\u001b[0;34m)\u001b[0m \u001b[0;34m->\u001b[0m \u001b[0mtorch\u001b[0m\u001b[0;34m.\u001b[0m\u001b[0mTensor\u001b[0m\u001b[0;34m:\u001b[0m\u001b[0;34m\u001b[0m\u001b[0;34m\u001b[0m\u001b[0m\n\u001b[0;32m---> 10\u001b[0;31m     \u001b[0;32mreturn\u001b[0m \u001b[0mself\u001b[0m\u001b[0;34m.\u001b[0m\u001b[0mlinear_layer\u001b[0m\u001b[0;34m(\u001b[0m\u001b[0mx\u001b[0m\u001b[0;34m)\u001b[0m\u001b[0;34m\u001b[0m\u001b[0;34m\u001b[0m\u001b[0m\n\u001b[0m\u001b[1;32m     11\u001b[0m \u001b[0;34m\u001b[0m\u001b[0m\n\u001b[1;32m     12\u001b[0m \u001b[0;31m# set the manual seed\u001b[0m\u001b[0;34m\u001b[0m\u001b[0;34m\u001b[0m\u001b[0m\n",
            "\u001b[0;32m/usr/local/lib/python3.10/dist-packages/torch/nn/modules/module.py\u001b[0m in \u001b[0;36m_wrapped_call_impl\u001b[0;34m(self, *args, **kwargs)\u001b[0m\n\u001b[1;32m   1551\u001b[0m             \u001b[0;32mreturn\u001b[0m \u001b[0mself\u001b[0m\u001b[0;34m.\u001b[0m\u001b[0m_compiled_call_impl\u001b[0m\u001b[0;34m(\u001b[0m\u001b[0;34m*\u001b[0m\u001b[0margs\u001b[0m\u001b[0;34m,\u001b[0m \u001b[0;34m**\u001b[0m\u001b[0mkwargs\u001b[0m\u001b[0;34m)\u001b[0m  \u001b[0;31m# type: ignore[misc]\u001b[0m\u001b[0;34m\u001b[0m\u001b[0;34m\u001b[0m\u001b[0m\n\u001b[1;32m   1552\u001b[0m         \u001b[0;32melse\u001b[0m\u001b[0;34m:\u001b[0m\u001b[0;34m\u001b[0m\u001b[0;34m\u001b[0m\u001b[0m\n\u001b[0;32m-> 1553\u001b[0;31m             \u001b[0;32mreturn\u001b[0m \u001b[0mself\u001b[0m\u001b[0;34m.\u001b[0m\u001b[0m_call_impl\u001b[0m\u001b[0;34m(\u001b[0m\u001b[0;34m*\u001b[0m\u001b[0margs\u001b[0m\u001b[0;34m,\u001b[0m \u001b[0;34m**\u001b[0m\u001b[0mkwargs\u001b[0m\u001b[0;34m)\u001b[0m\u001b[0;34m\u001b[0m\u001b[0;34m\u001b[0m\u001b[0m\n\u001b[0m\u001b[1;32m   1554\u001b[0m \u001b[0;34m\u001b[0m\u001b[0m\n\u001b[1;32m   1555\u001b[0m     \u001b[0;32mdef\u001b[0m \u001b[0m_call_impl\u001b[0m\u001b[0;34m(\u001b[0m\u001b[0mself\u001b[0m\u001b[0;34m,\u001b[0m \u001b[0;34m*\u001b[0m\u001b[0margs\u001b[0m\u001b[0;34m,\u001b[0m \u001b[0;34m**\u001b[0m\u001b[0mkwargs\u001b[0m\u001b[0;34m)\u001b[0m\u001b[0;34m:\u001b[0m\u001b[0;34m\u001b[0m\u001b[0;34m\u001b[0m\u001b[0m\n",
            "\u001b[0;32m/usr/local/lib/python3.10/dist-packages/torch/nn/modules/module.py\u001b[0m in \u001b[0;36m_call_impl\u001b[0;34m(self, *args, **kwargs)\u001b[0m\n\u001b[1;32m   1560\u001b[0m                 \u001b[0;32mor\u001b[0m \u001b[0m_global_backward_pre_hooks\u001b[0m \u001b[0;32mor\u001b[0m \u001b[0m_global_backward_hooks\u001b[0m\u001b[0;34m\u001b[0m\u001b[0;34m\u001b[0m\u001b[0m\n\u001b[1;32m   1561\u001b[0m                 or _global_forward_hooks or _global_forward_pre_hooks):\n\u001b[0;32m-> 1562\u001b[0;31m             \u001b[0;32mreturn\u001b[0m \u001b[0mforward_call\u001b[0m\u001b[0;34m(\u001b[0m\u001b[0;34m*\u001b[0m\u001b[0margs\u001b[0m\u001b[0;34m,\u001b[0m \u001b[0;34m**\u001b[0m\u001b[0mkwargs\u001b[0m\u001b[0;34m)\u001b[0m\u001b[0;34m\u001b[0m\u001b[0;34m\u001b[0m\u001b[0m\n\u001b[0m\u001b[1;32m   1563\u001b[0m \u001b[0;34m\u001b[0m\u001b[0m\n\u001b[1;32m   1564\u001b[0m         \u001b[0;32mtry\u001b[0m\u001b[0;34m:\u001b[0m\u001b[0;34m\u001b[0m\u001b[0;34m\u001b[0m\u001b[0m\n",
            "\u001b[0;32m/usr/local/lib/python3.10/dist-packages/torch/nn/modules/linear.py\u001b[0m in \u001b[0;36mforward\u001b[0;34m(self, input)\u001b[0m\n\u001b[1;32m    115\u001b[0m \u001b[0;34m\u001b[0m\u001b[0m\n\u001b[1;32m    116\u001b[0m     \u001b[0;32mdef\u001b[0m \u001b[0mforward\u001b[0m\u001b[0;34m(\u001b[0m\u001b[0mself\u001b[0m\u001b[0;34m,\u001b[0m \u001b[0minput\u001b[0m\u001b[0;34m:\u001b[0m \u001b[0mTensor\u001b[0m\u001b[0;34m)\u001b[0m \u001b[0;34m->\u001b[0m \u001b[0mTensor\u001b[0m\u001b[0;34m:\u001b[0m\u001b[0;34m\u001b[0m\u001b[0;34m\u001b[0m\u001b[0m\n\u001b[0;32m--> 117\u001b[0;31m         \u001b[0;32mreturn\u001b[0m \u001b[0mF\u001b[0m\u001b[0;34m.\u001b[0m\u001b[0mlinear\u001b[0m\u001b[0;34m(\u001b[0m\u001b[0minput\u001b[0m\u001b[0;34m,\u001b[0m \u001b[0mself\u001b[0m\u001b[0;34m.\u001b[0m\u001b[0mweight\u001b[0m\u001b[0;34m,\u001b[0m \u001b[0mself\u001b[0m\u001b[0;34m.\u001b[0m\u001b[0mbias\u001b[0m\u001b[0;34m)\u001b[0m\u001b[0;34m\u001b[0m\u001b[0;34m\u001b[0m\u001b[0m\n\u001b[0m\u001b[1;32m    118\u001b[0m \u001b[0;34m\u001b[0m\u001b[0m\n\u001b[1;32m    119\u001b[0m     \u001b[0;32mdef\u001b[0m \u001b[0mextra_repr\u001b[0m\u001b[0;34m(\u001b[0m\u001b[0mself\u001b[0m\u001b[0;34m)\u001b[0m \u001b[0;34m->\u001b[0m \u001b[0mstr\u001b[0m\u001b[0;34m:\u001b[0m\u001b[0;34m\u001b[0m\u001b[0;34m\u001b[0m\u001b[0m\n",
            "\u001b[0;31mRuntimeError\u001b[0m: mat1 and mat2 shapes cannot be multiplied (1x10 and 1x1)"
          ]
        }
      ]
    },
    {
      "cell_type": "code",
      "source": [
        "model_1.state_dict()\n",
        "\n"
      ],
      "metadata": {
        "id": "14YJbqMfh_gO"
      },
      "execution_count": null,
      "outputs": []
    },
    {
      "cell_type": "code",
      "source": [
        "weight, bias"
      ],
      "metadata": {
        "id": "XIpiANoRjaqF",
        "colab": {
          "base_uri": "https://localhost:8080/"
        },
        "outputId": "b1ceb55a-8a7e-4b9f-a7a5-de031514f84e"
      },
      "execution_count": null,
      "outputs": [
        {
          "output_type": "execute_result",
          "data": {
            "text/plain": [
              "(0.7, 0.3)"
            ]
          },
          "metadata": {},
          "execution_count": 361
        }
      ]
    },
    {
      "cell_type": "code",
      "source": [
        "x_train.shape"
      ],
      "metadata": {
        "colab": {
          "base_uri": "https://localhost:8080/"
        },
        "id": "7KEeiTfDkHs1",
        "outputId": "d1f67ad5-8b33-4590-934a-dd5b1f225d8b"
      },
      "execution_count": null,
      "outputs": [
        {
          "output_type": "execute_result",
          "data": {
            "text/plain": [
              "torch.Size([40, 1])"
            ]
          },
          "metadata": {},
          "execution_count": 362
        }
      ]
    },
    {
      "cell_type": "markdown",
      "source": [
        "## 6.4 Makaing and evaluating the mode\n"
      ],
      "metadata": {
        "id": "cQhuN5sRoWiu"
      }
    },
    {
      "cell_type": "code",
      "source": [
        "# Turn mode into evaluation mode\n",
        "model_1.eval()\n",
        "\n",
        "# making the prediction on the test data\n",
        "with torch.inference_mode():\n",
        "  y_preds = model_1(x_test)\n",
        "y_preds\n"
      ],
      "metadata": {
        "id": "utUVBTqvkxKF",
        "colab": {
          "base_uri": "https://localhost:8080/",
          "height": 356
        },
        "outputId": "cac9a255-171b-48dc-86e4-f723017e79ee"
      },
      "execution_count": null,
      "outputs": [
        {
          "output_type": "error",
          "ename": "RuntimeError",
          "evalue": "mat1 and mat2 shapes cannot be multiplied (1x10 and 1x1)",
          "traceback": [
            "\u001b[0;31m---------------------------------------------------------------------------\u001b[0m",
            "\u001b[0;31mRuntimeError\u001b[0m                              Traceback (most recent call last)",
            "\u001b[0;32m<ipython-input-363-580c62579c1c>\u001b[0m in \u001b[0;36m<cell line: 5>\u001b[0;34m()\u001b[0m\n\u001b[1;32m      4\u001b[0m \u001b[0;31m# making the prediction on the test data\u001b[0m\u001b[0;34m\u001b[0m\u001b[0;34m\u001b[0m\u001b[0m\n\u001b[1;32m      5\u001b[0m \u001b[0;32mwith\u001b[0m \u001b[0mtorch\u001b[0m\u001b[0;34m.\u001b[0m\u001b[0minference_mode\u001b[0m\u001b[0;34m(\u001b[0m\u001b[0;34m)\u001b[0m\u001b[0;34m:\u001b[0m\u001b[0;34m\u001b[0m\u001b[0;34m\u001b[0m\u001b[0m\n\u001b[0;32m----> 6\u001b[0;31m   \u001b[0my_preds\u001b[0m \u001b[0;34m=\u001b[0m \u001b[0mmodel_1\u001b[0m\u001b[0;34m(\u001b[0m\u001b[0mx_test\u001b[0m\u001b[0;34m)\u001b[0m\u001b[0;34m\u001b[0m\u001b[0;34m\u001b[0m\u001b[0m\n\u001b[0m\u001b[1;32m      7\u001b[0m \u001b[0my_preds\u001b[0m\u001b[0;34m\u001b[0m\u001b[0;34m\u001b[0m\u001b[0m\n",
            "\u001b[0;32m/usr/local/lib/python3.10/dist-packages/torch/nn/modules/module.py\u001b[0m in \u001b[0;36m_wrapped_call_impl\u001b[0;34m(self, *args, **kwargs)\u001b[0m\n\u001b[1;32m   1551\u001b[0m             \u001b[0;32mreturn\u001b[0m \u001b[0mself\u001b[0m\u001b[0;34m.\u001b[0m\u001b[0m_compiled_call_impl\u001b[0m\u001b[0;34m(\u001b[0m\u001b[0;34m*\u001b[0m\u001b[0margs\u001b[0m\u001b[0;34m,\u001b[0m \u001b[0;34m**\u001b[0m\u001b[0mkwargs\u001b[0m\u001b[0;34m)\u001b[0m  \u001b[0;31m# type: ignore[misc]\u001b[0m\u001b[0;34m\u001b[0m\u001b[0;34m\u001b[0m\u001b[0m\n\u001b[1;32m   1552\u001b[0m         \u001b[0;32melse\u001b[0m\u001b[0;34m:\u001b[0m\u001b[0;34m\u001b[0m\u001b[0;34m\u001b[0m\u001b[0m\n\u001b[0;32m-> 1553\u001b[0;31m             \u001b[0;32mreturn\u001b[0m \u001b[0mself\u001b[0m\u001b[0;34m.\u001b[0m\u001b[0m_call_impl\u001b[0m\u001b[0;34m(\u001b[0m\u001b[0;34m*\u001b[0m\u001b[0margs\u001b[0m\u001b[0;34m,\u001b[0m \u001b[0;34m**\u001b[0m\u001b[0mkwargs\u001b[0m\u001b[0;34m)\u001b[0m\u001b[0;34m\u001b[0m\u001b[0;34m\u001b[0m\u001b[0m\n\u001b[0m\u001b[1;32m   1554\u001b[0m \u001b[0;34m\u001b[0m\u001b[0m\n\u001b[1;32m   1555\u001b[0m     \u001b[0;32mdef\u001b[0m \u001b[0m_call_impl\u001b[0m\u001b[0;34m(\u001b[0m\u001b[0mself\u001b[0m\u001b[0;34m,\u001b[0m \u001b[0;34m*\u001b[0m\u001b[0margs\u001b[0m\u001b[0;34m,\u001b[0m \u001b[0;34m**\u001b[0m\u001b[0mkwargs\u001b[0m\u001b[0;34m)\u001b[0m\u001b[0;34m:\u001b[0m\u001b[0;34m\u001b[0m\u001b[0;34m\u001b[0m\u001b[0m\n",
            "\u001b[0;32m/usr/local/lib/python3.10/dist-packages/torch/nn/modules/module.py\u001b[0m in \u001b[0;36m_call_impl\u001b[0;34m(self, *args, **kwargs)\u001b[0m\n\u001b[1;32m   1560\u001b[0m                 \u001b[0;32mor\u001b[0m \u001b[0m_global_backward_pre_hooks\u001b[0m \u001b[0;32mor\u001b[0m \u001b[0m_global_backward_hooks\u001b[0m\u001b[0;34m\u001b[0m\u001b[0;34m\u001b[0m\u001b[0m\n\u001b[1;32m   1561\u001b[0m                 or _global_forward_hooks or _global_forward_pre_hooks):\n\u001b[0;32m-> 1562\u001b[0;31m             \u001b[0;32mreturn\u001b[0m \u001b[0mforward_call\u001b[0m\u001b[0;34m(\u001b[0m\u001b[0;34m*\u001b[0m\u001b[0margs\u001b[0m\u001b[0;34m,\u001b[0m \u001b[0;34m**\u001b[0m\u001b[0mkwargs\u001b[0m\u001b[0;34m)\u001b[0m\u001b[0;34m\u001b[0m\u001b[0;34m\u001b[0m\u001b[0m\n\u001b[0m\u001b[1;32m   1563\u001b[0m \u001b[0;34m\u001b[0m\u001b[0m\n\u001b[1;32m   1564\u001b[0m         \u001b[0;32mtry\u001b[0m\u001b[0;34m:\u001b[0m\u001b[0;34m\u001b[0m\u001b[0;34m\u001b[0m\u001b[0m\n",
            "\u001b[0;32m<ipython-input-353-f214d89fc708>\u001b[0m in \u001b[0;36mforward\u001b[0;34m(self, x)\u001b[0m\n\u001b[1;32m      8\u001b[0m                                   out_features=1)\n\u001b[1;32m      9\u001b[0m   \u001b[0;32mdef\u001b[0m \u001b[0mforward\u001b[0m\u001b[0;34m(\u001b[0m\u001b[0mself\u001b[0m\u001b[0;34m,\u001b[0m \u001b[0mx\u001b[0m\u001b[0;34m:\u001b[0m \u001b[0mtorch\u001b[0m\u001b[0;34m.\u001b[0m\u001b[0mTensor\u001b[0m\u001b[0;34m)\u001b[0m \u001b[0;34m->\u001b[0m \u001b[0mtorch\u001b[0m\u001b[0;34m.\u001b[0m\u001b[0mTensor\u001b[0m\u001b[0;34m:\u001b[0m\u001b[0;34m\u001b[0m\u001b[0;34m\u001b[0m\u001b[0m\n\u001b[0;32m---> 10\u001b[0;31m     \u001b[0;32mreturn\u001b[0m \u001b[0mself\u001b[0m\u001b[0;34m.\u001b[0m\u001b[0mlinear_layer\u001b[0m\u001b[0;34m(\u001b[0m\u001b[0mx\u001b[0m\u001b[0;34m)\u001b[0m\u001b[0;34m\u001b[0m\u001b[0;34m\u001b[0m\u001b[0m\n\u001b[0m\u001b[1;32m     11\u001b[0m \u001b[0;34m\u001b[0m\u001b[0m\n\u001b[1;32m     12\u001b[0m \u001b[0;31m# set the manual seed\u001b[0m\u001b[0;34m\u001b[0m\u001b[0;34m\u001b[0m\u001b[0m\n",
            "\u001b[0;32m/usr/local/lib/python3.10/dist-packages/torch/nn/modules/module.py\u001b[0m in \u001b[0;36m_wrapped_call_impl\u001b[0;34m(self, *args, **kwargs)\u001b[0m\n\u001b[1;32m   1551\u001b[0m             \u001b[0;32mreturn\u001b[0m \u001b[0mself\u001b[0m\u001b[0;34m.\u001b[0m\u001b[0m_compiled_call_impl\u001b[0m\u001b[0;34m(\u001b[0m\u001b[0;34m*\u001b[0m\u001b[0margs\u001b[0m\u001b[0;34m,\u001b[0m \u001b[0;34m**\u001b[0m\u001b[0mkwargs\u001b[0m\u001b[0;34m)\u001b[0m  \u001b[0;31m# type: ignore[misc]\u001b[0m\u001b[0;34m\u001b[0m\u001b[0;34m\u001b[0m\u001b[0m\n\u001b[1;32m   1552\u001b[0m         \u001b[0;32melse\u001b[0m\u001b[0;34m:\u001b[0m\u001b[0;34m\u001b[0m\u001b[0;34m\u001b[0m\u001b[0m\n\u001b[0;32m-> 1553\u001b[0;31m             \u001b[0;32mreturn\u001b[0m \u001b[0mself\u001b[0m\u001b[0;34m.\u001b[0m\u001b[0m_call_impl\u001b[0m\u001b[0;34m(\u001b[0m\u001b[0;34m*\u001b[0m\u001b[0margs\u001b[0m\u001b[0;34m,\u001b[0m \u001b[0;34m**\u001b[0m\u001b[0mkwargs\u001b[0m\u001b[0;34m)\u001b[0m\u001b[0;34m\u001b[0m\u001b[0;34m\u001b[0m\u001b[0m\n\u001b[0m\u001b[1;32m   1554\u001b[0m \u001b[0;34m\u001b[0m\u001b[0m\n\u001b[1;32m   1555\u001b[0m     \u001b[0;32mdef\u001b[0m \u001b[0m_call_impl\u001b[0m\u001b[0;34m(\u001b[0m\u001b[0mself\u001b[0m\u001b[0;34m,\u001b[0m \u001b[0;34m*\u001b[0m\u001b[0margs\u001b[0m\u001b[0;34m,\u001b[0m \u001b[0;34m**\u001b[0m\u001b[0mkwargs\u001b[0m\u001b[0;34m)\u001b[0m\u001b[0;34m:\u001b[0m\u001b[0;34m\u001b[0m\u001b[0;34m\u001b[0m\u001b[0m\n",
            "\u001b[0;32m/usr/local/lib/python3.10/dist-packages/torch/nn/modules/module.py\u001b[0m in \u001b[0;36m_call_impl\u001b[0;34m(self, *args, **kwargs)\u001b[0m\n\u001b[1;32m   1560\u001b[0m                 \u001b[0;32mor\u001b[0m \u001b[0m_global_backward_pre_hooks\u001b[0m \u001b[0;32mor\u001b[0m \u001b[0m_global_backward_hooks\u001b[0m\u001b[0;34m\u001b[0m\u001b[0;34m\u001b[0m\u001b[0m\n\u001b[1;32m   1561\u001b[0m                 or _global_forward_hooks or _global_forward_pre_hooks):\n\u001b[0;32m-> 1562\u001b[0;31m             \u001b[0;32mreturn\u001b[0m \u001b[0mforward_call\u001b[0m\u001b[0;34m(\u001b[0m\u001b[0;34m*\u001b[0m\u001b[0margs\u001b[0m\u001b[0;34m,\u001b[0m \u001b[0;34m**\u001b[0m\u001b[0mkwargs\u001b[0m\u001b[0;34m)\u001b[0m\u001b[0;34m\u001b[0m\u001b[0;34m\u001b[0m\u001b[0m\n\u001b[0m\u001b[1;32m   1563\u001b[0m \u001b[0;34m\u001b[0m\u001b[0m\n\u001b[1;32m   1564\u001b[0m         \u001b[0;32mtry\u001b[0m\u001b[0;34m:\u001b[0m\u001b[0;34m\u001b[0m\u001b[0;34m\u001b[0m\u001b[0m\n",
            "\u001b[0;32m/usr/local/lib/python3.10/dist-packages/torch/nn/modules/linear.py\u001b[0m in \u001b[0;36mforward\u001b[0;34m(self, input)\u001b[0m\n\u001b[1;32m    115\u001b[0m \u001b[0;34m\u001b[0m\u001b[0m\n\u001b[1;32m    116\u001b[0m     \u001b[0;32mdef\u001b[0m \u001b[0mforward\u001b[0m\u001b[0;34m(\u001b[0m\u001b[0mself\u001b[0m\u001b[0;34m,\u001b[0m \u001b[0minput\u001b[0m\u001b[0;34m:\u001b[0m \u001b[0mTensor\u001b[0m\u001b[0;34m)\u001b[0m \u001b[0;34m->\u001b[0m \u001b[0mTensor\u001b[0m\u001b[0;34m:\u001b[0m\u001b[0;34m\u001b[0m\u001b[0;34m\u001b[0m\u001b[0m\n\u001b[0;32m--> 117\u001b[0;31m         \u001b[0;32mreturn\u001b[0m \u001b[0mF\u001b[0m\u001b[0;34m.\u001b[0m\u001b[0mlinear\u001b[0m\u001b[0;34m(\u001b[0m\u001b[0minput\u001b[0m\u001b[0;34m,\u001b[0m \u001b[0mself\u001b[0m\u001b[0;34m.\u001b[0m\u001b[0mweight\u001b[0m\u001b[0;34m,\u001b[0m \u001b[0mself\u001b[0m\u001b[0;34m.\u001b[0m\u001b[0mbias\u001b[0m\u001b[0;34m)\u001b[0m\u001b[0;34m\u001b[0m\u001b[0;34m\u001b[0m\u001b[0m\n\u001b[0m\u001b[1;32m    118\u001b[0m \u001b[0;34m\u001b[0m\u001b[0m\n\u001b[1;32m    119\u001b[0m     \u001b[0;32mdef\u001b[0m \u001b[0mextra_repr\u001b[0m\u001b[0;34m(\u001b[0m\u001b[0mself\u001b[0m\u001b[0;34m)\u001b[0m \u001b[0;34m->\u001b[0m \u001b[0mstr\u001b[0m\u001b[0;34m:\u001b[0m\u001b[0;34m\u001b[0m\u001b[0;34m\u001b[0m\u001b[0m\n",
            "\u001b[0;31mRuntimeError\u001b[0m: mat1 and mat2 shapes cannot be multiplied (1x10 and 1x1)"
          ]
        }
      ]
    },
    {
      "cell_type": "code",
      "source": [],
      "metadata": {
        "id": "QNzmGunro3c2"
      },
      "execution_count": null,
      "outputs": []
    }
  ]
}