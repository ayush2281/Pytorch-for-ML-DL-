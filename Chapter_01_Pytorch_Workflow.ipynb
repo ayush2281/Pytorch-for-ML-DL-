{
  "nbformat": 4,
  "nbformat_minor": 0,
  "metadata": {
    "colab": {
      "provenance": [],
      "authorship_tag": "ABX9TyML8+RKgkN7CETkPyYUxs8Z",
      "include_colab_link": true
    },
    "kernelspec": {
      "name": "python3",
      "display_name": "Python 3"
    },
    "language_info": {
      "name": "python"
    }
  },
  "cells": [
    {
      "cell_type": "markdown",
      "metadata": {
        "id": "view-in-github",
        "colab_type": "text"
      },
      "source": [
        "<a href=\"https://colab.research.google.com/github/ayush2281/Pytorch-for-ML-DL-/blob/main/Chapter_01_Pytorch_Workflow.ipynb\" target=\"_parent\"><img src=\"https://colab.research.google.com/assets/colab-badge.svg\" alt=\"Open In Colab\"/></a>"
      ]
    },
    {
      "cell_type": "markdown",
      "source": [
        "## Pytorch Workflow\n",
        "Let's Explore a an example Pytorch end-to-end workflow.\n",
        "\n",
        "Resources:\n",
        "* Ground Truth notebook - https://github.com/mrdbourke/pytorch-deep-learning/blob/main/01_pytorch_workflow.ipynb\n",
        "\n",
        "*Book version of notebook"
      ],
      "metadata": {
        "id": "yITI_HsDpsfv"
      }
    },
    {
      "cell_type": "markdown",
      "source": [
        "what_were_covering =  1: 'Data (prepare and load)'\n",
        "                       \n",
        "                       \n",
        "                       2: build Model\n",
        "                       3: 'fiting model to the data (training)'\n",
        "                       4: 'making the  predicition and evaluating a model (inference)'\n",
        "                       5: 'saving and loading a model'\n",
        "                       6: 'putting it all together'\n",
        "                       \n",
        "                      \n",
        "                    "
      ],
      "metadata": {
        "id": "95FsaOEZrtMp"
      }
    },
    {
      "cell_type": "code",
      "source": [
        "import torch\n",
        "from torch import nn # nn contains all of pytorch's building block for nn\n",
        "import matplotlib.pyplot as plt\n",
        "\n",
        "# check the Pytorch version\n",
        "torch.__version__\n"
      ],
      "metadata": {
        "colab": {
          "base_uri": "https://localhost:8080/",
          "height": 36
        },
        "id": "2exIah2ps8vs",
        "outputId": "a2ddf5e9-5aa5-47b3-f961-3a42de618ac6"
      },
      "execution_count": 2,
      "outputs": [
        {
          "output_type": "execute_result",
          "data": {
            "text/plain": [
              "'2.4.1+cu121'"
            ],
            "application/vnd.google.colaboratory.intrinsic+json": {
              "type": "string"
            }
          },
          "metadata": {},
          "execution_count": 2
        }
      ]
    },
    {
      "cell_type": "markdown",
      "source": [
        "1. 'Data (prepare and load)'\n",
        "data can be ananything in the ml.\n"
      ],
      "metadata": {
        "id": "43bprzJOtlG7"
      }
    },
    {
      "cell_type": "markdown",
      "source": [
        "Data can all most anythingf.. i n ml\n",
        "\n",
        "* Excel speadsheet\n",
        "* image of any kind\n",
        "* video (YOutu be has lots of data)\n",
        "* Audio like songs or podcast\n",
        "* DNA\n",
        "* TEXT\n",
        "\n",
        "## Ml is game of two part:\n",
        "1. Get Data into a numerical representation\n",
        "2. build a model to learn a pattern in that numerical representation\n",
        "\n",
        "To showcae this , lets create some *knwon* data using the linear regression formula.\n",
        "\n",
        "We'll  use linear regression formula to make a straight line with known parameter."
      ],
      "metadata": {
        "id": "h3x6x1oTCxHS"
      }
    },
    {
      "cell_type": "code",
      "source": [
        "# Create *known* parameter\n",
        "weight = 0.7\n",
        "bias = 0.5\n",
        "\n",
        "# create a data\n",
        "start =0\n",
        "end =1\n",
        "step = 0.02\n",
        "# x = torch.arange(start,end,step).unsqueeze(dim=1)\n",
        "x = torch.arange(start,end,step)\n",
        "\n",
        "y = weight * x + bias\n",
        "\n",
        "x[:10],y[:10], len(x), len(y)"
      ],
      "metadata": {
        "colab": {
          "base_uri": "https://localhost:8080/"
        },
        "id": "qkvMl-Xfte_3",
        "outputId": "a779218f-7814-4351-8c23-dc74f307390e"
      },
      "execution_count": 3,
      "outputs": [
        {
          "output_type": "execute_result",
          "data": {
            "text/plain": [
              "(tensor([0.0000, 0.0200, 0.0400, 0.0600, 0.0800, 0.1000, 0.1200, 0.1400, 0.1600,\n",
              "         0.1800]),\n",
              " tensor([0.5000, 0.5140, 0.5280, 0.5420, 0.5560, 0.5700, 0.5840, 0.5980, 0.6120,\n",
              "         0.6260]),\n",
              " 50,\n",
              " 50)"
            ]
          },
          "metadata": {},
          "execution_count": 3
        }
      ]
    },
    {
      "cell_type": "code",
      "source": [
        "len(x), len(y)"
      ],
      "metadata": {
        "colab": {
          "base_uri": "https://localhost:8080/"
        },
        "id": "eA3XLMeXFedf",
        "outputId": "621c62ce-fe24-4bd8-bc9a-3ab32924bbf4"
      },
      "execution_count": 4,
      "outputs": [
        {
          "output_type": "execute_result",
          "data": {
            "text/plain": [
              "(50, 50)"
            ]
          },
          "metadata": {},
          "execution_count": 4
        }
      ]
    },
    {
      "cell_type": "markdown",
      "source": [
        "  spliting data into training and testing sets (one of the most important concept in machine learning in general)"
      ],
      "metadata": {
        "id": "sujpBHXiHcQ3"
      }
    },
    {
      "cell_type": "markdown",
      "source": [
        "lets create an train and test with our data"
      ],
      "metadata": {
        "id": "KGmG5ftGKGZR"
      }
    },
    {
      "cell_type": "code",
      "source": [
        "# create an train test split\n",
        "train_split  = int(0.8 * len(x))\n",
        "x_train, y_train = x[:train_split], y[:train_split]\n",
        "x_test, y_test = x[train_split:], y[train_split:]\n",
        "\n",
        "len(x_train), len(y_train), len(x_test), len(y_test)"
      ],
      "metadata": {
        "colab": {
          "base_uri": "https://localhost:8080/"
        },
        "id": "65aCzAxmIZnh",
        "outputId": "722f5621-8afc-4d4d-aa11-be61b858de19"
      },
      "execution_count": 5,
      "outputs": [
        {
          "output_type": "execute_result",
          "data": {
            "text/plain": [
              "(40, 40, 10, 10)"
            ]
          },
          "metadata": {},
          "execution_count": 5
        }
      ]
    },
    {
      "cell_type": "code",
      "source": [
        "x_train, y_train"
      ],
      "metadata": {
        "colab": {
          "base_uri": "https://localhost:8080/"
        },
        "id": "GI6K7CVBKfH-",
        "outputId": "3be8d698-e331-4d6d-a134-71fcbd8a1fbd"
      },
      "execution_count": 6,
      "outputs": [
        {
          "output_type": "execute_result",
          "data": {
            "text/plain": [
              "(tensor([0.0000, 0.0200, 0.0400, 0.0600, 0.0800, 0.1000, 0.1200, 0.1400, 0.1600,\n",
              "         0.1800, 0.2000, 0.2200, 0.2400, 0.2600, 0.2800, 0.3000, 0.3200, 0.3400,\n",
              "         0.3600, 0.3800, 0.4000, 0.4200, 0.4400, 0.4600, 0.4800, 0.5000, 0.5200,\n",
              "         0.5400, 0.5600, 0.5800, 0.6000, 0.6200, 0.6400, 0.6600, 0.6800, 0.7000,\n",
              "         0.7200, 0.7400, 0.7600, 0.7800]),\n",
              " tensor([0.5000, 0.5140, 0.5280, 0.5420, 0.5560, 0.5700, 0.5840, 0.5980, 0.6120,\n",
              "         0.6260, 0.6400, 0.6540, 0.6680, 0.6820, 0.6960, 0.7100, 0.7240, 0.7380,\n",
              "         0.7520, 0.7660, 0.7800, 0.7940, 0.8080, 0.8220, 0.8360, 0.8500, 0.8640,\n",
              "         0.8780, 0.8920, 0.9060, 0.9200, 0.9340, 0.9480, 0.9620, 0.9760, 0.9900,\n",
              "         1.0040, 1.0180, 1.0320, 1.0460]))"
            ]
          },
          "metadata": {},
          "execution_count": 6
        }
      ]
    },
    {
      "cell_type": "markdown",
      "source": [
        "How might we better visualize out data?\n",
        "\n",
        "this is where the data explore's motto comes in!\n",
        "\n",
        "'Visalise , Visualizwe, Visualizse'\n",
        "\n"
      ],
      "metadata": {
        "id": "vxLIgluJMPmk"
      }
    },
    {
      "cell_type": "code",
      "source": [
        "def plot_prediction(train_data=x_train,\n",
        "                    train_labels = y_train,\n",
        "                    test_data = x_test,\n",
        "                    test_labels = y_test,\n",
        "                    prediciton =None):\n",
        "  \"\"\"\n",
        "  Plots training data, test data and compares predicitons\n",
        "\n",
        "  \"\"\"\n",
        "  #plot training data in blue\n",
        "  plt.scatter(train_data, train_labels, c=\"b\", s=4, label=\"training data\")\n",
        "\n",
        "  #plot test data in red\n",
        "  plt.scatter(test_data, test_labels, c=\"r\", s=4, label=\"test data\")\n",
        "\n",
        "  # are there prediction\n",
        "\n",
        "  if prediciton is not None:\n",
        "    #plot the predicition if they exist\n",
        "    plt.scatter(test_data, prediciton, c=\"g\", s=4, label=\"prediciton data\")\n",
        "\n",
        "  #show the legend\n",
        "  plt.legend(prop={\"size\":14})\n"
      ],
      "metadata": {
        "id": "9Dwj5UMgML_7"
      },
      "execution_count": 7,
      "outputs": []
    },
    {
      "cell_type": "code",
      "source": [
        "plot_prediction();"
      ],
      "metadata": {
        "colab": {
          "base_uri": "https://localhost:8080/",
          "height": 430
        },
        "id": "Zh_ELP5yOBIM",
        "outputId": "37f521ac-b8a8-4b58-d05b-4dff46adc673"
      },
      "execution_count": 8,
      "outputs": [
        {
          "output_type": "display_data",
          "data": {
            "text/plain": [
              "<Figure size 640x480 with 1 Axes>"
            ],
            "image/png": "[encoded data removed]"
          },
          "metadata": {}
        }
      ]
    },
    {
      "cell_type": "markdown",
      "source": [
        "##2. Building  a model!\n",
        "\n",
        "wohhh that's exciting, let's do it!\n",
        "\n",
        "## What Our doesweight and bias\n",
        "* starts with random values (weight and bias)\n",
        "* look at the training data and adjust the random values to better represent (or get to the *closer*) to tge ideal values (the weight & bias values we used to create tye data)\n",
        "\n",
        "## How does it to do so ?\n",
        "1. Gradient descent --> resource -> YT(3blue1brown)\n",
        "2. Backpropagation --> resource -> YT(3blue1brown)"
      ],
      "metadata": {
        "id": "hdaR9hWpajw6"
      }
    },
    {
      "cell_type": "code",
      "source": [
        "import torch\n",
        "import torch.nn as nn\n",
        "\n",
        "# create an linear model\n",
        "class linearRegreassionModel(nn.Module): # subclass nn.module\n",
        "    def __init__(self):\n",
        "        super().__init__()\n",
        "        # initialize the model parameter\n",
        "        # (requires_grad=True) means pytorch will track the gradient of this specific parameter for use with torch.autograd and gradient descent\n",
        "        self.weights = nn.Parameter(torch.randn(1,\n",
        "                                                dtype=torch.float, # corrected 'dtpe' to 'dtype'\n",
        "                                                requires_grad=True)) # moved requires_grad and dtype to keyword arguments\n",
        "        self.bias = nn.Parameter(torch.randn(1,\n",
        "                                             dtype=torch.float, # corrected 'dtpe' to 'dtype'\n",
        "                                             requires_grad=True)) # moved requires_grad and dtype to keyword arguments\n",
        "\n",
        "    # forward method to define the computational in the model, 'x' is the input\n",
        "    def forward(self, x: torch.Tensor): # corrected 'forword' to 'forward'\n",
        "      return self.weights * x + self.bias # this is the linear regression formula"
      ],
      "metadata": {
        "id": "3TmjKfAdOZZa"
      },
      "execution_count": 9,
      "outputs": []
    },
    {
      "cell_type": "markdown",
      "source": [
        "##pytorch module\n",
        "   1. torch.nn\n",
        "   2. torch.nn.Module\n",
        "   3. torch.optim\n",
        "   4. torch.utils.data.dataset\n",
        "   5. torch.utils.data.DataLoader\n",
        "   6. torch.nn.Parameter\n",
        "\n",
        "   *for more visit this page* https://pytorch.org/tutorials/beginner/ptcheat.html\n"
      ],
      "metadata": {
        "id": "gT8WaYfCm2CF"
      }
    },
    {
      "cell_type": "markdown",
      "source": [
        "### pytorch model building essential\n",
        "\n",
        " **PytorchModule** |  **What does it do**\n",
        "* torch.nn --> contains all buildings for computational graphs (a neural * network can we consider a computational graph)\n",
        "* torch.nn.Parameter -what parametr should our model try and lern , often a pytorch layer from torch.nn will set these for   us\n",
        "* torch.nn.module - the base clss for all neural network modules , if you subclass it , should overwrite forword()"
      ],
      "metadata": {
        "id": "bZdZJlmnkMBk"
      }
    },
    {
      "cell_type": "code",
      "source": [
        "torch.manual_seed(42)\n",
        "torch.randn(1)"
      ],
      "metadata": {
        "colab": {
          "base_uri": "https://localhost:8080/"
        },
        "id": "y9a-g6A5XPlA",
        "outputId": "20109b9b-b9d3-45cd-fba6-047f9378c557"
      },
      "execution_count": 10,
      "outputs": [
        {
          "output_type": "execute_result",
          "data": {
            "text/plain": [
              "tensor([0.3367])"
            ]
          },
          "metadata": {},
          "execution_count": 10
        }
      ]
    },
    {
      "cell_type": "markdown",
      "source": [
        "## checkings the contains of our Pytorch model\n",
        "\n",
        "Now we've created a model, let's see whats  inside it.\n",
        "\n",
        "so we can checklout model parameters or whats inside our model uisng .parameter()."
      ],
      "metadata": {
        "id": "FprjkC33mec4"
      }
    },
    {
      "cell_type": "code",
      "source": [
        "## creare an random seed\n",
        "torch.manual_seed(42)\n",
        "\n",
        "# create an instance of the model (this is a subclass od nn.Module)\n",
        "model_0 = linearRegreassionModel()\n",
        "\n",
        "list(model_0.parameters())\n"
      ],
      "metadata": {
        "id": "nJL-csoapu_U",
        "colab": {
          "base_uri": "https://localhost:8080/"
        },
        "outputId": "d205bfd8-d684-4c5e-cdf9-48806aff2e60"
      },
      "execution_count": 11,
      "outputs": [
        {
          "output_type": "execute_result",
          "data": {
            "text/plain": [
              "[Parameter containing:\n",
              " tensor([0.3367], requires_grad=True),\n",
              " Parameter containing:\n",
              " tensor([0.1288], requires_grad=True)]"
            ]
          },
          "metadata": {},
          "execution_count": 11
        }
      ]
    },
    {
      "cell_type": "code",
      "source": [
        "# list the named parameter\n",
        "model_0.state_dict()"
      ],
      "metadata": {
        "colab": {
          "base_uri": "https://localhost:8080/"
        },
        "id": "WERmlwhhV8aB",
        "outputId": "2bd30f0a-91cf-46ea-bdca-d573a2ea358d"
      },
      "execution_count": 12,
      "outputs": [
        {
          "output_type": "execute_result",
          "data": {
            "text/plain": [
              "OrderedDict([('weights', tensor([0.3367])), ('bias', tensor([0.1288]))])"
            ]
          },
          "metadata": {},
          "execution_count": 12
        }
      ]
    },
    {
      "cell_type": "code",
      "source": [
        "weight , bias"
      ],
      "metadata": {
        "colab": {
          "base_uri": "https://localhost:8080/"
        },
        "id": "8XvloqoGYH56",
        "outputId": "ba1a9ca7-8841-4583-df01-cbba8ec48908"
      },
      "execution_count": 13,
      "outputs": [
        {
          "output_type": "execute_result",
          "data": {
            "text/plain": [
              "(0.7, 0.5)"
            ]
          },
          "metadata": {},
          "execution_count": 13
        }
      ]
    },
    {
      "cell_type": "markdown",
      "source": [
        "check why the both weigt and bias value is different."
      ],
      "metadata": {
        "id": "HfPhH1BfYkOL"
      }
    },
    {
      "cell_type": "markdown",
      "source": [
        "### making prediction using torch.inference_mode()\n",
        "\n",
        "To check our model predictive power , lts see how well it predictes y_test base on X_test.\n",
        "\n",
        "wehn we pass daata through our model , its going to rin it through the forward() method."
      ],
      "metadata": {
        "id": "g3lMxfeRYil4"
      }
    },
    {
      "cell_type": "code",
      "source": [
        "x_test, y_test"
      ],
      "metadata": {
        "colab": {
          "base_uri": "https://localhost:8080/"
        },
        "id": "du44OTITF0AZ",
        "outputId": "9d07edc8-7652-4e7e-9367-d1b0fd499491"
      },
      "execution_count": 14,
      "outputs": [
        {
          "output_type": "execute_result",
          "data": {
            "text/plain": [
              "(tensor([0.8000, 0.8200, 0.8400, 0.8600, 0.8800, 0.9000, 0.9200, 0.9400, 0.9600,\n",
              "         0.9800]),\n",
              " tensor([1.0600, 1.0740, 1.0880, 1.1020, 1.1160, 1.1300, 1.1440, 1.1580, 1.1720,\n",
              "         1.1860]))"
            ]
          },
          "metadata": {},
          "execution_count": 14
        }
      ]
    },
    {
      "cell_type": "markdown",
      "source": [],
      "metadata": {
        "id": "TEjrTLVZFzLw"
      }
    },
    {
      "cell_type": "code",
      "source": [
        "# yeah this one and next one have same output but it contains the gradient and another one not contain the gradient calculation\n",
        "y_preds= model_0(x_test)\n",
        "y_preds\n",
        "\n"
      ],
      "metadata": {
        "colab": {
          "base_uri": "https://localhost:8080/"
        },
        "id": "PWvu8-XiIoYC",
        "outputId": "ad7bd19e-b540-40ae-a629-d095405a91cb"
      },
      "execution_count": 15,
      "outputs": [
        {
          "output_type": "execute_result",
          "data": {
            "text/plain": [
              "tensor([0.3982, 0.4049, 0.4116, 0.4184, 0.4251, 0.4318, 0.4386, 0.4453, 0.4520,\n",
              "        0.4588], grad_fn=<AddBackward0>)"
            ]
          },
          "metadata": {},
          "execution_count": 15
        }
      ]
    },
    {
      "cell_type": "code",
      "source": [
        " # make prediction with model\n",
        "# with torch.inference_mode(): # pytorch.inference disable the gradient calculation(weight)\n",
        "#   y_preds = model_0(x_test)\n",
        "\n",
        "# y_preds\n",
        "\n",
        "with torch.no_grad(): # the both snipets having same output and in othr words youy can you use either one.\n",
        "  y_preds = model_0(x_test)\n",
        "y_preds\n"
      ],
      "metadata": {
        "colab": {
          "base_uri": "https://localhost:8080/"
        },
        "id": "uYYN7-t6DxMu",
        "outputId": "885db3ce-4613-4498-ccc2-e97d23a34a1f"
      },
      "execution_count": 16,
      "outputs": [
        {
          "output_type": "execute_result",
          "data": {
            "text/plain": [
              "tensor([0.3982, 0.4049, 0.4116, 0.4184, 0.4251, 0.4318, 0.4386, 0.4453, 0.4520,\n",
              "        0.4588])"
            ]
          },
          "metadata": {},
          "execution_count": 16
        }
      ]
    },
    {
      "cell_type": "code",
      "source": [
        "plot_prediction(prediciton=y_preds)"
      ],
      "metadata": {
        "colab": {
          "base_uri": "https://localhost:8080/",
          "height": 430
        },
        "id": "_RqGdNhUFttB",
        "outputId": "3aff27de-90c6-41d4-b5eb-7b6218725074"
      },
      "execution_count": 17,
      "outputs": [
        {
          "output_type": "display_data",
          "data": {
            "text/plain": [
              "<Figure size 640x480 with 1 Axes>"
            ],
            "image/png": "[encoded data removed]"
          },
          "metadata": {}
        }
      ]
    },
    {
      "cell_type": "markdown",
      "source": [
        "## 3. train mdoel\n",
        "* The whole idea is training for a model to move from some unknown parameter (these may be random) to some known parameter.\n",
        "* or in other words froma poor representaion of the data to a better representation of the data.\n",
        "\n",
        "* oneway to measure how poor/ wrong model are . use loss function\n",
        "\n",
        "*Note* : Loss function may also called cost fucntion or criteria in different areas .\n",
        "\n",
        "**Loss Fucntion** A fucntion to measure how wrong ur model prediction are to the ideal/actual output, Lower is better.\n",
        "\n",
        "**optimizer** : takes into account the loss funtion  of a model and adjust the model parameter(e.g. weight & bias)\n",
        "\n",
        "And specially for pytorch ⁉\n",
        "1. A training loop\n",
        "2. A testing loop\n",
        "\n",
        "*for more visit:* https://pytorch.org/docs/stable/nn.html#loss-functions"
      ],
      "metadata": {
        "id": "AkqUenRiITt2"
      }
    },
    {
      "cell_type": "code",
      "source": [
        "# checkout the model paramter(a parametr is a value that tghe model sets itself)\n",
        "model_0.state_dict()"
      ],
      "metadata": {
        "colab": {
          "base_uri": "https://localhost:8080/"
        },
        "id": "hB4Kfze3Nuvj",
        "outputId": "ad250b00-d3fd-4268-dd02-0d37eb7a6813"
      },
      "execution_count": 18,
      "outputs": [
        {
          "output_type": "execute_result",
          "data": {
            "text/plain": [
              "OrderedDict([('weights', tensor([0.3367])), ('bias', tensor([0.1288]))])"
            ]
          },
          "metadata": {},
          "execution_count": 18
        }
      ]
    },
    {
      "cell_type": "code",
      "source": [
        "# using the Mean absolute error to calculate how much function is wrongh\n",
        "MAE_loss = torch.mean(torch.abs(y_preds - y_test))\n",
        "MAE_loss"
      ],
      "metadata": {
        "colab": {
          "base_uri": "https://localhost:8080/"
        },
        "id": "0CKfQOoFTGDJ",
        "outputId": "4291e00e-0ec0-4e9b-d645-08b36608ced5"
      },
      "execution_count": 19,
      "outputs": [
        {
          "output_type": "execute_result",
          "data": {
            "text/plain": [
              "tensor(0.6945)"
            ]
          },
          "metadata": {},
          "execution_count": 19
        }
      ]
    },
    {
      "cell_type": "code",
      "source": [
        "#setup the losss function\n",
        "loss_fn = nn.L1Loss()\n",
        "\n",
        "\n",
        "#setup optimizer\n",
        "optimizeer =  torch.optim.SGD(params=model_0.parameters(),\n",
        "                            lr=0.01)  #learning_rate - >,the small learning rate small change in parameter, the large parameter the large change in parameter\n",
        "optimizeer"
      ],
      "metadata": {
        "colab": {
          "base_uri": "https://localhost:8080/"
        },
        "id": "70MRierXPbFn",
        "outputId": "5c12eb80-aca5-4098-f5c4-7e1d508661b1"
      },
      "execution_count": 20,
      "outputs": [
        {
          "output_type": "execute_result",
          "data": {
            "text/plain": [
              "SGD (\n",
              "Parameter Group 0\n",
              "    dampening: 0\n",
              "    differentiable: False\n",
              "    foreach: None\n",
              "    fused: None\n",
              "    lr: 0.01\n",
              "    maximize: False\n",
              "    momentum: 0\n",
              "    nesterov: False\n",
              "    weight_decay: 0\n",
              ")"
            ]
          },
          "metadata": {},
          "execution_count": 20
        }
      ]
    },
    {
      "cell_type": "markdown",
      "source": [
        "which loss funtion and optimizer i should use...--> nn.L1Loss() ,\n",
        "torch.optimSGD()"
      ],
      "metadata": {
        "id": "c-zEQhRWxpRb"
      }
    },
    {
      "cell_type": "markdown",
      "source": [
        "### Building a training and test  looop in pytorch\n",
        "\n",
        "A couple of thing we need in a training loop:\n",
        "0. Loop throgh the data\n",
        "1. forword pass (this involve data moving throgh our models forword()' fucntion) to make prediciton on data - also called forword propagation\n",
        "2. calculate the loss fucntion (compare forword passs prediction to ground truth labels)\n",
        "3. Optimizeer zero grad\n",
        "4. loss backword - move backwisse through the network to calculate the gradient of each of the parameter of our model with respect to the loss(**backpropogation**)\n",
        "5. optimizer step - use the optimizer to adjust models parameter to try and improve the loss.(**Gradient descent**)\n"
      ],
      "metadata": {
        "id": "l1CknWV4R8SG"
      }
    },
    {
      "cell_type": "code",
      "source": [
        "with torch.no_grad():\n",
        "  list(model_0.parameters())"
      ],
      "metadata": {
        "id": "ci_At6nk4IqM"
      },
      "execution_count": 21,
      "outputs": []
    },
    {
      "cell_type": "code",
      "source": [
        "list(model_0.parameters())"
      ],
      "metadata": {
        "colab": {
          "base_uri": "https://localhost:8080/"
        },
        "id": "f0m8YqIO38rA",
        "outputId": "a42840ae-e2b2-44ad-e819-a6ebce2ea7f1"
      },
      "execution_count": 22,
      "outputs": [
        {
          "output_type": "execute_result",
          "data": {
            "text/plain": [
              "[Parameter containing:\n",
              " tensor([0.3367], requires_grad=True),\n",
              " Parameter containing:\n",
              " tensor([0.1288], requires_grad=True)]"
            ]
          },
          "metadata": {},
          "execution_count": 22
        }
      ]
    },
    {
      "cell_type": "code",
      "source": [
        "# an epochs is the one loop through the data .. (this is hyperparameter because we've set)\n",
        "epochs = 1\n",
        "\n",
        "##Training\n",
        "# 0 Loop throgh the data\n",
        "for epochs in range(epochs):\n",
        "  # set the model to training data\n",
        "  model_0.train() # train mode  in pytorch set all parameter that require gradient to require gradient\n",
        "\n",
        "  model_0.eval() # turns of gradient tracking\n",
        "  # 1. forward pass\n",
        "  y_preds = model_0(x_train)\n",
        "\n",
        "  # 2. calculate the loss\n",
        "  loss = loss_fn(y_preds, y_train)\n",
        "\n",
        "  # 3. optimizer zero grad\n",
        "  optimizeer.zero_grad()\n",
        "\n",
        "  # 4. loss backword\n",
        "  loss.backward()\n",
        "\n",
        "  # 5. optimizer step\n",
        "  optimizeer.step() ## by default how the optimizeer change will accumulate through the loop so.. we have to zero them in step 3 for the next itteration of the loop.\n",
        "\n",
        "  model_0.eval()\n",
        "\n"
      ],
      "metadata": {
        "id": "TZ6f-lj5y2PJ"
      },
      "execution_count": 23,
      "outputs": []
    },
    {
      "cell_type": "code",
      "source": [
        "weight, bias"
      ],
      "metadata": {
        "id": "KetLqlZL3Gl6",
        "colab": {
          "base_uri": "https://localhost:8080/",
          "height": 141
        },
        "outputId": "42bfe1da-05d0-4d30-9d3c-a064a3e23569"
      },
      "execution_count": 1,
      "outputs": [
        {
          "output_type": "error",
          "ename": "NameError",
          "evalue": "name 'weight' is not defined",
          "traceback": [
            "\u001b[0;31m---------------------------------------------------------------------------\u001b[0m",
            "\u001b[0;31mNameError\u001b[0m                                 Traceback (most recent call last)",
            "\u001b[0;32m<ipython-input-1-e8b93a472c69>\u001b[0m in \u001b[0;36m<cell line: 1>\u001b[0;34m()\u001b[0m\n\u001b[0;32m----> 1\u001b[0;31m \u001b[0mweight\u001b[0m\u001b[0;34m,\u001b[0m \u001b[0mbias\u001b[0m\u001b[0;34m\u001b[0m\u001b[0;34m\u001b[0m\u001b[0m\n\u001b[0m",
            "\u001b[0;31mNameError\u001b[0m: name 'weight' is not defined"
          ]
        }
      ]
    },
    {
      "cell_type": "code",
      "source": [],
      "metadata": {
        "id": "Sxu3fWJlJrpj"
      },
      "execution_count": 23,
      "outputs": []
    }
  ]
}