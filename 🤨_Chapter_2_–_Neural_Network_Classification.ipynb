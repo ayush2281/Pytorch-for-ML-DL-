{
  "nbformat": 4,
  "nbformat_minor": 0,
  "metadata": {
    "colab": {
      "provenance": [],
      "authorship_tag": "ABX9TyPDLLzCikvFbqM+2ykOvnEK",
      "include_colab_link": true
    },
    "kernelspec": {
      "name": "python3",
      "display_name": "Python 3"
    },
    "language_info": {
      "name": "python"
    }
  },
  "cells": [
    {
      "cell_type": "markdown",
      "metadata": {
        "id": "view-in-github",
        "colab_type": "text"
      },
      "source": [
        "<a href=\"https://colab.research.google.com/github/ayush2281/Pytorch-for-ML-DL-/blob/main/%F0%9F%A4%A8_Chapter_2_%E2%80%93_Neural_Network_Classification.ipynb\" target=\"_parent\"><img src=\"https://colab.research.google.com/assets/colab-badge.svg\" alt=\"Open In Colab\"/></a>"
      ]
    },
    {
      "cell_type": "markdown",
      "source": [
        "## 02. Neural Netwrok of classifaction\n",
        "classifiaction is the problem of predicting whether something is one thing or anotherthing, (there can be multiple things as the options).\n",
        "\n",
        "Book: https://www.learnpytorch.io/02_pytorch_classification/\n"
      ],
      "metadata": {
        "id": "C7cWdxPrR_TU"
      }
    },
    {
      "cell_type": "markdown",
      "source": [
        "## 1. Make classification  data and get it ready"
      ],
      "metadata": {
        "id": "0WILV6vXZTpG"
      }
    },
    {
      "cell_type": "code",
      "source": [
        "from sklearn.datasets import make_circles\n",
        "\n",
        "# make 1000 samples\n",
        "n_samples = 1000\n",
        "\n",
        "# create circles\n",
        "\n",
        "X,Y = make_circles(n_samples,\n",
        "                   noise=0.03,\n",
        "                   random_state=42)\n"
      ],
      "metadata": {
        "id": "2Z9_iSRFaC7_"
      },
      "execution_count": null,
      "outputs": []
    },
    {
      "cell_type": "code",
      "source": [
        "len(X), len(Y)"
      ],
      "metadata": {
        "id": "zwRNQjg7arlt"
      },
      "execution_count": null,
      "outputs": []
    },
    {
      "cell_type": "code",
      "source": [
        "print('first five samples of the X: ',X[:5])"
      ],
      "metadata": {
        "id": "GubMGCVKauyK"
      },
      "execution_count": null,
      "outputs": []
    },
    {
      "cell_type": "code",
      "source": [
        "print('first five samples of the Y: ',Y[:5])"
      ],
      "metadata": {
        "id": "FMNfadiZa6OO"
      },
      "execution_count": null,
      "outputs": []
    },
    {
      "cell_type": "code",
      "source": [
        "Y"
      ],
      "metadata": {
        "id": "YAhUL0yJbIqy"
      },
      "execution_count": null,
      "outputs": []
    },
    {
      "cell_type": "code",
      "source": [
        "# make dataframeof circle data\n",
        "import pandas as pd\n",
        "circles = pd.DataFrame({\"X1\": X[:,0],\n",
        "                       \"X2\": X[:, 1],\n",
        "                       \"label\": Y})\n",
        "\n",
        "circles"
      ],
      "metadata": {
        "id": "Tqc3FziGbSlh"
      },
      "execution_count": null,
      "outputs": []
    },
    {
      "cell_type": "code",
      "source": [
        "# Visualize, cisulaize , visualize\n",
        "import matplotlib.pyplot as plt\n",
        "plt.scatter(x=X[:,0],\n",
        "           y=X[:,1],\n",
        "           c=Y,\n",
        "           cmap=plt.cm.RdYlBu)\n"
      ],
      "metadata": {
        "id": "sO1-eoZbcaK9"
      },
      "execution_count": null,
      "outputs": []
    },
    {
      "cell_type": "markdown",
      "source": [
        "* Note : the data we're working with is often refered to as a toy dataset, a dataset that is small enough to expermient but still sizeable enough to practice the fundamental..\n",
        "\n",
        "\n",
        " *Know More Visit :*  https://scikit-learn.org/1.5/datasets/toy_dataset.html"
      ],
      "metadata": {
        "id": "Vn-35a_ZdLWb"
      }
    },
    {
      "cell_type": "markdown",
      "source": [
        "## 1.1checking input and output shapes"
      ],
      "metadata": {
        "id": "RtrzCzc1eYka"
      }
    },
    {
      "cell_type": "code",
      "source": [
        "X.shape, Y.shape"
      ],
      "metadata": {
        "id": "bYGAhsIQc822"
      },
      "execution_count": null,
      "outputs": []
    },
    {
      "cell_type": "code",
      "source": [
        "X"
      ],
      "metadata": {
        "id": "yH0zLELodvJb"
      },
      "execution_count": null,
      "outputs": []
    },
    {
      "cell_type": "code",
      "source": [],
      "metadata": {
        "id": "WTCIXoa9e1G_"
      },
      "execution_count": null,
      "outputs": []
    },
    {
      "cell_type": "code",
      "source": [
        "# view the first example of feature  and labels\n",
        "X_sample = X[0]\n",
        "Y_sample = Y[0]\n",
        "print(f\"Sample input of X: {X_sample} and sample output of Y: {Y_sample}\")\n",
        "print(f\"Shape of one sample: {X_sample.shape} and shape of Y[0]: {Y_sample.shape}\")"
      ],
      "metadata": {
        "id": "Pc3mGxG0e7qn"
      },
      "execution_count": null,
      "outputs": []
    },
    {
      "cell_type": "code",
      "source": [
        "# print the first  five rows and column\n",
        "first_five = X[: 5] , Y[:5]\n",
        "print(first_five)"
      ],
      "metadata": {
        "id": "LLsJljnUfOhZ"
      },
      "execution_count": null,
      "outputs": []
    },
    {
      "cell_type": "markdown",
      "source": [
        "## 1.2 Turn data into the tensors and create an train  test split"
      ],
      "metadata": {
        "id": "EOa-2kImfikp"
      }
    },
    {
      "cell_type": "code",
      "source": [
        "import torch\n",
        "torch.__version__"
      ],
      "metadata": {
        "id": "qi1K1W3egEa0"
      },
      "execution_count": null,
      "outputs": []
    },
    {
      "cell_type": "code",
      "source": [
        "# turn data into tensors\n",
        "X = torch.from_numpy(X).type(torch.float)\n",
        "Y = torch.from_numpy(Y).type(torch.float)\n"
      ],
      "metadata": {
        "id": "aiGG5WEsgIe0"
      },
      "execution_count": null,
      "outputs": []
    },
    {
      "cell_type": "code",
      "source": [
        "X[:5], Y[:5]"
      ],
      "metadata": {
        "id": "eE_vjPLrgT2a"
      },
      "execution_count": null,
      "outputs": []
    },
    {
      "cell_type": "code",
      "source": [
        "X.dtype, Y.dtype"
      ],
      "metadata": {
        "id": "TYfJ2f-CgU9n"
      },
      "execution_count": null,
      "outputs": []
    },
    {
      "cell_type": "code",
      "source": [
        "torch.manual_seed(42)"
      ],
      "metadata": {
        "id": "EfeBo9vY6rQJ"
      },
      "execution_count": null,
      "outputs": []
    },
    {
      "cell_type": "code",
      "source": [
        "## Split data into training and test split\n",
        "from  sklearn.model_selection import train_test_split\n",
        "\n",
        "X_train, X_test, Y_train ,Y_test = train_test_split(X,Y, test_size=0.2, random_state=42)\n",
        "\n",
        "len(X_train), len(X_test), len(Y_train), len(Y_test)"
      ],
      "metadata": {
        "id": "lGWR0-jsgZy8"
      },
      "execution_count": null,
      "outputs": []
    },
    {
      "cell_type": "code",
      "source": [
        "n_samples"
      ],
      "metadata": {
        "id": "DEXo4-WI6E7i"
      },
      "execution_count": null,
      "outputs": []
    },
    {
      "cell_type": "markdown",
      "source": [
        "# let's build a model\n",
        "\n",
        "let's build a model to classify our blue and red dots\n",
        "\n",
        "To do , we want to:\n",
        "1. steup device agnostic code sp ourt code will run on accelerator (CPU) there is one\n",
        "2.Construct a model (by subclassing nn.module)\n",
        "3. define a loss fucntion and Optimize\n",
        "4. create a training and test loop"
      ],
      "metadata": {
        "id": "1VXI4bAX66-J"
      }
    },
    {
      "cell_type": "code",
      "source": [
        "# import pytich and nn\n",
        "import torch\n",
        "from torch import nn\n",
        "\n",
        "# Make device agnostic  code\n",
        "device = \"cuda\" if torch.cuda.is_available() else \"cpu\"\n",
        "device\n"
      ],
      "metadata": {
        "id": "74al3Lng8Bbh"
      },
      "execution_count": null,
      "outputs": []
    },
    {
      "cell_type": "code",
      "source": [
        "X_train"
      ],
      "metadata": {
        "id": "Wkhc9WAE8QLp"
      },
      "execution_count": null,
      "outputs": []
    },
    {
      "cell_type": "markdown",
      "source": [
        "Now we've setup device agnostic code, let's build our model\n",
        "\n",
        "1. Subclass `nn.module` (almost all models in pytorch Subclass `nn.Module`)\n",
        "2. create `nn.lunear() layer `that are capable of handeling the shapes of our data\n",
        "3. defines a `forward()` method that defines the forward pass(or forward computation) of thr model\n",
        "4. instatiate an instance of our model and send it to the target `device`"
      ],
      "metadata": {
        "id": "8ymKUkbk8Svs"
      }
    },
    {
      "cell_type": "code",
      "source": [
        "X_train.shape"
      ],
      "metadata": {
        "id": "q3gPCkyY-N8X"
      },
      "execution_count": null,
      "outputs": []
    },
    {
      "cell_type": "code",
      "source": [
        "## Contruct the model that sublasses nn.modules\n",
        "class CircleModelV0(nn.Module):\n",
        "    def __init__(self):\n",
        "        super().__init__()\n",
        "        #2 Create 2 nn.linear layer capable of handeling the shapes of the shape our data\n",
        "        self.layer_1 =nn.Linear(in_features=2 , out_features=5) #  takes in 2 feature and upscale to 5 feature\n",
        "        self.layer_2 = nn.Linear(in_features=5, out_features=1) #  takes in 5 feature from  previous layer and output single feature(same shapes as y)\n",
        "        self.two_linear_layers = nn.Sequential(\n",
        "           nn.Linear(in_features=2, out_features=5),\n",
        "           nn.Linear(in_features=5, out_features=1)\n",
        "        )\n",
        "    # 3. define a forward() method that outlines the forward pass\n",
        "    def forward(self, x):\n",
        "      # return self.layer_2(self.layer_1(x)) # x--> layer_1 --> layer_2 --> output\n",
        "\n",
        "      return self.two_linear_layers(x)\n",
        "\n",
        "\n",
        "\n",
        "\n",
        "   # 4 Instantiate an instance of ur model class and send it to the target device\n",
        "model_0 = CircleModelV0().to(device)\n",
        "model_0\n",
        "\n"
      ],
      "metadata": {
        "id": "24QutrG38yjy"
      },
      "execution_count": null,
      "outputs": []
    },
    {
      "cell_type": "markdown",
      "source": [
        "## Making neural network visual\n",
        "*visit :* https://playground.tensorflow.org/#activation=tanh&batchSize=10&dataset=circle&regDataset=reg-plane&learningRate=0.03&regularizationRate=0&noise=0&networkShape=4,2&seed=0.22237&showTestData=false&discretize=false&percTrainData=50&x=true&y=true&xTimesY=false&xSquared=false&ySquared=false&cosX=false&sinX=false&cosY=false&sinY=false&collectStats=false&problem=classification&initZero=false&hideText=false\n",
        "\n",
        "*for the making some visualization use this:* https://www.figma.com/board/Kjer5IWperNkJeEx9wLaFd/Welcome-to-FigJam?node-id=0-1&node-type=canvas&t=BMNtxkvIQ9mQj3xR-0"
      ],
      "metadata": {
        "id": "nMnT28bbAIZr"
      }
    },
    {
      "cell_type": "code",
      "source": [
        "# Let's replicate the mdoel above using nn.squential\n",
        "model_0 = nn.Sequential(\n",
        "    nn.Linear(in_features=2, out_features=5),\n",
        "    nn.Linear(in_features=5, out_features=1)\n",
        "\n",
        "\n",
        ").to(device)\n",
        "\n",
        "model_0"
      ],
      "metadata": {
        "id": "ANFPJN8JTuC4"
      },
      "execution_count": null,
      "outputs": []
    },
    {
      "cell_type": "code",
      "source": [
        "model_0.state_dict()"
      ],
      "metadata": {
        "id": "gN0PMXYtV4h7"
      },
      "execution_count": null,
      "outputs": []
    },
    {
      "cell_type": "code",
      "source": [
        "# Make some prediction with the model\n",
        "untrained_preds = model_0(X_test.to(device))\n",
        "print(f\"Length of prediction:\", len(untrained_preds), \"Shape\", (untrained_preds.shape))\n",
        "print(f\"length of test samples:\", len(X_test), \"Shape :\", (X_test.shape))\n",
        "print(f\"First 10 predictions: {torch.round(untrained_preds[:10])}\")\n",
        "print(f\"First 10 label:\", Y_test[:10])\n",
        "\n"
      ],
      "metadata": {
        "id": "bvkAMDicUVCU"
      },
      "execution_count": null,
      "outputs": []
    },
    {
      "cell_type": "code",
      "source": [
        "X_test[:10], Y_test[:10]"
      ],
      "metadata": {
        "id": "BKrUnZuwX5bX"
      },
      "execution_count": null,
      "outputs": []
    },
    {
      "cell_type": "markdown",
      "source": [],
      "metadata": {
        "id": "-PdCx6g8ZStg"
      }
    },
    {
      "cell_type": "markdown",
      "source": [
        "##2.1 setup loss fucntion and optimizer\n",
        "which loss fucntionn and optimizer should we use?\n",
        "\n",
        "Again... this is problem specific.\n",
        "\n",
        "for example for regression we might use MAE or MSE\n",
        "for classification we might use binary cross entropy or categorical  cross entropy\n",
        "\n",
        "AS a remainder , the loss fucntion measures how *wrong* your model prediction are.\n",
        "\n",
        "And a optimizer two of most common and useful are SGD and Adam, however Pytorch how many built-in option.\n",
        "\n",
        "* For the loss function we're going to use `tensor.nn.BECWithLogitsLoss()` for more on what binary cross entropy (BCE) is checkout, this article - https://towardsdatascience.com/\n",
        "\n",
        "* For the definition on what a logit is in deep learning :https://en.wikipedia.org/wiki/Logit\n",
        "\n",
        "* for different optimizers see `torchh.optim`"
      ],
      "metadata": {
        "id": "M14h9HUgY2zY"
      }
    },
    {
      "cell_type": "code",
      "source": [
        "#Setup the loss function\n",
        "# loss_fn = nn.BCE_loss()\n",
        "loss_fn = nn.BCEWithLogitsLoss()\n",
        "\n",
        "#Setup the optimizer\n",
        "optimizer = torch.optim.SGD(params=model_0.parameters(),\n",
        "                            lr=0.1)"
      ],
      "metadata": {
        "id": "yCyza2bTppGp",
        "outputId": "c0d8910c-8841-414d-92f2-dbb8acb8a04a",
        "colab": {
          "base_uri": "https://localhost:8080/",
          "height": 211
        }
      },
      "execution_count": 1,
      "outputs": [
        {
          "output_type": "error",
          "ename": "NameError",
          "evalue": "name 'nn' is not defined",
          "traceback": [
            "\u001b[0;31m---------------------------------------------------------------------------\u001b[0m",
            "\u001b[0;31mNameError\u001b[0m                                 Traceback (most recent call last)",
            "\u001b[0;32m<ipython-input-1-bb2c9580845a>\u001b[0m in \u001b[0;36m<cell line: 3>\u001b[0;34m()\u001b[0m\n\u001b[1;32m      1\u001b[0m \u001b[0;31m#Setup the loss function\u001b[0m\u001b[0;34m\u001b[0m\u001b[0;34m\u001b[0m\u001b[0m\n\u001b[1;32m      2\u001b[0m \u001b[0;31m# loss_fn = nn.BCE_loss()\u001b[0m\u001b[0;34m\u001b[0m\u001b[0;34m\u001b[0m\u001b[0m\n\u001b[0;32m----> 3\u001b[0;31m \u001b[0mloss_fn\u001b[0m \u001b[0;34m=\u001b[0m \u001b[0mnn\u001b[0m\u001b[0;34m.\u001b[0m\u001b[0mBCEWithLogitsLoss\u001b[0m\u001b[0;34m(\u001b[0m\u001b[0;34m)\u001b[0m\u001b[0;34m\u001b[0m\u001b[0;34m\u001b[0m\u001b[0m\n\u001b[0m\u001b[1;32m      4\u001b[0m \u001b[0;34m\u001b[0m\u001b[0m\n\u001b[1;32m      5\u001b[0m \u001b[0;31m#Setup the optimizer\u001b[0m\u001b[0;34m\u001b[0m\u001b[0;34m\u001b[0m\u001b[0m\n",
            "\u001b[0;31mNameError\u001b[0m: name 'nn' is not defined"
          ]
        }
      ]
    },
    {
      "cell_type": "code",
      "source": [],
      "metadata": {
        "id": "N3KiCrX88QTh"
      },
      "execution_count": null,
      "outputs": []
    }
  ]
}